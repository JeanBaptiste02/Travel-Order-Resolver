{
 "cells": [
  {
   "cell_type": "markdown",
   "id": "f6769e4b",
   "metadata": {},
   "source": [
    "# Description du Notebook\n",
    "\n",
    "Ce notebook permet d'entraîner un modèle de NER en français avec spaC en se basant les infos de voyage. \n",
    "\n",
    "Les étapes incluent : \n",
    "- l'importation, le nettoyage et la préparation des données annotées,\n",
    "- l'entraînement du modèle. \n",
    "\n",
    "Ensuite, on fait un comparaison de performances entre le modèle personnalisé et le modèle spaCy préentraîné, avec des visualisations pour évaluer la diversité et le nombre d'entités détectées par chaque modèle.\n"
   ]
  },
  {
   "cell_type": "code",
   "execution_count": 6,
   "id": "efab15dd",
   "metadata": {},
   "outputs": [
    {
     "name": "stdout",
     "output_type": "stream",
     "text": [
      "Librairies importées avec  succès\n"
     ]
    }
   ],
   "source": [
    "import spacy\n",
    "from spacy.tokens import DocBin\n",
    "from tqdm import tqdm\n",
    "import time\n",
    "import subprocess\n",
    "import pandas as pd\n",
    "import ast\n",
    "from random import shuffle\n",
    "import matplotlib.pyplot as plt\n",
    "from collections import Counter\n",
    "from spacy import displacy\n",
    "from IPython.display import HTML\n",
    "\n",
    "print(\"Librairies importées avec  succès\")"
   ]
  },
  {
   "cell_type": "code",
   "execution_count": 7,
   "id": "15acd3f8",
   "metadata": {},
   "outputs": [
    {
     "name": "stdout",
     "output_type": "stream",
     "text": [
      "Chargement des modèles spaCy...\n"
     ]
    },
    {
     "name": "stderr",
     "output_type": "stream",
     "text": [
      "100%|██████████| 3/3 [00:13<00:00,  4.65s/it]"
     ]
    },
    {
     "name": "stdout",
     "output_type": "stream",
     "text": [
      "Les modèles spaCy ont été bien chargés\n"
     ]
    },
    {
     "name": "stderr",
     "output_type": "stream",
     "text": [
      "\n"
     ]
    }
   ],
   "source": [
    "models = {\n",
    "    \"sm\": \"fr_core_news_sm\",\n",
    "    \"md\": \"fr_core_news_md\",\n",
    "    \"lg\": \"fr_core_news_lg\"\n",
    "}\n",
    "print(\"Chargement des modèles spaCy...\")\n",
    "\n",
    "# liste pour stocker les modèles chargés\n",
    "loaded_models = []\n",
    "\n",
    "for model_name, model_id in tqdm(models.items()):\n",
    "    nlp = spacy.load(model_id)\n",
    "    loaded_models.append((model_name, nlp))\n",
    "\n",
    "print(\"Les modèles spaCy ont été bien chargés\")"
   ]
  },
  {
   "cell_type": "code",
   "execution_count": 8,
   "id": "2588d4e7",
   "metadata": {},
   "outputs": [
    {
     "name": "stdout",
     "output_type": "stream",
     "text": [
      "Chargement du modèle spaCy sm...\n",
      "Modèle spaCy sm chargé avec succès\n",
      "Chargement du modèle spaCy md...\n",
      "Modèle spaCy md chargé avec succès\n",
      "Chargement du modèle spaCy lg...\n",
      "Modèle spaCy lg chargé avec succès\n"
     ]
    }
   ],
   "source": [
    "# dictionnaire pour stocker les modèles chargés\n",
    "nlp_models = {}\n",
    "for model_key, model_name in models.items():\n",
    "    print(f\"Chargement du modèle spaCy {model_key}...\")\n",
    "    nlp_models[model_key] = spacy.load(model_name)\n",
    "    print(f\"Modèle spaCy {model_key} chargé avec succès\")"
   ]
  },
  {
   "cell_type": "code",
   "execution_count": 11,
   "id": "ae53e9aa",
   "metadata": {},
   "outputs": [
    {
     "name": "stdout",
     "output_type": "stream",
     "text": [
      "Test de reconnaissance d'entités avec le modèle spaCy core_news_sm...\n",
      "\n"
     ]
    },
    {
     "data": {
      "text/html": [
       "<span class=\"tex2jax_ignore\"><div class=\"entities\" style=\"line-height: 2.5; direction: ltr\">Je souhaiterais me rendre de \n",
       "<mark class=\"entity\" style=\"background: #ff9561; padding: 0.45em 0.6em; margin: 0 0.25em; line-height: 1; border-radius: 0.35em;\">\n",
       "    Paris\n",
       "    <span style=\"font-size: 0.8em; font-weight: bold; line-height: 1; border-radius: 0.35em; vertical-align: middle; margin-left: 0.5rem\">LOC</span>\n",
       "</mark>\n",
       " à \n",
       "<mark class=\"entity\" style=\"background: #ff9561; padding: 0.45em 0.6em; margin: 0 0.25em; line-height: 1; border-radius: 0.35em;\">\n",
       "    Marseille\n",
       "    <span style=\"font-size: 0.8em; font-weight: bold; line-height: 1; border-radius: 0.35em; vertical-align: middle; margin-left: 0.5rem\">LOC</span>\n",
       "</mark>\n",
       ".<br>Quelle est la meilleure façon d'aller à \n",
       "<mark class=\"entity\" style=\"background: #ff9561; padding: 0.45em 0.6em; margin: 0 0.25em; line-height: 1; border-radius: 0.35em;\">\n",
       "    Sannois\n",
       "    <span style=\"font-size: 0.8em; font-weight: bold; line-height: 1; border-radius: 0.35em; vertical-align: middle; margin-left: 0.5rem\">LOC</span>\n",
       "</mark>\n",
       " depuis la \n",
       "<mark class=\"entity\" style=\"background: #ff9561; padding: 0.45em 0.6em; margin: 0 0.25em; line-height: 1; border-radius: 0.35em;\">\n",
       "    gare de Toulouse\n",
       "    <span style=\"font-size: 0.8em; font-weight: bold; line-height: 1; border-radius: 0.35em; vertical-align: middle; margin-left: 0.5rem\">LOC</span>\n",
       "</mark>\n",
       " ?<br>Je prévois de rendre visite à mon ami \n",
       "<mark class=\"entity\" style=\"background: #ddd; padding: 0.45em 0.6em; margin: 0 0.25em; line-height: 1; border-radius: 0.35em;\">\n",
       "    Patrick\n",
       "    <span style=\"font-size: 0.8em; font-weight: bold; line-height: 1; border-radius: 0.35em; vertical-align: middle; margin-left: 0.5rem\">PER</span>\n",
       "</mark>\n",
       " à \n",
       "<mark class=\"entity\" style=\"background: #ff9561; padding: 0.45em 0.6em; margin: 0 0.25em; line-height: 1; border-radius: 0.35em;\">\n",
       "    Paris\n",
       "    <span style=\"font-size: 0.8em; font-weight: bold; line-height: 1; border-radius: 0.35em; vertical-align: middle; margin-left: 0.5rem\">LOC</span>\n",
       "</mark>\n",
       " en partant de \n",
       "<mark class=\"entity\" style=\"background: #ff9561; padding: 0.45em 0.6em; margin: 0 0.25em; line-height: 1; border-radius: 0.35em;\">\n",
       "    Bordeaux\n",
       "    <span style=\"font-size: 0.8em; font-weight: bold; line-height: 1; border-radius: 0.35em; vertical-align: middle; margin-left: 0.5rem\">LOC</span>\n",
       "</mark>\n",
       ".</div></span>"
      ],
      "text/plain": [
       "<IPython.core.display.HTML object>"
      ]
     },
     "metadata": {},
     "output_type": "display_data"
    },
    {
     "name": "stdout",
     "output_type": "stream",
     "text": [
      "Test de reconnaissance d'entités avec le modèle spaCy core_news_md...\n",
      "\n"
     ]
    },
    {
     "data": {
      "text/html": [
       "<span class=\"tex2jax_ignore\"><div class=\"entities\" style=\"line-height: 2.5; direction: ltr\">Je souhaiterais me rendre de \n",
       "<mark class=\"entity\" style=\"background: #ff9561; padding: 0.45em 0.6em; margin: 0 0.25em; line-height: 1; border-radius: 0.35em;\">\n",
       "    Paris\n",
       "    <span style=\"font-size: 0.8em; font-weight: bold; line-height: 1; border-radius: 0.35em; vertical-align: middle; margin-left: 0.5rem\">LOC</span>\n",
       "</mark>\n",
       " à \n",
       "<mark class=\"entity\" style=\"background: #ff9561; padding: 0.45em 0.6em; margin: 0 0.25em; line-height: 1; border-radius: 0.35em;\">\n",
       "    Marseille\n",
       "    <span style=\"font-size: 0.8em; font-weight: bold; line-height: 1; border-radius: 0.35em; vertical-align: middle; margin-left: 0.5rem\">LOC</span>\n",
       "</mark>\n",
       ".<br>Quelle est la meilleure façon d'aller à \n",
       "<mark class=\"entity\" style=\"background: #ff9561; padding: 0.45em 0.6em; margin: 0 0.25em; line-height: 1; border-radius: 0.35em;\">\n",
       "    Sannois\n",
       "    <span style=\"font-size: 0.8em; font-weight: bold; line-height: 1; border-radius: 0.35em; vertical-align: middle; margin-left: 0.5rem\">LOC</span>\n",
       "</mark>\n",
       " depuis la \n",
       "<mark class=\"entity\" style=\"background: #ff9561; padding: 0.45em 0.6em; margin: 0 0.25em; line-height: 1; border-radius: 0.35em;\">\n",
       "    gare de Toulouse\n",
       "    <span style=\"font-size: 0.8em; font-weight: bold; line-height: 1; border-radius: 0.35em; vertical-align: middle; margin-left: 0.5rem\">LOC</span>\n",
       "</mark>\n",
       " ?<br>Je prévois de rendre visite à mon ami \n",
       "<mark class=\"entity\" style=\"background: #ddd; padding: 0.45em 0.6em; margin: 0 0.25em; line-height: 1; border-radius: 0.35em;\">\n",
       "    Patrick\n",
       "    <span style=\"font-size: 0.8em; font-weight: bold; line-height: 1; border-radius: 0.35em; vertical-align: middle; margin-left: 0.5rem\">PER</span>\n",
       "</mark>\n",
       " à \n",
       "<mark class=\"entity\" style=\"background: #ff9561; padding: 0.45em 0.6em; margin: 0 0.25em; line-height: 1; border-radius: 0.35em;\">\n",
       "    Paris\n",
       "    <span style=\"font-size: 0.8em; font-weight: bold; line-height: 1; border-radius: 0.35em; vertical-align: middle; margin-left: 0.5rem\">LOC</span>\n",
       "</mark>\n",
       " en partant de \n",
       "<mark class=\"entity\" style=\"background: #ff9561; padding: 0.45em 0.6em; margin: 0 0.25em; line-height: 1; border-radius: 0.35em;\">\n",
       "    Bordeaux\n",
       "    <span style=\"font-size: 0.8em; font-weight: bold; line-height: 1; border-radius: 0.35em; vertical-align: middle; margin-left: 0.5rem\">LOC</span>\n",
       "</mark>\n",
       ".</div></span>"
      ],
      "text/plain": [
       "<IPython.core.display.HTML object>"
      ]
     },
     "metadata": {},
     "output_type": "display_data"
    },
    {
     "name": "stdout",
     "output_type": "stream",
     "text": [
      "Test de reconnaissance d'entités avec le modèle spaCy core_news_lg...\n",
      "\n"
     ]
    },
    {
     "data": {
      "text/html": [
       "<span class=\"tex2jax_ignore\"><div class=\"entities\" style=\"line-height: 2.5; direction: ltr\">Je souhaiterais me rendre de \n",
       "<mark class=\"entity\" style=\"background: #ff9561; padding: 0.45em 0.6em; margin: 0 0.25em; line-height: 1; border-radius: 0.35em;\">\n",
       "    Paris\n",
       "    <span style=\"font-size: 0.8em; font-weight: bold; line-height: 1; border-radius: 0.35em; vertical-align: middle; margin-left: 0.5rem\">LOC</span>\n",
       "</mark>\n",
       " à \n",
       "<mark class=\"entity\" style=\"background: #ff9561; padding: 0.45em 0.6em; margin: 0 0.25em; line-height: 1; border-radius: 0.35em;\">\n",
       "    Marseille\n",
       "    <span style=\"font-size: 0.8em; font-weight: bold; line-height: 1; border-radius: 0.35em; vertical-align: middle; margin-left: 0.5rem\">LOC</span>\n",
       "</mark>\n",
       ".<br>Quelle est la meilleure façon d'aller à \n",
       "<mark class=\"entity\" style=\"background: #ff9561; padding: 0.45em 0.6em; margin: 0 0.25em; line-height: 1; border-radius: 0.35em;\">\n",
       "    Sannois\n",
       "    <span style=\"font-size: 0.8em; font-weight: bold; line-height: 1; border-radius: 0.35em; vertical-align: middle; margin-left: 0.5rem\">LOC</span>\n",
       "</mark>\n",
       " depuis la \n",
       "<mark class=\"entity\" style=\"background: #ff9561; padding: 0.45em 0.6em; margin: 0 0.25em; line-height: 1; border-radius: 0.35em;\">\n",
       "    gare de Toulouse\n",
       "    <span style=\"font-size: 0.8em; font-weight: bold; line-height: 1; border-radius: 0.35em; vertical-align: middle; margin-left: 0.5rem\">LOC</span>\n",
       "</mark>\n",
       " ?<br>Je prévois de rendre visite à mon ami \n",
       "<mark class=\"entity\" style=\"background: #ddd; padding: 0.45em 0.6em; margin: 0 0.25em; line-height: 1; border-radius: 0.35em;\">\n",
       "    Patrick\n",
       "    <span style=\"font-size: 0.8em; font-weight: bold; line-height: 1; border-radius: 0.35em; vertical-align: middle; margin-left: 0.5rem\">PER</span>\n",
       "</mark>\n",
       " à \n",
       "<mark class=\"entity\" style=\"background: #ff9561; padding: 0.45em 0.6em; margin: 0 0.25em; line-height: 1; border-radius: 0.35em;\">\n",
       "    Paris\n",
       "    <span style=\"font-size: 0.8em; font-weight: bold; line-height: 1; border-radius: 0.35em; vertical-align: middle; margin-left: 0.5rem\">LOC</span>\n",
       "</mark>\n",
       " en partant de \n",
       "<mark class=\"entity\" style=\"background: #ff9561; padding: 0.45em 0.6em; margin: 0 0.25em; line-height: 1; border-radius: 0.35em;\">\n",
       "    Bordeaux\n",
       "    <span style=\"font-size: 0.8em; font-weight: bold; line-height: 1; border-radius: 0.35em; vertical-align: middle; margin-left: 0.5rem\">LOC</span>\n",
       "</mark>\n",
       ".</div></span>"
      ],
      "text/plain": [
       "<IPython.core.display.HTML object>"
      ]
     },
     "metadata": {},
     "output_type": "display_data"
    }
   ],
   "source": [
    "# test de NER sur du texte simple\n",
    "def test_ner_recognition(nlp, text):\n",
    "    print(f\"Test de reconnaissance d'entités avec le modèle spaCy {nlp.meta['name']}...\\n\")\n",
    "    doc = nlp(text)\n",
    "    spacy.displacy.render(doc, style=\"ent\", jupyter=True)\n",
    "\n",
    "texte_simple = '''Je souhaiterais me rendre de Paris à Marseille.\n",
    "Quelle est la meilleure façon d'aller à Sannois depuis la gare de Toulouse ?\n",
    "Je prévois de rendre visite à mon ami Patrick à Paris en partant de Bordeaux.'''\n",
    "\n",
    "for model_key in models.keys():\n",
    "    test_ner_recognition(nlp_models[model_key], texte_simple)"
   ]
  },
  {
   "cell_type": "code",
   "execution_count": 13,
   "id": "0777a218",
   "metadata": {},
   "outputs": [
    {
     "name": "stdout",
     "output_type": "stream",
     "text": [
      "Chargement du dataset pour l'entraînement...\n"
     ]
    },
    {
     "name": "stderr",
     "output_type": "stream",
     "text": [
      " 10%|█         | 1/10 [00:00<00:00, 214.97it/s]"
     ]
    },
    {
     "name": "stdout",
     "output_type": "stream",
     "text": [
      "Dataset chargé avec succès.\n"
     ]
    },
    {
     "name": "stderr",
     "output_type": "stream",
     "text": [
      "\n"
     ]
    }
   ],
   "source": [
    "# chargement du dataset\n",
    "def load_dataset(file_path):\n",
    "    print(\"Chargement du dataset pour l'entraînement...\")\n",
    "    \n",
    "    # Read the CSV file in chunks to improve performance and memory usage\n",
    "    chunksize = 10000  # Adjust chunk size as needed\n",
    "    df_chunks = pd.read_csv(file_path, sep=',', encoding='utf-8', on_bad_lines='skip', chunksize=chunksize)\n",
    "    \n",
    "    # Concatenate chunks with a progress bar\n",
    "    df = pd.concat(tqdm(df_chunks, total=len(pd.read_csv(file_path, nrows=10))))\n",
    "    \n",
    "    print(\"Dataset chargé avec succès.\")\n",
    "    return df\n",
    "\n",
    "df = load_dataset('../../dataset/raw/initial_training_data.csv')"
   ]
  },
  {
   "cell_type": "code",
   "execution_count": 14,
   "id": "dcf3dba1",
   "metadata": {},
   "outputs": [
    {
     "name": "stdout",
     "output_type": "stream",
     "text": [
      "Les données ont été nettoyées.\n"
     ]
    }
   ],
   "source": [
    "# nettoyage des données\n",
    "def clean_text(text):\n",
    "    return text.replace('\\r', '').strip()\n",
    "\n",
    "df['text'] = df['text'].apply(clean_text)\n",
    "print(\"Les données ont été nettoyées.\")"
   ]
  },
  {
   "cell_type": "code",
   "execution_count": 18,
   "id": "04d360ca",
   "metadata": {},
   "outputs": [],
   "source": [
    "# vérification de l'alignement des entités nommées\n",
    "def verify_entity_alignment(text, entities):\n",
    "    verified_entities = []\n",
    "    for ent in entities:\n",
    "        start, end, label = ent['start'], ent['end'], ent['label']\n",
    "        if text[start:end] == text[start:end]:\n",
    "            verified_entities.append(ent)\n",
    "        else:\n",
    "            print(f\"Skipping entity: {text[start:end]} in text: {text}\")\n",
    "    return verified_entities"
   ]
  },
  {
   "cell_type": "code",
   "execution_count": 19,
   "id": "f96ee196",
   "metadata": {},
   "outputs": [],
   "source": [
    "# préparation des données pour spaCy\n",
    "def prepare_data_for_spacy(df):\n",
    "    print(\"Conversion du dataset au format spaCy...\")\n",
    "    db = DocBin()\n",
    "    data = list(zip(df['text'], df['entities']))\n",
    "    shuffle(data)\n",
    "\n",
    "    for text, entities in data:\n",
    "        entities = ast.literal_eval(entities)\n",
    "        verified_entities = verify_entity_alignment(text, entities)\n",
    "\n",
    "        if verified_entities:\n",
    "            doc = nlp_models[\"sm\"].make_doc(text)\n",
    "            doc.ents = create_entity_spans(doc, verified_entities)\n",
    "            db.add(doc)\n",
    "\n",
    "    print(\"Dataset converti au format spaCy.\")\n",
    "    return db"
   ]
  },
  {
   "cell_type": "code",
   "execution_count": 20,
   "id": "73b12a3d",
   "metadata": {},
   "outputs": [
    {
     "name": "stdout",
     "output_type": "stream",
     "text": [
      "Préparation des données pour spaCy...\n",
      "Conversion du dataset au format spaCy...\n",
      "Dataset converti au format spaCy.\n"
     ]
    }
   ],
   "source": [
    "# création des spans d'entités\n",
    "def create_entity_spans(doc, verified_entities):\n",
    "    ents = []\n",
    "    for ent in verified_entities:\n",
    "        start, end, label = ent['start'], ent['end'], ent['label']\n",
    "        span = doc.char_span(start, end, label=label, alignment_mode=\"contract\")\n",
    "        if span:\n",
    "            ents.append(span)\n",
    "    return ents\n",
    "\n",
    "print(\"Préparation des données pour spaCy...\")\n",
    "db = prepare_data_for_spacy(df)"
   ]
  },
  {
   "cell_type": "code",
   "execution_count": 21,
   "id": "4396936c",
   "metadata": {},
   "outputs": [
    {
     "name": "stdout",
     "output_type": "stream",
     "text": [
      "Les données ont été sauvegardées\n"
     ]
    }
   ],
   "source": [
    "# sauvegarde des données au format spaCy\n",
    "db.to_disk(\"../../dataset/processed/processed_training_data.spacy\")\n",
    "print(\"Les données ont été sauvegardées\")"
   ]
  },
  {
   "cell_type": "code",
   "execution_count": 23,
   "id": "fc37e6c2",
   "metadata": {},
   "outputs": [
    {
     "name": "stdout",
     "output_type": "stream",
     "text": [
      "Entraînement pour le modèle sm...\n",
      "Génération de la configuration...\n",
      "Configuration générée.\n",
      "Début de l'entraînement du modèle...\n"
     ]
    },
    {
     "name": "stderr",
     "output_type": "stream",
     "text": [
      "Entraînement du modèle:   1%|          | 1/100 [00:03<05:51,  3.55s/it]"
     ]
    },
    {
     "name": "stdout",
     "output_type": "stream",
     "text": [
      "\u001b[38;5;2m✔ Created output directory: ..\\..\\models\\spacy\\sm\u001b[0m\n"
     ]
    },
    {
     "name": "stderr",
     "output_type": "stream",
     "text": [
      "Entraînement du modèle:   2%|▏         | 2/100 [00:04<03:21,  2.05s/it]"
     ]
    },
    {
     "name": "stdout",
     "output_type": "stream",
     "text": [
      "\u001b[38;5;4mℹ Saving to output directory: ..\\..\\models\\spacy\\sm\u001b[0m\n"
     ]
    },
    {
     "name": "stderr",
     "output_type": "stream",
     "text": [
      "Entraînement du modèle:   3%|▎         | 3/100 [00:05<02:32,  1.57s/it]"
     ]
    },
    {
     "name": "stdout",
     "output_type": "stream",
     "text": [
      "\u001b[38;5;4mℹ Using CPU\u001b[0m\n"
     ]
    },
    {
     "name": "stderr",
     "output_type": "stream",
     "text": [
      "Entraînement du modèle:   4%|▍         | 4/100 [00:06<02:09,  1.35s/it]"
     ]
    },
    {
     "name": "stdout",
     "output_type": "stream",
     "text": [
      "\u001b[1m\n"
     ]
    },
    {
     "name": "stderr",
     "output_type": "stream",
     "text": [
      "Entraînement du modèle:   5%|▌         | 5/100 [00:07<01:56,  1.22s/it]"
     ]
    },
    {
     "name": "stdout",
     "output_type": "stream",
     "text": [
      "=========================== Initializing pipeline ===========================\u001b[0m\n"
     ]
    },
    {
     "name": "stderr",
     "output_type": "stream",
     "text": [
      "Entraînement du modèle:   6%|▌         | 6/100 [00:09<02:08,  1.37s/it]"
     ]
    },
    {
     "name": "stdout",
     "output_type": "stream",
     "text": [
      "\u001b[38;5;2m✔ Initialized pipeline\u001b[0m\n"
     ]
    },
    {
     "name": "stderr",
     "output_type": "stream",
     "text": [
      "Entraînement du modèle:   7%|▋         | 7/100 [00:10<01:56,  1.25s/it]"
     ]
    },
    {
     "name": "stdout",
     "output_type": "stream",
     "text": [
      "\u001b[1m\n"
     ]
    },
    {
     "name": "stderr",
     "output_type": "stream",
     "text": [
      "Entraînement du modèle:   8%|▊         | 8/100 [00:11<01:47,  1.17s/it]"
     ]
    },
    {
     "name": "stdout",
     "output_type": "stream",
     "text": [
      "============================= Training pipeline =============================\u001b[0m\n"
     ]
    },
    {
     "name": "stderr",
     "output_type": "stream",
     "text": [
      "Entraînement du modèle:   9%|▉         | 9/100 [00:12<01:41,  1.12s/it]"
     ]
    },
    {
     "name": "stdout",
     "output_type": "stream",
     "text": [
      "\u001b[38;5;4mℹ Pipeline: ['tok2vec', 'ner']\u001b[0m\n"
     ]
    },
    {
     "name": "stderr",
     "output_type": "stream",
     "text": [
      "Entraînement du modèle:  10%|█         | 10/100 [00:13<01:37,  1.08s/it]"
     ]
    },
    {
     "name": "stdout",
     "output_type": "stream",
     "text": [
      "\u001b[38;5;4mℹ Initial learn rate: 0.001\u001b[0m\n"
     ]
    },
    {
     "name": "stderr",
     "output_type": "stream",
     "text": [
      "Entraînement du modèle:  11%|█         | 11/100 [00:14<01:34,  1.06s/it]"
     ]
    },
    {
     "name": "stdout",
     "output_type": "stream",
     "text": [
      "E    #       LOSS TOK2VEC  LOSS NER  ENTS_F  ENTS_P  ENTS_R  SCORE\n"
     ]
    },
    {
     "name": "stderr",
     "output_type": "stream",
     "text": [
      "Entraînement du modèle:  12%|█▏        | 12/100 [00:15<01:31,  1.04s/it]"
     ]
    },
    {
     "name": "stdout",
     "output_type": "stream",
     "text": [
      "---  ------  ------------  --------  ------  ------  ------  ------\n"
     ]
    },
    {
     "name": "stderr",
     "output_type": "stream",
     "text": [
      "Entraînement du modèle:  13%|█▎        | 13/100 [00:16<01:29,  1.03s/it]"
     ]
    },
    {
     "name": "stdout",
     "output_type": "stream",
     "text": [
      "0       0          0.00     48.93    0.00    0.00    0.00    0.00\n"
     ]
    },
    {
     "name": "stderr",
     "output_type": "stream",
     "text": [
      "Entraînement du modèle:  14%|█▍        | 14/100 [00:23<04:05,  2.85s/it]"
     ]
    },
    {
     "name": "stdout",
     "output_type": "stream",
     "text": [
      "8     200         50.44   1319.81   89.23   90.62   87.88    0.89\n"
     ]
    },
    {
     "name": "stderr",
     "output_type": "stream",
     "text": [
      "Entraînement du modèle:  15%|█▌        | 15/100 [00:37<09:04,  6.41s/it]"
     ]
    },
    {
     "name": "stdout",
     "output_type": "stream",
     "text": [
      "18     400        201.20    205.10   97.98   97.98   97.98    0.98\n"
     ]
    },
    {
     "name": "stderr",
     "output_type": "stream",
     "text": [
      "Entraînement du modèle:  16%|█▌        | 16/100 [00:51<11:46,  8.41s/it]"
     ]
    },
    {
     "name": "stdout",
     "output_type": "stream",
     "text": [
      "31     600         99.46     80.10  100.00  100.00  100.00    1.00\n"
     ]
    },
    {
     "name": "stderr",
     "output_type": "stream",
     "text": [
      "Entraînement du modèle:  17%|█▋        | 17/100 [01:05<14:10, 10.25s/it]"
     ]
    },
    {
     "name": "stdout",
     "output_type": "stream",
     "text": [
      "46     800         99.73     28.09   99.50   99.00  100.00    0.99\n"
     ]
    },
    {
     "name": "stderr",
     "output_type": "stream",
     "text": [
      "Entraînement du modèle:  18%|█▊        | 18/100 [01:20<16:07, 11.79s/it]"
     ]
    },
    {
     "name": "stdout",
     "output_type": "stream",
     "text": [
      "65    1000        117.62     31.59  100.00  100.00  100.00    1.00\n"
     ]
    },
    {
     "name": "stderr",
     "output_type": "stream",
     "text": [
      "Entraînement du modèle:  19%|█▉        | 19/100 [01:38<18:15, 13.52s/it]"
     ]
    },
    {
     "name": "stdout",
     "output_type": "stream",
     "text": [
      "88    1200         23.78      6.09  100.00  100.00  100.00    1.00\n"
     ]
    },
    {
     "name": "stderr",
     "output_type": "stream",
     "text": [
      "Entraînement du modèle:  20%|██        | 20/100 [01:57<20:13, 15.17s/it]"
     ]
    },
    {
     "name": "stdout",
     "output_type": "stream",
     "text": [
      "115    1400         43.98      9.53  100.00  100.00  100.00    1.00\n"
     ]
    },
    {
     "name": "stderr",
     "output_type": "stream",
     "text": [
      "Entraînement du modèle:  21%|██        | 21/100 [02:20<23:04, 17.52s/it]"
     ]
    },
    {
     "name": "stdout",
     "output_type": "stream",
     "text": [
      "149    1600        134.56     24.37  100.00  100.00  100.00    1.00\n"
     ]
    },
    {
     "name": "stderr",
     "output_type": "stream",
     "text": [
      "Entraînement du modèle:  22%|██▏       | 22/100 [02:45<25:43, 19.78s/it]"
     ]
    },
    {
     "name": "stdout",
     "output_type": "stream",
     "text": [
      "190    1800         87.75     15.74  100.00  100.00  100.00    1.00\n"
     ]
    },
    {
     "name": "stderr",
     "output_type": "stream",
     "text": [
      "Entraînement du modèle:  23%|██▎       | 23/100 [03:17<30:08, 23.48s/it]"
     ]
    },
    {
     "name": "stdout",
     "output_type": "stream",
     "text": [
      "240    2000         96.43     15.29  100.00  100.00  100.00    1.00\n"
     ]
    },
    {
     "name": "stderr",
     "output_type": "stream",
     "text": [
      "Entraînement du modèle:  24%|██▍       | 24/100 [03:54<34:58, 27.61s/it]"
     ]
    },
    {
     "name": "stdout",
     "output_type": "stream",
     "text": [
      "302    2200        104.91     15.65  100.00  100.00  100.00    1.00\n"
     ]
    },
    {
     "name": "stderr",
     "output_type": "stream",
     "text": [
      "Entraînement du modèle:  25%|██▌       | 25/100 [03:55<24:32, 19.63s/it]"
     ]
    },
    {
     "name": "stdout",
     "output_type": "stream",
     "text": [
      "\u001b[38;5;2m✔ Saved pipeline to output directory\u001b[0m\n"
     ]
    },
    {
     "name": "stderr",
     "output_type": "stream",
     "text": [
      "Entraînement du modèle:  26%|██▌       | 26/100 [03:56<17:18, 14.04s/it]"
     ]
    },
    {
     "name": "stdout",
     "output_type": "stream",
     "text": [
      "..\\..\\models\\spacy\\sm\\model-last\n"
     ]
    },
    {
     "name": "stderr",
     "output_type": "stream",
     "text": [
      "Entraînement du modèle:  26%|██▌       | 26/100 [03:57<11:17,  9.15s/it]\n"
     ]
    },
    {
     "name": "stdout",
     "output_type": "stream",
     "text": [
      "Entraînement du modèle sm terminé.\n",
      "Entraînement pour le modèle md...\n",
      "Génération de la configuration...\n",
      "Configuration générée.\n",
      "Début de l'entraînement du modèle...\n"
     ]
    },
    {
     "name": "stderr",
     "output_type": "stream",
     "text": [
      "Entraînement du modèle:   1%|          | 1/100 [00:03<05:53,  3.57s/it]"
     ]
    },
    {
     "name": "stdout",
     "output_type": "stream",
     "text": [
      "\u001b[38;5;2m✔ Created output directory: ..\\..\\models\\spacy\\md\u001b[0m\n"
     ]
    },
    {
     "name": "stderr",
     "output_type": "stream",
     "text": [
      "Entraînement du modèle:   2%|▏         | 2/100 [00:04<03:22,  2.07s/it]"
     ]
    },
    {
     "name": "stdout",
     "output_type": "stream",
     "text": [
      "\u001b[38;5;4mℹ Saving to output directory: ..\\..\\models\\spacy\\md\u001b[0m\n"
     ]
    },
    {
     "name": "stderr",
     "output_type": "stream",
     "text": [
      "Entraînement du modèle:   3%|▎         | 3/100 [00:05<02:33,  1.58s/it]"
     ]
    },
    {
     "name": "stdout",
     "output_type": "stream",
     "text": [
      "\u001b[38;5;4mℹ Using CPU\u001b[0m\n"
     ]
    },
    {
     "name": "stderr",
     "output_type": "stream",
     "text": [
      "Entraînement du modèle:   4%|▍         | 4/100 [00:06<02:09,  1.35s/it]"
     ]
    },
    {
     "name": "stdout",
     "output_type": "stream",
     "text": [
      "\u001b[1m\n"
     ]
    },
    {
     "name": "stderr",
     "output_type": "stream",
     "text": [
      "Entraînement du modèle:   5%|▌         | 5/100 [00:07<01:56,  1.23s/it]"
     ]
    },
    {
     "name": "stdout",
     "output_type": "stream",
     "text": [
      "=========================== Initializing pipeline ===========================\u001b[0m\n"
     ]
    },
    {
     "name": "stderr",
     "output_type": "stream",
     "text": [
      "Entraînement du modèle:   6%|▌         | 6/100 [00:08<01:54,  1.22s/it]"
     ]
    },
    {
     "name": "stdout",
     "output_type": "stream",
     "text": [
      "\u001b[38;5;2m✔ Initialized pipeline\u001b[0m\n"
     ]
    },
    {
     "name": "stderr",
     "output_type": "stream",
     "text": [
      "Entraînement du modèle:   7%|▋         | 7/100 [00:09<01:46,  1.15s/it]"
     ]
    },
    {
     "name": "stdout",
     "output_type": "stream",
     "text": [
      "\u001b[1m\n"
     ]
    },
    {
     "name": "stderr",
     "output_type": "stream",
     "text": [
      "Entraînement du modèle:   8%|▊         | 8/100 [00:10<01:41,  1.10s/it]"
     ]
    },
    {
     "name": "stdout",
     "output_type": "stream",
     "text": [
      "============================= Training pipeline =============================\u001b[0m\n"
     ]
    },
    {
     "name": "stderr",
     "output_type": "stream",
     "text": [
      "Entraînement du modèle:   9%|▉         | 9/100 [00:11<01:37,  1.07s/it]"
     ]
    },
    {
     "name": "stdout",
     "output_type": "stream",
     "text": [
      "\u001b[38;5;4mℹ Pipeline: ['tok2vec', 'ner']\u001b[0m\n"
     ]
    },
    {
     "name": "stderr",
     "output_type": "stream",
     "text": [
      "Entraînement du modèle:  10%|█         | 10/100 [00:12<01:34,  1.05s/it]"
     ]
    },
    {
     "name": "stdout",
     "output_type": "stream",
     "text": [
      "\u001b[38;5;4mℹ Initial learn rate: 0.001\u001b[0m\n"
     ]
    },
    {
     "name": "stderr",
     "output_type": "stream",
     "text": [
      "Entraînement du modèle:  11%|█         | 11/100 [00:13<01:32,  1.03s/it]"
     ]
    },
    {
     "name": "stdout",
     "output_type": "stream",
     "text": [
      "E    #       LOSS TOK2VEC  LOSS NER  ENTS_F  ENTS_P  ENTS_R  SCORE\n"
     ]
    },
    {
     "name": "stderr",
     "output_type": "stream",
     "text": [
      "Entraînement du modèle:  12%|█▏        | 12/100 [00:14<01:30,  1.02s/it]"
     ]
    },
    {
     "name": "stdout",
     "output_type": "stream",
     "text": [
      "---  ------  ------------  --------  ------  ------  ------  ------\n"
     ]
    },
    {
     "name": "stderr",
     "output_type": "stream",
     "text": [
      "Entraînement du modèle:  13%|█▎        | 13/100 [00:15<01:28,  1.02s/it]"
     ]
    },
    {
     "name": "stdout",
     "output_type": "stream",
     "text": [
      "0       0          0.00     48.93    0.00    0.00    0.00    0.00\n"
     ]
    },
    {
     "name": "stderr",
     "output_type": "stream",
     "text": [
      "Entraînement du modèle:  14%|█▍        | 14/100 [00:21<03:32,  2.47s/it]"
     ]
    },
    {
     "name": "stdout",
     "output_type": "stream",
     "text": [
      "8     200         50.44   1319.81   89.23   90.62   87.88    0.89\n"
     ]
    },
    {
     "name": "stderr",
     "output_type": "stream",
     "text": [
      "Entraînement du modèle:  15%|█▌        | 15/100 [00:34<07:58,  5.62s/it]"
     ]
    },
    {
     "name": "stdout",
     "output_type": "stream",
     "text": [
      "18     400        201.20    205.10   97.98   97.98   97.98    0.98\n"
     ]
    },
    {
     "name": "stderr",
     "output_type": "stream",
     "text": [
      "Entraînement du modèle:  16%|█▌        | 16/100 [00:47<10:56,  7.82s/it]"
     ]
    },
    {
     "name": "stdout",
     "output_type": "stream",
     "text": [
      "31     600         99.46     80.10  100.00  100.00  100.00    1.00\n"
     ]
    },
    {
     "name": "stderr",
     "output_type": "stream",
     "text": [
      "Entraînement du modèle:  17%|█▋        | 17/100 [01:01<13:20,  9.64s/it]"
     ]
    },
    {
     "name": "stdout",
     "output_type": "stream",
     "text": [
      "46     800         99.73     28.09   99.50   99.00  100.00    0.99\n"
     ]
    },
    {
     "name": "stderr",
     "output_type": "stream",
     "text": [
      "Entraînement du modèle:  18%|█▊        | 18/100 [01:16<15:30, 11.35s/it]"
     ]
    },
    {
     "name": "stdout",
     "output_type": "stream",
     "text": [
      "65    1000        117.62     31.59  100.00  100.00  100.00    1.00\n"
     ]
    },
    {
     "name": "stderr",
     "output_type": "stream",
     "text": [
      "Entraînement du modèle:  19%|█▉        | 19/100 [01:35<18:10, 13.47s/it]"
     ]
    },
    {
     "name": "stdout",
     "output_type": "stream",
     "text": [
      "88    1200         23.78      6.09  100.00  100.00  100.00    1.00\n"
     ]
    },
    {
     "name": "stderr",
     "output_type": "stream",
     "text": [
      "Entraînement du modèle:  20%|██        | 20/100 [01:54<20:21, 15.26s/it]"
     ]
    },
    {
     "name": "stdout",
     "output_type": "stream",
     "text": [
      "115    1400         43.98      9.53  100.00  100.00  100.00    1.00\n"
     ]
    },
    {
     "name": "stderr",
     "output_type": "stream",
     "text": [
      "Entraînement du modèle:  21%|██        | 21/100 [02:18<23:25, 17.79s/it]"
     ]
    },
    {
     "name": "stdout",
     "output_type": "stream",
     "text": [
      "149    1600        134.56     24.37  100.00  100.00  100.00    1.00\n"
     ]
    },
    {
     "name": "stderr",
     "output_type": "stream",
     "text": [
      "Entraînement du modèle:  22%|██▏       | 22/100 [02:46<27:06, 20.85s/it]"
     ]
    },
    {
     "name": "stdout",
     "output_type": "stream",
     "text": [
      "190    1800         87.75     15.74  100.00  100.00  100.00    1.00\n"
     ]
    },
    {
     "name": "stderr",
     "output_type": "stream",
     "text": [
      "Entraînement du modèle:  23%|██▎       | 23/100 [03:23<33:12, 25.88s/it]"
     ]
    },
    {
     "name": "stdout",
     "output_type": "stream",
     "text": [
      "240    2000         96.43     15.29  100.00  100.00  100.00    1.00\n"
     ]
    },
    {
     "name": "stderr",
     "output_type": "stream",
     "text": [
      "Entraînement du modèle:  24%|██▍       | 24/100 [04:01<37:06, 29.30s/it]"
     ]
    },
    {
     "name": "stdout",
     "output_type": "stream",
     "text": [
      "302    2200        104.91     15.65  100.00  100.00  100.00    1.00\n"
     ]
    },
    {
     "name": "stderr",
     "output_type": "stream",
     "text": [
      "Entraînement du modèle:  25%|██▌       | 25/100 [04:02<26:00, 20.81s/it]"
     ]
    },
    {
     "name": "stdout",
     "output_type": "stream",
     "text": [
      "\u001b[38;5;2m✔ Saved pipeline to output directory\u001b[0m\n"
     ]
    },
    {
     "name": "stderr",
     "output_type": "stream",
     "text": [
      "Entraînement du modèle:  26%|██▌       | 26/100 [04:03<18:20, 14.87s/it]"
     ]
    },
    {
     "name": "stdout",
     "output_type": "stream",
     "text": [
      "..\\..\\models\\spacy\\md\\model-last\n"
     ]
    },
    {
     "name": "stderr",
     "output_type": "stream",
     "text": [
      "Entraînement du modèle:  26%|██▌       | 26/100 [04:04<11:34,  9.39s/it]\n"
     ]
    },
    {
     "name": "stdout",
     "output_type": "stream",
     "text": [
      "Entraînement du modèle md terminé.\n",
      "Entraînement pour le modèle lg...\n",
      "Génération de la configuration...\n",
      "Configuration générée.\n",
      "Début de l'entraînement du modèle...\n"
     ]
    },
    {
     "name": "stderr",
     "output_type": "stream",
     "text": [
      "Entraînement du modèle:   1%|          | 1/100 [00:04<06:53,  4.18s/it]"
     ]
    },
    {
     "name": "stdout",
     "output_type": "stream",
     "text": [
      "\u001b[38;5;2m✔ Created output directory: ..\\..\\models\\spacy\\lg\u001b[0m\n"
     ]
    },
    {
     "name": "stderr",
     "output_type": "stream",
     "text": [
      "Entraînement du modèle:   2%|▏         | 2/100 [00:05<03:46,  2.31s/it]"
     ]
    },
    {
     "name": "stdout",
     "output_type": "stream",
     "text": [
      "\u001b[38;5;4mℹ Saving to output directory: ..\\..\\models\\spacy\\lg\u001b[0m\n"
     ]
    },
    {
     "name": "stderr",
     "output_type": "stream",
     "text": [
      "Entraînement du modèle:   3%|▎         | 3/100 [00:06<02:46,  1.71s/it]"
     ]
    },
    {
     "name": "stdout",
     "output_type": "stream",
     "text": [
      "\u001b[38;5;4mℹ Using CPU\u001b[0m\n"
     ]
    },
    {
     "name": "stderr",
     "output_type": "stream",
     "text": [
      "Entraînement du modèle:   4%|▍         | 4/100 [00:07<02:17,  1.43s/it]"
     ]
    },
    {
     "name": "stdout",
     "output_type": "stream",
     "text": [
      "\u001b[1m\n"
     ]
    },
    {
     "name": "stderr",
     "output_type": "stream",
     "text": [
      "Entraînement du modèle:   5%|▌         | 5/100 [00:08<02:01,  1.28s/it]"
     ]
    },
    {
     "name": "stdout",
     "output_type": "stream",
     "text": [
      "=========================== Initializing pipeline ===========================\u001b[0m\n"
     ]
    },
    {
     "name": "stderr",
     "output_type": "stream",
     "text": [
      "Entraînement du modèle:   6%|▌         | 6/100 [00:10<02:34,  1.64s/it]"
     ]
    },
    {
     "name": "stdout",
     "output_type": "stream",
     "text": [
      "\u001b[38;5;2m✔ Initialized pipeline\u001b[0m\n"
     ]
    },
    {
     "name": "stderr",
     "output_type": "stream",
     "text": [
      "Entraînement du modèle:   7%|▋         | 7/100 [00:11<02:13,  1.43s/it]"
     ]
    },
    {
     "name": "stdout",
     "output_type": "stream",
     "text": [
      "\u001b[1m\n"
     ]
    },
    {
     "name": "stderr",
     "output_type": "stream",
     "text": [
      "Entraînement du modèle:   8%|▊         | 8/100 [00:12<01:59,  1.30s/it]"
     ]
    },
    {
     "name": "stdout",
     "output_type": "stream",
     "text": [
      "============================= Training pipeline =============================\u001b[0m\n"
     ]
    },
    {
     "name": "stderr",
     "output_type": "stream",
     "text": [
      "Entraînement du modèle:   9%|▉         | 9/100 [00:13<01:49,  1.20s/it]"
     ]
    },
    {
     "name": "stdout",
     "output_type": "stream",
     "text": [
      "\u001b[38;5;4mℹ Pipeline: ['tok2vec', 'ner']\u001b[0m\n"
     ]
    },
    {
     "name": "stderr",
     "output_type": "stream",
     "text": [
      "Entraînement du modèle:  10%|█         | 10/100 [00:14<01:42,  1.14s/it]"
     ]
    },
    {
     "name": "stdout",
     "output_type": "stream",
     "text": [
      "\u001b[38;5;4mℹ Initial learn rate: 0.001\u001b[0m\n"
     ]
    },
    {
     "name": "stderr",
     "output_type": "stream",
     "text": [
      "Entraînement du modèle:  11%|█         | 11/100 [00:15<01:37,  1.10s/it]"
     ]
    },
    {
     "name": "stdout",
     "output_type": "stream",
     "text": [
      "E    #       LOSS TOK2VEC  LOSS NER  ENTS_F  ENTS_P  ENTS_R  SCORE\n"
     ]
    },
    {
     "name": "stderr",
     "output_type": "stream",
     "text": [
      "Entraînement du modèle:  12%|█▏        | 12/100 [00:16<01:34,  1.07s/it]"
     ]
    },
    {
     "name": "stdout",
     "output_type": "stream",
     "text": [
      "---  ------  ------------  --------  ------  ------  ------  ------\n"
     ]
    },
    {
     "name": "stderr",
     "output_type": "stream",
     "text": [
      "Entraînement du modèle:  13%|█▎        | 13/100 [00:17<01:31,  1.05s/it]"
     ]
    },
    {
     "name": "stdout",
     "output_type": "stream",
     "text": [
      "0       0          0.00     48.93    0.00    0.00    0.00    0.00\n"
     ]
    },
    {
     "name": "stderr",
     "output_type": "stream",
     "text": [
      "Entraînement du modèle:  14%|█▍        | 14/100 [00:23<03:49,  2.66s/it]"
     ]
    },
    {
     "name": "stdout",
     "output_type": "stream",
     "text": [
      "8     200         50.44   1319.81   89.23   90.62   87.88    0.89\n"
     ]
    },
    {
     "name": "stderr",
     "output_type": "stream",
     "text": [
      "Entraînement du modèle:  15%|█▌        | 15/100 [00:37<08:32,  6.03s/it]"
     ]
    },
    {
     "name": "stdout",
     "output_type": "stream",
     "text": [
      "18     400        201.20    205.10   97.98   97.98   97.98    0.98\n"
     ]
    },
    {
     "name": "stderr",
     "output_type": "stream",
     "text": [
      "Entraînement du modèle:  16%|█▌        | 16/100 [00:53<12:20,  8.82s/it]"
     ]
    },
    {
     "name": "stdout",
     "output_type": "stream",
     "text": [
      "31     600         99.46     80.10  100.00  100.00  100.00    1.00\n"
     ]
    },
    {
     "name": "stderr",
     "output_type": "stream",
     "text": [
      "Entraînement du modèle:  17%|█▋        | 17/100 [01:09<15:30, 11.21s/it]"
     ]
    },
    {
     "name": "stdout",
     "output_type": "stream",
     "text": [
      "46     800         99.73     28.09   99.50   99.00  100.00    0.99\n"
     ]
    },
    {
     "name": "stderr",
     "output_type": "stream",
     "text": [
      "Entraînement du modèle:  18%|█▊        | 18/100 [01:26<17:41, 12.95s/it]"
     ]
    },
    {
     "name": "stdout",
     "output_type": "stream",
     "text": [
      "65    1000        117.62     31.59  100.00  100.00  100.00    1.00\n"
     ]
    },
    {
     "name": "stderr",
     "output_type": "stream",
     "text": [
      "Entraînement du modèle:  19%|█▉        | 19/100 [01:44<19:15, 14.27s/it]"
     ]
    },
    {
     "name": "stdout",
     "output_type": "stream",
     "text": [
      "88    1200         23.78      6.09  100.00  100.00  100.00    1.00\n"
     ]
    },
    {
     "name": "stderr",
     "output_type": "stream",
     "text": [
      "Entraînement du modèle:  20%|██        | 20/100 [02:05<21:39, 16.24s/it]"
     ]
    },
    {
     "name": "stdout",
     "output_type": "stream",
     "text": [
      "115    1400         43.98      9.53  100.00  100.00  100.00    1.00\n"
     ]
    },
    {
     "name": "stderr",
     "output_type": "stream",
     "text": [
      "Entraînement du modèle:  21%|██        | 21/100 [02:30<25:03, 19.03s/it]"
     ]
    },
    {
     "name": "stdout",
     "output_type": "stream",
     "text": [
      "149    1600        134.56     24.37  100.00  100.00  100.00    1.00\n"
     ]
    },
    {
     "name": "stderr",
     "output_type": "stream",
     "text": [
      "Entraînement du modèle:  22%|██▏       | 22/100 [02:57<27:57, 21.51s/it]"
     ]
    },
    {
     "name": "stdout",
     "output_type": "stream",
     "text": [
      "190    1800         87.75     15.74  100.00  100.00  100.00    1.00\n"
     ]
    },
    {
     "name": "stderr",
     "output_type": "stream",
     "text": [
      "Entraînement du modèle:  23%|██▎       | 23/100 [03:34<33:35, 26.17s/it]"
     ]
    },
    {
     "name": "stdout",
     "output_type": "stream",
     "text": [
      "240    2000         96.43     15.29  100.00  100.00  100.00    1.00\n"
     ]
    },
    {
     "name": "stderr",
     "output_type": "stream",
     "text": [
      "Entraînement du modèle:  24%|██▍       | 24/100 [04:13<37:44, 29.80s/it]"
     ]
    },
    {
     "name": "stdout",
     "output_type": "stream",
     "text": [
      "302    2200        104.91     15.65  100.00  100.00  100.00    1.00\n"
     ]
    },
    {
     "name": "stderr",
     "output_type": "stream",
     "text": [
      "Entraînement du modèle:  25%|██▌       | 25/100 [04:14<26:26, 21.16s/it]"
     ]
    },
    {
     "name": "stdout",
     "output_type": "stream",
     "text": [
      "\u001b[38;5;2m✔ Saved pipeline to output directory\u001b[0m\n"
     ]
    },
    {
     "name": "stderr",
     "output_type": "stream",
     "text": [
      "Entraînement du modèle:  26%|██▌       | 26/100 [04:15<18:38, 15.11s/it]"
     ]
    },
    {
     "name": "stdout",
     "output_type": "stream",
     "text": [
      "..\\..\\models\\spacy\\lg\\model-last\n"
     ]
    },
    {
     "name": "stderr",
     "output_type": "stream",
     "text": [
      "Entraînement du modèle:  26%|██▌       | 26/100 [04:16<12:09,  9.85s/it]"
     ]
    },
    {
     "name": "stdout",
     "output_type": "stream",
     "text": [
      "Entraînement du modèle lg terminé.\n"
     ]
    },
    {
     "name": "stderr",
     "output_type": "stream",
     "text": [
      "\n"
     ]
    }
   ],
   "source": [
    "# entraînement du modèle\n",
    "def train_model(config_path, output_path, training_data_path):\n",
    "    print(\"Génération de la configuration...\")\n",
    "    subprocess.run(f\"python -m spacy init config {config_path} --lang fr --pipeline ner --optimize efficiency --force\", shell=True)\n",
    "    print(\"Configuration générée.\")\n",
    "\n",
    "    print(\"Début de l'entraînement du modèle...\")\n",
    "    process = subprocess.Popen(f\"python -m spacy train {config_path} --output {output_path} --paths.train {training_data_path} --paths.dev {training_data_path}\", shell=True, stdout=subprocess.PIPE, stderr=subprocess.PIPE)\n",
    "\n",
    "    with tqdm(total=100, desc=\"Entraînement du modèle\") as pbar:\n",
    "        while True:\n",
    "            output = process.stdout.readline()\n",
    "            if output == b\"\" and process.poll() is not None:\n",
    "                break\n",
    "            if output:\n",
    "                print(output.decode().strip()) \n",
    "            pbar.update(1)\n",
    "            time.sleep(1)\n",
    "\n",
    "# entrainement de chaque modèle\n",
    "for model_key in models.keys():\n",
    "    print(f\"Entraînement pour le modèle {model_key}...\")\n",
    "    train_model('./configuration.cfg', f'../../models/spacy/{model_key}', '../../dataset/processed/processed_training_data.spacy')\n",
    "    print(f\"Entraînement du modèle {model_key} terminé.\")"
   ]
  },
  {
   "cell_type": "code",
   "execution_count": 27,
   "id": "2fe8408c",
   "metadata": {},
   "outputs": [
    {
     "name": "stdout",
     "output_type": "stream",
     "text": [
      "Test du modèle sm...\n"
     ]
    },
    {
     "name": "stderr",
     "output_type": "stream",
     "text": [
      "C:\\Users\\vikne\\anaconda3\\Lib\\site-packages\\spacy\\displacy\\__init__.py:213: UserWarning: [W006] No entities to visualize found in Doc object. If this is surprising to you, make sure the Doc was processed using a model that supports named entity recognition, and check the `doc.ents` property manually if necessary.\n",
      "  warnings.warn(Warnings.W006)\n"
     ]
    },
    {
     "data": {
      "text/html": [
       "<span class=\"tex2jax_ignore\"><div class=\"entities\" style=\"line-height: 2.5; direction: ltr\">Je souhaite me rendre à Lille en partant d'Aubervilliers pour assister à une conférence.</div></span>"
      ],
      "text/plain": [
       "<IPython.core.display.HTML object>"
      ]
     },
     "metadata": {},
     "output_type": "display_data"
    },
    {
     "data": {
      "text/html": [
       "<span class=\"tex2jax_ignore\"><div class=\"entities\" style=\"line-height: 2.5; direction: ltr\">Je dois planifier un voyage \n",
       "<mark class=\"entity\" style=\"background: #1f77b4; padding: 0.45em 0.6em; margin: 0 0.25em; line-height: 1; border-radius: 0.35em;\">\n",
       "    Nice\n",
       "    <span style=\"font-size: 0.8em; font-weight: bold; line-height: 1; border-radius: 0.35em; vertical-align: middle; margin-left: 0.5rem\">DEPARTURE</span>\n",
       "</mark>\n",
       " \n",
       "<mark class=\"entity\" style=\"background: #2ca02c; padding: 0.45em 0.6em; margin: 0 0.25em; line-height: 1; border-radius: 0.35em;\">\n",
       "    Toulouse\n",
       "    <span style=\"font-size: 0.8em; font-weight: bold; line-height: 1; border-radius: 0.35em; vertical-align: middle; margin-left: 0.5rem\">DESTINATION</span>\n",
       "</mark>\n",
       " pour les prochaines vacances.</div></span>"
      ],
      "text/plain": [
       "<IPython.core.display.HTML object>"
      ]
     },
     "metadata": {},
     "output_type": "display_data"
    },
    {
     "data": {
      "text/html": [
       "<span class=\"tex2jax_ignore\"><div class=\"entities\" style=\"line-height: 2.5; direction: ltr\">Je veux partir à Paris à partir de Lyon via Marseille</div></span>"
      ],
      "text/plain": [
       "<IPython.core.display.HTML object>"
      ]
     },
     "metadata": {},
     "output_type": "display_data"
    },
    {
     "name": "stdout",
     "output_type": "stream",
     "text": [
      "Test du modèle md...\n"
     ]
    },
    {
     "data": {
      "text/html": [
       "<span class=\"tex2jax_ignore\"><div class=\"entities\" style=\"line-height: 2.5; direction: ltr\">Je souhaite me rendre à Lille en partant d'Aubervilliers pour assister à une conférence.</div></span>"
      ],
      "text/plain": [
       "<IPython.core.display.HTML object>"
      ]
     },
     "metadata": {},
     "output_type": "display_data"
    },
    {
     "data": {
      "text/html": [
       "<span class=\"tex2jax_ignore\"><div class=\"entities\" style=\"line-height: 2.5; direction: ltr\">Je dois planifier un voyage \n",
       "<mark class=\"entity\" style=\"background: #1f77b4; padding: 0.45em 0.6em; margin: 0 0.25em; line-height: 1; border-radius: 0.35em;\">\n",
       "    Nice\n",
       "    <span style=\"font-size: 0.8em; font-weight: bold; line-height: 1; border-radius: 0.35em; vertical-align: middle; margin-left: 0.5rem\">DEPARTURE</span>\n",
       "</mark>\n",
       " \n",
       "<mark class=\"entity\" style=\"background: #2ca02c; padding: 0.45em 0.6em; margin: 0 0.25em; line-height: 1; border-radius: 0.35em;\">\n",
       "    Toulouse\n",
       "    <span style=\"font-size: 0.8em; font-weight: bold; line-height: 1; border-radius: 0.35em; vertical-align: middle; margin-left: 0.5rem\">DESTINATION</span>\n",
       "</mark>\n",
       " pour les prochaines vacances.</div></span>"
      ],
      "text/plain": [
       "<IPython.core.display.HTML object>"
      ]
     },
     "metadata": {},
     "output_type": "display_data"
    },
    {
     "data": {
      "text/html": [
       "<span class=\"tex2jax_ignore\"><div class=\"entities\" style=\"line-height: 2.5; direction: ltr\">Je veux partir à Paris à partir de Lyon via Marseille</div></span>"
      ],
      "text/plain": [
       "<IPython.core.display.HTML object>"
      ]
     },
     "metadata": {},
     "output_type": "display_data"
    },
    {
     "name": "stdout",
     "output_type": "stream",
     "text": [
      "Test du modèle lg...\n"
     ]
    },
    {
     "data": {
      "text/html": [
       "<span class=\"tex2jax_ignore\"><div class=\"entities\" style=\"line-height: 2.5; direction: ltr\">Je souhaite me rendre à Lille en partant d'Aubervilliers pour assister à une conférence.</div></span>"
      ],
      "text/plain": [
       "<IPython.core.display.HTML object>"
      ]
     },
     "metadata": {},
     "output_type": "display_data"
    },
    {
     "data": {
      "text/html": [
       "<span class=\"tex2jax_ignore\"><div class=\"entities\" style=\"line-height: 2.5; direction: ltr\">Je dois planifier un voyage \n",
       "<mark class=\"entity\" style=\"background: #1f77b4; padding: 0.45em 0.6em; margin: 0 0.25em; line-height: 1; border-radius: 0.35em;\">\n",
       "    Nice\n",
       "    <span style=\"font-size: 0.8em; font-weight: bold; line-height: 1; border-radius: 0.35em; vertical-align: middle; margin-left: 0.5rem\">DEPARTURE</span>\n",
       "</mark>\n",
       " \n",
       "<mark class=\"entity\" style=\"background: #2ca02c; padding: 0.45em 0.6em; margin: 0 0.25em; line-height: 1; border-radius: 0.35em;\">\n",
       "    Toulouse\n",
       "    <span style=\"font-size: 0.8em; font-weight: bold; line-height: 1; border-radius: 0.35em; vertical-align: middle; margin-left: 0.5rem\">DESTINATION</span>\n",
       "</mark>\n",
       " pour les prochaines vacances.</div></span>"
      ],
      "text/plain": [
       "<IPython.core.display.HTML object>"
      ]
     },
     "metadata": {},
     "output_type": "display_data"
    },
    {
     "data": {
      "text/html": [
       "<span class=\"tex2jax_ignore\"><div class=\"entities\" style=\"line-height: 2.5; direction: ltr\">Je veux partir à Paris à partir de Lyon via Marseille</div></span>"
      ],
      "text/plain": [
       "<IPython.core.display.HTML object>"
      ]
     },
     "metadata": {},
     "output_type": "display_data"
    },
    {
     "data": {
      "text/plain": [
       "{'sm': [[], [('Brest', 'DESTINATION')]],\n",
       " 'md': [[], [('Brest', 'DESTINATION')]],\n",
       " 'lg': [[], [('Brest', 'DESTINATION')]]}"
      ]
     },
     "execution_count": 27,
     "metadata": {},
     "output_type": "execute_result"
    }
   ],
   "source": [
    "def load_and_test_model(model_path, text):\n",
    "    nlp_model = spacy.load(model_path)\n",
    "    doc = nlp_model(text)\n",
    "    return doc\n",
    "\n",
    "def test_model_on_texts(model_paths):\n",
    "    texts = [\n",
    "        '''Je souhaite me rendre à Lille en partant d'Aubervilliers pour assister à une conférence.''',\n",
    "        '''Je dois planifier un voyage Nice Toulouse pour les prochaines vacances.''',\n",
    "        '''Je veux partir à Paris à partir de Lyon via Marseille'''\n",
    "    ]\n",
    "\n",
    "    colors = {\"DEPARTURE\": \"#1f77b4\", \"DESTINATION\": \"#2ca02c\", \"STOP\": \"#9467bd\"}\n",
    "    options = {\"colors\": colors}\n",
    "\n",
    "    for model_key, model_path in model_paths.items():\n",
    "        print(f\"Test du modèle {model_key}...\")\n",
    "        for text in texts:\n",
    "            doc = load_and_test_model(model_path, text)\n",
    "            displacy.render(doc, style=\"ent\", jupyter=True, options=options)\n",
    "\n",
    "model_paths = {key: f\"../../models/spacy/{key}/model-best/\" for key in models.keys()}\n",
    "test_model_on_texts(model_paths)\n",
    "\n",
    "# Comparaison des modèles\n",
    "def extract_entities(doc):\n",
    "    return [(ent.text, ent.label_) for ent in doc.ents]\n",
    "\n",
    "def compare_models(model_paths, texts, ground_truths):\n",
    "    results = {key: [] for key in models.keys()}\n",
    "\n",
    "    for text in texts:\n",
    "        for model_key, model_path in model_paths.items():\n",
    "            doc = load_and_test_model(model_path, text)\n",
    "            entities = extract_entities(doc)\n",
    "            results[model_key].append(entities)\n",
    "\n",
    "    return results\n",
    "\n",
    "texts_to_compare = [\n",
    "    '''Je souhaite me rendre à Lille en partant d'Aubervilliers pour assister à une conférence.''',\n",
    "    '''Je dois regarder les trains Toulouse - Brest pour aller voir mon ami Albert.'''\n",
    "]\n",
    "\n",
    "ground_truths = [\n",
    "    [('Aubervilliers', 'DEPARTURE'), ('Lille', 'DESTINATION')],\n",
    "    [('Toulouse', 'DEPARTURE'), ('Brest', 'DESTINATION')]\n",
    "]\n",
    "\n",
    "compare_models(model_paths, texts_to_compare, ground_truths)\n"
   ]
  }
 ],
 "metadata": {
  "kernelspec": {
   "display_name": "base",
   "language": "python",
   "name": "python3"
  },
  "language_info": {
   "codemirror_mode": {
    "name": "ipython",
    "version": 3
   },
   "file_extension": ".py",
   "mimetype": "text/x-python",
   "name": "python",
   "nbconvert_exporter": "python",
   "pygments_lexer": "ipython3",
   "version": "3.11.7"
  }
 },
 "nbformat": 4,
 "nbformat_minor": 5
}
