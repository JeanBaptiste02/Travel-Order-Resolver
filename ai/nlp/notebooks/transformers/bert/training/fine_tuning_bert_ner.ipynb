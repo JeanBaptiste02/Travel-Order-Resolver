{
 "cells": [
  {
   "cell_type": "code",
   "execution_count": 1,
   "metadata": {},
   "outputs": [
    {
     "name": "stdout",
     "output_type": "stream",
     "text": [
      "WARNING:tensorflow:From C:\\Users\\vikne\\anaconda3\\Lib\\site-packages\\tf_keras\\src\\losses.py:2976: The name tf.losses.sparse_softmax_cross_entropy is deprecated. Please use tf.compat.v1.losses.sparse_softmax_cross_entropy instead.\n",
      "\n",
      "Taille du jeu de données d'entraînement: 48\n",
      "Taille du jeu de données de validation: 5\n",
      "Taille du jeu de données de test: 12\n",
      "Liste des étiquettes trouvées : ['O', 'DEPARTURE', 'DESTINATION', 'ESCALE']\n"
     ]
    },
    {
     "data": {
      "application/vnd.jupyter.widget-view+json": {
       "model_id": "6d191d15e3b747188457a55d3138ae02",
       "version_major": 2,
       "version_minor": 0
      },
      "text/plain": [
       "tokenizer_config.json:   0%|          | 0.00/49.0 [00:00<?, ?B/s]"
      ]
     },
     "metadata": {},
     "output_type": "display_data"
    },
    {
     "name": "stderr",
     "output_type": "stream",
     "text": [
      "C:\\Users\\vikne\\anaconda3\\Lib\\site-packages\\huggingface_hub\\file_download.py:159: UserWarning: `huggingface_hub` cache-system uses symlinks by default to efficiently store duplicated files but your machine does not support them in C:\\Users\\vikne\\.cache\\huggingface\\hub\\models--bert-base-cased. Caching files will still work but in a degraded version that might require more space on your disk. This warning can be disabled by setting the `HF_HUB_DISABLE_SYMLINKS_WARNING` environment variable. For more details, see https://huggingface.co/docs/huggingface_hub/how-to-cache#limitations.\n",
      "To support symlinks on Windows, you either need to activate Developer Mode or to run Python as an administrator. In order to see activate developer mode, see this article: https://docs.microsoft.com/en-us/windows/apps/get-started/enable-your-device-for-development\n",
      "  warnings.warn(message)\n"
     ]
    },
    {
     "data": {
      "application/vnd.jupyter.widget-view+json": {
       "model_id": "8c085f03f77c411495b060117ae9f5fe",
       "version_major": 2,
       "version_minor": 0
      },
      "text/plain": [
       "config.json:   0%|          | 0.00/570 [00:00<?, ?B/s]"
      ]
     },
     "metadata": {},
     "output_type": "display_data"
    },
    {
     "data": {
      "application/vnd.jupyter.widget-view+json": {
       "model_id": "ea45d4452b10426f90eec9912fa8cc03",
       "version_major": 2,
       "version_minor": 0
      },
      "text/plain": [
       "vocab.txt:   0%|          | 0.00/213k [00:00<?, ?B/s]"
      ]
     },
     "metadata": {},
     "output_type": "display_data"
    },
    {
     "data": {
      "application/vnd.jupyter.widget-view+json": {
       "model_id": "a6f81df0ce1f4bfeb2783780cf7fa7c0",
       "version_major": 2,
       "version_minor": 0
      },
      "text/plain": [
       "tokenizer.json:   0%|          | 0.00/436k [00:00<?, ?B/s]"
      ]
     },
     "metadata": {},
     "output_type": "display_data"
    },
    {
     "name": "stderr",
     "output_type": "stream",
     "text": [
      "C:\\Users\\vikne\\anaconda3\\Lib\\site-packages\\transformers\\tokenization_utils_base.py:1601: FutureWarning: `clean_up_tokenization_spaces` was not set. It will be set to `True` by default. This behavior will be depracted in transformers v4.45, and will be then set to `False` by default. For more details check this issue: https://github.com/huggingface/transformers/issues/31884\n",
      "  warnings.warn(\n"
     ]
    },
    {
     "data": {
      "application/vnd.jupyter.widget-view+json": {
       "model_id": "897cc93d937849c6b2c9ffa0eb4407e1",
       "version_major": 2,
       "version_minor": 0
      },
      "text/plain": [
       "model.safetensors:   0%|          | 0.00/436M [00:00<?, ?B/s]"
      ]
     },
     "metadata": {},
     "output_type": "display_data"
    },
    {
     "name": "stderr",
     "output_type": "stream",
     "text": [
      "Some weights of BertForTokenClassification were not initialized from the model checkpoint at bert-base-cased and are newly initialized: ['classifier.bias', 'classifier.weight']\n",
      "You should probably TRAIN this model on a down-stream task to be able to use it for predictions and inference.\n",
      "C:\\Users\\vikne\\anaconda3\\Lib\\site-packages\\transformers\\training_args.py:1525: FutureWarning: `evaluation_strategy` is deprecated and will be removed in version 4.46 of 🤗 Transformers. Use `eval_strategy` instead\n",
      "  warnings.warn(\n"
     ]
    },
    {
     "data": {
      "application/vnd.jupyter.widget-view+json": {
       "model_id": "63b155b2ea0946ac80774a7af9c6f81b",
       "version_major": 2,
       "version_minor": 0
      },
      "text/plain": [
       "  0%|          | 0/15 [00:00<?, ?it/s]"
      ]
     },
     "metadata": {},
     "output_type": "display_data"
    },
    {
     "data": {
      "application/vnd.jupyter.widget-view+json": {
       "model_id": "662d859378274de189360cfdc9bbc3b4",
       "version_major": 2,
       "version_minor": 0
      },
      "text/plain": [
       "  0%|          | 0/1 [00:00<?, ?it/s]"
      ]
     },
     "metadata": {},
     "output_type": "display_data"
    },
    {
     "name": "stdout",
     "output_type": "stream",
     "text": [
      "{'eval_loss': 0.9988554120063782, 'eval_runtime': 0.6664, 'eval_samples_per_second': 7.503, 'eval_steps_per_second': 1.501, 'epoch': 1.0}\n"
     ]
    },
    {
     "data": {
      "application/vnd.jupyter.widget-view+json": {
       "model_id": "31b955d125b64935b3435b823e85bfee",
       "version_major": 2,
       "version_minor": 0
      },
      "text/plain": [
       "  0%|          | 0/1 [00:00<?, ?it/s]"
      ]
     },
     "metadata": {},
     "output_type": "display_data"
    },
    {
     "name": "stdout",
     "output_type": "stream",
     "text": [
      "{'eval_loss': 0.7840012311935425, 'eval_runtime': 0.7313, 'eval_samples_per_second': 6.837, 'eval_steps_per_second': 1.367, 'epoch': 2.0}\n"
     ]
    },
    {
     "data": {
      "application/vnd.jupyter.widget-view+json": {
       "model_id": "84d3854ba4f84184997989cc93cd6c4f",
       "version_major": 2,
       "version_minor": 0
      },
      "text/plain": [
       "  0%|          | 0/1 [00:00<?, ?it/s]"
      ]
     },
     "metadata": {},
     "output_type": "display_data"
    },
    {
     "name": "stdout",
     "output_type": "stream",
     "text": [
      "{'eval_loss': 0.627339243888855, 'eval_runtime': 0.6704, 'eval_samples_per_second': 7.458, 'eval_steps_per_second': 1.492, 'epoch': 3.0}\n"
     ]
    },
    {
     "data": {
      "application/vnd.jupyter.widget-view+json": {
       "model_id": "31762e4c38b84cecb33a1d42e5291ad9",
       "version_major": 2,
       "version_minor": 0
      },
      "text/plain": [
       "  0%|          | 0/1 [00:00<?, ?it/s]"
      ]
     },
     "metadata": {},
     "output_type": "display_data"
    },
    {
     "name": "stdout",
     "output_type": "stream",
     "text": [
      "{'eval_loss': 0.5355299115180969, 'eval_runtime': 0.9687, 'eval_samples_per_second': 5.162, 'eval_steps_per_second': 1.032, 'epoch': 4.0}\n"
     ]
    },
    {
     "data": {
      "application/vnd.jupyter.widget-view+json": {
       "model_id": "6db9a202efa54450ad0759911dd691c9",
       "version_major": 2,
       "version_minor": 0
      },
      "text/plain": [
       "  0%|          | 0/1 [00:00<?, ?it/s]"
      ]
     },
     "metadata": {},
     "output_type": "display_data"
    },
    {
     "name": "stdout",
     "output_type": "stream",
     "text": [
      "{'eval_loss': 0.5079911947250366, 'eval_runtime': 0.4977, 'eval_samples_per_second': 10.047, 'eval_steps_per_second': 2.009, 'epoch': 5.0}\n",
      "{'train_runtime': 121.6445, 'train_samples_per_second': 1.973, 'train_steps_per_second': 0.123, 'train_loss': 0.7590504328409831, 'epoch': 5.0}\n"
     ]
    },
    {
     "data": {
      "application/vnd.jupyter.widget-view+json": {
       "model_id": "75c785ad332048c58cdd89981a6cad40",
       "version_major": 2,
       "version_minor": 0
      },
      "text/plain": [
       "  0%|          | 0/2 [00:00<?, ?it/s]"
      ]
     },
     "metadata": {},
     "output_type": "display_data"
    },
    {
     "data": {
      "image/png": "[encoded data removed]",
      "text/plain": [
       "<Figure size 1000x700 with 2 Axes>"
      ]
     },
     "metadata": {},
     "output_type": "display_data"
    },
    {
     "name": "stdout",
     "output_type": "stream",
     "text": [
      "              precision    recall  f1-score   support\n",
      "\n",
      "   DEPARTURE       0.86      0.30      0.44       104\n",
      " DESTINATION       0.37      0.89      0.52        47\n",
      "\n",
      "    accuracy                           0.48       151\n",
      "   macro avg       0.61      0.60      0.48       151\n",
      "weighted avg       0.71      0.48      0.47       151\n",
      "\n"
     ]
    }
   ],
   "source": [
    "import pandas as pd\n",
    "from sklearn.model_selection import train_test_split\n",
    "from torch import cuda\n",
    "from transformers import AutoTokenizer, AutoModelForTokenClassification, TrainingArguments, Trainer, DataCollatorForTokenClassification\n",
    "from datasets import Dataset\n",
    "import os\n",
    "import ast\n",
    "import numpy as np\n",
    "import matplotlib.pyplot as plt\n",
    "from collections import Counter\n",
    "from sklearn.metrics import confusion_matrix, classification_report\n",
    "from IPython.display import display, HTML\n",
    "\n",
    "# Configuration de l'appareil\n",
    "device = 'cuda' if cuda.is_available() else 'cpu'\n",
    "\n",
    "# Chemin des données et des résultats\n",
    "data_path = \"C:/Users/vikne/Documents/Master 2/Semestre 9/Intelligence artificielle/Travel-Order-Resolver/ai/nlp/dataset/raw/initial_training_data.csv\"\n",
    "output_dir = \"C:/Users/vikne/Documents/Master 2/Semestre 9/Intelligence artificielle/Travel-Order-Resolver/ai/nlp/models/transformers/bert/token_classification\"\n",
    "os.makedirs(output_dir, exist_ok=True)\n",
    "\n",
    "# Chargement et mélange du jeu de données initial\n",
    "data = pd.read_csv(data_path)\n",
    "data = data.sample(frac=1, random_state=42).reset_index(drop=True)\n",
    "\n",
    "# Réduction du jeu de données à 30% de sa taille initiale\n",
    "data_reduced = data.sample(frac=0.3, random_state=42)\n",
    "\n",
    "# Division des données pour l'entraînement, la validation et le test\n",
    "train_data, temp_data = train_test_split(data_reduced, test_size=0.25, random_state=42)\n",
    "valid_data, test_data = train_test_split(temp_data, test_size=0.7, random_state=42)\n",
    "\n",
    "print(f\"Taille du jeu de données d'entraînement: {len(train_data)}\")\n",
    "print(f\"Taille du jeu de données de validation: {len(valid_data)}\")\n",
    "print(f\"Taille du jeu de données de test: {len(test_data)}\")\n",
    "\n",
    "# Transformation des colonnes `tokens` et `ner_tags` en listes\n",
    "train_data['tokens'] = train_data['text'].apply(lambda x: x.split() if isinstance(x, str) else [])\n",
    "train_data['ner_tags'] = train_data['entities'].apply(lambda x: ast.literal_eval(x) if isinstance(x, str) else [])\n",
    "valid_data['tokens'] = valid_data['text'].apply(lambda x: x.split() if isinstance(x, str) else [])\n",
    "valid_data['ner_tags'] = valid_data['entities'].apply(lambda x: ast.literal_eval(x) if isinstance(x, str) else [])\n",
    "test_data['tokens'] = test_data['text'].apply(lambda x: x.split() if isinstance(x, str) else [])\n",
    "test_data['ner_tags'] = test_data['entities'].apply(lambda x: ast.literal_eval(x) if isinstance(x, str) else [])\n",
    "\n",
    "# Extraction dynamique des étiquettes\n",
    "all_labels = set()\n",
    "for entities in train_data['ner_tags']:\n",
    "    for entity in entities:\n",
    "        all_labels.add(entity['label'])\n",
    "\n",
    "# Création de la liste des étiquettes\n",
    "label_list = [\"O\"] + sorted(all_labels)\n",
    "print(f\"Liste des étiquettes trouvées : {label_list}\")\n",
    "label2id = {label: i for i, label in enumerate(label_list)}\n",
    "id2label = {i: label for i, label in enumerate(label_list)}\n",
    "\n",
    "# Chargement du tokenizer pour BERT\n",
    "model_checkpoint = \"bert-base-cased\"  # Changement de Camembert à BERT\n",
    "tokenizer = AutoTokenizer.from_pretrained(model_checkpoint)\n",
    "\n",
    "# Fonction de Tokenisation et d'Alignement des Étiquettes\n",
    "def tokenize_and_align_labels(data):\n",
    "    tokenized_inputs = tokenizer(\n",
    "        data['tokens'].tolist(),\n",
    "        truncation=True,\n",
    "        is_split_into_words=True,\n",
    "        padding=True,\n",
    "        return_tensors=\"pt\"\n",
    "    )\n",
    "    labels = []\n",
    "    for i, entities in enumerate(data['ner_tags']):\n",
    "        word_ids = tokenized_inputs.word_ids(batch_index=i)\n",
    "        label_ids = [-100] * len(word_ids)\n",
    "        for entity in entities:\n",
    "            start_idx, end_idx, tag = entity['start'], entity['end'], entity['label']\n",
    "            token_start, token_end = None, None\n",
    "            for idx, word_id in enumerate(word_ids):\n",
    "                if word_id is not None:\n",
    "                    token_start_pos = len(\" \".join(data['tokens'].tolist()[i][:word_id]))\n",
    "                    if token_start is None and start_idx >= token_start_pos:\n",
    "                        token_start = idx\n",
    "                    if end_idx <= token_start_pos + len(data['tokens'].tolist()[i][word_id]):\n",
    "                        token_end = idx\n",
    "                        break\n",
    "            if token_start is not None and token_end is not None and tag in label2id:\n",
    "                label_ids[token_start:token_end + 1] = [label2id[tag]] * (token_end - token_start + 1)\n",
    "        labels.append(label_ids)\n",
    "    tokenized_inputs[\"labels\"] = labels\n",
    "    return tokenized_inputs\n",
    "\n",
    "# Tokenisation des ensembles de données\n",
    "tokenized_train = tokenize_and_align_labels(train_data)\n",
    "tokenized_valid = tokenize_and_align_labels(valid_data)\n",
    "tokenized_test = tokenize_and_align_labels(test_data)\n",
    "\n",
    "train_dataset = Dataset.from_dict(tokenized_train)\n",
    "valid_dataset = Dataset.from_dict(tokenized_valid)\n",
    "test_dataset = Dataset.from_dict(tokenized_test)\n",
    "\n",
    "# Chargement du modèle BERT pour la classification de tokens\n",
    "model = AutoModelForTokenClassification.from_pretrained(\n",
    "    model_checkpoint,\n",
    "    num_labels=len(label_list),\n",
    "    id2label=id2label,\n",
    "    label2id=label2id\n",
    ")\n",
    "\n",
    "# Paramètres d'entraînement\n",
    "training_args = TrainingArguments(\n",
    "    output_dir=output_dir,\n",
    "    evaluation_strategy=\"epoch\",\n",
    "    learning_rate=2e-5,\n",
    "    per_device_train_batch_size=16,\n",
    "    num_train_epochs=5,\n",
    "    weight_decay=0.01,\n",
    "    save_steps=500,\n",
    "    logging_dir=os.path.join(output_dir, \"logs\"),\n",
    ")\n",
    "\n",
    "# Entraînement du modèle\n",
    "trainer = Trainer(\n",
    "    model=model,\n",
    "    args=training_args,\n",
    "    train_dataset=train_dataset,\n",
    "    eval_dataset=valid_dataset,\n",
    "    data_collator=DataCollatorForTokenClassification(tokenizer),\n",
    "    tokenizer=tokenizer,\n",
    ")\n",
    "\n",
    "trainer.train()\n",
    "trainer.save_model(output_dir)\n",
    "\n",
    "# Évaluation sur le jeu de test\n",
    "predictions = trainer.predict(test_dataset)\n",
    "predicted_labels = predictions.predictions.argmax(axis=-1)\n",
    "labels = predictions.label_ids\n",
    "\n",
    "# Extraction des entités et des prédictions\n",
    "def extract_entities(predictions, labels, id2label):\n",
    "    entities, flat_predictions, flat_labels = [], [], []\n",
    "    for i in range(len(predictions)):\n",
    "        for j in range(len(predictions[i])):\n",
    "            if predictions[i][j] != -100 and labels[i][j] != -100:\n",
    "                flat_predictions.append(predictions[i][j])\n",
    "                flat_labels.append(labels[i][j])\n",
    "    return flat_predictions, flat_labels\n",
    "\n",
    "flat_predictions, flat_labels = extract_entities(predicted_labels, labels, id2label)\n",
    "\n",
    "# Vérification des classes présentes\n",
    "present_classes = sorted(set(flat_predictions) | set(flat_labels))\n",
    "target_names = [label_list[i] for i in present_classes]\n",
    "\n",
    "# Affichage de la matrice de confusion\n",
    "conf_matrix = confusion_matrix(flat_labels, flat_predictions, labels=present_classes)\n",
    "plt.figure(figsize=(10, 7))\n",
    "plt.imshow(conf_matrix, interpolation='nearest', cmap=plt.cm.Blues)\n",
    "plt.title(\"Matrice de Confusion\")\n",
    "plt.colorbar()\n",
    "plt.xticks(np.arange(len(target_names)), target_names, rotation=45)\n",
    "plt.yticks(np.arange(len(target_names)), target_names)\n",
    "plt.xlabel('Prédictions')\n",
    "plt.ylabel('Véritables étiquettes')\n",
    "plt.show()\n",
    "\n",
    "# Affichage du rapport de classification\n",
    "print(classification_report(flat_labels, flat_predictions, target_names=target_names))"
   ]
  }
 ],
 "metadata": {
  "kernelspec": {
   "display_name": "base",
   "language": "python",
   "name": "python3"
  },
  "language_info": {
   "codemirror_mode": {
    "name": "ipython",
    "version": 3
   },
   "file_extension": ".py",
   "mimetype": "text/x-python",
   "name": "python",
   "nbconvert_exporter": "python",
   "pygments_lexer": "ipython3",
   "version": "3.11.7"
  }
 },
 "nbformat": 4,
 "nbformat_minor": 2
}
