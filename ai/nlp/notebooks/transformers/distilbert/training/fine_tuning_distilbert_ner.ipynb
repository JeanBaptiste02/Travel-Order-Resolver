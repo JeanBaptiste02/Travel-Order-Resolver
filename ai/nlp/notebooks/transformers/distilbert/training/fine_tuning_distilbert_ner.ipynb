{
 "cells": [
  {
   "cell_type": "code",
   "execution_count": 16,
   "metadata": {},
   "outputs": [
    {
     "name": "stdout",
     "output_type": "stream",
     "text": [
      "Taille du jeu de données d'entraînement: 48\n",
      "Taille du jeu de données de validation: 5\n",
      "Taille du jeu de données de test: 12\n",
      "Liste des étiquettes trouvées : ['O', 'DEPARTURE', 'DESTINATION', 'ESCALE']\n"
     ]
    },
    {
     "name": "stderr",
     "output_type": "stream",
     "text": [
      "C:\\Users\\vikne\\anaconda3\\Lib\\site-packages\\transformers\\tokenization_utils_base.py:1601: FutureWarning: `clean_up_tokenization_spaces` was not set. It will be set to `True` by default. This behavior will be depracted in transformers v4.45, and will be then set to `False` by default. For more details check this issue: https://github.com/huggingface/transformers/issues/31884\n",
      "  warnings.warn(\n",
      "Some weights of DistilBertForTokenClassification were not initialized from the model checkpoint at distilbert-base-uncased and are newly initialized: ['classifier.bias', 'classifier.weight']\n",
      "You should probably TRAIN this model on a down-stream task to be able to use it for predictions and inference.\n",
      "C:\\Users\\vikne\\anaconda3\\Lib\\site-packages\\transformers\\training_args.py:1525: FutureWarning: `evaluation_strategy` is deprecated and will be removed in version 4.46 of 🤗 Transformers. Use `eval_strategy` instead\n",
      "  warnings.warn(\n"
     ]
    },
    {
     "data": {
      "application/vnd.jupyter.widget-view+json": {
       "model_id": "0d87c77862e54d0b8b96f776f15ced96",
       "version_major": 2,
       "version_minor": 0
      },
      "text/plain": [
       "  0%|          | 0/15 [00:00<?, ?it/s]"
      ]
     },
     "metadata": {},
     "output_type": "display_data"
    },
    {
     "data": {
      "application/vnd.jupyter.widget-view+json": {
       "model_id": "0670e503ad6f4b889a2677959446c31b",
       "version_major": 2,
       "version_minor": 0
      },
      "text/plain": [
       "  0%|          | 0/1 [00:00<?, ?it/s]"
      ]
     },
     "metadata": {},
     "output_type": "display_data"
    },
    {
     "name": "stdout",
     "output_type": "stream",
     "text": [
      "{'eval_loss': 0.9829533696174622, 'eval_runtime': 0.3006, 'eval_samples_per_second': 16.632, 'eval_steps_per_second': 3.326, 'epoch': 1.0}\n"
     ]
    },
    {
     "data": {
      "application/vnd.jupyter.widget-view+json": {
       "model_id": "06ca3e89fa884f0886a75655ba2cf603",
       "version_major": 2,
       "version_minor": 0
      },
      "text/plain": [
       "  0%|          | 0/1 [00:00<?, ?it/s]"
      ]
     },
     "metadata": {},
     "output_type": "display_data"
    },
    {
     "name": "stdout",
     "output_type": "stream",
     "text": [
      "{'eval_loss': 0.8611953854560852, 'eval_runtime': 0.2041, 'eval_samples_per_second': 24.502, 'eval_steps_per_second': 4.9, 'epoch': 2.0}\n"
     ]
    },
    {
     "data": {
      "application/vnd.jupyter.widget-view+json": {
       "model_id": "36609f254c6c4d14abef6c9cc09e089a",
       "version_major": 2,
       "version_minor": 0
      },
      "text/plain": [
       "  0%|          | 0/1 [00:00<?, ?it/s]"
      ]
     },
     "metadata": {},
     "output_type": "display_data"
    },
    {
     "name": "stdout",
     "output_type": "stream",
     "text": [
      "{'eval_loss': 0.7625371813774109, 'eval_runtime': 0.2573, 'eval_samples_per_second': 19.43, 'eval_steps_per_second': 3.886, 'epoch': 3.0}\n"
     ]
    },
    {
     "data": {
      "application/vnd.jupyter.widget-view+json": {
       "model_id": "63937cee458c49d5b85683a0a615a35e",
       "version_major": 2,
       "version_minor": 0
      },
      "text/plain": [
       "  0%|          | 0/1 [00:00<?, ?it/s]"
      ]
     },
     "metadata": {},
     "output_type": "display_data"
    },
    {
     "name": "stdout",
     "output_type": "stream",
     "text": [
      "{'eval_loss': 0.6641433835029602, 'eval_runtime': 0.2016, 'eval_samples_per_second': 24.801, 'eval_steps_per_second': 4.96, 'epoch': 4.0}\n"
     ]
    },
    {
     "data": {
      "application/vnd.jupyter.widget-view+json": {
       "model_id": "1584b45b402b4cdc80a0f6d657b8d504",
       "version_major": 2,
       "version_minor": 0
      },
      "text/plain": [
       "  0%|          | 0/1 [00:00<?, ?it/s]"
      ]
     },
     "metadata": {},
     "output_type": "display_data"
    },
    {
     "name": "stdout",
     "output_type": "stream",
     "text": [
      "{'eval_loss': 0.6290455460548401, 'eval_runtime': 0.1918, 'eval_samples_per_second': 26.073, 'eval_steps_per_second': 5.215, 'epoch': 5.0}\n",
      "{'train_runtime': 52.7914, 'train_samples_per_second': 4.546, 'train_steps_per_second': 0.284, 'train_loss': 0.8679677327473958, 'epoch': 5.0}\n"
     ]
    },
    {
     "data": {
      "application/vnd.jupyter.widget-view+json": {
       "model_id": "71a2fe3089a6412d8827ccfb6c740bb1",
       "version_major": 2,
       "version_minor": 0
      },
      "text/plain": [
       "  0%|          | 0/2 [00:00<?, ?it/s]"
      ]
     },
     "metadata": {},
     "output_type": "display_data"
    },
    {
     "ename": "TypeError",
     "evalue": "'numpy.int64' object is not iterable",
     "output_type": "error",
     "traceback": [
      "\u001b[1;31m---------------------------------------------------------------------------\u001b[0m",
      "\u001b[1;31mTypeError\u001b[0m                                 Traceback (most recent call last)",
      "Cell \u001b[1;32mIn[16], line 183\u001b[0m\n\u001b[0;32m    179\u001b[0m             entities\u001b[38;5;241m.\u001b[39mappend(current_entity)\n\u001b[0;32m    181\u001b[0m     \u001b[38;5;28;01mreturn\u001b[39;00m entities, flat_predictions, flat_labels\n\u001b[1;32m--> 183\u001b[0m flat_predictions, flat_labels \u001b[38;5;241m=\u001b[39m extract_entities(predicted_labels, labels, id2label)\n\u001b[0;32m    185\u001b[0m \u001b[38;5;66;03m# Vérification des classes présentes\u001b[39;00m\n\u001b[0;32m    186\u001b[0m present_classes \u001b[38;5;241m=\u001b[39m \u001b[38;5;28msorted\u001b[39m(\u001b[38;5;28mset\u001b[39m(flat_predictions) \u001b[38;5;241m|\u001b[39m \u001b[38;5;28mset\u001b[39m(flat_labels))\n",
      "Cell \u001b[1;32mIn[16], line 156\u001b[0m, in \u001b[0;36mextract_entities\u001b[1;34m(predictions, labels, id2label)\u001b[0m\n\u001b[0;32m    154\u001b[0m \u001b[38;5;66;03m# Reconnaître les entités en fonction des labels\u001b[39;00m\n\u001b[0;32m    155\u001b[0m label \u001b[38;5;241m=\u001b[39m id2label[flat_predictions[\u001b[38;5;241m-\u001b[39m\u001b[38;5;241m1\u001b[39m]]\n\u001b[1;32m--> 156\u001b[0m token \u001b[38;5;241m=\u001b[39m tokenizer\u001b[38;5;241m.\u001b[39mconvert_ids_to_tokens(predictions[i][j])  \u001b[38;5;66;03m# Changement ici\u001b[39;00m\n\u001b[0;32m    158\u001b[0m \u001b[38;5;66;03m# Si nous rencontrons une nouvelle entité, nous la commençons\u001b[39;00m\n\u001b[0;32m    159\u001b[0m \u001b[38;5;28;01mif\u001b[39;00m \u001b[38;5;124m\"\u001b[39m\u001b[38;5;124mLOC\u001b[39m\u001b[38;5;124m\"\u001b[39m \u001b[38;5;129;01min\u001b[39;00m label:  \u001b[38;5;66;03m# Lieux\u001b[39;00m\n",
      "File \u001b[1;32m~\\anaconda3\\Lib\\site-packages\\transformers\\tokenization_utils_fast.py:408\u001b[0m, in \u001b[0;36mPreTrainedTokenizerFast.convert_ids_to_tokens\u001b[1;34m(self, ids, skip_special_tokens)\u001b[0m\n\u001b[0;32m    406\u001b[0m     \u001b[38;5;28;01mreturn\u001b[39;00m \u001b[38;5;28mself\u001b[39m\u001b[38;5;241m.\u001b[39m_tokenizer\u001b[38;5;241m.\u001b[39mid_to_token(ids)\n\u001b[0;32m    407\u001b[0m tokens \u001b[38;5;241m=\u001b[39m []\n\u001b[1;32m--> 408\u001b[0m \u001b[38;5;28;01mfor\u001b[39;00m index \u001b[38;5;129;01min\u001b[39;00m ids:\n\u001b[0;32m    409\u001b[0m     index \u001b[38;5;241m=\u001b[39m \u001b[38;5;28mint\u001b[39m(index)\n\u001b[0;32m    410\u001b[0m     \u001b[38;5;28;01mif\u001b[39;00m skip_special_tokens \u001b[38;5;129;01mand\u001b[39;00m index \u001b[38;5;129;01min\u001b[39;00m \u001b[38;5;28mself\u001b[39m\u001b[38;5;241m.\u001b[39mall_special_ids:\n",
      "\u001b[1;31mTypeError\u001b[0m: 'numpy.int64' object is not iterable"
     ]
    }
   ],
   "source": [
    "import pandas as pd\n",
    "from sklearn.model_selection import train_test_split\n",
    "from torch import cuda\n",
    "from transformers import AutoTokenizer, AutoModelForTokenClassification, TrainingArguments, Trainer, DataCollatorForTokenClassification\n",
    "from datasets import Dataset\n",
    "import os\n",
    "import ast\n",
    "import numpy as np\n",
    "import matplotlib.pyplot as plt\n",
    "from collections import Counter\n",
    "from sklearn.metrics import confusion_matrix, classification_report\n",
    "from IPython.display import display, HTML\n",
    "\n",
    "# Configuration de l'appareil\n",
    "device = 'cuda' if cuda.is_available() else 'cpu'\n",
    "\n",
    "# Chemin des données et des résultats\n",
    "data_path = \"C:/Users/vikne/Documents/Master 2/Semestre 9/Intelligence artificielle/Travel-Order-Resolver/ai/nlp/dataset/raw/initial_training_data.csv\"\n",
    "output_dir = \"C:/Users/vikne/Documents/Master 2/Semestre 9/Intelligence artificielle/Travel-Order-Resolver/ai/nlp/models/transformers/distilbert/token_classification\"\n",
    "os.makedirs(output_dir, exist_ok=True)\n",
    "\n",
    "# Chargement et mélange du jeu de données initial\n",
    "data = pd.read_csv(data_path)\n",
    "data = data.sample(frac=1, random_state=42).reset_index(drop=True)\n",
    "\n",
    "# Réduction du jeu de données à 30% de sa taille initiale\n",
    "data_reduced = data.sample(frac=0.3, random_state=42)\n",
    "\n",
    "# Division des données pour l'entraînement, la validation et le test\n",
    "train_data, temp_data = train_test_split(data_reduced, test_size=0.25, random_state=42)\n",
    "valid_data, test_data = train_test_split(temp_data, test_size=0.7, random_state=42)\n",
    "\n",
    "print(f\"Taille du jeu de données d'entraînement: {len(train_data)}\")\n",
    "print(f\"Taille du jeu de données de validation: {len(valid_data)}\")\n",
    "print(f\"Taille du jeu de données de test: {len(test_data)}\")\n",
    "\n",
    "# Transformation des colonnes `tokens` et `ner_tags` en listes\n",
    "train_data['tokens'] = train_data['text'].apply(lambda x: x.split() if isinstance(x, str) else [])\n",
    "train_data['ner_tags'] = train_data['entities'].apply(lambda x: ast.literal_eval(x) if isinstance(x, str) else [])\n",
    "valid_data['tokens'] = valid_data['text'].apply(lambda x: x.split() if isinstance(x, str) else [])\n",
    "valid_data['ner_tags'] = valid_data['entities'].apply(lambda x: ast.literal_eval(x) if isinstance(x, str) else [])\n",
    "test_data['tokens'] = test_data['text'].apply(lambda x: x.split() if isinstance(x, str) else [])\n",
    "test_data['ner_tags'] = test_data['entities'].apply(lambda x: ast.literal_eval(x) if isinstance(x, str) else [])\n",
    "\n",
    "# Extraction dynamique des étiquettes\n",
    "all_labels = set()\n",
    "for entities in train_data['ner_tags']:\n",
    "    for entity in entities:\n",
    "        all_labels.add(entity['label'])\n",
    "\n",
    "# Création de la liste des étiquettes\n",
    "label_list = [\"O\"] + sorted(all_labels)\n",
    "print(f\"Liste des étiquettes trouvées : {label_list}\")\n",
    "label2id = {label: i for i, label in enumerate(label_list)}\n",
    "id2label = {i: label for i, label in enumerate(label_list)}\n",
    "\n",
    "# Chargement du tokenizer pour DistilBERT\n",
    "model_checkpoint = \"distilbert-base-uncased\"  # Changement de Camembert à DistilBERT\n",
    "tokenizer = AutoTokenizer.from_pretrained(model_checkpoint)\n",
    "\n",
    "# Fonction de Tokenisation et d'Alignement des Étiquettes\n",
    "def tokenize_and_align_labels(data):\n",
    "    tokenized_inputs = tokenizer(\n",
    "        data['tokens'].tolist(),\n",
    "        truncation=True,\n",
    "        is_split_into_words=True,\n",
    "        padding=True,\n",
    "        return_tensors=\"pt\"\n",
    "    )\n",
    "    labels = []\n",
    "    for i, entities in enumerate(data['ner_tags']):\n",
    "        word_ids = tokenized_inputs.word_ids(batch_index=i)\n",
    "        label_ids = [-100] * len(word_ids)  # -100 is used to ignore padding tokens\n",
    "        for entity in entities:\n",
    "            start_idx, end_idx, tag = entity['start'], entity['end'], entity['label']\n",
    "            token_start, token_end = None, None\n",
    "            for idx, word_id in enumerate(word_ids):\n",
    "                # Compare token positions with the start and end positions\n",
    "                if word_id is not None:\n",
    "                    token_start_pos = len(\" \".join(data['tokens'].tolist()[i][:word_id]))\n",
    "                    token_end_pos = token_start_pos + len(data['tokens'].tolist()[i][word_id])\n",
    "\n",
    "                    # Check if the word's start and end are within the entity's bounds\n",
    "                    if start_idx >= token_start_pos and token_start is None:\n",
    "                        token_start = idx\n",
    "                    if end_idx <= token_end_pos and token_end is None:\n",
    "                        token_end = idx\n",
    "                        break\n",
    "\n",
    "            if token_start is not None and token_end is not None and tag in label2id:\n",
    "                label_ids[token_start:token_end + 1] = [label2id[tag]] * (token_end - token_start + 1)\n",
    "        labels.append(label_ids)\n",
    "    tokenized_inputs[\"labels\"] = labels\n",
    "    return tokenized_inputs\n",
    "\n",
    "# Assurez-vous que les entrées sont correctement tokenisées et les labels alignés\n",
    "tokenized_train = tokenize_and_align_labels(train_data)\n",
    "tokenized_valid = tokenize_and_align_labels(valid_data)\n",
    "tokenized_test = tokenize_and_align_labels(test_data)\n",
    "\n",
    "train_dataset = Dataset.from_dict(tokenized_train)\n",
    "valid_dataset = Dataset.from_dict(tokenized_valid)\n",
    "test_dataset = Dataset.from_dict(tokenized_test)\n",
    "\n",
    "# Chargement du modèle DistilBERT pour la classification de tokens\n",
    "model = AutoModelForTokenClassification.from_pretrained(\n",
    "    model_checkpoint,\n",
    "    num_labels=len(label_list),\n",
    "    id2label=id2label,\n",
    "    label2id=label2id\n",
    ")\n",
    "\n",
    "# Paramètres d'entraînement\n",
    "training_args = TrainingArguments(\n",
    "    output_dir=output_dir,\n",
    "    evaluation_strategy=\"epoch\",\n",
    "    learning_rate=2e-5,\n",
    "    per_device_train_batch_size=16,\n",
    "    num_train_epochs=5,\n",
    "    weight_decay=0.01,\n",
    "    save_steps=500,\n",
    "    logging_dir=os.path.join(output_dir, \"logs\"),\n",
    ")\n",
    "\n",
    "# Entraînement du modèle\n",
    "trainer = Trainer(\n",
    "    model=model,\n",
    "    args=training_args,\n",
    "    train_dataset=train_dataset,\n",
    "    eval_dataset=valid_dataset,\n",
    "    data_collator=DataCollatorForTokenClassification(tokenizer),\n",
    "    tokenizer=tokenizer,\n",
    ")\n",
    "\n",
    "trainer.train()\n",
    "trainer.save_model(output_dir)\n",
    "\n",
    "# Évaluation sur le jeu de test\n",
    "predictions = trainer.predict(test_dataset)\n",
    "predicted_labels = predictions.predictions.argmax(axis=-1)\n",
    "labels = predictions.label_ids\n",
    "\n",
    "# Extraction des entités et des prédictions\n",
    "def extract_entities(predictions, labels, id2label):\n",
    "    entities, flat_predictions, flat_labels = [], [], []\n",
    "    for i in range(len(predictions)):\n",
    "        current_entity = {\"group\": None, \"city\": \"\"}\n",
    "        for j in range(len(predictions[i])):\n",
    "            # Ignore padding tokens\n",
    "            if predictions[i][j] != -100 and labels[i][j] != -100:\n",
    "                flat_predictions.append(predictions[i][j])\n",
    "                flat_labels.append(labels[i][j])\n",
    "\n",
    "                # Reconnaître les entités en fonction des labels\n",
    "                label = id2label[flat_predictions[-1]]\n",
    "                token = tokenizer.convert_ids_to_tokens(predictions[i][j])  # Changement ici\n",
    "\n",
    "                # Si nous rencontrons une nouvelle entité, nous la commençons\n",
    "                if \"LOC\" in label:  # Lieux\n",
    "                    if token.startswith(\"▁\"):  # Indicateur de début de mot dans CamemBERT\n",
    "                        if current_entity[\"city\"]:  # Si une entité précédente existe, l'ajouter\n",
    "                            entities.append(current_entity)\n",
    "                        current_entity = {\"group\": \"LOC\", \"city\": token.lstrip(\"▁\")}\n",
    "                    else:\n",
    "                        current_entity[\"city\"] += token  # Ajouter les sous-tokens à l'entité en cours\n",
    "                elif \"PER\" in label or \"ORG\" in label:  # Si c'est une personne ou une organisation\n",
    "                    if token.startswith(\"▁\"):\n",
    "                        if current_entity[\"city\"]:\n",
    "                            entities.append(current_entity)\n",
    "                        current_entity = {\"group\": label, \"city\": token.lstrip(\"▁\")}\n",
    "                    else:\n",
    "                        current_entity[\"city\"] += token\n",
    "                elif current_entity[\"city\"]:  # Si nous avons une entité en cours mais le label est \"O\" (hors entité)\n",
    "                    entities.append(current_entity)\n",
    "                    current_entity = {\"group\": None, \"city\": \"\"}\n",
    "\n",
    "        # Si une entité est toujours en cours à la fin de la phrase, on l'ajoute\n",
    "        if current_entity[\"city\"]:\n",
    "            entities.append(current_entity)\n",
    "\n",
    "    return entities, flat_predictions, flat_labels\n",
    "\n",
    "flat_predictions, flat_labels = extract_entities(predicted_labels, labels, id2label)\n",
    "\n",
    "# Vérification des classes présentes\n",
    "present_classes = sorted(set(flat_predictions) | set(flat_labels))\n",
    "target_names = [label_list[i] for i in present_classes]\n",
    "\n",
    "# Affichage de la matrice de confusion\n",
    "conf_matrix = confusion_matrix(flat_labels, flat_predictions, labels=present_classes)\n",
    "plt.figure(figsize=(10, 7))\n",
    "plt.imshow(conf_matrix, interpolation='nearest', cmap=plt.cm.Blues)\n",
    "plt.title(\"Matrice de Confusion\")\n",
    "plt.colorbar()\n",
    "plt.xticks(np.arange(len(target_names)), target_names, rotation=45)\n",
    "plt.yticks(np.arange(len(target_names)), target_names)\n",
    "plt.xlabel('Prédictions')\n",
    "plt.ylabel('Véritables étiquettes')\n",
    "plt.show()\n",
    "\n",
    "# Affichage du rapport de classification\n",
    "print(classification_report(flat_labels, flat_predictions, target_names=target_names))\n"
   ]
  },
  {
   "cell_type": "code",
   "execution_count": 19,
   "metadata": {},
   "outputs": [
    {
     "name": "stdout",
     "output_type": "stream",
     "text": [
      "Taille du jeu de données d'entraînement: 48\n",
      "Taille du jeu de données de validation: 5\n",
      "Taille du jeu de données de test: 12\n",
      "Liste des étiquettes trouvées : ['O', 'DEPARTURE', 'DESTINATION', 'ESCALE']\n"
     ]
    },
    {
     "name": "stderr",
     "output_type": "stream",
     "text": [
      "C:\\Users\\vikne\\anaconda3\\Lib\\site-packages\\transformers\\tokenization_utils_base.py:1601: FutureWarning: `clean_up_tokenization_spaces` was not set. It will be set to `True` by default. This behavior will be depracted in transformers v4.45, and will be then set to `False` by default. For more details check this issue: https://github.com/huggingface/transformers/issues/31884\n",
      "  warnings.warn(\n",
      "Some weights of DistilBertForTokenClassification were not initialized from the model checkpoint at distilbert-base-uncased and are newly initialized: ['classifier.bias', 'classifier.weight']\n",
      "You should probably TRAIN this model on a down-stream task to be able to use it for predictions and inference.\n",
      "C:\\Users\\vikne\\anaconda3\\Lib\\site-packages\\transformers\\training_args.py:1525: FutureWarning: `evaluation_strategy` is deprecated and will be removed in version 4.46 of 🤗 Transformers. Use `eval_strategy` instead\n",
      "  warnings.warn(\n"
     ]
    },
    {
     "data": {
      "application/vnd.jupyter.widget-view+json": {
       "model_id": "68e620db052c483e983b3851bd8939df",
       "version_major": 2,
       "version_minor": 0
      },
      "text/plain": [
       "  0%|          | 0/15 [00:00<?, ?it/s]"
      ]
     },
     "metadata": {},
     "output_type": "display_data"
    },
    {
     "data": {
      "application/vnd.jupyter.widget-view+json": {
       "model_id": "2bb4044a505443729ab064dd4e495bbd",
       "version_major": 2,
       "version_minor": 0
      },
      "text/plain": [
       "  0%|          | 0/1 [00:00<?, ?it/s]"
      ]
     },
     "metadata": {},
     "output_type": "display_data"
    },
    {
     "name": "stdout",
     "output_type": "stream",
     "text": [
      "{'eval_loss': 0.9829533696174622, 'eval_runtime': 0.2313, 'eval_samples_per_second': 21.617, 'eval_steps_per_second': 4.323, 'epoch': 1.0}\n"
     ]
    },
    {
     "data": {
      "application/vnd.jupyter.widget-view+json": {
       "model_id": "749b3991f02948b8ada356cec6106c87",
       "version_major": 2,
       "version_minor": 0
      },
      "text/plain": [
       "  0%|          | 0/1 [00:00<?, ?it/s]"
      ]
     },
     "metadata": {},
     "output_type": "display_data"
    },
    {
     "name": "stdout",
     "output_type": "stream",
     "text": [
      "{'eval_loss': 0.8611953854560852, 'eval_runtime': 0.2055, 'eval_samples_per_second': 24.325, 'eval_steps_per_second': 4.865, 'epoch': 2.0}\n"
     ]
    },
    {
     "data": {
      "application/vnd.jupyter.widget-view+json": {
       "model_id": "b0576f9360ac434580739536f4b294f8",
       "version_major": 2,
       "version_minor": 0
      },
      "text/plain": [
       "  0%|          | 0/1 [00:00<?, ?it/s]"
      ]
     },
     "metadata": {},
     "output_type": "display_data"
    },
    {
     "name": "stdout",
     "output_type": "stream",
     "text": [
      "{'eval_loss': 0.7625371813774109, 'eval_runtime': 0.1915, 'eval_samples_per_second': 26.108, 'eval_steps_per_second': 5.222, 'epoch': 3.0}\n"
     ]
    },
    {
     "data": {
      "application/vnd.jupyter.widget-view+json": {
       "model_id": "5f41a9bb71d34229a154ec582a577253",
       "version_major": 2,
       "version_minor": 0
      },
      "text/plain": [
       "  0%|          | 0/1 [00:00<?, ?it/s]"
      ]
     },
     "metadata": {},
     "output_type": "display_data"
    },
    {
     "name": "stdout",
     "output_type": "stream",
     "text": [
      "{'eval_loss': 0.6641433835029602, 'eval_runtime': 0.1738, 'eval_samples_per_second': 28.772, 'eval_steps_per_second': 5.754, 'epoch': 4.0}\n"
     ]
    },
    {
     "data": {
      "application/vnd.jupyter.widget-view+json": {
       "model_id": "13a1e27571d246a99d1bdeb43b4fad19",
       "version_major": 2,
       "version_minor": 0
      },
      "text/plain": [
       "  0%|          | 0/1 [00:00<?, ?it/s]"
      ]
     },
     "metadata": {},
     "output_type": "display_data"
    },
    {
     "name": "stdout",
     "output_type": "stream",
     "text": [
      "{'eval_loss': 0.6290455460548401, 'eval_runtime': 0.176, 'eval_samples_per_second': 28.413, 'eval_steps_per_second': 5.683, 'epoch': 5.0}\n",
      "{'train_runtime': 37.4681, 'train_samples_per_second': 6.405, 'train_steps_per_second': 0.4, 'train_loss': 0.8679677327473958, 'epoch': 5.0}\n"
     ]
    },
    {
     "data": {
      "application/vnd.jupyter.widget-view+json": {
       "model_id": "79409f624e4949b38d5b0e0d48c92be2",
       "version_major": 2,
       "version_minor": 0
      },
      "text/plain": [
       "  0%|          | 0/2 [00:00<?, ?it/s]"
      ]
     },
     "metadata": {},
     "output_type": "display_data"
    },
    {
     "data": {
      "image/png": "[encoded data removed]",
      "text/plain": [
       "<Figure size 1000x700 with 2 Axes>"
      ]
     },
     "metadata": {},
     "output_type": "display_data"
    },
    {
     "name": "stdout",
     "output_type": "stream",
     "text": [
      "              precision    recall  f1-score   support\n",
      "\n",
      "   DEPARTURE       1.00      0.23      0.37        97\n",
      " DESTINATION       0.35      1.00      0.52        41\n",
      "\n",
      "    accuracy                           0.46       138\n",
      "   macro avg       0.68      0.61      0.45       138\n",
      "weighted avg       0.81      0.46      0.42       138\n",
      "\n"
     ]
    }
   ],
   "source": [
    "import pandas as pd\n",
    "from sklearn.model_selection import train_test_split\n",
    "from torch import cuda\n",
    "from transformers import AutoTokenizer, AutoModelForTokenClassification, TrainingArguments, Trainer, DataCollatorForTokenClassification\n",
    "from datasets import Dataset\n",
    "import os\n",
    "import ast\n",
    "import numpy as np\n",
    "import matplotlib.pyplot as plt\n",
    "from collections import Counter\n",
    "from sklearn.metrics import confusion_matrix, classification_report\n",
    "from IPython.display import display, HTML\n",
    "\n",
    "# Configuration de l'appareil\n",
    "device = 'cuda' if cuda.is_available() else 'cpu'\n",
    "\n",
    "# Chemin des données et des résultats\n",
    "data_path = \"C:/Users/vikne/Documents/Master 2/Semestre 9/Intelligence artificielle/Travel-Order-Resolver/ai/nlp/dataset/raw/initial_training_data.csv\"\n",
    "output_dir = \"C:/Users/vikne/Documents/Master 2/Semestre 9/Intelligence artificielle/Travel-Order-Resolver/ai/nlp/models/transformers/distilbert/token_classification\"\n",
    "os.makedirs(output_dir, exist_ok=True)\n",
    "\n",
    "# Chargement et mélange du jeu de données initial\n",
    "data = pd.read_csv(data_path)\n",
    "data = data.sample(frac=1, random_state=42).reset_index(drop=True)\n",
    "\n",
    "# Réduction du jeu de données à 30% de sa taille initiale\n",
    "data_reduced = data.sample(frac=0.3, random_state=42)\n",
    "\n",
    "# Division des données pour l'entraînement, la validation et le test\n",
    "train_data, temp_data = train_test_split(data_reduced, test_size=0.25, random_state=42)\n",
    "valid_data, test_data = train_test_split(temp_data, test_size=0.7, random_state=42)\n",
    "\n",
    "print(f\"Taille du jeu de données d'entraînement: {len(train_data)}\")\n",
    "print(f\"Taille du jeu de données de validation: {len(valid_data)}\")\n",
    "print(f\"Taille du jeu de données de test: {len(test_data)}\")\n",
    "\n",
    "# Transformation des colonnes `tokens` et `ner_tags` en listes\n",
    "train_data['tokens'] = train_data['text'].apply(lambda x: x.split() if isinstance(x, str) else [])\n",
    "train_data['ner_tags'] = train_data['entities'].apply(lambda x: ast.literal_eval(x) if isinstance(x, str) else [])\n",
    "valid_data['tokens'] = valid_data['text'].apply(lambda x: x.split() if isinstance(x, str) else [])\n",
    "valid_data['ner_tags'] = valid_data['entities'].apply(lambda x: ast.literal_eval(x) if isinstance(x, str) else [])\n",
    "test_data['tokens'] = test_data['text'].apply(lambda x: x.split() if isinstance(x, str) else [])\n",
    "test_data['ner_tags'] = test_data['entities'].apply(lambda x: ast.literal_eval(x) if isinstance(x, str) else [])\n",
    "\n",
    "# Extraction dynamique des étiquettes\n",
    "all_labels = set()\n",
    "for entities in train_data['ner_tags']:\n",
    "    for entity in entities:\n",
    "        all_labels.add(entity['label'])\n",
    "\n",
    "# Création de la liste des étiquettes\n",
    "label_list = [\"O\"] + sorted(all_labels)\n",
    "print(f\"Liste des étiquettes trouvées : {label_list}\")\n",
    "label2id = {label: i for i, label in enumerate(label_list)}\n",
    "id2label = {i: label for i, label in enumerate(label_list)}\n",
    "\n",
    "# Chargement du tokenizer pour DistilBERT\n",
    "model_checkpoint = \"distilbert-base-uncased\"  # Changement de Camembert à DistilBERT\n",
    "tokenizer = AutoTokenizer.from_pretrained(model_checkpoint)\n",
    "\n",
    "# Fonction de Tokenisation et d'Alignement des Étiquettes\n",
    "def tokenize_and_align_labels(data):\n",
    "    tokenized_inputs = tokenizer(\n",
    "        data['tokens'].tolist(),\n",
    "        truncation=True,\n",
    "        is_split_into_words=True,\n",
    "        padding=True,\n",
    "        return_tensors=\"pt\"\n",
    "    )\n",
    "    labels = []\n",
    "    for i, entities in enumerate(data['ner_tags']):\n",
    "        word_ids = tokenized_inputs.word_ids(batch_index=i)\n",
    "        label_ids = [-100] * len(word_ids)  # -100 is used to ignore padding tokens\n",
    "        for entity in entities:\n",
    "            start_idx, end_idx, tag = entity['start'], entity['end'], entity['label']\n",
    "            token_start, token_end = None, None\n",
    "            for idx, word_id in enumerate(word_ids):\n",
    "                # Compare token positions with the start and end positions\n",
    "                if word_id is not None:\n",
    "                    token_start_pos = len(\" \".join(data['tokens'].tolist()[i][:word_id]))\n",
    "                    token_end_pos = token_start_pos + len(data['tokens'].tolist()[i][word_id])\n",
    "\n",
    "                    # Check if the word's start and end are within the entity's bounds\n",
    "                    if start_idx >= token_start_pos and token_start is None:\n",
    "                        token_start = idx\n",
    "                    if end_idx <= token_end_pos and token_end is None:\n",
    "                        token_end = idx\n",
    "                        break\n",
    "\n",
    "            if token_start is not None and token_end is not None and tag in label2id:\n",
    "                label_ids[token_start:token_end + 1] = [label2id[tag]] * (token_end - token_start + 1)\n",
    "        labels.append(label_ids)\n",
    "    tokenized_inputs[\"labels\"] = labels\n",
    "    return tokenized_inputs\n",
    "\n",
    "# Assurez-vous que les entrées sont correctement tokenisées et les labels alignés\n",
    "tokenized_train = tokenize_and_align_labels(train_data)\n",
    "tokenized_valid = tokenize_and_align_labels(valid_data)\n",
    "tokenized_test = tokenize_and_align_labels(test_data)\n",
    "\n",
    "train_dataset = Dataset.from_dict(tokenized_train)\n",
    "valid_dataset = Dataset.from_dict(tokenized_valid)\n",
    "test_dataset = Dataset.from_dict(tokenized_test)\n",
    "\n",
    "# Chargement du modèle DistilBERT pour la classification de tokens\n",
    "model = AutoModelForTokenClassification.from_pretrained(\n",
    "    model_checkpoint,\n",
    "    num_labels=len(label_list),\n",
    "    id2label=id2label,\n",
    "    label2id=label2id\n",
    ")\n",
    "\n",
    "# Paramètres d'entraînement\n",
    "training_args = TrainingArguments(\n",
    "    output_dir=output_dir,\n",
    "    evaluation_strategy=\"epoch\",\n",
    "    learning_rate=2e-5,\n",
    "    per_device_train_batch_size=16,\n",
    "    num_train_epochs=5,\n",
    "    weight_decay=0.01,\n",
    "    save_steps=500,\n",
    "    logging_dir=os.path.join(output_dir, \"logs\"),\n",
    ")\n",
    "\n",
    "# Entraînement du modèle\n",
    "trainer = Trainer(\n",
    "    model=model,\n",
    "    args=training_args,\n",
    "    train_dataset=train_dataset,\n",
    "    eval_dataset=valid_dataset,\n",
    "    data_collator=DataCollatorForTokenClassification(tokenizer),\n",
    "    tokenizer=tokenizer,\n",
    ")\n",
    "\n",
    "trainer.train()\n",
    "trainer.save_model(output_dir)\n",
    "\n",
    "# Évaluation sur le jeu de test\n",
    "predictions = trainer.predict(test_dataset)\n",
    "predicted_labels = predictions.predictions.argmax(axis=-1)\n",
    "labels = predictions.label_ids\n",
    "\n",
    "# Extraction des entités et des prédictions\n",
    "def extract_entities(predictions, labels, id2label):\n",
    "    entities, flat_predictions, flat_labels = [], [], []\n",
    "    for i in range(len(predictions)):\n",
    "        current_entity = {\"group\": None, \"city\": \"\"}\n",
    "        for j in range(len(predictions[i])):\n",
    "            # Ignore padding tokens\n",
    "            if predictions[i][j] != -100 and labels[i][j] != -100:\n",
    "                flat_predictions.append(predictions[i][j])\n",
    "                flat_labels.append(labels[i][j])\n",
    "\n",
    "                # Reconnaître les entités en fonction des labels\n",
    "                label = id2label[flat_predictions[-1]]\n",
    "                \n",
    "                # Assurez-vous que l'élément est un seul entier\n",
    "                token_id = predictions[i][j]\n",
    "                token = tokenizer.convert_ids_to_tokens(int(token_id))  # Conversion de l'ID en token\n",
    "\n",
    "                # Si nous rencontrons une nouvelle entité, nous la commençons\n",
    "                if \"LOC\" in label:  # Lieux\n",
    "                    if token.startswith(\"▁\"):  # Indicateur de début de mot dans CamemBERT\n",
    "                        if current_entity[\"city\"]:  # Si une entité précédente existe, l'ajouter\n",
    "                            entities.append(current_entity)\n",
    "                        current_entity = {\"group\": \"LOC\", \"city\": token.lstrip(\"▁\")}\n",
    "                    else:\n",
    "                        current_entity[\"city\"] += token  # Ajouter les sous-tokens à l'entité en cours\n",
    "                elif \"PER\" in label or \"ORG\" in label:  # Si c'est une personne ou une organisation\n",
    "                    if token.startswith(\"▁\"):\n",
    "                        if current_entity[\"city\"]:\n",
    "                            entities.append(current_entity)\n",
    "                        current_entity = {\"group\": label, \"city\": token.lstrip(\"▁\")}\n",
    "                    else:\n",
    "                        current_entity[\"city\"] += token\n",
    "                elif current_entity[\"city\"]:  # Si nous avons une entité en cours mais le label est \"O\" (hors entité)\n",
    "                    entities.append(current_entity)\n",
    "                    current_entity = {\"group\": None, \"city\": \"\"}\n",
    "\n",
    "        # Si une entité est toujours en cours à la fin de la phrase, on l'ajoute\n",
    "        if current_entity[\"city\"]:\n",
    "            entities.append(current_entity)\n",
    "\n",
    "    return entities, flat_predictions, flat_labels\n",
    "\n",
    "# Appel à la fonction et déballage des trois valeurs retournées\n",
    "entities, flat_predictions, flat_labels = extract_entities(predicted_labels, labels, id2label)\n",
    "\n",
    "# Vérification des classes présentes\n",
    "\n",
    "# Vérification des classes présentes\n",
    "present_classes = sorted(set(flat_predictions) | set(flat_labels))\n",
    "target_names = [label_list[i] for i in present_classes]\n",
    "\n",
    "# Affichage de la matrice de confusion\n",
    "conf_matrix = confusion_matrix(flat_labels, flat_predictions, labels=present_classes)\n",
    "plt.figure(figsize=(10, 7))\n",
    "plt.imshow(conf_matrix, interpolation='nearest', cmap=plt.cm.Blues)\n",
    "plt.title(\"Matrice de Confusion\")\n",
    "plt.colorbar()\n",
    "plt.xticks(np.arange(len(target_names)), target_names, rotation=45)\n",
    "plt.yticks(np.arange(len(target_names)), target_names)\n",
    "plt.xlabel('Prédictions')\n",
    "plt.ylabel('Véritables étiquettes')\n",
    "plt.show()\n",
    "\n",
    "# Affichage du rapport de classification\n",
    "print(classification_report(flat_labels, flat_predictions, target_names=target_names))\n"
   ]
  },
  {
   "cell_type": "code",
   "execution_count": 22,
   "metadata": {},
   "outputs": [
    {
     "name": "stdout",
     "output_type": "stream",
     "text": [
      "\n",
      "Phrase: John Doe went to Paris last summer.\n",
      "Entités détectées:\n",
      "  - Aucune entité détectée.\n",
      "\n",
      "Phrase: Apple is opening a new store in New York City.\n",
      "Entités détectées:\n",
      "  - Aucune entité détectée.\n",
      "\n",
      "Phrase: The Eiffel Tower is located in Paris.\n",
      "Entités détectées:\n",
      "  - Aucune entité détectée.\n"
     ]
    }
   ],
   "source": [
    "import torch\n",
    "\n",
    "# Fonction pour tester le modèle avec une nouvelle phrase\n",
    "def predict_entities_on_text(texts, tokenizer, model, label2id, id2label):\n",
    "    # Tokenisation des phrases\n",
    "    encoding = tokenizer(texts, padding=True, truncation=True, return_tensors=\"pt\", is_split_into_words=False)\n",
    "\n",
    "    # Faire des prédictions avec le modèle\n",
    "    with torch.no_grad():\n",
    "        outputs = model(**encoding)\n",
    "        logits = outputs.logits\n",
    "        predictions = torch.argmax(logits, dim=-1)\n",
    "\n",
    "    # Convertir les prédictions en entités\n",
    "    entities = []\n",
    "    for i, text in enumerate(texts):\n",
    "        predicted_labels = predictions[i].tolist()\n",
    "        tokens = tokenizer.convert_ids_to_tokens(encoding['input_ids'][i])\n",
    "\n",
    "        # Extraction des entités\n",
    "        current_entity = {\"group\": None, \"city\": \"\"}\n",
    "        for j, label_id in enumerate(predicted_labels):\n",
    "            label = id2label[label_id]\n",
    "            token = tokens[j]\n",
    "\n",
    "            if label != \"O\":  # Si ce n'est pas une entité \"O\" (hors entité)\n",
    "                # Si nous rencontrons une nouvelle entité\n",
    "                if \"LOC\" in label:  # Lieux\n",
    "                    if token.startswith(\" \"):\n",
    "                        if current_entity[\"city\"]:\n",
    "                            entities.append(current_entity)\n",
    "                        current_entity = {\"group\": \"LOC\", \"city\": token.lstrip(\" \")}\n",
    "                    else:\n",
    "                        current_entity[\"city\"] += token  # Ajouter les sous-tokens à l'entité en cours\n",
    "                elif \"PER\" in label or \"ORG\" in label:  # Personne ou Organisation\n",
    "                    if token.startswith(\" \"):\n",
    "                        if current_entity[\"city\"]:\n",
    "                            entities.append(current_entity)\n",
    "                        current_entity = {\"group\": label, \"city\": token.lstrip(\" \")}\n",
    "                    else:\n",
    "                        current_entity[\"city\"] += token\n",
    "            elif current_entity[\"city\"]:  # Si nous avons une entité en cours mais le label est \"O\" (hors entité)\n",
    "                entities.append(current_entity)\n",
    "                current_entity = {\"group\": None, \"city\": \"\"}\n",
    "\n",
    "        # Si une entité est toujours en cours à la fin de la phrase\n",
    "        if current_entity[\"city\"]:\n",
    "            entities.append(current_entity)\n",
    "\n",
    "    return entities\n",
    "\n",
    "# Exemple de phrases à tester\n",
    "test_phrases = [\n",
    "    \"John Doe went to Paris last summer.\",\n",
    "    \"Apple is opening a new store in New York City.\",\n",
    "    \"The Eiffel Tower is located in Paris.\"\n",
    "]\n",
    "\n",
    "# Appel à la fonction pour prédire les entités\n",
    "predicted_entities = predict_entities_on_text(test_phrases, tokenizer, model, label2id, id2label)\n",
    "\n",
    "# Affichage des résultats\n",
    "for i, phrase in enumerate(test_phrases):\n",
    "    print(f\"\\nPhrase: {phrase}\")\n",
    "    print(\"Entités détectées:\")\n",
    "    if i < len(predicted_entities):\n",
    "        for entity in predicted_entities[i]:\n",
    "            print(f\"  - {entity['group']}: {entity['city']}\")\n",
    "    else:\n",
    "        print(\"  - Aucune entité détectée.\")\n"
   ]
  }
 ],
 "metadata": {
  "kernelspec": {
   "display_name": "base",
   "language": "python",
   "name": "python3"
  },
  "language_info": {
   "codemirror_mode": {
    "name": "ipython",
    "version": 3
   },
   "file_extension": ".py",
   "mimetype": "text/x-python",
   "name": "python",
   "nbconvert_exporter": "python",
   "pygments_lexer": "ipython3",
   "version": "3.11.7"
  }
 },
 "nbformat": 4,
 "nbformat_minor": 2
}
