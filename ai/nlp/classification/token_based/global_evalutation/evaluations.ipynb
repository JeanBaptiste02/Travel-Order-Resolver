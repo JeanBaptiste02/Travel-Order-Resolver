{
 "cells": [
  {
   "cell_type": "code",
   "execution_count": 1,
   "metadata": {},
   "outputs": [
    {
     "name": "stdout",
     "output_type": "stream",
     "text": [
      "Imported successfully\n"
     ]
    }
   ],
   "source": [
    "import os\n",
    "import numpy as np\n",
    "import pandas as pd\n",
    "import seaborn as sns\n",
    "import matplotlib.pyplot as plt\n",
    "from sklearn.metrics import classification_report, confusion_matrix, f1_score\n",
    "from spacy import load as spacy_load\n",
    "from transformers import pipeline\n",
    "from datasets import load_dataset\n",
    "\n",
    "print(\"Imported successfully\")"
   ]
  },
  {
   "cell_type": "code",
   "execution_count": 2,
   "metadata": {},
   "outputs": [
    {
     "name": "stdout",
     "output_type": "stream",
     "text": [
      "Model paths loaded successfully\n"
     ]
    }
   ],
   "source": [
    "# Chargement des chemins des modèles\n",
    "spacy_model_path = r\"C:/Users/vikne/Documents/Master 2/Semestre 9/Intelligence artificielle/Travel-Order-Resolver/ai/nlp/models/spacy\"\n",
    "distilbert_model_path = r\"C:/Users/vikne/Documents/Master 2/Semestre 9/Intelligence artificielle/Travel-Order-Resolver/ai/nlp/models/distilbert\"\n",
    "\n",
    "print(\"Model paths loaded successfully\")"
   ]
  },
  {
   "cell_type": "code",
   "execution_count": 3,
   "metadata": {},
   "outputs": [
    {
     "name": "stdout",
     "output_type": "stream",
     "text": [
      "Dataset loaded successfully\n"
     ]
    }
   ],
   "source": [
    "# Chargement des datasets\n",
    "test_dataset_path = r\"C:/Users/vikne/Documents/Master 2/Semestre 9/Intelligence artificielle/Travel-Order-Resolver/ai/nlp/dataset/tokens/token.csv\"\n",
    "test_data = load_dataset('csv', data_files=test_dataset_path, delimiter=';')['train']\n",
    "\n",
    "print(\"Dataset loaded successfully\")"
   ]
  },
  {
   "cell_type": "code",
   "execution_count": 4,
   "metadata": {},
   "outputs": [
    {
     "name": "stdout",
     "output_type": "stream",
     "text": [
      "Chargement du modèle spaCy...\n",
      "Chargement du modèle DistilBERT...\n",
      "WARNING:tensorflow:From C:\\Users\\vikne\\anaconda3\\Lib\\site-packages\\tf_keras\\src\\losses.py:2976: The name tf.losses.sparse_softmax_cross_entropy is deprecated. Please use tf.compat.v1.losses.sparse_softmax_cross_entropy instead.\n",
      "\n",
      "Loaded models successfully\n"
     ]
    }
   ],
   "source": [
    "# Chargement du modèle spaCy\n",
    "print(\"Chargement du modèle spaCy...\")\n",
    "spacy_model = spacy_load(spacy_model_path)\n",
    "\n",
    "# Chargement du modèle DistilBERT\n",
    "print(\"Chargement du modèle DistilBERT...\")\n",
    "distilbert_pipeline = pipeline(\n",
    "    \"token-classification\",\n",
    "    model=distilbert_model_path,\n",
    "    aggregation_strategy=\"simple\"\n",
    ")\n",
    "\n",
    "print(\"Loaded models successfully\")"
   ]
  },
  {
   "cell_type": "code",
   "execution_count": null,
   "metadata": {},
   "outputs": [
    {
     "name": "stdout",
     "output_type": "stream",
     "text": [
      "Évaluation du modèle spaCy...\n"
     ]
    }
   ],
   "source": [
    "# Préparation des fonctions d'évaluation\n",
    "def evaluate_spacy(spacy_model, dataset):\n",
    "    y_true, y_pred = [], []\n",
    "    for record in dataset:\n",
    "        # Convertir la chaîne de tokens en liste sans risquer une erreur de syntaxe\n",
    "        tokens = record[\"tokens\"].strip('[]').replace(\"'\", \"\").split(', ')\n",
    "        \n",
    "        # Convertir les labels en une liste de labels\n",
    "        true_labels = eval(record[\"ner_tags\"])  # Évaluation correcte de la chaîne NER\n",
    "\n",
    "        # Traiter le texte avec le modèle spaCy\n",
    "        doc = spacy_model(\" \".join(tokens))\n",
    "        pred_labels = []\n",
    "        \n",
    "        # Récupérer les entités prédites\n",
    "        for token in doc:\n",
    "            pred_labels.append(token.ent_type_ if token.ent_type_ else \"O\")\n",
    "        \n",
    "        y_true.extend(true_labels)\n",
    "        y_pred.extend(pred_labels)\n",
    "    \n",
    "    return y_true, y_pred\n",
    "\n",
    "\n",
    "def evaluate_distilbert(distilbert_pipeline, dataset):\n",
    "    y_true, y_pred = [], []\n",
    "    for record in dataset:\n",
    "        tokens = eval(record[\"tokens\"])\n",
    "        true_labels = eval(record[\"ner_tags\"])\n",
    "        sentence = \" \".join(tokens)\n",
    "        predictions = distilbert_pipeline(sentence)\n",
    "        pred_labels = [\"O\"] * len(tokens)\n",
    "        for entity in predictions:\n",
    "            for i in range(entity[\"start\"], entity[\"end\"]):\n",
    "                pred_labels[i] = entity[\"entity_group\"]\n",
    "        y_true.extend(true_labels)\n",
    "        y_pred.extend(pred_labels)\n",
    "    return y_true, y_pred\n",
    "\n",
    "# Exécution des évaluations\n",
    "print(\"Évaluation du modèle spaCy...\")\n",
    "spacy_y_true, spacy_y_pred = evaluate_spacy(spacy_model, test_data)\n",
    "\n",
    "print(\"Évaluation du modèle DistilBERT...\")\n",
    "distilbert_y_true, distilbert_y_pred = evaluate_distilbert(distilbert_pipeline, test_data)"
   ]
  },
  {
   "cell_type": "code",
   "execution_count": null,
   "metadata": {},
   "outputs": [],
   "source": [
    "# Calcul des métriques\n",
    "def compute_metrics(y_true, y_pred, labels):\n",
    "    report = classification_report(y_true, y_pred, labels=labels, output_dict=True)\n",
    "    f1 = f1_score(y_true, y_pred, average=\"weighted\", labels=labels)\n",
    "    cm = confusion_matrix(y_true, y_pred, labels=labels)\n",
    "    return report, f1, cm\n",
    "\n",
    "labels = [\"O\", \"B-DEP\", \"I-DEP\", \"B-ARR\", \"I-ARR\"]\n",
    "\n",
    "print(\"Calcul des métriques pour spaCy...\")\n",
    "spacy_report, spacy_f1, spacy_cm = compute_metrics(spacy_y_true, spacy_y_pred, labels)\n",
    "\n",
    "print(\"Calcul des métriques pour DistilBERT...\")\n",
    "distilbert_report, distilbert_f1, distilbert_cm = compute_metrics(distilbert_y_true, distilbert_y_pred, labels)"
   ]
  },
  {
   "cell_type": "code",
   "execution_count": null,
   "metadata": {},
   "outputs": [],
   "source": [
    "# Visualisation des résultats\n",
    "def plot_confusion_matrix(cm, labels, title):\n",
    "    plt.figure(figsize=(8, 6))\n",
    "    sns.heatmap(cm, annot=True, fmt='d', cmap='Blues', xticklabels=labels, yticklabels=labels)\n",
    "    plt.title(title)\n",
    "    plt.ylabel('Vrai')\n",
    "    plt.xlabel('Prédit')\n",
    "    plt.show()\n",
    "\n",
    "print(\"Matrice de confusion pour spaCy\")\n",
    "plot_confusion_matrix(spacy_cm, labels, \"Matrice de Confusion - spaCy\")\n",
    "\n",
    "print(\"Matrice de confusion pour DistilBERT\")\n",
    "plot_confusion_matrix(distilbert_cm, labels, \"Matrice de Confusion - DistilBERT\")"
   ]
  },
  {
   "cell_type": "code",
   "execution_count": null,
   "metadata": {},
   "outputs": [],
   "source": [
    "# Comparaison des performances\n",
    "comparison_df = pd.DataFrame({\n",
    "    \"Metric\": [\"Precision\", \"Recall\", \"F1-Score\", \"Accuracy\"],\n",
    "    \"spaCy\": [\n",
    "        spacy_report[\"macro avg\"][\"precision\"],\n",
    "        spacy_report[\"macro avg\"][\"recall\"],\n",
    "        spacy_report[\"macro avg\"][\"f1-score\"],\n",
    "        spacy_report[\"accuracy\"]\n",
    "    ],\n",
    "    \"DistilBERT\": [\n",
    "        distilbert_report[\"macro avg\"][\"precision\"],\n",
    "        distilbert_report[\"macro avg\"][\"recall\"],\n",
    "        distilbert_report[\"macro avg\"][\"f1-score\"],\n",
    "        distilbert_report[\"accuracy\"]\n",
    "    ]\n",
    "})\n",
    "print(comparison_df)"
   ]
  },
  {
   "cell_type": "code",
   "execution_count": null,
   "metadata": {},
   "outputs": [],
   "source": [
    "# Visualisation des comparaisons\n",
    "comparison_df.set_index(\"Metric\").plot(kind=\"bar\", figsize=(10, 6))\n",
    "plt.title(\"Comparaison des métriques entre spaCy et DistilBERT\")\n",
    "plt.ylabel(\"Score\")\n",
    "plt.xticks(rotation=0)\n",
    "plt.legend(title=\"Modèles\")\n",
    "plt.show()"
   ]
  },
  {
   "cell_type": "code",
   "execution_count": null,
   "metadata": {},
   "outputs": [],
   "source": [
    "# Conclusion scientifique\n",
    "print(\"Résumé des performances :\")\n",
    "print(\"spaCy F1-Score : \", spacy_f1)\n",
    "print(\"DistilBERT F1-Score : \", distilbert_f1)\n",
    "if distilbert_f1 > spacy_f1:\n",
    "    print(\"DistilBERT est globalement meilleur, particulièrement grâce à ses capacités sur des contextes complexes.\")\n",
    "else:\n",
    "    print(\"spaCy est meilleur, possiblement grâce à sa rapidité et simplicité pour des tâches bien définies.\")"
   ]
  }
 ],
 "metadata": {
  "kernelspec": {
   "display_name": "base",
   "language": "python",
   "name": "python3"
  },
  "language_info": {
   "codemirror_mode": {
    "name": "ipython",
    "version": 3
   },
   "file_extension": ".py",
   "mimetype": "text/x-python",
   "name": "python",
   "nbconvert_exporter": "python",
   "pygments_lexer": "ipython3",
   "version": "3.11.7"
  }
 },
 "nbformat": 4,
 "nbformat_minor": 2
}
