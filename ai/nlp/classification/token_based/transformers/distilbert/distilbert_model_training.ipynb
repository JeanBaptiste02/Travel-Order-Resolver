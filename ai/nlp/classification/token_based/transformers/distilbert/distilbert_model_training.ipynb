{
 "cells": [
  {
   "cell_type": "code",
   "execution_count": 1,
   "metadata": {},
   "outputs": [
    {
     "name": "stderr",
     "output_type": "stream",
     "text": [
      "c:\\Users\\Seed\\anaconda3\\envs\\travel_order\\Lib\\site-packages\\tqdm\\auto.py:21: TqdmWarning: IProgress not found. Please update jupyter and ipywidgets. See https://ipywidgets.readthedocs.io/en/stable/user_install.html\n",
      "  from .autonotebook import tqdm as notebook_tqdm\n"
     ]
    },
    {
     "name": "stdout",
     "output_type": "stream",
     "text": [
      "WARNING:tensorflow:From c:\\Users\\Seed\\anaconda3\\envs\\travel_order\\Lib\\site-packages\\tf_keras\\src\\losses.py:2976: The name tf.losses.sparse_softmax_cross_entropy is deprecated. Please use tf.compat.v1.losses.sparse_softmax_cross_entropy instead.\n",
      "\n",
      "Running on device: cuda\n"
     ]
    }
   ],
   "source": [
    "import os\n",
    "import ast\n",
    "import random\n",
    "import numpy as np\n",
    "import pandas as pd\n",
    "import seaborn as sns\n",
    "import matplotlib.pyplot as plt\n",
    "from datasets import load_dataset, DatasetDict, Sequence, ClassLabel, Dataset\n",
    "from transformers import (\n",
    "    AutoTokenizer,\n",
    "    AutoModelForTokenClassification,\n",
    "    TrainingArguments,\n",
    "    Trainer,\n",
    "    DataCollatorForTokenClassification,\n",
    ")\n",
    "from seqeval.metrics import classification_report, precision_score, recall_score, f1_score\n",
    "from torch import cuda\n",
    "\n",
    "# Setup device\n",
    "device = 'cuda' if cuda.is_available() else 'cpu'\n",
    "print(f\"Running on device: {device}\")"
   ]
  },
  {
   "cell_type": "code",
   "execution_count": 2,
   "metadata": {},
   "outputs": [],
   "source": [
    "# Labels\n",
    "label_list = [\"O\", \"B-DEP\", \"I-DEP\", \"B-ARR\", \"I-ARR\"]\n",
    "\n",
    "# Load Dataset\n",
    "path = r\"C:\\Users\\Seed\\Projects\\Travel-Order-Resolver\\ai\\nlp\\dataset\\tokens\\token.csv\"\n",
    "dataset = load_dataset('csv', data_files={'train': path}, delimiter=';')\n",
    "dataset[\"train\"] = dataset[\"train\"].remove_columns(\"spacy_ner_tags\")"
   ]
  },
  {
   "cell_type": "code",
   "execution_count": 3,
   "metadata": {},
   "outputs": [],
   "source": [
    "# Validate and filter data\n",
    "def is_valid_row(row):\n",
    "    try:\n",
    "        tokens = ast.literal_eval(row['tokens'])\n",
    "        ner_tags = ast.literal_eval(row['ner_tags'])\n",
    "        return (\n",
    "            isinstance(tokens, list) and all(isinstance(t, str) for t in tokens)\n",
    "            and isinstance(ner_tags, list) and all(isinstance(tag, int) for tag in ner_tags)\n",
    "        )\n",
    "    except (ValueError, SyntaxError):\n",
    "        return False\n",
    "\n",
    "dataset = dataset.filter(is_valid_row)\n",
    "dataset = dataset.map(lambda line: {'tokens': ast.literal_eval(line['tokens']), 'ner_tags': ast.literal_eval(line['ner_tags'])})\n",
    "dataset = dataset.cast_column(\"ner_tags\", Sequence(feature=ClassLabel(num_classes=len(label_list), names=label_list)))"
   ]
  },
  {
   "cell_type": "code",
   "execution_count": 4,
   "metadata": {},
   "outputs": [],
   "source": [
    "# Shuffle and split dataset\n",
    "train_data = dataset['train'].shuffle(seed=42).train_test_split(test_size=0.7)['train']\n",
    "train_test_valid = train_data.train_test_split(test_size=0.25)\n",
    "test_valid = train_test_valid['test'].train_test_split(test_size=0.7)\n",
    "dataset = DatasetDict({\n",
    "    'train': train_test_valid['train'],\n",
    "    'test': test_valid['test'],\n",
    "    'valid': test_valid['train'],\n",
    "})\n",
    "\n",
    "# Initialize tokenizer and model\n",
    "model_checkpoint = \"distilbert-base-uncased\"\n",
    "tokenizer = AutoTokenizer.from_pretrained(model_checkpoint)"
   ]
  },
  {
   "cell_type": "code",
   "execution_count": 5,
   "metadata": {},
   "outputs": [
    {
     "name": "stderr",
     "output_type": "stream",
     "text": [
      "Map: 100%|██████████| 98099/98099 [00:07<00:00, 13211.28 examples/s]\n",
      "Map: 100%|██████████| 22890/22890 [00:01<00:00, 13328.17 examples/s]\n",
      "Map: 100%|██████████| 9810/9810 [00:00<00:00, 14045.57 examples/s]\n",
      "Some weights of DistilBertForTokenClassification were not initialized from the model checkpoint at distilbert-base-uncased and are newly initialized: ['classifier.bias', 'classifier.weight']\n",
      "You should probably TRAIN this model on a down-stream task to be able to use it for predictions and inference.\n"
     ]
    }
   ],
   "source": [
    "def tokenize_and_align_labels(examples):\n",
    "    tokenized_inputs = tokenizer(examples[\"tokens\"], truncation=True, padding=True, is_split_into_words=True)\n",
    "    labels = []\n",
    "    for i, label in enumerate(examples[\"ner_tags\"]):\n",
    "        word_ids = tokenized_inputs.word_ids(batch_index=i)\n",
    "        previous_word_idx = None\n",
    "        label_ids = []\n",
    "        for word_idx in word_ids:\n",
    "            if word_idx is None:\n",
    "                label_ids.append(-100)\n",
    "            elif word_idx != previous_word_idx:\n",
    "                label_ids.append(label[word_idx])\n",
    "            else:\n",
    "                label_ids.append(-100)\n",
    "            previous_word_idx = word_idx\n",
    "        labels.append(label_ids)\n",
    "    tokenized_inputs[\"labels\"] = labels\n",
    "    return tokenized_inputs\n",
    "\n",
    "dataset = dataset.map(tokenize_and_align_labels, batched=True)\n",
    "\n",
    "# Prepare model\n",
    "id2label = {i: label for i, label in enumerate(label_list)}\n",
    "label2id = {label: i for i, label in id2label.items()}\n",
    "\n",
    "model = AutoModelForTokenClassification.from_pretrained(\n",
    "    model_checkpoint,\n",
    "    num_labels=len(label_list),\n",
    "    id2label=id2label,\n",
    "    label2id=label2id,\n",
    ")\n"
   ]
  },
  {
   "cell_type": "code",
   "execution_count": 6,
   "metadata": {},
   "outputs": [
    {
     "name": "stderr",
     "output_type": "stream",
     "text": [
      "c:\\Users\\Seed\\anaconda3\\envs\\travel_order\\Lib\\site-packages\\transformers\\training_args.py:1575: FutureWarning: `evaluation_strategy` is deprecated and will be removed in version 4.46 of 🤗 Transformers. Use `eval_strategy` instead\n",
      "  warnings.warn(\n"
     ]
    }
   ],
   "source": [
    "\n",
    "from transformers.tokenization_utils_base import BatchEncoding\n",
    "\n",
    "def batch_encoding_to(self, device, non_blocking=False):\n",
    "    # Move all tensors in BatchEncoding to the specified device\n",
    "    for key, value in self.items():\n",
    "        if hasattr(value, \"to\"):  # Check if the value supports .to()\n",
    "            self[key] = value.to(device, non_blocking=non_blocking)\n",
    "    return self\n",
    "\n",
    "BatchEncoding.to = batch_encoding_to\n",
    "\n",
    "\n",
    "# Clear GPU cache\n",
    "import torch\n",
    "torch.cuda.empty_cache()\n",
    "\n",
    "# Training arguments\n",
    "batch_size = 4\n",
    "epochs = 3\n",
    "training_args = TrainingArguments(\n",
    "    output_dir=r\"C:\\Users\\Seed\\Projects\\Travel-Order-Resolver\\ai\\nlp\\models\\tokens_classification\\distilbert\",\n",
    "    evaluation_strategy=\"epoch\",\n",
    "    learning_rate=2e-5,\n",
    "    per_device_train_batch_size=batch_size,\n",
    "    per_device_eval_batch_size=batch_size,\n",
    "    num_train_epochs=epochs,\n",
    "    weight_decay=0.01,\n",
    "    gradient_accumulation_steps=2, # Accumulate gradients over 2 steps\n",
    "    fp16=True,  # Enable mixed precision\n",
    ")\n",
    "\n",
    "# Data collator and Trainer\n",
    "data_collator = DataCollatorForTokenClassification(tokenizer)"
   ]
  },
  {
   "cell_type": "code",
   "execution_count": 7,
   "metadata": {},
   "outputs": [
    {
     "name": "stderr",
     "output_type": "stream",
     "text": [
      "C:\\Users\\Seed\\AppData\\Local\\Temp\\ipykernel_29664\\3077483934.py:24: FutureWarning: `tokenizer` is deprecated and will be removed in version 5.0.0 for `Trainer.__init__`. Use `processing_class` instead.\n",
      "  trainer = Trainer(\n"
     ]
    },
    {
     "data": {
      "text/html": [
       "\n",
       "    <div>\n",
       "      \n",
       "      <progress value='36786' max='36786' style='width:300px; height:20px; vertical-align: middle;'></progress>\n",
       "      [36786/36786 47:58, Epoch 2/3]\n",
       "    </div>\n",
       "    <table border=\"1\" class=\"dataframe\">\n",
       "  <thead>\n",
       " <tr style=\"text-align: left;\">\n",
       "      <th>Epoch</th>\n",
       "      <th>Training Loss</th>\n",
       "      <th>Validation Loss</th>\n",
       "      <th>Precision</th>\n",
       "      <th>Recall</th>\n",
       "      <th>F1</th>\n",
       "      <th>Accuracy</th>\n",
       "    </tr>\n",
       "  </thead>\n",
       "  <tbody>\n",
       "    <tr>\n",
       "      <td>1</td>\n",
       "      <td>0.000800</td>\n",
       "      <td>0.000700</td>\n",
       "      <td>0.999039</td>\n",
       "      <td>0.999547</td>\n",
       "      <td>0.999293</td>\n",
       "      <td>0.999883</td>\n",
       "    </tr>\n",
       "    <tr>\n",
       "      <td>2</td>\n",
       "      <td>0.000200</td>\n",
       "      <td>0.000623</td>\n",
       "      <td>0.999774</td>\n",
       "      <td>0.999887</td>\n",
       "      <td>0.999830</td>\n",
       "      <td>0.999949</td>\n",
       "    </tr>\n",
       "  </tbody>\n",
       "</table><p>"
      ],
      "text/plain": [
       "<IPython.core.display.HTML object>"
      ]
     },
     "metadata": {},
     "output_type": "display_data"
    },
    {
     "data": {
      "text/html": [],
      "text/plain": [
       "<IPython.core.display.HTML object>"
      ]
     },
     "metadata": {},
     "output_type": "display_data"
    }
   ],
   "source": [
    "from sklearn.metrics import accuracy_score\n",
    "\n",
    "def compute_metrics(p):\n",
    "    predictions, labels = p\n",
    "    predictions = np.argmax(predictions, axis=2)\n",
    "    y_pred = [[label_list[p] for p, l in zip(pred, lab) if l != -100] for pred, lab in zip(predictions, labels)]\n",
    "    y_true = [[label_list[l] for p, l in zip(pred, lab) if l != -100] for pred, lab in zip(predictions, labels)]\n",
    "    \n",
    "    # Compute classification report\n",
    "    results = classification_report(y_true, y_pred, output_dict=True)\n",
    "    \n",
    "    # Compute accuracy separately\n",
    "    flat_y_true = [label for sublist in y_true for label in sublist]\n",
    "    flat_y_pred = [label for sublist in y_pred for label in sublist]\n",
    "    accuracy = accuracy_score(flat_y_true, flat_y_pred)\n",
    "    \n",
    "    return {\n",
    "        \"precision\": results[\"macro avg\"][\"precision\"],\n",
    "        \"recall\": results[\"macro avg\"][\"recall\"],\n",
    "        \"f1\": results[\"macro avg\"][\"f1-score\"],\n",
    "        \"accuracy\": accuracy,  # Use computed accuracy\n",
    "    }\n",
    "\n",
    "trainer = Trainer(\n",
    "    model,\n",
    "    training_args,\n",
    "    train_dataset=dataset[\"train\"],\n",
    "    eval_dataset=dataset[\"valid\"],\n",
    "    data_collator=data_collator,\n",
    "    tokenizer=tokenizer,\n",
    "    compute_metrics=compute_metrics,\n",
    ")\n",
    "\n",
    "# Train and evaluate\n",
    "trainer.train()\n",
    "trainer.save_model(r\"C:\\Users\\Seed\\Projects\\Travel-Order-Resolver\\ai\\nlp\\models\\tokens_classification\\distilbert\")\n",
    "train_metrics = trainer.evaluate(dataset[\"train\"])\n",
    "validation_metrics = trainer.evaluate(dataset[\"valid\"])"
   ]
  },
  {
   "cell_type": "code",
   "execution_count": 8,
   "metadata": {},
   "outputs": [
    {
     "data": {
      "image/png": "[encoded data removed]",
      "text/plain": [
       "<Figure size 640x480 with 2 Axes>"
      ]
     },
     "metadata": {},
     "output_type": "display_data"
    }
   ],
   "source": [
    "from sklearn.metrics import confusion_matrix\n",
    "\n",
    "# Test predictions\n",
    "predictions, labels, _ = trainer.predict(dataset[\"test\"])\n",
    "predictions = np.argmax(predictions, axis=2)\n",
    "\n",
    "y_pred = [[label_list[p] for p, l in zip(pred, lab) if l != -100] for pred, lab in zip(predictions, labels)]\n",
    "y_true = [[label_list[l] for p, l in zip(pred, lab) if l != -100] for pred, lab in zip(predictions, labels)]\n",
    "\n",
    "# Confusion Matrix\n",
    "flat_y_true = [item for sublist in y_true for item in sublist]\n",
    "flat_y_pred = [item for sublist in y_pred for item in sublist]\n",
    "\n",
    "cm = confusion_matrix(flat_y_true, flat_y_pred, labels=label_list)\n",
    "sns.heatmap(cm, annot=True, cmap='Blues', fmt='g', xticklabels=label_list, yticklabels=label_list)\n",
    "plt.xlabel('Predicted labels')\n",
    "plt.ylabel('True labels')\n",
    "plt.title('Confusion Matrix')\n",
    "plt.show()"
   ]
  },
  {
   "cell_type": "code",
   "execution_count": null,
   "metadata": {},
   "outputs": [],
   "source": []
  }
 ],
 "metadata": {
  "kernelspec": {
   "display_name": "travel_order",
   "language": "python",
   "name": "python3"
  },
  "language_info": {
   "codemirror_mode": {
    "name": "ipython",
    "version": 3
   },
   "file_extension": ".py",
   "mimetype": "text/x-python",
   "name": "python",
   "nbconvert_exporter": "python",
   "pygments_lexer": "ipython3",
   "version": "3.12.8"
  }
 },
 "nbformat": 4,
 "nbformat_minor": 2
}
