{
 "cells": [
  {
   "cell_type": "code",
   "execution_count": 2,
   "metadata": {},
   "outputs": [
    {
     "name": "stdout",
     "output_type": "stream",
     "text": [
      "Impoted successfully\n"
     ]
    }
   ],
   "source": [
    "from torch import cuda\n",
    "from datasets import load_dataset, DatasetDict, Dataset\n",
    "from datasets import ClassLabel, Sequence\n",
    "from transformers import AutoTokenizer, AutoModelForTokenClassification, TrainingArguments, Trainer\n",
    "from transformers import DataCollatorForTokenClassification, pipeline\n",
    "from evaluate import load\n",
    "import numpy as np\n",
    "import matplotlib.pyplot as plt\n",
    "import os\n",
    "import seaborn as sns\n",
    "from sklearn.metrics import confusion_matrix, classification_report\n",
    "import random\n",
    "import pandas as pd\n",
    "from IPython.display import display, HTML\n",
    "import ast\n",
    "import logging\n",
    "\n",
    "print(\"Impoted successfully\")"
   ]
  },
  {
   "cell_type": "code",
   "execution_count": 3,
   "metadata": {},
   "outputs": [
    {
     "name": "stdout",
     "output_type": "stream",
     "text": [
      "Deactivated codecarbon logs successfully\n"
     ]
    }
   ],
   "source": [
    "# Désactivation des messages de codecarbon et de logs inutiles\n",
    "logging.getLogger(\"codecarbon\").setLevel(logging.ERROR)\n",
    "print(\"Deactivated codecarbon logs successfully\")"
   ]
  },
  {
   "cell_type": "code",
   "execution_count": 4,
   "metadata": {},
   "outputs": [],
   "source": [
    "# Si seqeval n'est pas installé, il faut l'installer\n",
    "try:\n",
    "    import seqeval\n",
    "except ImportError:\n",
    "    print(\"seqeval non installé, vous devez exécuter 'pip install seqeval' pour l'installation\")\n",
    "\n",
    "device = 'cuda' if cuda.is_available() else 'cpu'"
   ]
  },
  {
   "cell_type": "code",
   "execution_count": 5,
   "metadata": {},
   "outputs": [
    {
     "name": "stdout",
     "output_type": "stream",
     "text": [
      "Labels defined successfully\n"
     ]
    }
   ],
   "source": [
    "# **Définition des labels**\n",
    "label_list = [\"O\", \"B-DEP\", \"I-DEP\", \"B-ARR\", \"I-ARR\"]\n",
    "\n",
    "print(\"Labels defined successfully\")"
   ]
  },
  {
   "cell_type": "code",
   "execution_count": 6,
   "metadata": {},
   "outputs": [
    {
     "name": "stdout",
     "output_type": "stream",
     "text": [
      "Dataset loaded successfully\n"
     ]
    }
   ],
   "source": [
    "# **Chargement du dataset**\n",
    "path = \"C:/Users/vikne/Documents/Master 2/Semestre 9/Intelligence artificielle/Travel-Order-Resolver/ai/nlp/dataset/tokens/token.csv\"\n",
    "dataset = DatasetDict({'train': Dataset.from_dict({})})\n",
    "\n",
    "print(\"Dataset loaded successfully\")"
   ]
  },
  {
   "cell_type": "code",
   "execution_count": 7,
   "metadata": {},
   "outputs": [
    {
     "name": "stdout",
     "output_type": "stream",
     "text": [
      "CSV loaded successfully\n"
     ]
    }
   ],
   "source": [
    "# **Chargement des fichiers CSV**\n",
    "if os.path.isfile(path) and path.endswith(\".csv\"):\n",
    "    new_data = load_dataset('csv', data_files=path, delimiter=';')\n",
    "    dataset[\"train\"] = new_data[\"train\"]\n",
    "\n",
    "print(\"CSV loaded successfully\")"
   ]
  },
  {
   "cell_type": "code",
   "execution_count": 8,
   "metadata": {},
   "outputs": [
    {
     "name": "stdout",
     "output_type": "stream",
     "text": [
      "Columns cleaned\n"
     ]
    }
   ],
   "source": [
    "# **Nettoyage des colonnes inutiles**\n",
    "dataset[\"train\"] = dataset[\"train\"].remove_columns(\"spacy_ner_tags\")\n",
    "\n",
    "print(\"Columns cleaned\")"
   ]
  },
  {
   "cell_type": "code",
   "execution_count": 9,
   "metadata": {},
   "outputs": [],
   "source": [
    "# **Fonction pour une évaluation sécurisée de la conversion des chaînes en listes**\n",
    "def safe_literal_eval(value):\n",
    "    \"\"\"Tentative d'évaluation sécurisée d'une chaîne de caractères en liste\"\"\"\n",
    "    try:\n",
    "        return ast.literal_eval(value)\n",
    "    except (ValueError, SyntaxError):\n",
    "        return []  # Retourne une liste vide en cas d'erreur\n",
    "\n",
    "# **Conversion des colonnes `tokens` et `ner_tags` en listes**\n",
    "dataset = dataset.map(lambda line: {'tokens': safe_literal_eval(line['tokens'])})\n",
    "dataset = dataset.map(lambda line: {'ner_tags': safe_literal_eval(line['ner_tags'])})\n",
    "\n",
    "# **Casting des ner_tags en format Sequence[ClassLabel]**\n",
    "dataset = dataset.cast_column(\"ner_tags\", Sequence(feature=ClassLabel(num_classes=len(label_list), names=label_list)))"
   ]
  },
  {
   "cell_type": "code",
   "execution_count": 10,
   "metadata": {},
   "outputs": [
    {
     "data": {
      "text/html": [
       "<table border=\"1\" class=\"dataframe\">\n",
       "  <thead>\n",
       "    <tr style=\"text-align: right;\">\n",
       "      <th></th>\n",
       "      <th>text</th>\n",
       "      <th>tokens</th>\n",
       "      <th>ner_tags</th>\n",
       "    </tr>\n",
       "  </thead>\n",
       "  <tbody>\n",
       "    <tr>\n",
       "      <th>0</th>\n",
       "      <td>Pourrais-tu m'indiquer comment aller d'Angers à Sainte-Pazanne</td>\n",
       "      <td>[Pourrais-, tu, m', indiquer, comment, aller, d', Angers, à, Sainte-, Pazanne]</td>\n",
       "      <td>[O, O, O, O, O, O, O, B-DEP, O, B-ARR, I-ARR]</td>\n",
       "    </tr>\n",
       "    <tr>\n",
       "      <th>1</th>\n",
       "      <td>Aller de l'hopital de DROUÉ (CENTRE) à ax-les-thermes.</td>\n",
       "      <td>[Aller, de, l', hopital, de, DROUÉ, CENTRE), à, ax-, les-, thermes, .]</td>\n",
       "      <td>[O, O, O, O, O, B-DEP, I-DEP, O, B-ARR, I-ARR, I-ARR, O]</td>\n",
       "    </tr>\n",
       "    <tr>\n",
       "      <th>2</th>\n",
       "      <td>Je veux me rendre chez mon ami Marie-Elsa qui habite à gramat en partant de LA FOREST LANDERNEAU</td>\n",
       "      <td>[Je, veux, me, rendre, chez, mon, ami, Marie-, Elsa, qui, habite, à, gramat, en, partant, de, LA, FOREST, LANDERNEAU]</td>\n",
       "      <td>[O, O, O, O, O, O, O, O, O, O, O, O, B-ARR, O, O, O, B-DEP, I-DEP, I-DEP]</td>\n",
       "    </tr>\n",
       "    <tr>\n",
       "      <th>3</th>\n",
       "      <td>J’ai acheté des profiteroles, t’en veux ?</td>\n",
       "      <td>[J’, ai, acheté, des, profiteroles,, t’, en, veux, , .]</td>\n",
       "      <td>[O, O, O, O, O, O, O, O, O, O]</td>\n",
       "    </tr>\n",
       "    <tr>\n",
       "      <th>4</th>\n",
       "      <td>Depuis la place centrale de Corbigny vers EYMOUTIERS.</td>\n",
       "      <td>[Depuis, la, place, centrale, de, Corbigny, vers, EYMOUTIERS, .]</td>\n",
       "      <td>[O, O, O, O, O, B-DEP, O, B-ARR, O]</td>\n",
       "    </tr>\n",
       "    <tr>\n",
       "      <th>5</th>\n",
       "      <td>Combien coûte un billet pour aller de CREIL à SAINT-PRIEST ?</td>\n",
       "      <td>[Combien, coûte, un, billet, pour, aller, de, CREIL, à, SAINT-PRIEST, ?]</td>\n",
       "      <td>[O, O, O, O, O, O, O, B-DEP, O, I-DEP, O]</td>\n",
       "    </tr>\n",
       "    <tr>\n",
       "      <th>6</th>\n",
       "      <td>Comment puis-je rejoindre COLOMIERS depuis Dinan ?</td>\n",
       "      <td>[Comment, puis-, je, rejoindre, COLOMIERS, depuis, Dinan, , .]</td>\n",
       "      <td>[O, O, O, O, B-ARR, O, B-DEP, O, O]</td>\n",
       "    </tr>\n",
       "    <tr>\n",
       "      <th>7</th>\n",
       "      <td>Je pars de l'hopital d'audun le roman vers l'hopital de étang sur arroux.</td>\n",
       "      <td>[Je, pars, de, l', hopital, d', audun, le, roman, vers, l', hopital, de, étang, sur, arroux, .]</td>\n",
       "      <td>[O, O, O, O, O, O, B-DEP, I-DEP, I-DEP, O, O, O, O, B-ARR, I-ARR, I-ARR, O]</td>\n",
       "    </tr>\n",
       "    <tr>\n",
       "      <th>8</th>\n",
       "      <td>Comment puis-je aller à EYSINES en venant de CHÂTEAUROUX ?</td>\n",
       "      <td>[Comment, puis, -je, aller, à, EYSINES, en, venant, de, CHÂTEAUROUX, ?]</td>\n",
       "      <td>[O, O, O, O, O, I-DEP, O, O, O, B-DEP, O]</td>\n",
       "    </tr>\n",
       "    <tr>\n",
       "      <th>9</th>\n",
       "      <td>Je souhaite aller chez 1900 qui vit à BOULOGNE-BILLANCOURT, peux-tu m'aider à planifier le trajet depuis CHÂTEAUROUX ?</td>\n",
       "      <td>[Je, souhaite, aller, chez, 1900, qui, vit, à, BOULOGNE, -, BILLANCOURT, ,, peux, -, tu, m', aider, à, planifier, le, trajet, depuis, CHÂTEAUROUX, ?]</td>\n",
       "      <td>[O, O, O, O, O, O, O, O, O, O, O, O, O, O, O, O, O, O, O, O, O, O, B-DEP, O]</td>\n",
       "    </tr>\n",
       "  </tbody>\n",
       "</table>"
      ],
      "text/plain": [
       "<IPython.core.display.HTML object>"
      ]
     },
     "metadata": {},
     "output_type": "display_data"
    }
   ],
   "source": [
    "# **Affichage aléatoire des données**\n",
    "def show_random_elements(dataset, num_examples=10):\n",
    "    picks = random.sample(range(len(dataset)), num_examples)\n",
    "    df = pd.DataFrame(dataset[picks])\n",
    "    for column, typ in dataset.features.items():\n",
    "        if isinstance(typ, ClassLabel):\n",
    "            df[column] = df[column].transform(lambda i: typ.names[i])\n",
    "        elif isinstance(typ, Sequence) and isinstance(typ.feature, ClassLabel):\n",
    "            df[column] = df[column].transform(lambda x: [typ.feature.names[i] for i in x])\n",
    "    display(HTML(df.to_html()))\n",
    "\n",
    "show_random_elements(dataset[\"train\"])"
   ]
  },
  {
   "cell_type": "code",
   "execution_count": 11,
   "metadata": {},
   "outputs": [],
   "source": [
    "# **Préparation du dataset**\n",
    "train_data = dataset['train'].shuffle(seed=42)\n",
    "train_test_valid = train_data.train_test_split(test_size=0.25)\n",
    "test_valid = train_test_valid['test'].train_test_split(test_size=0.7)\n",
    "\n",
    "dataset = DatasetDict({\n",
    "    'train': train_test_valid['train'],\n",
    "    'test': test_valid['test'],\n",
    "    'valid': test_valid['train']\n",
    "})\n",
    "\n",
    "dataset_sample_size = 80000\n",
    "dataset[\"train\"] = dataset[\"train\"].shuffle(seed=42).select(range(min(dataset_sample_size, len(dataset[\"train\"]))))\n",
    "dataset[\"test\"] = dataset[\"test\"].shuffle(seed=42).select(range(min(dataset_sample_size // 10, len(dataset[\"test\"]))))\n",
    "dataset[\"valid\"] = dataset[\"valid\"].shuffle(seed=42).select(range(min(dataset_sample_size // 10, len(dataset[\"valid\"]))))"
   ]
  },
  {
   "cell_type": "code",
   "execution_count": 12,
   "metadata": {},
   "outputs": [
    {
     "name": "stdout",
     "output_type": "stream",
     "text": [
      "Tokenizer loaded successfully\n"
     ]
    },
    {
     "name": "stderr",
     "output_type": "stream",
     "text": [
      "C:\\Users\\vikne\\anaconda3\\Lib\\site-packages\\transformers\\tokenization_utils_base.py:1601: FutureWarning: `clean_up_tokenization_spaces` was not set. It will be set to `True` by default. This behavior will be depracted in transformers v4.45, and will be then set to `False` by default. For more details check this issue: https://github.com/huggingface/transformers/issues/31884\n",
      "  warnings.warn(\n"
     ]
    }
   ],
   "source": [
    "# **Chargement du tokenizer**\n",
    "model_checkpoint = \"distilbert-base-uncased\"\n",
    "tokenizer = AutoTokenizer.from_pretrained(model_checkpoint)\n",
    "\n",
    "print(\"Tokenizer loaded successfully\")"
   ]
  },
  {
   "cell_type": "code",
   "execution_count": 13,
   "metadata": {},
   "outputs": [
    {
     "data": {
      "application/vnd.jupyter.widget-view+json": {
       "model_id": "740a38a18c604ede93d4c5fe8c43c302",
       "version_major": 2,
       "version_minor": 0
      },
      "text/plain": [
       "Map:   0%|          | 0/80000 [00:00<?, ? examples/s]"
      ]
     },
     "metadata": {},
     "output_type": "display_data"
    },
    {
     "data": {
      "application/vnd.jupyter.widget-view+json": {
       "model_id": "195331d3245f4115afc84effbb67bdcd",
       "version_major": 2,
       "version_minor": 0
      },
      "text/plain": [
       "Map:   0%|          | 0/8000 [00:00<?, ? examples/s]"
      ]
     },
     "metadata": {},
     "output_type": "display_data"
    },
    {
     "data": {
      "application/vnd.jupyter.widget-view+json": {
       "model_id": "9eb4162afd1c4ac08385cc29d5abefbf",
       "version_major": 2,
       "version_minor": 0
      },
      "text/plain": [
       "Map:   0%|          | 0/8000 [00:00<?, ? examples/s]"
      ]
     },
     "metadata": {},
     "output_type": "display_data"
    }
   ],
   "source": [
    "# **Alignement des labels avec les tokens**\n",
    "label_all_tokens = True\n",
    "def tokenize_and_align_labels(examples):\n",
    "    tokenized_inputs = tokenizer(examples[\"tokens\"], truncation=True, is_split_into_words=True)\n",
    "    labels = []\n",
    "    for i, label in enumerate(examples[\"ner_tags\"]):\n",
    "        word_ids = tokenized_inputs.word_ids(batch_index=i)\n",
    "        previous_word_idx = None\n",
    "        label_ids = []\n",
    "        for word_idx in word_ids:\n",
    "            if word_idx is None:\n",
    "                label_ids.append(-100)\n",
    "            elif word_idx != previous_word_idx:\n",
    "                label_ids.append(label[word_idx])\n",
    "            else:\n",
    "                label_ids.append(label[word_idx] if label_all_tokens else -100)\n",
    "            previous_word_idx = word_idx\n",
    "        labels.append(label_ids)\n",
    "    tokenized_inputs[\"labels\"] = labels\n",
    "    return tokenized_inputs\n",
    "\n",
    "tokenized_datasets = dataset.map(tokenize_and_align_labels, batched=True)"
   ]
  },
  {
   "cell_type": "code",
   "execution_count": 14,
   "metadata": {},
   "outputs": [
    {
     "name": "stderr",
     "output_type": "stream",
     "text": [
      "Some weights of DistilBertForTokenClassification were not initialized from the model checkpoint at distilbert-base-uncased and are newly initialized: ['classifier.bias', 'classifier.weight']\n",
      "You should probably TRAIN this model on a down-stream task to be able to use it for predictions and inference.\n"
     ]
    }
   ],
   "source": [
    "# **Préparation du modèle**\n",
    "id2label = {i: label for i, label in enumerate(label_list)}\n",
    "label2id = {label: i for i, label in id2label.items()}\n",
    "\n",
    "model = AutoModelForTokenClassification.from_pretrained(\n",
    "    model_checkpoint, \n",
    "    num_labels=len(label_list),\n",
    "    id2label=id2label,\n",
    "    label2id=label2id\n",
    ")"
   ]
  },
  {
   "cell_type": "code",
   "execution_count": 15,
   "metadata": {},
   "outputs": [
    {
     "name": "stderr",
     "output_type": "stream",
     "text": [
      "C:\\Users\\vikne\\anaconda3\\Lib\\site-packages\\transformers\\training_args.py:1525: FutureWarning: `evaluation_strategy` is deprecated and will be removed in version 4.46 of 🤗 Transformers. Use `eval_strategy` instead\n",
      "  warnings.warn(\n"
     ]
    }
   ],
   "source": [
    "# **Configuration du Trainer**\n",
    "batch_size = 16  # Taille des batchs réduite\n",
    "num_train_epochs = 2  # Réduction des époques à 2\n",
    "args = TrainingArguments(\n",
    "    \"models/distilbert-finetuned-token-classification\",\n",
    "    evaluation_strategy=\"epoch\",\n",
    "    learning_rate=3e-5,\n",
    "    per_device_train_batch_size=batch_size,\n",
    "    per_device_eval_batch_size=batch_size,\n",
    "    num_train_epochs=num_train_epochs,\n",
    "    save_total_limit=1,\n",
    "    logging_steps=10,\n",
    "    disable_tqdm=False,\n",
    "    report_to=\"none\",\n",
    "    max_steps=500  # Limite du nombre total d'étapes\n",
    ")\n",
    "\n",
    "data_collator = DataCollatorForTokenClassification(tokenizer)\n",
    "metric = load(\"seqeval\")"
   ]
  },
  {
   "cell_type": "code",
   "execution_count": 16,
   "metadata": {},
   "outputs": [
    {
     "name": "stderr",
     "output_type": "stream",
     "text": [
      "max_steps is given, it will override any value given in num_train_epochs\n"
     ]
    }
   ],
   "source": [
    "def compute_metrics(p):\n",
    "    predictions, labels = p\n",
    "    predictions = np.argmax(predictions, axis=2)\n",
    "    y_pred = [\n",
    "        [label_list[p] for (p, l) in zip(prediction, label) if l != -100]\n",
    "        for prediction, label in zip(predictions, labels)\n",
    "    ]\n",
    "    y_true = [\n",
    "        [label_list[l] for (p, l) in zip(prediction, label) if l != -100]\n",
    "        for prediction, label in zip(predictions, labels)\n",
    "    ]\n",
    "    results = metric.compute(predictions=y_pred, references=y_true)\n",
    "    return {\n",
    "        \"precision\": results[\"overall_precision\"],\n",
    "        \"recall\": results[\"overall_recall\"],\n",
    "        \"f1\": results[\"overall_f1\"],\n",
    "        \"accuracy\": results[\"overall_accuracy\"],\n",
    "    }\n",
    "\n",
    "trainer = Trainer(\n",
    "    model,\n",
    "    args,\n",
    "    train_dataset=tokenized_datasets[\"train\"],\n",
    "    eval_dataset=tokenized_datasets[\"valid\"],\n",
    "    data_collator=data_collator,\n",
    "    tokenizer=tokenizer,\n",
    "    compute_metrics=compute_metrics\n",
    ")"
   ]
  },
  {
   "cell_type": "code",
   "execution_count": null,
   "metadata": {},
   "outputs": [
    {
     "data": {
      "application/vnd.jupyter.widget-view+json": {
       "model_id": "bdf25b318fe64e7fa21ff624abc96948",
       "version_major": 2,
       "version_minor": 0
      },
      "text/plain": [
       "  0%|          | 0/500 [00:00<?, ?it/s]"
      ]
     },
     "metadata": {},
     "output_type": "display_data"
    },
    {
     "name": "stdout",
     "output_type": "stream",
     "text": [
      "{'loss': 1.0489, 'grad_norm': 2.0199179649353027, 'learning_rate': 2.94e-05, 'epoch': 0.0}\n",
      "{'loss': 0.6733, 'grad_norm': 2.563279867172241, 'learning_rate': 2.88e-05, 'epoch': 0.0}\n",
      "{'loss': 0.6082, 'grad_norm': 2.293996572494507, 'learning_rate': 2.8199999999999998e-05, 'epoch': 0.01}\n",
      "{'loss': 0.5234, 'grad_norm': 1.7799097299575806, 'learning_rate': 2.7600000000000003e-05, 'epoch': 0.01}\n",
      "{'loss': 0.4495, 'grad_norm': 1.9883365631103516, 'learning_rate': 2.7000000000000002e-05, 'epoch': 0.01}\n",
      "{'loss': 0.4361, 'grad_norm': 2.3375275135040283, 'learning_rate': 2.64e-05, 'epoch': 0.01}\n",
      "{'loss': 0.3738, 'grad_norm': 3.710632801055908, 'learning_rate': 2.58e-05, 'epoch': 0.01}\n",
      "{'loss': 0.3279, 'grad_norm': 3.695059299468994, 'learning_rate': 2.52e-05, 'epoch': 0.02}\n",
      "{'loss': 0.2934, 'grad_norm': 4.281088352203369, 'learning_rate': 2.4599999999999998e-05, 'epoch': 0.02}\n",
      "{'loss': 0.2613, 'grad_norm': 2.30232310295105, 'learning_rate': 2.4e-05, 'epoch': 0.02}\n",
      "{'loss': 0.2637, 'grad_norm': 3.615673542022705, 'learning_rate': 2.3400000000000003e-05, 'epoch': 0.02}\n",
      "{'loss': 0.2175, 'grad_norm': 3.770108699798584, 'learning_rate': 2.2800000000000002e-05, 'epoch': 0.02}\n",
      "{'loss': 0.2016, 'grad_norm': 3.222104549407959, 'learning_rate': 2.22e-05, 'epoch': 0.03}\n",
      "{'loss': 0.1344, 'grad_norm': 2.1557865142822266, 'learning_rate': 2.16e-05, 'epoch': 0.03}\n",
      "{'loss': 0.1368, 'grad_norm': 1.627695083618164, 'learning_rate': 2.1e-05, 'epoch': 0.03}\n",
      "{'loss': 0.1065, 'grad_norm': 2.5260229110717773, 'learning_rate': 2.04e-05, 'epoch': 0.03}\n",
      "{'loss': 0.1174, 'grad_norm': 2.4149324893951416, 'learning_rate': 1.98e-05, 'epoch': 0.03}\n",
      "{'loss': 0.084, 'grad_norm': 1.4871206283569336, 'learning_rate': 1.9200000000000003e-05, 'epoch': 0.04}\n",
      "{'loss': 0.0675, 'grad_norm': 1.9208602905273438, 'learning_rate': 1.86e-05, 'epoch': 0.04}\n",
      "{'loss': 0.0897, 'grad_norm': 2.6040027141571045, 'learning_rate': 1.8e-05, 'epoch': 0.04}\n",
      "{'loss': 0.0586, 'grad_norm': 3.0298542976379395, 'learning_rate': 1.74e-05, 'epoch': 0.04}\n",
      "{'loss': 0.0637, 'grad_norm': 2.2522976398468018, 'learning_rate': 1.6800000000000002e-05, 'epoch': 0.04}\n",
      "{'loss': 0.0669, 'grad_norm': 1.7803974151611328, 'learning_rate': 1.62e-05, 'epoch': 0.05}\n",
      "{'loss': 0.055, 'grad_norm': 1.9321156740188599, 'learning_rate': 1.56e-05, 'epoch': 0.05}\n",
      "{'loss': 0.0512, 'grad_norm': 2.8252129554748535, 'learning_rate': 1.5e-05, 'epoch': 0.05}\n",
      "{'loss': 0.0415, 'grad_norm': 0.8299674987792969, 'learning_rate': 1.44e-05, 'epoch': 0.05}\n",
      "{'loss': 0.0575, 'grad_norm': 1.4048259258270264, 'learning_rate': 1.3800000000000002e-05, 'epoch': 0.05}\n",
      "{'loss': 0.0394, 'grad_norm': 1.5390191078186035, 'learning_rate': 1.32e-05, 'epoch': 0.06}\n",
      "{'loss': 0.0455, 'grad_norm': 3.0215444564819336, 'learning_rate': 1.26e-05, 'epoch': 0.06}\n",
      "{'loss': 0.0491, 'grad_norm': 1.2199290990829468, 'learning_rate': 1.2e-05, 'epoch': 0.06}\n",
      "{'loss': 0.0387, 'grad_norm': 3.677031993865967, 'learning_rate': 1.1400000000000001e-05, 'epoch': 0.06}\n",
      "{'loss': 0.034, 'grad_norm': 0.4990876615047455, 'learning_rate': 1.08e-05, 'epoch': 0.06}\n",
      "{'loss': 0.032, 'grad_norm': 2.5891852378845215, 'learning_rate': 1.02e-05, 'epoch': 0.07}\n",
      "{'loss': 0.0321, 'grad_norm': 1.0038788318634033, 'learning_rate': 9.600000000000001e-06, 'epoch': 0.07}\n",
      "{'loss': 0.0302, 'grad_norm': 1.6487637758255005, 'learning_rate': 9e-06, 'epoch': 0.07}\n",
      "{'loss': 0.0363, 'grad_norm': 2.4101762771606445, 'learning_rate': 8.400000000000001e-06, 'epoch': 0.07}\n",
      "{'loss': 0.0595, 'grad_norm': 1.3157939910888672, 'learning_rate': 7.8e-06, 'epoch': 0.07}\n",
      "{'loss': 0.0402, 'grad_norm': 1.5406032800674438, 'learning_rate': 7.2e-06, 'epoch': 0.08}\n",
      "{'loss': 0.0171, 'grad_norm': 0.6000474691390991, 'learning_rate': 6.6e-06, 'epoch': 0.08}\n",
      "{'loss': 0.0316, 'grad_norm': 2.970306396484375, 'learning_rate': 6e-06, 'epoch': 0.08}\n",
      "{'loss': 0.0147, 'grad_norm': 1.9630110263824463, 'learning_rate': 5.4e-06, 'epoch': 0.08}\n",
      "{'loss': 0.0158, 'grad_norm': 2.0218329429626465, 'learning_rate': 4.800000000000001e-06, 'epoch': 0.08}\n",
      "{'loss': 0.0188, 'grad_norm': 0.6160791516304016, 'learning_rate': 4.2000000000000004e-06, 'epoch': 0.09}\n",
      "{'loss': 0.0227, 'grad_norm': 0.4012267291545868, 'learning_rate': 3.6e-06, 'epoch': 0.09}\n",
      "{'loss': 0.0251, 'grad_norm': 0.995093584060669, 'learning_rate': 3e-06, 'epoch': 0.09}\n",
      "{'loss': 0.0189, 'grad_norm': 3.7135539054870605, 'learning_rate': 2.4000000000000003e-06, 'epoch': 0.09}\n",
      "{'loss': 0.0125, 'grad_norm': 0.19521988928318024, 'learning_rate': 1.8e-06, 'epoch': 0.09}\n",
      "{'loss': 0.017, 'grad_norm': 1.3384698629379272, 'learning_rate': 1.2000000000000002e-06, 'epoch': 0.1}\n",
      "{'loss': 0.0243, 'grad_norm': 0.5907665491104126, 'learning_rate': 6.000000000000001e-07, 'epoch': 0.1}\n",
      "{'loss': 0.0247, 'grad_norm': 1.3196098804473877, 'learning_rate': 0.0, 'epoch': 0.1}\n"
     ]
    },
    {
     "data": {
      "application/vnd.jupyter.widget-view+json": {
       "model_id": "dedb4ecdfbac45f393f0bf2d78860e85",
       "version_major": 2,
       "version_minor": 0
      },
      "text/plain": [
       "  0%|          | 0/500 [00:00<?, ?it/s]"
      ]
     },
     "metadata": {},
     "output_type": "display_data"
    },
    {
     "name": "stdout",
     "output_type": "stream",
     "text": [
      "{'eval_loss': 0.017534686252474785, 'eval_precision': 0.9816644678387766, 'eval_recall': 0.9859116843784647, 'eval_f1': 0.9837834920806239, 'eval_accuracy': 0.9954002735249374, 'eval_runtime': 321.7305, 'eval_samples_per_second': 24.866, 'eval_steps_per_second': 1.554, 'epoch': 0.1}\n",
      "{'train_runtime': 1524.6091, 'train_samples_per_second': 5.247, 'train_steps_per_second': 0.328, 'train_loss': 0.14978178763389588, 'epoch': 0.1}\n"
     ]
    }
   ],
   "source": [
    "# **Entraînement**\n",
    "model_save_path = r\"C:/Users/vikne/Documents/Master 2/Semestre 9/Intelligence artificielle/Travel-Order-Resolver/ai/nlp/models/distilbert\"\n",
    "trainer.save_model(model_save_path)\n",
    "print(f\"Model saved successfully at {model_save_path}\")\n"
   ]
  },
  {
   "cell_type": "code",
   "execution_count": 18,
   "metadata": {},
   "outputs": [
    {
     "data": {
      "application/vnd.jupyter.widget-view+json": {
       "model_id": "eaec68e994414c94adb969eb02df3f67",
       "version_major": 2,
       "version_minor": 0
      },
      "text/plain": [
       "  0%|          | 0/5000 [00:00<?, ?it/s]"
      ]
     },
     "metadata": {},
     "output_type": "display_data"
    },
    {
     "data": {
      "application/vnd.jupyter.widget-view+json": {
       "model_id": "132fe3ef01a0458984b04ea9bb08f1b0",
       "version_major": 2,
       "version_minor": 0
      },
      "text/plain": [
       "  0%|          | 0/500 [00:00<?, ?it/s]"
      ]
     },
     "metadata": {},
     "output_type": "display_data"
    },
    {
     "data": {
      "application/vnd.jupyter.widget-view+json": {
       "model_id": "e86b054dde264eafad94b3e0e383438f",
       "version_major": 2,
       "version_minor": 0
      },
      "text/plain": [
       "  0%|          | 0/500 [00:00<?, ?it/s]"
      ]
     },
     "metadata": {},
     "output_type": "display_data"
    }
   ],
   "source": [
    "# **Évaluation et résultats**\n",
    "train_metrics = trainer.evaluate(tokenized_datasets[\"train\"])\n",
    "validation_metrics = trainer.evaluate(tokenized_datasets[\"valid\"])\n",
    "predictions, labels, _ = trainer.predict(tokenized_datasets[\"test\"])\n"
   ]
  },
  {
   "cell_type": "code",
   "execution_count": 19,
   "metadata": {},
   "outputs": [],
   "source": [
    "# Extraction des résultats\n",
    "predictions = np.argmax(predictions, axis=2)\n",
    "y_pred = [\n",
    "    [label_list[p] for (p, l) in zip(prediction, label) if l != -100]\n",
    "    for prediction, label in zip(predictions, labels)\n",
    "]\n",
    "y_true = [\n",
    "    [label_list[l] for (p, l) in zip(prediction, label) if l != -100]\n",
    "    for prediction, label in zip(predictions, labels)\n",
    "]"
   ]
  },
  {
   "cell_type": "code",
   "execution_count": 20,
   "metadata": {},
   "outputs": [
    {
     "name": "stdout",
     "output_type": "stream",
     "text": [
      "              precision    recall  f1-score   support\n",
      "\n",
      "           O       1.00      1.00      1.00    135844\n",
      "       B-DEP       0.99      0.99      0.99     21054\n",
      "       I-DEP       0.99      0.99      0.99     16990\n",
      "       B-ARR       0.98      0.98      0.98     14113\n",
      "       I-ARR       0.98      0.99      0.98      9903\n",
      "\n",
      "    accuracy                           1.00    197904\n",
      "   macro avg       0.99      0.99      0.99    197904\n",
      "weighted avg       1.00      1.00      1.00    197904\n",
      "\n"
     ]
    }
   ],
   "source": [
    "# Rapport de classification\n",
    "flat_y_true = [item for sublist in y_true for item in sublist]\n",
    "flat_y_pred = [item for sublist in y_pred for item in sublist]\n",
    "print(classification_report(flat_y_true, flat_y_pred, labels=label_list))"
   ]
  },
  {
   "cell_type": "code",
   "execution_count": 21,
   "metadata": {},
   "outputs": [
    {
     "data": {
      "image/png": "[encoded data removed]",
      "text/plain": [
       "<Figure size 640x480 with 2 Axes>"
      ]
     },
     "metadata": {},
     "output_type": "display_data"
    }
   ],
   "source": [
    "# Matrice de confusion\n",
    "cm = confusion_matrix(flat_y_true, flat_y_pred, labels=label_list)\n",
    "sns.heatmap(cm, annot=True, fmt=\"d\", xticklabels=label_list, yticklabels=label_list)\n",
    "plt.title(\"Confusion Matrix\")\n",
    "plt.show()"
   ]
  },
  {
   "cell_type": "code",
   "execution_count": 22,
   "metadata": {},
   "outputs": [
    {
     "name": "stdout",
     "output_type": "stream",
     "text": [
      "Je pars de Paris et j'arrive à Marseille.\n",
      "[{'entity_group': 'DEP', 'score': 0.9958223, 'word': 'paris', 'start': 11, 'end': 16}, {'entity_group': 'ARR', 'score': 0.94282115, 'word': 'marseille', 'start': 31, 'end': 40}]\n",
      "Je vais à Bordeaux en partant de Toulouse.\n",
      "[{'entity_group': 'ARR', 'score': 0.990914, 'word': 'bordeaux', 'start': 10, 'end': 18}, {'entity_group': 'DEP', 'score': 0.99647933, 'word': 'toulouse', 'start': 33, 'end': 41}]\n",
      "Mon trajet va de VILLIERS SUR LOIR à JARNY.\n",
      "[{'entity_group': 'DEP', 'score': 0.9956783, 'word': 'villiers sur loir', 'start': 17, 'end': 34}, {'entity_group': 'ARR', 'score': 0.993932, 'word': 'jar', 'start': 37, 'end': 40}, {'entity_group': 'ARR', 'score': 0.99553406, 'word': '##ny', 'start': 40, 'end': 42}]\n",
      "Nous partons de Lyon et nous arrivons à Nice.\n",
      "[{'entity_group': 'DEP', 'score': 0.99780804, 'word': 'lyon', 'start': 16, 'end': 20}, {'entity_group': 'DEP', 'score': 0.6025036, 'word': '##rivons', 'start': 31, 'end': 37}, {'entity_group': 'ARR', 'score': 0.8198046, 'word': 'nice', 'start': 40, 'end': 44}]\n",
      "Le départ est prévu à Lille, et l'arrivée se fera à Strasbourg.\n",
      "[{'entity_group': 'ARR', 'score': 0.9616678, 'word': 'lille', 'start': 22, 'end': 27}, {'entity_group': 'ARR', 'score': 0.7251328, 'word': ',', 'start': 27, 'end': 28}, {'entity_group': 'ARR', 'score': 0.95518255, 'word': 'strasbourg', 'start': 52, 'end': 62}]\n",
      "Mon itinéraire inclut un départ de Montpellier et une arrivée à Perpignan.\n",
      "[{'entity_group': 'DEP', 'score': 0.9917692, 'word': 'montpellier', 'start': 35, 'end': 46}, {'entity_group': 'ARR', 'score': 0.9908375, 'word': 'per', 'start': 64, 'end': 67}, {'entity_group': 'ARR', 'score': 0.9862438, 'word': '##pi', 'start': 67, 'end': 69}, {'entity_group': 'ARR', 'score': 0.99375015, 'word': '##gnan', 'start': 69, 'end': 73}]\n",
      "Le train partira de Nantes pour arriver à Rennes.\n",
      "[{'entity_group': 'DEP', 'score': 0.9955183, 'word': 'nantes', 'start': 20, 'end': 26}, {'entity_group': 'ARR', 'score': 0.985873, 'word': 'ren', 'start': 42, 'end': 45}, {'entity_group': 'ARR', 'score': 0.9827572, 'word': '##nes', 'start': 45, 'end': 48}]\n",
      "Un vol de Genève à Zurich est prévu demain matin.\n",
      "[{'entity_group': 'DEP', 'score': 0.9929813, 'word': 'gene', 'start': 10, 'end': 14}, {'entity_group': 'DEP', 'score': 0.99505436, 'word': '##ve', 'start': 14, 'end': 16}, {'entity_group': 'ARR', 'score': 0.9764866, 'word': 'zurich', 'start': 19, 'end': 25}]\n",
      "Je vais de Grenoble à Dijon en voiture.\n",
      "[{'entity_group': 'DEP', 'score': 0.9982255, 'word': 'gr', 'start': 11, 'end': 13}, {'entity_group': 'DEP', 'score': 0.99789184, 'word': '##eno', 'start': 13, 'end': 16}, {'entity_group': 'DEP', 'score': 0.99841833, 'word': '##ble', 'start': 16, 'end': 19}, {'entity_group': 'ARR', 'score': 0.9976815, 'word': 'di', 'start': 22, 'end': 24}, {'entity_group': 'ARR', 'score': 0.9974567, 'word': '##jon', 'start': 24, 'end': 27}]\n",
      "Je voyage de Bruxelles à Amsterdam ce week-end.\n",
      "[{'entity_group': 'DEP', 'score': 0.9935295, 'word': 'br', 'start': 13, 'end': 15}, {'entity_group': 'DEP', 'score': 0.99474597, 'word': '##ux', 'start': 15, 'end': 17}, {'entity_group': 'DEP', 'score': 0.9961863, 'word': '##elles', 'start': 17, 'end': 22}, {'entity_group': 'ARR', 'score': 0.90584636, 'word': 'amsterdam ce', 'start': 25, 'end': 37}]\n",
      "L'itinéraire commence à Marseille et se termine à Toulon.\n",
      "[{'entity_group': 'ARR', 'score': 0.90479845, 'word': 'marseille', 'start': 24, 'end': 33}, {'entity_group': 'ARR', 'score': 0.84119076, 'word': 'toulon', 'start': 50, 'end': 56}]\n",
      "Nous prenons un train de Rouen pour aller au Havre.\n",
      "[{'entity_group': 'DEP', 'score': 0.95281476, 'word': 'rouen', 'start': 25, 'end': 30}]\n",
      "Le départ sera à Limoges et l'arrivée à Poitiers.\n",
      "[{'entity_group': 'ARR', 'score': 0.9371268, 'word': 'limo', 'start': 17, 'end': 21}, {'entity_group': 'ARR', 'score': 0.97140807, 'word': '##ges', 'start': 21, 'end': 24}, {'entity_group': 'ARR', 'score': 0.9694139, 'word': 'po', 'start': 40, 'end': 42}, {'entity_group': 'ARR', 'score': 0.9828047, 'word': '##iti', 'start': 42, 'end': 45}, {'entity_group': 'ARR', 'score': 0.9864907, 'word': '##ers', 'start': 45, 'end': 48}]\n",
      "Je quitte Monaco pour aller à Menton.\n",
      "[{'entity_group': 'ARR', 'score': 0.933614, 'word': 'men', 'start': 30, 'end': 33}, {'entity_group': 'ARR', 'score': 0.92954516, 'word': '##ton', 'start': 33, 'end': 36}]\n",
      "Le bus va de Caen à Cherbourg.\n",
      "[{'entity_group': 'DEP', 'score': 0.9972145, 'word': 'ca', 'start': 13, 'end': 15}, {'entity_group': 'DEP', 'score': 0.99700373, 'word': '##en', 'start': 15, 'end': 17}, {'entity_group': 'ARR', 'score': 0.98789936, 'word': 'cher', 'start': 20, 'end': 24}, {'entity_group': 'ARR', 'score': 0.9884475, 'word': '##bourg', 'start': 24, 'end': 29}]\n",
      "Il part de Bayonne et arrive à Biarritz.\n",
      "[{'entity_group': 'DEP', 'score': 0.99800104, 'word': 'bay', 'start': 11, 'end': 14}, {'entity_group': 'DEP', 'score': 0.99828404, 'word': '##onne', 'start': 14, 'end': 18}, {'entity_group': 'ARR', 'score': 0.9974968, 'word': 'bi', 'start': 31, 'end': 33}, {'entity_group': 'ARR', 'score': 0.99634784, 'word': '##ar', 'start': 33, 'end': 35}, {'entity_group': 'ARR', 'score': 0.9928618, 'word': '##rit', 'start': 35, 'end': 38}, {'entity_group': 'ARR', 'score': 0.9974485, 'word': '##z', 'start': 38, 'end': 39}]\n",
      "Je vais de Chamonix à Annecy.\n",
      "[{'entity_group': 'DEP', 'score': 0.99811375, 'word': 'cha', 'start': 11, 'end': 14}, {'entity_group': 'DEP', 'score': 0.9981876, 'word': '##mon', 'start': 14, 'end': 17}, {'entity_group': 'DEP', 'score': 0.9981817, 'word': '##ix', 'start': 17, 'end': 19}, {'entity_group': 'ARR', 'score': 0.9976538, 'word': 'anne', 'start': 22, 'end': 26}, {'entity_group': 'ARR', 'score': 0.9982097, 'word': '##cy', 'start': 26, 'end': 28}]\n",
      "Nous roulons de Bastia à Ajaccio.\n",
      "[{'entity_group': 'DEP', 'score': 0.99613744, 'word': 'bas', 'start': 16, 'end': 19}, {'entity_group': 'DEP', 'score': 0.99780434, 'word': '##tia', 'start': 19, 'end': 22}, {'entity_group': 'ARR', 'score': 0.9953158, 'word': 'aj', 'start': 25, 'end': 27}, {'entity_group': 'ARR', 'score': 0.994718, 'word': '##ac', 'start': 27, 'end': 29}, {'entity_group': 'ARR', 'score': 0.99650264, 'word': '##cio', 'start': 29, 'end': 32}]\n",
      "Le ferry part de Calais pour arriver à Douvres.\n",
      "[{'entity_group': 'DEP', 'score': 0.83171844, 'word': 'calais', 'start': 17, 'end': 23}, {'entity_group': 'ARR', 'score': 0.9855552, 'word': 'do', 'start': 39, 'end': 41}, {'entity_group': 'ARR', 'score': 0.9609525, 'word': '##u', 'start': 41, 'end': 42}, {'entity_group': 'ARR', 'score': 0.97637033, 'word': '##vres', 'start': 42, 'end': 46}]\n",
      "Je pars de Bordeaux et j'arrive à Paris.\n",
      "[{'entity_group': 'DEP', 'score': 0.995436, 'word': 'bordeaux', 'start': 11, 'end': 19}, {'entity_group': 'ARR', 'score': 0.8444677, 'word': 'paris', 'start': 34, 'end': 39}]\n"
     ]
    }
   ],
   "source": [
    "# **Pipeline pour la prédiction**\n",
    "sentences = [\n",
    "    \"Je pars de Paris et j'arrive à Marseille.\",\n",
    "    \"Je vais à Bordeaux en partant de Toulouse.\",\n",
    "    \"Mon trajet va de VILLIERS SUR LOIR à JARNY.\",\n",
    "    \"Nous partons de Lyon et nous arrivons à Nice.\",\n",
    "    \"Le départ est prévu à Lille, et l'arrivée se fera à Strasbourg.\",\n",
    "    \"Mon itinéraire inclut un départ de Montpellier et une arrivée à Perpignan.\",\n",
    "    \"Le train partira de Nantes pour arriver à Rennes.\",\n",
    "    \"Un vol de Genève à Zurich est prévu demain matin.\",\n",
    "    \"Je vais de Grenoble à Dijon en voiture.\",\n",
    "    \"Je voyage de Bruxelles à Amsterdam ce week-end.\",\n",
    "    \"L'itinéraire commence à Marseille et se termine à Toulon.\",\n",
    "    \"Nous prenons un train de Rouen pour aller au Havre.\",\n",
    "    \"Le départ sera à Limoges et l'arrivée à Poitiers.\",\n",
    "    \"Je quitte Monaco pour aller à Menton.\",\n",
    "    \"Le bus va de Caen à Cherbourg.\",\n",
    "    \"Il part de Bayonne et arrive à Biarritz.\",\n",
    "    \"Je vais de Chamonix à Annecy.\",\n",
    "    \"Nous roulons de Bastia à Ajaccio.\",\n",
    "    \"Le ferry part de Calais pour arriver à Douvres.\",\n",
    "    \"Je pars de Bordeaux et j'arrive à Paris.\",\n",
    "]\n",
    "\n",
    "token_classifier = pipeline(\"token-classification\", model=\"models\", aggregation_strategy=\"simple\")\n",
    "\n",
    "for sentence in sentences:\n",
    "    outputs = token_classifier(sentence)\n",
    "    print(sentence)\n",
    "    print(outputs)"
   ]
  }
 ],
 "metadata": {
  "kernelspec": {
   "display_name": "base",
   "language": "python",
   "name": "python3"
  },
  "language_info": {
   "codemirror_mode": {
    "name": "ipython",
    "version": 3
   },
   "file_extension": ".py",
   "mimetype": "text/x-python",
   "name": "python",
   "nbconvert_exporter": "python",
   "pygments_lexer": "ipython3",
   "version": "3.11.7"
  }
 },
 "nbformat": 4,
 "nbformat_minor": 2
}
