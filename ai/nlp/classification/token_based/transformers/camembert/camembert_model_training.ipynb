{
 "cells": [
  {
   "cell_type": "code",
   "execution_count": 1,
   "metadata": {},
   "outputs": [
    {
     "name": "stderr",
     "output_type": "stream",
     "text": [
      "c:\\Users\\Seed\\anaconda3\\envs\\travel-order\\Lib\\site-packages\\tqdm\\auto.py:21: TqdmWarning: IProgress not found. Please update jupyter and ipywidgets. See https://ipywidgets.readthedocs.io/en/stable/user_install.html\n",
      "  from .autonotebook import tqdm as notebook_tqdm\n"
     ]
    },
    {
     "name": "stdout",
     "output_type": "stream",
     "text": [
      "WARNING:tensorflow:From c:\\Users\\Seed\\anaconda3\\envs\\travel-order\\Lib\\site-packages\\tf_keras\\src\\losses.py:2976: The name tf.losses.sparse_softmax_cross_entropy is deprecated. Please use tf.compat.v1.losses.sparse_softmax_cross_entropy instead.\n",
      "\n",
      "Running on device: cuda\n",
      "imported successfully !!!\n"
     ]
    }
   ],
   "source": [
    "import os\n",
    "import ast\n",
    "import random\n",
    "import numpy as np\n",
    "import pandas as pd\n",
    "import seaborn as sns\n",
    "import matplotlib.pyplot as plt\n",
    "from sklearn.metrics import confusion_matrix\n",
    "from datasets import load_dataset, DatasetDict, Sequence, ClassLabel, Dataset\n",
    "from transformers import (\n",
    "    AutoTokenizer, \n",
    "    AutoModelForTokenClassification, \n",
    "    TrainingArguments, \n",
    "    Trainer, \n",
    "    DataCollatorForTokenClassification,\n",
    "    CamembertTokenizerFast,\n",
    "    CamembertTokenizer,\n",
    "    CamembertForSequenceClassification\n",
    ")\n",
    "from seqeval.metrics import precision_score, recall_score, f1_score\n",
    "\n",
    "from torch import cuda\n",
    "\n",
    "# Setup device\n",
    "device = 'cuda' if cuda.is_available() else 'cpu'\n",
    "print(f\"Running on device: {device}\")\n",
    "\n",
    "print(\"imported successfully !!!\")"
   ]
  },
  {
   "cell_type": "code",
   "execution_count": 2,
   "metadata": {},
   "outputs": [
    {
     "name": "stdout",
     "output_type": "stream",
     "text": [
      "Dataset loaded: ['text', 'tokens', 'ner_tags', 'spacy_ner_tags']\n",
      "Dataset loaded: ['text', 'tokens', 'ner_tags']\n"
     ]
    }
   ],
   "source": [
    "# Label list\n",
    "label_list = [\"O\", \"B-DEP\", \"I-DEP\", \"B-ARR\", \"I-ARR\"]\n",
    "\n",
    "# Path to dataset\n",
    "path = \"C:/Users/Seed/Documents/Master/Epitech/Travel-Order-Resolver/ai/nlp/dataset/tokens/token.csv\"\n",
    "\n",
    "# Load dataset\n",
    "dataset = load_dataset('csv', data_files={'train': path}, delimiter=';')\n",
    "print(\"Dataset loaded:\", dataset[\"train\"].column_names)\n",
    "\n",
    "# Remove the column \"spacy_ner_tags\"\n",
    "dataset[\"train\"] = dataset[\"train\"].remove_columns(\"spacy_ner_tags\")\n",
    "\n",
    "print(\"Dataset loaded:\", dataset[\"train\"].column_names)"
   ]
  },
  {
   "cell_type": "code",
   "execution_count": 3,
   "metadata": {},
   "outputs": [
    {
     "name": "stdout",
     "output_type": "stream",
     "text": [
      "Filtered dataset size: 1 rows\n"
     ]
    }
   ],
   "source": [
    "def is_valid_row(row):\n",
    "    \"\"\"\n",
    "    Validates whether the 'tokens' and 'ner_tags' fields in a row are properly formatted.\n",
    "    \"\"\"\n",
    "    try:\n",
    "        # Attempt to parse 'tokens' and 'ner_tags' as Python lists\n",
    "        tokens = ast.literal_eval(row['tokens'])\n",
    "        ner_tags = ast.literal_eval(row['ner_tags'])\n",
    "\n",
    "        # Ensure 'tokens' is a list of strings\n",
    "        if not isinstance(tokens, list) or not all(isinstance(t, str) for t in tokens):\n",
    "            return False\n",
    "\n",
    "        # Ensure 'ner_tags' is a list of integers\n",
    "        if not isinstance(ner_tags, list) or not all(isinstance(tag, int) for tag in ner_tags):\n",
    "            return False\n",
    "\n",
    "        return True  # Row is valid\n",
    "    except (ValueError, SyntaxError):\n",
    "        return False  # Row is invalid\n",
    "\n",
    "# Apply the filter to remove invalid rows\n",
    "dataset = dataset.filter(is_valid_row)\n",
    "\n",
    "print(f\"Filtered dataset size: {len(dataset)} rows\")"
   ]
  },
  {
   "cell_type": "code",
   "execution_count": 4,
   "metadata": {},
   "outputs": [
    {
     "name": "stdout",
     "output_type": "stream",
     "text": [
      "Split realized\n"
     ]
    }
   ],
   "source": [
    "# Evaluate tokens and ner_tags as lists\n",
    "dataset = dataset.map(lambda line: {'tokens': ast.literal_eval(line['tokens'])})\n",
    "dataset = dataset.map(lambda line: {'ner_tags': ast.literal_eval(line['ner_tags'])})\n",
    "\n",
    "# Cast ner_tags to ClassLabel with all labels present in ner_tags\n",
    "dataset = dataset.cast_column(\"ner_tags\", Sequence(feature=ClassLabel(num_classes=len(label_list), names=label_list)))\n",
    "\n",
    "# Limit the dataset to 80,000 rows\n",
    "dataset[\"train\"] = dataset[\"train\"].select(range(80000))\n",
    "\n",
    "# Shuffle train dataset, and pick 30% of it\n",
    "train_data = dataset['train']\n",
    "train_data = train_data.shuffle(seed=42)\n",
    "train_data = train_data.train_test_split(test_size=0.7)['train']\n",
    "\n",
    "# Split the dataset into train, test, and validation\n",
    "train_test_valid = train_data.train_test_split(test_size=0.25)\n",
    "test_valid = train_test_valid['test'].train_test_split(test_size=0.7)\n",
    "\n",
    "dataset = DatasetDict({\n",
    "    'train': train_test_valid['train'],\n",
    "    'test': test_valid['test'],\n",
    "    'valid': test_valid['train']\n",
    "})\n",
    "\n",
    "print(\"Split realized\")"
   ]
  },
  {
   "cell_type": "code",
   "execution_count": 5,
   "metadata": {},
   "outputs": [
    {
     "name": "stderr",
     "output_type": "stream",
     "text": [
      "Map: 100%|██████████| 18000/18000 [00:00<00:00, 19279.11 examples/s]\n",
      "Map: 100%|██████████| 4200/4200 [00:00<00:00, 22104.23 examples/s]\n",
      "Map: 100%|██████████| 1800/1800 [00:00<00:00, 22499.62 examples/s]"
     ]
    },
    {
     "name": "stdout",
     "output_type": "stream",
     "text": [
      "tokenized and aligned\n"
     ]
    },
    {
     "name": "stderr",
     "output_type": "stream",
     "text": [
      "\n"
     ]
    }
   ],
   "source": [
    "\n",
    "# Initialize tokenizer\n",
    "model_checkpoint = \"camembert-base\"\n",
    "tokenizer = AutoTokenizer.from_pretrained(model_checkpoint)\n",
    "\n",
    "# Tokenize and align labels\n",
    "def tokenize_and_align_labels(examples):\n",
    "    label_all_tokens = False  # Define this variable to specify how labels are assigned\n",
    "\n",
    "    tokenized_inputs = tokenizer(examples[\"tokens\"], truncation=True, padding=True, is_split_into_words=True)\n",
    "\n",
    "    labels = []\n",
    "    for i, label in enumerate(examples[\"ner_tags\"]):\n",
    "        word_ids = tokenized_inputs.word_ids(batch_index=i)\n",
    "        previous_word_idx = None\n",
    "        label_ids = []\n",
    "        for word_idx in word_ids:\n",
    "            # Special tokens have a word id that is None. We set the label to -100 so they are automatically ignored in the loss function.\n",
    "            if word_idx is None:\n",
    "                label_ids.append(-100)\n",
    "            elif word_idx != previous_word_idx:\n",
    "                label_ids.append(label[word_idx])\n",
    "            else:\n",
    "                # If label_all_tokens is True, use the label for all tokens of a word, otherwise, use -100 for sub-tokens\n",
    "                label_ids.append(label[word_idx] if label_all_tokens else -100)\n",
    "            previous_word_idx = word_idx\n",
    "\n",
    "        labels.append(label_ids)\n",
    "\n",
    "    tokenized_inputs[\"labels\"] = labels\n",
    "    return tokenized_inputs\n",
    "\n",
    "dataset = dataset.map(tokenize_and_align_labels, batched=True)\n",
    "\n",
    "print(\"tokenized and aligned\")"
   ]
  },
  {
   "cell_type": "code",
   "execution_count": 6,
   "metadata": {},
   "outputs": [
    {
     "name": "stderr",
     "output_type": "stream",
     "text": [
      "Some weights of CamembertForTokenClassification were not initialized from the model checkpoint at camembert-base and are newly initialized: ['classifier.bias', 'classifier.weight']\n",
      "You should probably TRAIN this model on a down-stream task to be able to use it for predictions and inference.\n"
     ]
    },
    {
     "name": "stdout",
     "output_type": "stream",
     "text": [
      "model preparation finished\n"
     ]
    }
   ],
   "source": [
    "# Prepare model\n",
    "id2label = {i: label for i, label in enumerate(label_list)}\n",
    "label2id = {label: i for i, label in id2label.items()}\n",
    "\n",
    "model = AutoModelForTokenClassification.from_pretrained(\n",
    "    model_checkpoint, \n",
    "    num_labels=len(label_list),\n",
    "    id2label=id2label,\n",
    "    label2id=label2id\n",
    ")\n",
    "\n",
    "print(\"model preparation finished\")"
   ]
  },
  {
   "cell_type": "code",
   "execution_count": 7,
   "metadata": {},
   "outputs": [
    {
     "name": "stdout",
     "output_type": "stream",
     "text": [
      "training args defined\n"
     ]
    }
   ],
   "source": [
    "# Define training arguments\n",
    "batch_size = 16\n",
    "epochs = 3\n",
    "args = TrainingArguments(\n",
    "    output_dir=\"models/camembert\",\n",
    "    eval_strategy=\"epoch\",\n",
    "    learning_rate=2e-5,\n",
    "    per_device_train_batch_size=batch_size,\n",
    "    per_device_eval_batch_size=batch_size,\n",
    "    num_train_epochs=epochs,\n",
    "    weight_decay=0.01\n",
    ")\n",
    "\n",
    "print(\"training args defined\")"
   ]
  },
  {
   "cell_type": "code",
   "execution_count": 12,
   "metadata": {},
   "outputs": [
    {
     "name": "stderr",
     "output_type": "stream",
     "text": [
      " 33%|███▎      | 1125/3375 [03:40<07:20,  5.11it/s]\n",
      "  3%|▎         | 95/3375 [00:08<04:30, 12.13it/s]\n",
      " 15%|█▍        | 499/3375 [00:41<04:19, 11.08it/s]\n",
      "\n",
      "                                                  \n",
      " 15%|█▍        | 500/3375 [00:41<04:19, 11.08it/s]"
     ]
    },
    {
     "name": "stdout",
     "output_type": "stream",
     "text": [
      "{'loss': 0.0048, 'grad_norm': 0.006461077369749546, 'learning_rate': 1.7037037037037038e-05, 'epoch': 0.44}\n"
     ]
    },
    {
     "name": "stderr",
     "output_type": "stream",
     "text": [
      " 30%|██▉       | 999/3375 [01:25<03:18, 11.98it/s]\n",
      "\n",
      "                                                  \n",
      " 30%|██▉       | 1000/3375 [01:25<03:18, 11.98it/s]"
     ]
    },
    {
     "name": "stdout",
     "output_type": "stream",
     "text": [
      "{'loss': 0.0022, 'grad_norm': 0.004182716365903616, 'learning_rate': 1.4074074074074075e-05, 'epoch': 0.89}\n"
     ]
    },
    {
     "name": "stderr",
     "output_type": "stream",
     "text": [
      " 33%|███▎      | 1125/3375 [01:37<02:52, 13.01it/s]\n",
      "\u001b[A                                              \n",
      "\n",
      "                                                   \n",
      " 33%|███▎      | 1127/3375 [01:38<10:48,  3.46it/s]"
     ]
    },
    {
     "name": "stdout",
     "output_type": "stream",
     "text": [
      "{'eval_loss': 0.0008066099835559726, 'eval_precision': 1.0, 'eval_recall': 1.0, 'eval_f1': 1.0, 'eval_accuracy': 1.0, 'eval_runtime': 1.3935, 'eval_samples_per_second': 1291.671, 'eval_steps_per_second': 81.088, 'epoch': 1.0}\n"
     ]
    },
    {
     "name": "stderr",
     "output_type": "stream",
     "text": [
      " 44%|████▍     | 1499/3375 [02:09<02:39, 11.79it/s]\n",
      "\n",
      "                                                   \n",
      " 44%|████▍     | 1500/3375 [02:09<02:38, 11.79it/s]"
     ]
    },
    {
     "name": "stdout",
     "output_type": "stream",
     "text": [
      "{'loss': 0.003, 'grad_norm': 0.0027534228283911943, 'learning_rate': 1.1111111111111113e-05, 'epoch': 1.33}\n"
     ]
    },
    {
     "name": "stderr",
     "output_type": "stream",
     "text": [
      " 59%|█████▉    | 1999/3375 [02:52<01:45, 13.01it/s]\n",
      "\n",
      "                                                   \n",
      " 59%|█████▉    | 2000/3375 [02:52<01:45, 13.01it/s]"
     ]
    },
    {
     "name": "stdout",
     "output_type": "stream",
     "text": [
      "{'loss': 0.0012, 'grad_norm': 0.0024514966644346714, 'learning_rate': 8.148148148148148e-06, 'epoch': 1.78}\n"
     ]
    },
    {
     "name": "stderr",
     "output_type": "stream",
     "text": [
      " 67%|██████▋   | 2249/3375 [03:14<01:35, 11.81it/s]\n",
      "\u001b[A                                              \n",
      "\n",
      "                                                   \n",
      " 67%|██████▋   | 2251/3375 [03:16<05:28,  3.42it/s]"
     ]
    },
    {
     "name": "stdout",
     "output_type": "stream",
     "text": [
      "{'eval_loss': 0.0006896393606439233, 'eval_precision': 1.0, 'eval_recall': 1.0, 'eval_f1': 1.0, 'eval_accuracy': 0.9999603520735866, 'eval_runtime': 1.386, 'eval_samples_per_second': 1298.677, 'eval_steps_per_second': 81.528, 'epoch': 2.0}\n"
     ]
    },
    {
     "name": "stderr",
     "output_type": "stream",
     "text": [
      " 74%|███████▍  | 2499/3375 [03:37<01:08, 12.78it/s]\n",
      "\n",
      "                                                   \n",
      " 74%|███████▍  | 2500/3375 [03:37<01:08, 12.78it/s]"
     ]
    },
    {
     "name": "stdout",
     "output_type": "stream",
     "text": [
      "{'loss': 0.0008, 'grad_norm': 0.0016746626934036613, 'learning_rate': 5.185185185185185e-06, 'epoch': 2.22}\n"
     ]
    },
    {
     "name": "stderr",
     "output_type": "stream",
     "text": [
      " 89%|████████▉ | 2999/3375 [04:20<00:30, 12.18it/s]\n",
      "\n",
      "                                                   \n",
      " 89%|████████▉ | 3000/3375 [04:20<00:30, 12.18it/s]"
     ]
    },
    {
     "name": "stdout",
     "output_type": "stream",
     "text": [
      "{'loss': 0.0011, 'grad_norm': 0.0017900688108056784, 'learning_rate': 2.222222222222222e-06, 'epoch': 2.67}\n"
     ]
    },
    {
     "name": "stderr",
     "output_type": "stream",
     "text": [
      "100%|██████████| 3375/3375 [04:53<00:00, 12.70it/s]\n",
      "\u001b[A                                              \n",
      "\n",
      "                                                   \n",
      "100%|██████████| 3375/3375 [04:55<00:00, 12.70it/s]\n",
      "\n",
      "                                                   \n",
      "100%|██████████| 3375/3375 [04:55<00:00, 11.40it/s]"
     ]
    },
    {
     "name": "stdout",
     "output_type": "stream",
     "text": [
      "{'eval_loss': 0.0005639877635985613, 'eval_precision': 0.9993894993894994, 'eval_recall': 0.9993894993894994, 'eval_f1': 0.9993894993894994, 'eval_accuracy': 0.9999603520735866, 'eval_runtime': 1.3751, 'eval_samples_per_second': 1308.983, 'eval_steps_per_second': 82.175, 'epoch': 3.0}\n",
      "{'train_runtime': 295.9256, 'train_samples_per_second': 182.478, 'train_steps_per_second': 11.405, 'train_loss': 0.0020469576782650416, 'epoch': 3.0}\n",
      "model trained\n"
     ]
    },
    {
     "name": "stderr",
     "output_type": "stream",
     "text": [
      "\n"
     ]
    }
   ],
   "source": [
    "# Data collator\n",
    "from transformers import DataCollatorForTokenClassification, TrainerCallback\n",
    "data_collator = DataCollatorForTokenClassification(tokenizer)\n",
    "from seqeval.metrics import classification_report\n",
    "\n",
    "# Define evaluation metric using seqeval library\n",
    "def compute_metrics(p):\n",
    "    y_pred = []\n",
    "    y_true = []\n",
    "\n",
    "    predictions, labels = p\n",
    "    predictions = np.argmax(predictions, axis=2)\n",
    "\n",
    "    for prediction, label in zip(predictions, labels):\n",
    "        # Filter out padding\n",
    "        filtered_prediction = [\n",
    "            p for p, l in zip(prediction, label) if l != -100\n",
    "        ]\n",
    "        filtered_label = [\n",
    "            l for l in label if l != -100\n",
    "        ]\n",
    "\n",
    "        if len(filtered_prediction) == len(filtered_label):\n",
    "            y_pred.append([label_list[p] for p in filtered_prediction])\n",
    "            y_true.append([label_list[l] for l in filtered_label])\n",
    "\n",
    "    # Use seqeval for sequence-level evaluation\n",
    "    report = classification_report(y_true, y_pred, output_dict=True)\n",
    "\n",
    "    precision = report[\"macro avg\"][\"precision\"]\n",
    "    recall = report[\"macro avg\"][\"recall\"]\n",
    "    f1 = report[\"macro avg\"][\"f1-score\"]\n",
    "\n",
    "    # Custom token-level accuracy\n",
    "    total_tokens = sum(len(seq) for seq in y_true)\n",
    "    correct_tokens = sum(\n",
    "        sum(p == l for p, l in zip(pred_seq, true_seq))\n",
    "        for pred_seq, true_seq in zip(y_pred, y_true)\n",
    "    )\n",
    "    accuracy = correct_tokens / total_tokens\n",
    "\n",
    "    return {\n",
    "        \"precision\": precision,\n",
    "        \"recall\": recall,\n",
    "        \"f1\": f1,\n",
    "        \"accuracy\": accuracy,\n",
    "    }\n",
    "\n",
    "# Custom callback class to reset metrics at the end of each epoch\n",
    "class ResetMetricsCallback(TrainerCallback):\n",
    "    def on_epoch_end(self, args, state, control, **kwargs):\n",
    "        # Reset metrics at the end of each epoch\n",
    "        state.metrics = {}  # Clear the trainer's metrics\n",
    "\n",
    "# Initialize Trainer with custom callback\n",
    "trainer = Trainer(\n",
    "    model,\n",
    "    args,\n",
    "    train_dataset=dataset[\"train\"],\n",
    "    eval_dataset=dataset[\"valid\"],\n",
    "    data_collator=data_collator,\n",
    "    tokenizer=tokenizer,\n",
    "    compute_metrics=compute_metrics,\n",
    "    callbacks=[ResetMetricsCallback]  # Add the custom callback\n",
    ")\n",
    "\n",
    "# Train the model\n",
    "trainer.train()\n",
    "\n",
    "print(\"model trained\")"
   ]
  },
  {
   "cell_type": "code",
   "execution_count": 13,
   "metadata": {},
   "outputs": [
    {
     "name": "stderr",
     "output_type": "stream",
     "text": [
      "100%|██████████| 1125/1125 [00:16<00:00, 68.61it/s]\n",
      "100%|██████████| 113/113 [00:01<00:00, 83.30it/s]\n",
      "100%|██████████| 263/263 [00:03<00:00, 66.06it/s]"
     ]
    },
    {
     "name": "stdout",
     "output_type": "stream",
     "text": [
      "done\n"
     ]
    },
    {
     "name": "stderr",
     "output_type": "stream",
     "text": [
      "\n"
     ]
    }
   ],
   "source": [
    "# Save the model\n",
    "trainer.save_model(\"models/camembert\")\n",
    "\n",
    "# Evaluate model on train and validation sets\n",
    "train_metrics = trainer.evaluate(dataset[\"train\"])\n",
    "validation_metrics = trainer.evaluate(dataset[\"valid\"])\n",
    "\n",
    "# Predict on the test set\n",
    "predictions, labels, _ = trainer.predict(dataset[\"test\"])\n",
    "predictions = np.argmax(predictions, axis=2)\n",
    "\n",
    "y_pred = [\n",
    "    [label_list[p] for p, l in zip(prediction, label) if l != -100]\n",
    "    for prediction, label in zip(predictions, labels)\n",
    "]\n",
    "y_true = [\n",
    "    [label_list[l] for p, l in zip(prediction, label) if l != -100]\n",
    "    for prediction, label in zip(predictions, labels)\n",
    "]\n",
    "\n",
    "print(\"done\")"
   ]
  },
  {
   "cell_type": "code",
   "execution_count": 15,
   "metadata": {},
   "outputs": [
    {
     "name": "stdout",
     "output_type": "stream",
     "text": [
      "Results: {'precision': 0.9988118811881188, 'recall': 0.9989437549511486, 'f1': 0.998877813717077, 'accuracy': 0.9998459958932239}\n"
     ]
    }
   ],
   "source": [
    "# Flatten y_pred and y_true\n",
    "flat_y_pred = [item for sublist in y_pred for item in sublist]\n",
    "flat_y_true = [item for sublist in y_true for item in sublist]\n",
    "\n",
    "# Compute evaluation results using seqeval\n",
    "results = {\n",
    "    \"precision\": precision_score(y_true, y_pred),\n",
    "    \"recall\": recall_score(y_true, y_pred),\n",
    "    \"f1\": f1_score(y_true, y_pred),\n",
    "    \"accuracy\": np.mean(np.array(flat_y_pred) == np.array(flat_y_true))\n",
    "}\n",
    "\n",
    "print(f\"Results: {results}\")\n"
   ]
  },
  {
   "cell_type": "code",
   "execution_count": 16,
   "metadata": {},
   "outputs": [
    {
     "data": {
      "image/png": "[encoded data removed]",
      "text/plain": [
       "<Figure size 640x480 with 2 Axes>"
      ]
     },
     "metadata": {},
     "output_type": "display_data"
    }
   ],
   "source": [
    "# Display confusion matrix\n",
    "flat_y_true = [item for sublist in y_true for item in sublist]\n",
    "flat_y_pred = [item for sublist in y_pred for item in sublist]\n",
    "\n",
    "cm = confusion_matrix(flat_y_true, flat_y_pred, labels=label_list)\n",
    "\n",
    "sns.heatmap(cm, annot=True, cmap='Blues', fmt='g', xticklabels=label_list, yticklabels=label_list)\n",
    "plt.xlabel('Predicted labels')\n",
    "plt.ylabel('True labels')\n",
    "plt.title('Confusion Matrix')\n",
    "plt.show()"
   ]
  },
  {
   "cell_type": "code",
   "execution_count": 17,
   "metadata": {},
   "outputs": [
    {
     "data": {
      "image/png": "[encoded data removed]",
      "text/plain": [
       "<Figure size 640x480 with 2 Axes>"
      ]
     },
     "metadata": {},
     "output_type": "display_data"
    }
   ],
   "source": [
    "# Display confusion matrix without label \"O\"\n",
    "def filter_label(label_to_exclude, true_labels, predicted_labels):\n",
    "    filtered_true = [true for true, pred in zip(true_labels, predicted_labels) if pred != label_to_exclude]\n",
    "    filtered_pred = [pred for pred in predicted_labels if pred != label_to_exclude]\n",
    "    return filtered_true, filtered_pred\n",
    "\n",
    "filtered_y_true, filtered_y_pred = filter_label(\"O\", y_true, y_pred)\n",
    "\n",
    "flat_filtered_y_true = [item for sublist in filtered_y_true for item in sublist]\n",
    "flat_filtered_y_pred = [item for sublist in filtered_y_pred for item in sublist]\n",
    "\n",
    "cm = confusion_matrix(flat_filtered_y_true, flat_filtered_y_pred, labels=label_list[1:])\n",
    "\n",
    "sns.heatmap(cm, annot=True, cmap='Blues', fmt='g', xticklabels=label_list[1:], yticklabels=label_list[1:])\n",
    "plt.xlabel('Predicted labels')\n",
    "plt.ylabel('True labels')\n",
    "plt.title('Confusion Matrix (Filtered \"O\" label)')\n",
    "plt.show()"
   ]
  }
 ],
 "metadata": {
  "kernelspec": {
   "display_name": "travelorder",
   "language": "python",
   "name": "python3"
  },
  "language_info": {
   "codemirror_mode": {
    "name": "ipython",
    "version": 3
   },
   "file_extension": ".py",
   "mimetype": "text/x-python",
   "name": "python",
   "nbconvert_exporter": "python",
   "pygments_lexer": "ipython3",
   "version": "3.12.7"
  }
 },
 "nbformat": 4,
 "nbformat_minor": 4
}
