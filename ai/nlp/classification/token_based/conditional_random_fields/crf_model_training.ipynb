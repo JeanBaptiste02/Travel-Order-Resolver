{
 "cells": [
  {
   "cell_type": "code",
   "execution_count": 1,
   "metadata": {},
   "outputs": [
    {
     "name": "stdout",
     "output_type": "stream",
     "text": [
      "Libraries imported\n"
     ]
    }
   ],
   "source": [
    "import pandas as pd\n",
    "import ast\n",
    "import sklearn\n",
    "from sklearn.model_selection import train_test_split\n",
    "from sklearn_crfsuite import CRF\n",
    "from sklearn_crfsuite.metrics import flat_classification_report, flat_f1_score\n",
    "import matplotlib.pyplot as plt\n",
    "from tqdm import tqdm\n",
    "from collections import Counter\n",
    "\n",
    "print(\"Libraries imported\")"
   ]
  },
  {
   "cell_type": "code",
   "execution_count": 4,
   "metadata": {},
   "outputs": [
    {
     "name": "stdout",
     "output_type": "stream",
     "text": [
      "Loading dataset...\n"
     ]
    },
    {
     "name": "stderr",
     "output_type": "stream",
     "text": [
      "Loading dataset: 100%|██████████| 100/100 [00:03<00:00, 26.68it/s]\n"
     ]
    }
   ],
   "source": [
    "# Chemins\n",
    "dataset_path = \"C:/Users/vikne/Documents/Master 2/Semestre 9/Intelligence artificielle/Travel-Order-Resolver/ai/nlp/dataset/tokens/token.csv\"\n",
    "model_path = \"C:/Users/vikne/Documents/Master 2/Semestre 9/Intelligence artificielle/Travel-Order-Resolver/ai/nlp/models/crf/\"\n",
    "\n",
    "# Chargement des données\n",
    "print(\"Loading dataset...\")\n",
    "def load_dataset_with_progress(dataset_path):\n",
    "    with tqdm(total=100, desc=\"Loading dataset\") as pbar:\n",
    "        dataset = pd.read_csv(dataset_path, delimiter=';', quotechar='\"', names=[\"text\", \"tokens\", \"ner_tags\", \"spacy_ner_tags\"])\n",
    "        pbar.update(100)\n",
    "    return dataset\n",
    "\n",
    "dataset = load_dataset_with_progress(dataset_path)\n",
    "# Limiter à 80 000 lignes\n",
    "dataset = dataset.head(80000)"
   ]
  },
  {
   "cell_type": "code",
   "execution_count": 5,
   "metadata": {},
   "outputs": [
    {
     "name": "stdout",
     "output_type": "stream",
     "text": [
      "Preparing data...\n"
     ]
    },
    {
     "name": "stderr",
     "output_type": "stream",
     "text": [
      "100%|██████████| 80000/80000 [00:25<00:00, 3163.82it/s]\n"
     ]
    }
   ],
   "source": [
    "# Prétraitement des données\n",
    "def safe_eval(val):\n",
    "    try:\n",
    "        val = val.replace('\"\"', '\"').replace(\"'\", '\"')\n",
    "        return ast.literal_eval(val)\n",
    "    except (ValueError, SyntaxError):\n",
    "        return None\n",
    "\n",
    "def prepare_data(dataset):\n",
    "    sequences = []\n",
    "    for _, row in tqdm(dataset.iterrows(), total=len(dataset)):\n",
    "        tokens = safe_eval(row[\"tokens\"])\n",
    "        spacy_ner_tags = safe_eval(row[\"spacy_ner_tags\"]) if pd.notnull(row[\"spacy_ner_tags\"]) else None\n",
    "        if tokens is None:\n",
    "            continue\n",
    "        labels = [\"O\"] * len(tokens)\n",
    "        if spacy_ner_tags:\n",
    "            for tag in spacy_ner_tags:\n",
    "                start, end, label = tag['start'], tag['end'], tag['label']\n",
    "                for i, token in enumerate(tokens):\n",
    "                    if start <= sum(len(t) + 1 for t in tokens[:i]) < end:\n",
    "                        labels[i] = label\n",
    "        sequences.append((tokens, labels))\n",
    "    return sequences\n",
    "\n",
    "print(\"Preparing data...\")\n",
    "data = prepare_data(dataset)"
   ]
  },
  {
   "cell_type": "code",
   "execution_count": 6,
   "metadata": {},
   "outputs": [
    {
     "name": "stdout",
     "output_type": "stream",
     "text": [
      "Splitting data...\n"
     ]
    }
   ],
   "source": [
    "# Caractéristiques pour CRF\n",
    "def word2features(sent, i):\n",
    "    word = sent[i]\n",
    "    features = {\n",
    "        'bias': 1.0,\n",
    "        'word.lower()': word.lower(),\n",
    "        'word[-3:]': word[-3:],\n",
    "        'word[-2:]': word[-2:],\n",
    "        'word.isupper()': word.isupper(),\n",
    "        'word.istitle()': word.istitle(),\n",
    "        'word.isdigit()': word.isdigit(),\n",
    "        'BOS': i == 0,\n",
    "        'EOS': i == len(sent) - 1\n",
    "    }\n",
    "    if i > 0:\n",
    "        word1 = sent[i - 1]\n",
    "        features.update({\n",
    "            '-1:word.lower()': word1.lower(),\n",
    "            '-1:word.istitle()': word1.istitle(),\n",
    "            '-1:word.isupper()': word1.isupper(),\n",
    "        })\n",
    "    else:\n",
    "        features['BOS'] = True\n",
    "\n",
    "    if i < len(sent) - 1:\n",
    "        word1 = sent[i + 1]\n",
    "        features.update({\n",
    "            '+1:word.lower()': word1.lower(),\n",
    "            '+1:word.istitle()': word1.istitle(),\n",
    "            '+1:word.isupper()': word1.isupper(),\n",
    "        })\n",
    "    else:\n",
    "        features['EOS'] = True\n",
    "\n",
    "    return features\n",
    "\n",
    "def sent2features(sent):\n",
    "    return [word2features(sent, i) for i in range(len(sent))]\n",
    "\n",
    "def sent2labels(labels):\n",
    "    return labels\n",
    "\n",
    "# Séparation des données\n",
    "print(\"Splitting data...\")\n",
    "train, test_valid = train_test_split(data, test_size=0.5, random_state=42)\n",
    "test, valid = train_test_split(test_valid, test_size=0.5, random_state=42)\n",
    "\n",
    "X_train = [sent2features(s[0]) for s in train]\n",
    "y_train = [sent2labels(s[1]) for s in train]\n",
    "X_valid = [sent2features(s[0]) for s in valid]\n",
    "y_valid = [sent2labels(s[1]) for s in valid]\n",
    "X_test = [sent2features(s[0]) for s in test]\n",
    "y_test = [sent2labels(s[1]) for s in test]"
   ]
  },
  {
   "cell_type": "code",
   "execution_count": 7,
   "metadata": {},
   "outputs": [
    {
     "name": "stdout",
     "output_type": "stream",
     "text": [
      "Training CRF model...\n"
     ]
    },
    {
     "name": "stderr",
     "output_type": "stream",
     "text": [
      "Training epochs:   5%|▌         | 1/20 [00:20<06:27, 20.41s/it]"
     ]
    },
    {
     "name": "stdout",
     "output_type": "stream",
     "text": [
      "Epoch 1: F1-Score on validation set: 0.9847\n"
     ]
    },
    {
     "name": "stderr",
     "output_type": "stream",
     "text": [
      "Training epochs:  10%|█         | 2/20 [00:52<08:06, 27.06s/it]"
     ]
    },
    {
     "name": "stdout",
     "output_type": "stream",
     "text": [
      "Epoch 2: F1-Score on validation set: 0.9847\n"
     ]
    },
    {
     "name": "stderr",
     "output_type": "stream",
     "text": [
      "Training epochs:  15%|█▌        | 3/20 [01:17<07:25, 26.20s/it]"
     ]
    },
    {
     "name": "stdout",
     "output_type": "stream",
     "text": [
      "Epoch 3: F1-Score on validation set: 0.9847\n"
     ]
    },
    {
     "name": "stderr",
     "output_type": "stream",
     "text": [
      "Training epochs:  20%|██        | 4/20 [01:36<06:15, 23.47s/it]"
     ]
    },
    {
     "name": "stdout",
     "output_type": "stream",
     "text": [
      "Epoch 4: F1-Score on validation set: 0.9847\n"
     ]
    },
    {
     "name": "stderr",
     "output_type": "stream",
     "text": [
      "Training epochs:  25%|██▌       | 5/20 [01:54<05:22, 21.52s/it]"
     ]
    },
    {
     "name": "stdout",
     "output_type": "stream",
     "text": [
      "Epoch 5: F1-Score on validation set: 0.9847\n"
     ]
    },
    {
     "name": "stderr",
     "output_type": "stream",
     "text": [
      "Training epochs:  30%|███       | 6/20 [02:13<04:48, 20.61s/it]"
     ]
    },
    {
     "name": "stdout",
     "output_type": "stream",
     "text": [
      "Epoch 6: F1-Score on validation set: 0.9847\n"
     ]
    },
    {
     "name": "stderr",
     "output_type": "stream",
     "text": [
      "Training epochs:  35%|███▌      | 7/20 [02:32<04:21, 20.15s/it]"
     ]
    },
    {
     "name": "stdout",
     "output_type": "stream",
     "text": [
      "Epoch 7: F1-Score on validation set: 0.9847\n"
     ]
    },
    {
     "name": "stderr",
     "output_type": "stream",
     "text": [
      "Training epochs:  40%|████      | 8/20 [02:51<03:56, 19.73s/it]"
     ]
    },
    {
     "name": "stdout",
     "output_type": "stream",
     "text": [
      "Epoch 8: F1-Score on validation set: 0.9847\n"
     ]
    },
    {
     "name": "stderr",
     "output_type": "stream",
     "text": [
      "Training epochs:  45%|████▌     | 9/20 [03:10<03:34, 19.48s/it]"
     ]
    },
    {
     "name": "stdout",
     "output_type": "stream",
     "text": [
      "Epoch 9: F1-Score on validation set: 0.9847\n"
     ]
    },
    {
     "name": "stderr",
     "output_type": "stream",
     "text": [
      "Training epochs:  50%|█████     | 10/20 [03:29<03:12, 19.29s/it]"
     ]
    },
    {
     "name": "stdout",
     "output_type": "stream",
     "text": [
      "Epoch 10: F1-Score on validation set: 0.9847\n"
     ]
    },
    {
     "name": "stderr",
     "output_type": "stream",
     "text": [
      "Training epochs:  55%|█████▌    | 11/20 [03:47<02:50, 18.99s/it]"
     ]
    },
    {
     "name": "stdout",
     "output_type": "stream",
     "text": [
      "Epoch 11: F1-Score on validation set: 0.9847\n"
     ]
    },
    {
     "name": "stderr",
     "output_type": "stream",
     "text": [
      "Training epochs:  60%|██████    | 12/20 [04:06<02:32, 19.04s/it]"
     ]
    },
    {
     "name": "stdout",
     "output_type": "stream",
     "text": [
      "Epoch 12: F1-Score on validation set: 0.9847\n"
     ]
    },
    {
     "name": "stderr",
     "output_type": "stream",
     "text": [
      "Training epochs:  65%|██████▌   | 13/20 [04:25<02:12, 18.87s/it]"
     ]
    },
    {
     "name": "stdout",
     "output_type": "stream",
     "text": [
      "Epoch 13: F1-Score on validation set: 0.9847\n"
     ]
    },
    {
     "name": "stderr",
     "output_type": "stream",
     "text": [
      "Training epochs:  70%|███████   | 14/20 [04:44<01:54, 19.04s/it]"
     ]
    },
    {
     "name": "stdout",
     "output_type": "stream",
     "text": [
      "Epoch 14: F1-Score on validation set: 0.9847\n"
     ]
    },
    {
     "name": "stderr",
     "output_type": "stream",
     "text": [
      "Training epochs:  75%|███████▌  | 15/20 [05:03<01:35, 19.05s/it]"
     ]
    },
    {
     "name": "stdout",
     "output_type": "stream",
     "text": [
      "Epoch 15: F1-Score on validation set: 0.9847\n"
     ]
    },
    {
     "name": "stderr",
     "output_type": "stream",
     "text": [
      "Training epochs:  80%|████████  | 16/20 [05:21<01:14, 18.64s/it]"
     ]
    },
    {
     "name": "stdout",
     "output_type": "stream",
     "text": [
      "Epoch 16: F1-Score on validation set: 0.9847\n"
     ]
    },
    {
     "name": "stderr",
     "output_type": "stream",
     "text": [
      "Training epochs:  85%|████████▌ | 17/20 [05:41<00:57, 19.13s/it]"
     ]
    },
    {
     "name": "stdout",
     "output_type": "stream",
     "text": [
      "Epoch 17: F1-Score on validation set: 0.9847\n"
     ]
    },
    {
     "name": "stderr",
     "output_type": "stream",
     "text": [
      "Training epochs:  90%|█████████ | 18/20 [06:03<00:39, 19.84s/it]"
     ]
    },
    {
     "name": "stdout",
     "output_type": "stream",
     "text": [
      "Epoch 18: F1-Score on validation set: 0.9847\n"
     ]
    },
    {
     "name": "stderr",
     "output_type": "stream",
     "text": [
      "Training epochs:  95%|█████████▌| 19/20 [06:21<00:19, 19.30s/it]"
     ]
    },
    {
     "name": "stdout",
     "output_type": "stream",
     "text": [
      "Epoch 19: F1-Score on validation set: 0.9847\n"
     ]
    },
    {
     "name": "stderr",
     "output_type": "stream",
     "text": [
      "Training epochs: 100%|██████████| 20/20 [06:40<00:00, 20.04s/it]"
     ]
    },
    {
     "name": "stdout",
     "output_type": "stream",
     "text": [
      "Epoch 20: F1-Score on validation set: 0.9847\n"
     ]
    },
    {
     "name": "stderr",
     "output_type": "stream",
     "text": [
      "\n"
     ]
    }
   ],
   "source": [
    "# Entraînement du modèle CRF\n",
    "print(\"Training CRF model...\")\n",
    "crf = CRF(algorithm='lbfgs', max_iterations=100, c1=0.1, c2=0.1, all_possible_transitions=True)\n",
    "\n",
    "losses = []\n",
    "for epoch in tqdm(range(20), desc=\"Training epochs\"):\n",
    "    crf.fit(X_train, y_train)\n",
    "    y_pred = crf.predict(X_valid)\n",
    "    f1 = flat_f1_score(y_valid, y_pred, average='weighted')\n",
    "    print(f\"Epoch {epoch + 1}: F1-Score on validation set: {f1:.4f}\")\n",
    "    losses.append(1 - f1)"
   ]
  },
  {
   "cell_type": "code",
   "execution_count": 8,
   "metadata": {},
   "outputs": [
    {
     "name": "stdout",
     "output_type": "stream",
     "text": [
      "\n",
      "Evaluating on test set...\n",
      "\n",
      "Classification Report on Test Set:\n",
      "              precision    recall  f1-score   support\n",
      "\n",
      "         ARR       0.97      0.96      0.96     17895\n",
      "         DEP       0.97      0.98      0.98     17804\n",
      "           O       0.99      0.99      0.99     97672\n",
      "\n",
      "    accuracy                           0.98    133371\n",
      "   macro avg       0.98      0.98      0.98    133371\n",
      "weighted avg       0.98      0.98      0.98    133371\n",
      "\n"
     ]
    }
   ],
   "source": [
    "# Évaluation finale\n",
    "print(\"\\nEvaluating on test set...\")\n",
    "y_pred = crf.predict(X_test)\n",
    "report = flat_classification_report(y_test, y_pred)\n",
    "print(\"\\nClassification Report on Test Set:\")\n",
    "print(report)"
   ]
  },
  {
   "cell_type": "code",
   "execution_count": 10,
   "metadata": {},
   "outputs": [
    {
     "name": "stdout",
     "output_type": "stream",
     "text": [
      "Saving model...\n"
     ]
    },
    {
     "data": {
      "image/png": "[encoded data removed]",
      "text/plain": [
       "<Figure size 640x480 with 1 Axes>"
      ]
     },
     "metadata": {},
     "output_type": "display_data"
    },
    {
     "name": "stdout",
     "output_type": "stream",
     "text": [
      "\n",
      "Testing on new sentences...\n",
      "\n",
      "Phrase: Je pars de Paris et j'arrive à Marseille.\n",
      " - Je: O\n",
      " - pars: O\n",
      " - de: O\n",
      " - Paris: ARR\n",
      " - et: ARR\n",
      " - j'arrive: ARR\n",
      " - à: ARR\n",
      " - Marseille.: ARR\n",
      "\n",
      "Phrase: Je vais à Bordeaux en partant de Toulouse.\n",
      " - Je: O\n",
      " - vais: O\n",
      " - à: O\n",
      " - Bordeaux: ARR\n",
      " - en: O\n",
      " - partant: O\n",
      " - de: O\n",
      " - Toulouse.: O\n",
      "\n",
      "Phrase: Mon trajet va de VILLIERS SUR LOIR à JARNY.\n",
      " - Mon: O\n",
      " - trajet: O\n",
      " - va: O\n",
      " - de: O\n",
      " - VILLIERS: DEP\n",
      " - SUR: DEP\n",
      " - LOIR: DEP\n",
      " - à: O\n",
      " - JARNY.: ARR\n",
      "\n",
      "Phrase: Nous partons de Lyon et nous arrivons à Nice.\n",
      " - Nous: O\n",
      " - partons: O\n",
      " - de: O\n",
      " - Lyon: DEP\n",
      " - et: O\n",
      " - nous: O\n",
      " - arrivons: O\n",
      " - à: O\n",
      " - Nice.: O\n",
      "\n",
      "Phrase: Le départ est prévu à Lille, et l'arrivée se fera à Strasbourg.\n",
      " - Le: O\n",
      " - départ: O\n",
      " - est: O\n",
      " - prévu: O\n",
      " - à: O\n",
      " - Lille,: ARR\n",
      " - et: O\n",
      " - l'arrivée: O\n",
      " - se: O\n",
      " - fera: O\n",
      " - à: O\n",
      " - Strasbourg.: O\n",
      "\n",
      "Phrase: Mon itinéraire inclut un départ de Montpellier et une arrivée à Perpignan.\n",
      " - Mon: O\n",
      " - itinéraire: O\n",
      " - inclut: O\n",
      " - un: O\n",
      " - départ: O\n",
      " - de: O\n",
      " - Montpellier: ARR\n",
      " - et: O\n",
      " - une: O\n",
      " - arrivée: O\n",
      " - à: O\n",
      " - Perpignan.: O\n",
      "\n",
      "Phrase: Le train partira de Nantes pour arriver à Rennes.\n",
      " - Le: O\n",
      " - train: O\n",
      " - partira: O\n",
      " - de: O\n",
      " - Nantes: ARR\n",
      " - pour: O\n",
      " - arriver: O\n",
      " - à: O\n",
      " - Rennes.: ARR\n",
      "\n",
      "Phrase: Un vol de Genève à Zurich est prévu demain matin.\n",
      " - Un: O\n",
      " - vol: O\n",
      " - de: O\n",
      " - Genève: DEP\n",
      " - à: O\n",
      " - Zurich: O\n",
      " - est: O\n",
      " - prévu: O\n",
      " - demain: O\n",
      " - matin.: O\n",
      "\n",
      "Phrase: Je vais de Grenoble à Dijon en voiture.\n",
      " - Je: O\n",
      " - vais: O\n",
      " - de: O\n",
      " - Grenoble: ARR\n",
      " - à: ARR\n",
      " - Dijon: ARR\n",
      " - en: O\n",
      " - voiture.: O\n",
      "\n",
      "Phrase: Je voyage de Bruxelles à Amsterdam ce week-end.\n",
      " - Je: O\n",
      " - voyage: O\n",
      " - de: O\n",
      " - Bruxelles: DEP\n",
      " - à: O\n",
      " - Amsterdam: O\n",
      " - ce: O\n",
      " - week-end.: O\n",
      "\n",
      "Phrase: L'itinéraire commence à Marseille et se termine à Toulon.\n",
      " - L'itinéraire: O\n",
      " - commence: O\n",
      " - à: O\n",
      " - Marseille: ARR\n",
      " - et: O\n",
      " - se: O\n",
      " - termine: O\n",
      " - à: O\n",
      " - Toulon.: O\n",
      "\n",
      "Phrase: Nous prenons un train de Rouen pour aller au Havre.\n",
      " - Nous: O\n",
      " - prenons: O\n",
      " - un: O\n",
      " - train: O\n",
      " - de: O\n",
      " - Rouen: ARR\n",
      " - pour: O\n",
      " - aller: O\n",
      " - au: O\n",
      " - Havre.: O\n",
      "\n",
      "Phrase: Le départ sera à Limoges et l'arrivée à Poitiers.\n",
      " - Le: O\n",
      " - départ: O\n",
      " - sera: O\n",
      " - à: O\n",
      " - Limoges: ARR\n",
      " - et: O\n",
      " - l'arrivée: O\n",
      " - à: O\n",
      " - Poitiers.: O\n",
      "\n",
      "Phrase: Je quitte Monaco pour aller à Menton.\n",
      " - Je: O\n",
      " - quitte: O\n",
      " - Monaco: ARR\n",
      " - pour: O\n",
      " - aller: O\n",
      " - à: O\n",
      " - Menton.: O\n",
      "\n",
      "Phrase: Le bus va de Caen à Cherbourg.\n",
      " - Le: O\n",
      " - bus: O\n",
      " - va: O\n",
      " - de: O\n",
      " - Caen: DEP\n",
      " - à: O\n",
      " - Cherbourg.: O\n",
      "\n",
      "Phrase: Il part de Bayonne et arrive à Biarritz.\n",
      " - Il: O\n",
      " - part: O\n",
      " - de: O\n",
      " - Bayonne: ARR\n",
      " - et: O\n",
      " - arrive: O\n",
      " - à: O\n",
      " - Biarritz.: O\n",
      "\n",
      "Phrase: Je vais de Chamonix à Annecy.\n",
      " - Je: O\n",
      " - vais: O\n",
      " - de: O\n",
      " - Chamonix: ARR\n",
      " - à: ARR\n",
      " - Annecy.: ARR\n",
      "\n",
      "Phrase: Nous roulons de Bastia à Ajaccio.\n",
      " - Nous: O\n",
      " - roulons: O\n",
      " - de: O\n",
      " - Bastia: O\n",
      " - à: O\n",
      " - Ajaccio.: O\n",
      "\n",
      "Phrase: Le ferry part de Calais pour arriver à Douvres.\n",
      " - Le: O\n",
      " - ferry: O\n",
      " - part: O\n",
      " - de: O\n",
      " - Calais: DEP\n",
      " - pour: O\n",
      " - arriver: O\n",
      " - à: O\n",
      " - Douvres.: ARR\n",
      "\n",
      "Phrase: Je pars de Bordeaux et j'arrive à Paris.\n",
      " - Je: O\n",
      " - pars: O\n",
      " - de: O\n",
      " - Bordeaux: ARR\n",
      " - et: O\n",
      " - j'arrive: O\n",
      " - à: O\n",
      " - Paris.: O\n",
      "\n",
      "Phrase: Notre vol va de Madrid à Barcelone.\n",
      " - Notre: O\n",
      " - vol: O\n",
      " - va: O\n",
      " - de: O\n",
      " - Madrid: DEP\n",
      " - à: O\n",
      " - Barcelone.: O\n",
      "\n",
      "Phrase: Un trajet en voiture de Milan à Rome est prévu.\n",
      " - Un: O\n",
      " - trajet: O\n",
      " - en: O\n",
      " - voiture: O\n",
      " - de: O\n",
      " - Milan: DEP\n",
      " - à: O\n",
      " - Rome: O\n",
      " - est: O\n",
      " - prévu.: O\n",
      "\n",
      "Phrase: Le départ est de Zurich et l'arrivée est à Lausanne.\n",
      " - Le: O\n",
      " - départ: O\n",
      " - est: O\n",
      " - de: O\n",
      " - Zurich: DEP\n",
      " - et: O\n",
      " - l'arrivée: O\n",
      " - est: O\n",
      " - à: O\n",
      " - Lausanne.: O\n",
      "\n",
      "Phrase: Je vais à Londres depuis Manchester.\n",
      " - Je: O\n",
      " - vais: O\n",
      " - à: O\n",
      " - Londres: ARR\n",
      " - depuis: O\n",
      " - Manchester.: O\n",
      "\n",
      "Phrase: Le train va de Tokyo à Kyoto.\n",
      " - Le: O\n",
      " - train: O\n",
      " - va: O\n",
      " - de: O\n",
      " - Tokyo: DEP\n",
      " - à: O\n",
      " - Kyoto.: O\n"
     ]
    }
   ],
   "source": [
    "import os\n",
    "import joblib\n",
    "import matplotlib.pyplot as plt\n",
    "\n",
    "# Assurez-vous que le répertoire existe\n",
    "if not os.path.exists(model_path):\n",
    "    os.makedirs(model_path)\n",
    "\n",
    "print(\"Saving model...\")\n",
    "joblib.dump(crf, model_path + \"crf_model.joblib\")\n",
    "\n",
    "# Visualisation des pertes\n",
    "plt.plot(losses)\n",
    "plt.title(\"Loss per epoch\")\n",
    "plt.xlabel(\"Epoch\")\n",
    "plt.ylabel(\"Loss\")\n",
    "plt.show()\n",
    "\n",
    "# Test du modèle sur des phrases\n",
    "test_sentences = [\n",
    "    \"Je pars de Paris et j'arrive à Marseille.\",\n",
    "    \"Je vais à Bordeaux en partant de Toulouse.\",\n",
    "    \"Mon trajet va de VILLIERS SUR LOIR à JARNY.\",\n",
    "    \"Nous partons de Lyon et nous arrivons à Nice.\",\n",
    "    \"Le départ est prévu à Lille, et l'arrivée se fera à Strasbourg.\",\n",
    "    \"Mon itinéraire inclut un départ de Montpellier et une arrivée à Perpignan.\",\n",
    "    \"Le train partira de Nantes pour arriver à Rennes.\",\n",
    "    \"Un vol de Genève à Zurich est prévu demain matin.\",\n",
    "    \"Je vais de Grenoble à Dijon en voiture.\",\n",
    "    \"Je voyage de Bruxelles à Amsterdam ce week-end.\",\n",
    "    \"L'itinéraire commence à Marseille et se termine à Toulon.\",\n",
    "    \"Nous prenons un train de Rouen pour aller au Havre.\",\n",
    "    \"Le départ sera à Limoges et l'arrivée à Poitiers.\",\n",
    "    \"Je quitte Monaco pour aller à Menton.\",\n",
    "    \"Le bus va de Caen à Cherbourg.\",\n",
    "    \"Il part de Bayonne et arrive à Biarritz.\",\n",
    "    \"Je vais de Chamonix à Annecy.\",\n",
    "    \"Nous roulons de Bastia à Ajaccio.\",\n",
    "    \"Le ferry part de Calais pour arriver à Douvres.\",\n",
    "    \"Je pars de Bordeaux et j'arrive à Paris.\",\n",
    "    \"Notre vol va de Madrid à Barcelone.\",\n",
    "    \"Un trajet en voiture de Milan à Rome est prévu.\",\n",
    "    \"Le départ est de Zurich et l'arrivée est à Lausanne.\",\n",
    "    \"Je vais à Londres depuis Manchester.\",\n",
    "    \"Le train va de Tokyo à Kyoto.\"\n",
    "]\n",
    "\n",
    "print(\"\\nTesting on new sentences...\")\n",
    "for sentence in test_sentences:\n",
    "    tokens = sentence.split()\n",
    "    features = sent2features(tokens)\n",
    "    prediction = crf.predict([features])[0]\n",
    "    print(f\"\\nPhrase: {sentence}\")\n",
    "    for token, label in zip(tokens, prediction):\n",
    "        print(f\" - {token}: {label}\")"
   ]
  }
 ],
 "metadata": {
  "kernelspec": {
   "display_name": "base",
   "language": "python",
   "name": "python3"
  },
  "language_info": {
   "codemirror_mode": {
    "name": "ipython",
    "version": 3
   },
   "file_extension": ".py",
   "mimetype": "text/x-python",
   "name": "python",
   "nbconvert_exporter": "python",
   "pygments_lexer": "ipython3",
   "version": "3.11.7"
  }
 },
 "nbformat": 4,
 "nbformat_minor": 4
}
