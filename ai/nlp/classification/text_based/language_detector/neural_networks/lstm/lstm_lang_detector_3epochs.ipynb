{
 "cells": [
  {
   "cell_type": "code",
   "execution_count": 1,
   "metadata": {},
   "outputs": [
    {
     "name": "stdout",
     "output_type": "stream",
     "text": [
      "imported libraries\n"
     ]
    }
   ],
   "source": [
    "# Importation des librairies nécessaires\n",
    "import pandas as pd\n",
    "import numpy as np\n",
    "import matplotlib.pyplot as plt\n",
    "import seaborn as sns\n",
    "from sklearn.model_selection import train_test_split\n",
    "from tensorflow.keras.models import Sequential\n",
    "from tensorflow.keras.layers import Embedding, LSTM, Dense, Dropout\n",
    "from tensorflow.keras.preprocessing.text import Tokenizer\n",
    "from tensorflow.keras.preprocessing.sequence import pad_sequences\n",
    "from tensorflow.keras.callbacks import EarlyStopping\n",
    "from tensorflow.keras.optimizers import Adam\n",
    "from sklearn.metrics import classification_report, accuracy_score, confusion_matrix\n",
    "import joblib\n",
    "\n",
    "print(\"imported libraries\")"
   ]
  },
  {
   "cell_type": "code",
   "execution_count": 2,
   "metadata": {},
   "outputs": [
    {
     "name": "stdout",
     "output_type": "stream",
     "text": [
      "Running on device: cuda\n"
     ]
    }
   ],
   "source": [
    "from torch import cuda\n",
    "\n",
    "# Setup device\n",
    "device = 'cuda' if cuda.is_available() else 'cpu'\n",
    "print(f\"Running on device: {device}\")"
   ]
  },
  {
   "cell_type": "code",
   "execution_count": 3,
   "metadata": {},
   "outputs": [
    {
     "data": {
      "text/html": [
       "<div>\n",
       "<style scoped>\n",
       "    .dataframe tbody tr th:only-of-type {\n",
       "        vertical-align: middle;\n",
       "    }\n",
       "\n",
       "    .dataframe tbody tr th {\n",
       "        vertical-align: top;\n",
       "    }\n",
       "\n",
       "    .dataframe thead th {\n",
       "        text-align: right;\n",
       "    }\n",
       "</style>\n",
       "<table border=\"1\" class=\"dataframe\">\n",
       "  <thead>\n",
       "    <tr style=\"text-align: right;\">\n",
       "      <th></th>\n",
       "      <th>sentence</th>\n",
       "      <th>is_not_french</th>\n",
       "    </tr>\n",
       "  </thead>\n",
       "  <tbody>\n",
       "    <tr>\n",
       "      <th>0</th>\n",
       "      <td>Y a -t -il un moyen d 'aller de Montreux -Vieu...</td>\n",
       "      <td>0</td>\n",
       "    </tr>\n",
       "    <tr>\n",
       "      <th>1</th>\n",
       "      <td>I would like to travel from culoz to buswiller...</td>\n",
       "      <td>1</td>\n",
       "    </tr>\n",
       "    <tr>\n",
       "      <th>2</th>\n",
       "      <td>He lied when he said he didn 't like her .</td>\n",
       "      <td>1</td>\n",
       "    </tr>\n",
       "    <tr>\n",
       "      <th>3</th>\n",
       "      <td>?N |ajOLIY6 ;DOM 'mKavLZZnkAi</td>\n",
       "      <td>0</td>\n",
       "    </tr>\n",
       "    <tr>\n",
       "      <th>4</th>\n",
       "      <td>a (c }sMyu7 /97 . [ -IA @m k0rN0U</td>\n",
       "      <td>0</td>\n",
       "    </tr>\n",
       "  </tbody>\n",
       "</table>\n",
       "</div>"
      ],
      "text/plain": [
       "                                            sentence  is_not_french\n",
       "0  Y a -t -il un moyen d 'aller de Montreux -Vieu...              0\n",
       "1  I would like to travel from culoz to buswiller...              1\n",
       "2         He lied when he said he didn 't like her .              1\n",
       "3                      ?N |ajOLIY6 ;DOM 'mKavLZZnkAi              0\n",
       "4                  a (c }sMyu7 /97 . [ -IA @m k0rN0U              0"
      ]
     },
     "execution_count": 3,
     "metadata": {},
     "output_type": "execute_result"
    }
   ],
   "source": [
    "# Charger le dataset\n",
    "input_csv = r\"C:\\Users\\Seed\\Projects\\Travel-Order-Resolver\\ai\\nlp\\dataset\\text\\text_lang_detector.csv\"\n",
    "df = pd.read_csv(input_csv, sep=\";\")\n",
    "df.head()"
   ]
  },
  {
   "cell_type": "code",
   "execution_count": 4,
   "metadata": {},
   "outputs": [],
   "source": [
    "# Prétraiter les données\n",
    "def preprocess_data(df):\n",
    "    X = df['sentence']\n",
    "    y = df['is_not_french']\n",
    "    return X, y\n",
    "\n",
    "X, y = preprocess_data(df)"
   ]
  },
  {
   "cell_type": "code",
   "execution_count": 5,
   "metadata": {},
   "outputs": [],
   "source": [
    "# Diviser les données en ensembles d'entraînement et de test\n",
    "def split_data(X, y, test_size=0.2, random_state=42):\n",
    "    X_train, X_test, y_train, y_test = train_test_split(X, y, test_size=test_size, random_state=random_state)\n",
    "    return X_train, X_test, y_train, y_test\n",
    "\n",
    "X_train, X_test, y_train, y_test = split_data(X, y)"
   ]
  },
  {
   "cell_type": "code",
   "execution_count": 6,
   "metadata": {},
   "outputs": [],
   "source": [
    "# Tokenization des phrases et création de séquences\n",
    "max_words = 10000\n",
    "max_len = 100  # Longueur maximale des séquences\n",
    "\n",
    "tokenizer = Tokenizer(num_words=max_words)\n",
    "tokenizer.fit_on_texts(X_train)\n",
    "\n",
    "X_train_seq = tokenizer.texts_to_sequences(X_train)\n",
    "X_test_seq = tokenizer.texts_to_sequences(X_test)\n",
    "\n",
    "X_train_pad = pad_sequences(X_train_seq, maxlen=max_len)\n",
    "X_test_pad = pad_sequences(X_test_seq, maxlen=max_len)"
   ]
  },
  {
   "cell_type": "code",
   "execution_count": 7,
   "metadata": {},
   "outputs": [
    {
     "name": "stderr",
     "output_type": "stream",
     "text": [
      "c:\\Users\\Seed\\anaconda3\\envs\\travel_order\\Lib\\site-packages\\keras\\src\\layers\\core\\embedding.py:90: UserWarning: Argument `input_length` is deprecated. Just remove it.\n",
      "  warnings.warn(\n"
     ]
    }
   ],
   "source": [
    "# Construction du modèle LSTM\n",
    "model = Sequential()\n",
    "\n",
    "# Couche d'embedding\n",
    "embedding_dim = 50\n",
    "model.add(Embedding(input_dim=max_words, output_dim=embedding_dim, input_length=max_len))\n",
    "\n",
    "# Couche LSTM\n",
    "model.add(LSTM(128, activation='tanh', return_sequences=False))\n",
    "\n",
    "# Dropout pour éviter le sur-apprentissage\n",
    "model.add(Dropout(0.2))\n",
    "\n",
    "# Couche fully connected\n",
    "model.add(Dense(128, activation='relu'))\n",
    "model.add(Dense(1, activation='sigmoid'))  # Sortie binaire (French vs Not French)\n",
    "\n",
    "# Compilation du modèle\n",
    "model.compile(optimizer=Adam(), loss='binary_crossentropy', metrics=['accuracy'])"
   ]
  },
  {
   "cell_type": "code",
   "execution_count": 8,
   "metadata": {},
   "outputs": [
    {
     "name": "stdout",
     "output_type": "stream",
     "text": [
      "Epoch 1/3\n",
      "\u001b[1m32544/32544\u001b[0m \u001b[32m━━━━━━━━━━━━━━━━━━━━\u001b[0m\u001b[37m\u001b[0m \u001b[1m1184s\u001b[0m 36ms/step - accuracy: 0.9936 - loss: 0.0179 - val_accuracy: 0.9977 - val_loss: 0.0077\n",
      "Epoch 2/3\n",
      "\u001b[1m32544/32544\u001b[0m \u001b[32m━━━━━━━━━━━━━━━━━━━━\u001b[0m\u001b[37m\u001b[0m \u001b[1m1143s\u001b[0m 35ms/step - accuracy: 0.9980 - loss: 0.0067 - val_accuracy: 0.9979 - val_loss: 0.0070\n",
      "Epoch 3/3\n",
      "\u001b[1m32544/32544\u001b[0m \u001b[32m━━━━━━━━━━━━━━━━━━━━\u001b[0m\u001b[37m\u001b[0m \u001b[1m1245s\u001b[0m 38ms/step - accuracy: 0.9982 - loss: 0.0062 - val_accuracy: 0.9981 - val_loss: 0.0068\n"
     ]
    }
   ],
   "source": [
    "# Entraînement du modèle\n",
    "early_stopping = EarlyStopping(monitor='val_loss', patience=3, restore_best_weights=True)\n",
    "history = model.fit(X_train_pad, y_train, epochs=3, batch_size=32, validation_data=(X_test_pad, y_test), callbacks=[early_stopping])"
   ]
  },
  {
   "cell_type": "code",
   "execution_count": 9,
   "metadata": {},
   "outputs": [
    {
     "name": "stdout",
     "output_type": "stream",
     "text": [
      "\u001b[1m8136/8136\u001b[0m \u001b[32m━━━━━━━━━━━━━━━━━━━━\u001b[0m\u001b[37m\u001b[0m \u001b[1m104s\u001b[0m 13ms/step\n"
     ]
    }
   ],
   "source": [
    "# Prédictions sur l'ensemble de test\n",
    "y_pred = model.predict(X_test_pad)\n",
    "y_pred = (y_pred > 0.5).astype(int)"
   ]
  },
  {
   "cell_type": "code",
   "execution_count": 10,
   "metadata": {},
   "outputs": [
    {
     "name": "stdout",
     "output_type": "stream",
     "text": [
      "### Classification Report ###\n",
      "              precision    recall  f1-score   support\n",
      "\n",
      "           0       1.00      1.00      1.00    183170\n",
      "           1       1.00      1.00      1.00     77179\n",
      "\n",
      "    accuracy                           1.00    260349\n",
      "   macro avg       1.00      1.00      1.00    260349\n",
      "weighted avg       1.00      1.00      1.00    260349\n",
      "\n",
      "### Accuracy ###\n",
      "Accuracy: 0.9981\n"
     ]
    }
   ],
   "source": [
    "# Évaluation du modèle\n",
    "print(\"### Classification Report ###\")\n",
    "print(classification_report(y_test, y_pred))\n",
    "\n",
    "print(\"### Accuracy ###\")\n",
    "print(f\"Accuracy: {accuracy_score(y_test, y_pred):.4f}\")"
   ]
  },
  {
   "cell_type": "code",
   "execution_count": 11,
   "metadata": {},
   "outputs": [
    {
     "data": {
      "image/png": "[encoded data removed]",
      "text/plain": [
       "<Figure size 800x600 with 2 Axes>"
      ]
     },
     "metadata": {},
     "output_type": "display_data"
    }
   ],
   "source": [
    "# Matrice de confusion\n",
    "def plot_confusion_matrix(y_test, y_pred):\n",
    "    cm = confusion_matrix(y_test, y_pred)\n",
    "    plt.figure(figsize=(8, 6))\n",
    "    sns.heatmap(cm, annot=True, fmt='d', cmap='Blues', xticklabels=[\"French\", \"Not French\"], yticklabels=[\"French\", \"Not French\"])\n",
    "    plt.title('Confusion Matrix')\n",
    "    plt.xlabel('Predicted')\n",
    "    plt.ylabel('True')\n",
    "    plt.show()\n",
    "\n",
    "plot_confusion_matrix(y_test, y_pred)"
   ]
  },
  {
   "cell_type": "code",
   "execution_count": 13,
   "metadata": {},
   "outputs": [
    {
     "name": "stderr",
     "output_type": "stream",
     "text": [
      "WARNING:absl:You are saving your model as an HDF5 file via `model.save()` or `keras.saving.save_model(model)`. This file format is considered legacy. We recommend using instead the native Keras format, e.g. `model.save('my_model.keras')` or `keras.saving.save_model(model, 'my_model.keras')`. \n"
     ]
    },
    {
     "name": "stdout",
     "output_type": "stream",
     "text": [
      "Modèle sauvegardé dans : C:\\Users\\Seed\\Projects\\Travel-Order-Resolver\\ai\\nlp\\models\\text_classification\\lstm_lang_detector.h5\n"
     ]
    }
   ],
   "source": [
    "# Sauvegarde du modèle\n",
    "model_path = r\"C:\\Users\\Seed\\Projects\\Travel-Order-Resolver\\ai\\nlp\\models\\text_classification\\lstm_lang_detector.h5\"\n",
    "model.save(model_path)\n",
    "\n",
    "print(f\"Modèle sauvegardé dans : {model_path}\")"
   ]
  },
  {
   "cell_type": "code",
   "execution_count": 19,
   "metadata": {},
   "outputs": [
    {
     "name": "stdout",
     "output_type": "stream",
     "text": [
      "\u001b[1m1/1\u001b[0m \u001b[32m━━━━━━━━━━━━━━━━━━━━\u001b[0m\u001b[37m\u001b[0m \u001b[1m0s\u001b[0m 46ms/step\n"
     ]
    },
    {
     "data": {
      "text/html": [
       "<div>\n",
       "<style scoped>\n",
       "    .dataframe tbody tr th:only-of-type {\n",
       "        vertical-align: middle;\n",
       "    }\n",
       "\n",
       "    .dataframe tbody tr th {\n",
       "        vertical-align: top;\n",
       "    }\n",
       "\n",
       "    .dataframe thead th {\n",
       "        text-align: right;\n",
       "    }\n",
       "</style>\n",
       "<table border=\"1\" class=\"dataframe\">\n",
       "  <thead>\n",
       "    <tr style=\"text-align: right;\">\n",
       "      <th></th>\n",
       "      <th>Sentence</th>\n",
       "      <th>Predicted Language</th>\n",
       "    </tr>\n",
       "  </thead>\n",
       "  <tbody>\n",
       "    <tr>\n",
       "      <th>0</th>\n",
       "      <td>I would like to go to the station.</td>\n",
       "      <td>Not French</td>\n",
       "    </tr>\n",
       "    <tr>\n",
       "      <th>1</th>\n",
       "      <td>Voglio andare alla stazione.</td>\n",
       "      <td>Not French</td>\n",
       "    </tr>\n",
       "    <tr>\n",
       "      <th>2</th>\n",
       "      <td>je veux partir de Marseille à Paris</td>\n",
       "      <td>French</td>\n",
       "    </tr>\n",
       "    <tr>\n",
       "      <th>3</th>\n",
       "      <td>Ich möchte zum Bahnhof gehen.</td>\n",
       "      <td>Not French</td>\n",
       "    </tr>\n",
       "    <tr>\n",
       "      <th>4</th>\n",
       "      <td>Quiero morir</td>\n",
       "      <td>Not French</td>\n",
       "    </tr>\n",
       "    <tr>\n",
       "      <th>5</th>\n",
       "      <td>Je veux aller à la gare.</td>\n",
       "      <td>French</td>\n",
       "    </tr>\n",
       "    <tr>\n",
       "      <th>6</th>\n",
       "      <td>XAtybzgdsughzt  hcvzbzt  98ezzg hn(è_è)</td>\n",
       "      <td>Not French</td>\n",
       "    </tr>\n",
       "    <tr>\n",
       "      <th>7</th>\n",
       "      <td>ghdsjbxasxhbdgh  ugzxcayy 8454czcg vhuaè-_è_</td>\n",
       "      <td>Not French</td>\n",
       "    </tr>\n",
       "    <tr>\n",
       "      <th>8</th>\n",
       "      <td>jdsbgzcnehgcnzh zbcnj</td>\n",
       "      <td>French</td>\n",
       "    </tr>\n",
       "    <tr>\n",
       "      <th>9</th>\n",
       "      <td>cgdhjznc 465zevy-é(&amp;bhebhz)</td>\n",
       "      <td>French</td>\n",
       "    </tr>\n",
       "    <tr>\n",
       "      <th>10</th>\n",
       "      <td>I would like to drink tequila</td>\n",
       "      <td>Not French</td>\n",
       "    </tr>\n",
       "    <tr>\n",
       "      <th>11</th>\n",
       "      <td>75269862 29569 595+ 29 2 9 4</td>\n",
       "      <td>French</td>\n",
       "    </tr>\n",
       "  </tbody>\n",
       "</table>\n",
       "</div>"
      ],
      "text/plain": [
       "                                         Sentence Predicted Language\n",
       "0              I would like to go to the station.         Not French\n",
       "1                    Voglio andare alla stazione.         Not French\n",
       "2             je veux partir de Marseille à Paris             French\n",
       "3                   Ich möchte zum Bahnhof gehen.         Not French\n",
       "4                                    Quiero morir         Not French\n",
       "5                        Je veux aller à la gare.             French\n",
       "6         XAtybzgdsughzt  hcvzbzt  98ezzg hn(è_è)         Not French\n",
       "7    ghdsjbxasxhbdgh  ugzxcayy 8454czcg vhuaè-_è_         Not French\n",
       "8                           jdsbgzcnehgcnzh zbcnj             French\n",
       "9                     cgdhjznc 465zevy-é(&bhebhz)             French\n",
       "10                  I would like to drink tequila         Not French\n",
       "11                   75269862 29569 595+ 29 2 9 4             French"
      ]
     },
     "metadata": {},
     "output_type": "display_data"
    }
   ],
   "source": [
    "# Exemple de prédictions avec de nouvelles phrases\n",
    "new_sentences = [\n",
    "    \"I would like to go to the station.\",\n",
    "    \"Voglio andare alla stazione.\",\n",
    "    \"je veux partir de Marseille à Paris\",\n",
    "    \"Ich möchte zum Bahnhof gehen.\",\n",
    "    \"Quiero morir\",\n",
    "    \"Je veux aller à la gare.\",\n",
    "    \"XAtybzgdsughzt  hcvzbzt  98ezzg hn(è_è)\",\n",
    "    \" ghdsjbxasxhbdgh  ugzxcayy 8454czcg vhuaè-_è_\",\n",
    "    \" jdsbgzcnehgcnzh zbcnj\",\n",
    "    \" cgdhjznc 465zevy-é(&bhebhz)\",\n",
    "    \"I would like to drink tequila\",\n",
    "    \"75269862 29569 595+ 29 2 9 4\"\n",
    "]\n",
    "\n",
    "# Prétraiter les nouvelles phrases\n",
    "new_sentences_seq = tokenizer.texts_to_sequences(new_sentences)\n",
    "new_sentences_pad = pad_sequences(new_sentences_seq, maxlen=max_len)\n",
    "\n",
    "# Prédictions\n",
    "predictions = model.predict(new_sentences_pad)\n",
    "predictions = (predictions > 0.5).astype(int)\n",
    "\n",
    "# Affichage des résultats\n",
    "results = pd.DataFrame({\n",
    "    'Sentence': new_sentences,\n",
    "    'Predicted Language': ['French' if prediction == 0 else 'Not French' for prediction in predictions]\n",
    "})\n",
    "\n",
    "import IPython\n",
    "IPython.display.display(results)"
   ]
  }
 ],
 "metadata": {
  "kernelspec": {
   "display_name": "travel_order",
   "language": "python",
   "name": "python3"
  },
  "language_info": {
   "codemirror_mode": {
    "name": "ipython",
    "version": 3
   },
   "file_extension": ".py",
   "mimetype": "text/x-python",
   "name": "python",
   "nbconvert_exporter": "python",
   "pygments_lexer": "ipython3",
   "version": "3.12.8"
  }
 },
 "nbformat": 4,
 "nbformat_minor": 2
}
