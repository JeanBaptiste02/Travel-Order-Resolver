{
 "cells": [
  {
   "cell_type": "code",
   "execution_count": 8,
   "metadata": {},
   "outputs": [
    {
     "name": "stdout",
     "output_type": "stream",
     "text": [
      "Bibliothèques importées avec succès.\n"
     ]
    }
   ],
   "source": [
    "#import os\n",
    "#import numpy as np\n",
    "#import pandas as pd\n",
    "#from sklearn.model_selection import train_test_split\n",
    "#from sklearn.metrics import classification_report, confusion_matrix\n",
    "#import matplotlib.pyplot as plt\n",
    "#import seaborn as sns\n",
    "#from tensorflow.keras.models import Model\n",
    "#from tensorflow.keras.layers import Input, Embedding, Dense, Dropout, Layer\n",
    "#from tensorflow.keras.layers import GlobalAveragePooling1D, LayerNormalization, MultiHeadAttention\n",
    "#from tensorflow.keras.optimizers import Adam\n",
    "#from tensorflow.keras.preprocessing.text import Tokenizer\n",
    "#from tensorflow.keras.preprocessing.sequence import pad_sequences\n",
    "\n",
    "import torch\n",
    "import torch.nn as nn\n",
    "import torch.optim as optim\n",
    "from torch.utils.data import DataLoader, Dataset\n",
    "from sklearn.model_selection import train_test_split\n",
    "from sklearn.preprocessing import LabelEncoder\n",
    "from sklearn.metrics import classification_report\n",
    "import pandas as pd\n",
    "\n",
    "print(\"Bibliothèques importées avec succès.\")"
   ]
  },
  {
   "cell_type": "code",
   "execution_count": 9,
   "metadata": {},
   "outputs": [
    {
     "name": "stdout",
     "output_type": "stream",
     "text": [
      "CUDA is available. Using GPU.\n",
      "GPU: NVIDIA GeForce RTX 4070 Laptop GPU\n"
     ]
    }
   ],
   "source": [
    "# Check if CUDA is available\n",
    "if torch.cuda.is_available():\n",
    "    device = torch.device(\"cuda\")\n",
    "    print(\"CUDA is available. Using GPU.\")\n",
    "else:\n",
    "    device = torch.device(\"cpu\")\n",
    "    print(\"CUDA is not available. Using CPU.\")\n",
    "\n",
    "# Print the name of the GPU\n",
    "if device.type == \"cuda\":\n",
    "    print(\"GPU:\", torch.cuda.get_device_name(0))"
   ]
  },
  {
   "cell_type": "code",
   "execution_count": 10,
   "metadata": {},
   "outputs": [
    {
     "name": "stdout",
     "output_type": "stream",
     "text": [
      "\n",
      "Les premières lignes du jeu de données :\n",
      "                                            sentence  is_correct  is_not_trip  \\\n",
      "0  Y a-t-il un moyen d'aller de Montreux-Vieux à ...           1            0   \n",
      "1  I would like to travel from culoz to buswiller...           0            0   \n",
      "2           He lied when he said he didn't like her.           0            1   \n",
      "3                         ?N|ajOLIY6;DOM'mKavLZZnkAi           0            0   \n",
      "4                         a(c}sMyu7/97.[-IA@m k0rN0U           0            0   \n",
      "\n",
      "   is_unknown  \n",
      "0           0  \n",
      "1           0  \n",
      "2           0  \n",
      "3           1  \n",
      "4           1  \n"
     ]
    }
   ],
   "source": [
    "# Load dataset\n",
    "DATASET_PATH = r\"C:\\Users\\Seed\\Projects\\Travel-Order-Resolver\\ai\\nlp\\dataset\\text\\text_intention_detector.csv\"\n",
    "data = pd.read_csv(DATASET_PATH, delimiter=';')\n",
    "\n",
    "print(\"\\nLes premières lignes du jeu de données :\")\n",
    "print(data.head())"
   ]
  },
  {
   "cell_type": "code",
   "execution_count": 11,
   "metadata": {},
   "outputs": [],
   "source": [
    "# Preprocess data\n",
    "label_mapping = {'is_correct': 0, 'is_not_trip': 1, 'is_unknown': 2}\n",
    "data['label'] = data[['is_correct', 'is_not_trip', 'is_unknown']].idxmax(axis=1).map(label_mapping)\n",
    "X_train, X_test, y_train, y_test = train_test_split(data['sentence'], data['label'], test_size=0.2, random_state=42)\n",
    "X_train, X_val, y_train, y_val = train_test_split(X_train, y_train, test_size=0.2, random_state=42)"
   ]
  },
  {
   "cell_type": "code",
   "execution_count": 12,
   "metadata": {},
   "outputs": [
    {
     "name": "stderr",
     "output_type": "stream",
     "text": [
      "c:\\Users\\Seed\\anaconda3\\envs\\travel_order\\Lib\\site-packages\\tqdm\\auto.py:21: TqdmWarning: IProgress not found. Please update jupyter and ipywidgets. See https://ipywidgets.readthedocs.io/en/stable/user_install.html\n",
      "  from .autonotebook import tqdm as notebook_tqdm\n",
      "c:\\Users\\Seed\\anaconda3\\envs\\travel_order\\Lib\\site-packages\\huggingface_hub\\file_download.py:159: UserWarning: `huggingface_hub` cache-system uses symlinks by default to efficiently store duplicated files but your machine does not support them in C:\\Users\\Seed\\.cache\\huggingface\\hub\\models--bert-base-uncased. Caching files will still work but in a degraded version that might require more space on your disk. This warning can be disabled by setting the `HF_HUB_DISABLE_SYMLINKS_WARNING` environment variable. For more details, see https://huggingface.co/docs/huggingface_hub/how-to-cache#limitations.\n",
      "To support symlinks on Windows, you either need to activate Developer Mode or to run Python as an administrator. In order to see activate developer mode, see this article: https://docs.microsoft.com/en-us/windows/apps/get-started/enable-your-device-for-development\n",
      "  warnings.warn(message)\n"
     ]
    },
    {
     "name": "stdout",
     "output_type": "stream",
     "text": [
      "Tokenisation et padding terminés.\n"
     ]
    }
   ],
   "source": [
    "# Define a simple dataset class\n",
    "class TextDataset(Dataset):\n",
    "    def __init__(self, texts, labels, tokenizer, max_len):\n",
    "        self.texts = texts\n",
    "        self.labels = labels\n",
    "        self.tokenizer = tokenizer\n",
    "        self.max_len = max_len\n",
    "\n",
    "    def __len__(self):\n",
    "        return len(self.texts)\n",
    "\n",
    "    def __getitem__(self, idx):\n",
    "        text = self.texts[idx]\n",
    "        label = self.labels[idx]\n",
    "        encoding = self.tokenizer(text, padding='max_length', truncation=True, max_length=self.max_len, return_tensors='pt')\n",
    "        return encoding['input_ids'].squeeze(), encoding['attention_mask'].squeeze(), torch.tensor(label)\n",
    "\n",
    "# Define a simple model\n",
    "class TextClassifier(nn.Module):\n",
    "    def __init__(self, vocab_size, embed_dim, num_classes):\n",
    "        super(TextClassifier, self).__init__()\n",
    "        self.embedding = nn.Embedding(vocab_size, embed_dim)\n",
    "        self.fc = nn.Linear(embed_dim, num_classes)\n",
    "\n",
    "    def forward(self, input_ids, attention_mask):\n",
    "        embedded = self.embedding(input_ids)\n",
    "        pooled = torch.mean(embedded, dim=1)\n",
    "        output = self.fc(pooled)\n",
    "        return output\n",
    "    \n",
    "# Tokenizer and model parameters\n",
    "from transformers import BertTokenizer\n",
    "tokenizer = BertTokenizer.from_pretrained('bert-base-uncased')\n",
    "vocab_size = tokenizer.vocab_size\n",
    "embed_dim = 128\n",
    "num_classes = 3\n",
    "max_len = 128\n",
    "\n",
    "print(\"Tokenisation et padding terminés.\")"
   ]
  },
  {
   "cell_type": "code",
   "execution_count": 13,
   "metadata": {},
   "outputs": [],
   "source": [
    "# Create datasets and dataloaders\n",
    "train_dataset = TextDataset(X_train.tolist(), y_train.tolist(), tokenizer, max_len)\n",
    "val_dataset = TextDataset(X_val.tolist(), y_val.tolist(), tokenizer, max_len)\n",
    "test_dataset = TextDataset(X_test.tolist(), y_test.tolist(), tokenizer, max_len)\n",
    "\n",
    "train_loader = DataLoader(train_dataset, batch_size=32, shuffle=True)\n",
    "val_loader = DataLoader(val_dataset, batch_size=32)\n",
    "test_loader = DataLoader(test_dataset, batch_size=32)\n",
    "\n",
    "# Initialize model, loss function, and optimizer\n",
    "model = TextClassifier(vocab_size, embed_dim, num_classes).to(device)\n",
    "criterion = nn.CrossEntropyLoss()\n",
    "optimizer = optim.Adam(model.parameters(), lr=0.001)"
   ]
  },
  {
   "cell_type": "code",
   "execution_count": 15,
   "metadata": {},
   "outputs": [
    {
     "name": "stderr",
     "output_type": "stream",
     "text": [
      "Epoch 1/10: 100%|██████████| 26035/26035 [05:30<00:00, 78.67batch/s, loss=0.00668]\n"
     ]
    },
    {
     "name": "stdout",
     "output_type": "stream",
     "text": [
      "Epoch 1/10, Loss: 0.0066838651555684095\n"
     ]
    },
    {
     "name": "stderr",
     "output_type": "stream",
     "text": [
      "Epoch 2/10: 100%|██████████| 26035/26035 [05:30<00:00, 78.81batch/s, loss=0.00105] \n"
     ]
    },
    {
     "name": "stdout",
     "output_type": "stream",
     "text": [
      "Epoch 2/10, Loss: 0.0010540862999793598\n"
     ]
    },
    {
     "name": "stderr",
     "output_type": "stream",
     "text": [
      "Epoch 3/10: 100%|██████████| 26035/26035 [05:33<00:00, 78.07batch/s, loss=0.000549]\n"
     ]
    },
    {
     "name": "stdout",
     "output_type": "stream",
     "text": [
      "Epoch 3/10, Loss: 0.0005490388180762079\n"
     ]
    },
    {
     "name": "stderr",
     "output_type": "stream",
     "text": [
      "Epoch 4/10: 100%|██████████| 26035/26035 [05:31<00:00, 78.43batch/s, loss=0.000367]\n"
     ]
    },
    {
     "name": "stdout",
     "output_type": "stream",
     "text": [
      "Epoch 4/10, Loss: 0.0003670860301954392\n"
     ]
    },
    {
     "name": "stderr",
     "output_type": "stream",
     "text": [
      "Epoch 5/10: 100%|██████████| 26035/26035 [05:38<00:00, 76.89batch/s, loss=0.000295]\n"
     ]
    },
    {
     "name": "stdout",
     "output_type": "stream",
     "text": [
      "Epoch 5/10, Loss: 0.00029530764172506856\n"
     ]
    },
    {
     "name": "stderr",
     "output_type": "stream",
     "text": [
      "Epoch 6/10: 100%|██████████| 26035/26035 [05:30<00:00, 78.79batch/s, loss=0.000261]\n"
     ]
    },
    {
     "name": "stdout",
     "output_type": "stream",
     "text": [
      "Epoch 6/10, Loss: 0.0002614685000693668\n"
     ]
    },
    {
     "name": "stderr",
     "output_type": "stream",
     "text": [
      "Epoch 7/10: 100%|██████████| 26035/26035 [05:30<00:00, 78.73batch/s, loss=0.000229]\n"
     ]
    },
    {
     "name": "stdout",
     "output_type": "stream",
     "text": [
      "Epoch 7/10, Loss: 0.00022862430519621593\n"
     ]
    },
    {
     "name": "stderr",
     "output_type": "stream",
     "text": [
      "Epoch 8/10: 100%|██████████| 26035/26035 [05:31<00:00, 78.46batch/s, loss=0.000187]\n"
     ]
    },
    {
     "name": "stdout",
     "output_type": "stream",
     "text": [
      "Epoch 8/10, Loss: 0.00018730818654540132\n"
     ]
    },
    {
     "name": "stderr",
     "output_type": "stream",
     "text": [
      "Epoch 9/10: 100%|██████████| 26035/26035 [05:31<00:00, 78.49batch/s, loss=0.000164]\n"
     ]
    },
    {
     "name": "stdout",
     "output_type": "stream",
     "text": [
      "Epoch 9/10, Loss: 0.00016371678813408938\n"
     ]
    },
    {
     "name": "stderr",
     "output_type": "stream",
     "text": [
      "Epoch 10/10: 100%|██████████| 26035/26035 [05:35<00:00, 77.61batch/s, loss=0.000157]"
     ]
    },
    {
     "name": "stdout",
     "output_type": "stream",
     "text": [
      "Epoch 10/10, Loss: 0.00015679976096112473\n",
      "Entraînement terminé.\n"
     ]
    },
    {
     "name": "stderr",
     "output_type": "stream",
     "text": [
      "\n"
     ]
    }
   ],
   "source": [
    "from tqdm import tqdm\n",
    "\n",
    "# Training loop\n",
    "num_epochs = 10\n",
    "for epoch in range(num_epochs):\n",
    "    model.train()\n",
    "    running_loss = 0.0\n",
    "    progress_bar = tqdm(train_loader, desc=f\"Epoch {epoch+1}/{num_epochs}\", unit=\"batch\")\n",
    "    for input_ids, attention_mask, labels in progress_bar:\n",
    "        input_ids, attention_mask, labels = input_ids.to(device), attention_mask.to(device), labels.to(device)\n",
    "        optimizer.zero_grad()\n",
    "        outputs = model(input_ids, attention_mask)\n",
    "        loss = criterion(outputs, labels)\n",
    "        loss.backward()\n",
    "        optimizer.step()\n",
    "        \n",
    "        running_loss += loss.item()\n",
    "        progress_bar.set_postfix(loss=running_loss/len(train_loader))\n",
    "    \n",
    "    print(f\"Epoch {epoch+1}/{num_epochs}, Loss: {running_loss/len(train_loader)}\")\n",
    "\n",
    "print(\"Entraînement terminé.\")"
   ]
  },
  {
   "cell_type": "code",
   "execution_count": 16,
   "metadata": {},
   "outputs": [
    {
     "name": "stdout",
     "output_type": "stream",
     "text": [
      "Model saved successfully.\n"
     ]
    }
   ],
   "source": [
    "# Save the model's state dictionary\n",
    "torch.save(model.state_dict(), 'model.pth')\n",
    "print(\"Model saved successfully.\")"
   ]
  },
  {
   "cell_type": "code",
   "execution_count": 17,
   "metadata": {},
   "outputs": [
    {
     "name": "stdout",
     "output_type": "stream",
     "text": [
      "              precision    recall  f1-score   support\n",
      "\n",
      "  is_correct       1.00      1.00      1.00    103521\n",
      " is_not_trip       1.00      1.00      1.00     78404\n",
      "  is_unknown       1.00      1.00      1.00     78424\n",
      "\n",
      "    accuracy                           1.00    260349\n",
      "   macro avg       1.00      1.00      1.00    260349\n",
      "weighted avg       1.00      1.00      1.00    260349\n",
      "\n"
     ]
    }
   ],
   "source": [
    "# Evaluation\n",
    "model.eval()\n",
    "y_pred = []\n",
    "y_true = []\n",
    "with torch.no_grad():\n",
    "    for input_ids, attention_mask, labels in test_loader:\n",
    "        input_ids, attention_mask, labels = input_ids.to(device), attention_mask.to(device), labels.to(device)\n",
    "        outputs = model(input_ids, attention_mask)\n",
    "        _, preds = torch.max(outputs, dim=1)\n",
    "        y_pred.extend(preds.cpu().numpy())\n",
    "        y_true.extend(labels.cpu().numpy())\n",
    "\n",
    "print(classification_report(y_true, y_pred, target_names=label_mapping.keys()))"
   ]
  },
  {
   "cell_type": "code",
   "execution_count": 21,
   "metadata": {},
   "outputs": [
    {
     "name": "stdout",
     "output_type": "stream",
     "text": [
      "\n",
      "Texte: Je veux aller de Port-Boulet à Le Havre.\n",
      " - is_correct: 67.72%\n",
      " - is_not_trip: 32.28%\n",
      " - is_unknown: 0.0%\n",
      "\n",
      "Texte: Je veux aller de Nantes à Nantes.\n",
      " - is_correct: 99.79%\n",
      " - is_not_trip: 0.21%\n",
      " - is_unknown: 0.0%\n",
      "\n",
      "Texte: Comment aller à Niort depuis Troyes ?\n",
      " - is_correct: 0.0%\n",
      " - is_not_trip: 100.0%\n",
      " - is_unknown: 0.0%\n",
      "\n",
      "Texte: Je veux aller de Lyon à Marseille.\n",
      " - is_correct: 99.67%\n",
      " - is_not_trip: 0.33%\n",
      " - is_unknown: 0.0%\n",
      "\n",
      "Texte: Comment puis-je rejoindre Bordeaux depuis Lille ?\n",
      " - is_correct: 100.0%\n",
      " - is_not_trip: 0.0%\n",
      " - is_unknown: 0.0%\n",
      "\n",
      "Texte: Je dois me rendre à Montpellier depuis Paris.\n",
      " - is_correct: 100.0%\n",
      " - is_not_trip: 0.0%\n",
      " - is_unknown: 0.0%\n",
      "\n",
      "Texte: Y a-t-il un train direct de Strasbourg à Metz ?\n",
      " - is_correct: 12.06%\n",
      " - is_not_trip: 87.94%\n",
      " - is_unknown: 0.0%\n",
      "\n",
      "Texte: Comment aller de Toulouse à Rennes ?\n",
      " - is_correct: 5.2%\n",
      " - is_not_trip: 94.8%\n",
      " - is_unknown: 0.0%\n",
      "\n",
      "Texte: J'aime voyager dans toute la France.\n",
      " - is_correct: 0.0%\n",
      " - is_not_trip: 100.0%\n",
      " - is_unknown: 0.0%\n",
      "\n",
      "Texte: Le Havre est une belle ville.\n",
      " - is_correct: 0.0%\n",
      " - is_not_trip: 100.0%\n",
      " - is_unknown: 0.0%\n",
      "\n",
      "Texte: Je réfléchis à visiter Nantes un jour.\n",
      " - is_correct: 0.0%\n",
      " - is_not_trip: 100.0%\n",
      " - is_unknown: 0.0%\n",
      "\n",
      "Texte: Les trains entre Niort et Troyes sont souvent rapides.\n",
      " - is_correct: 0.0%\n",
      " - is_not_trip: 100.0%\n",
      " - is_unknown: 0.0%\n",
      "\n",
      "Texte: Aller à Marseille, c'est toujours une aventure.\n",
      " - is_correct: 0.0%\n",
      " - is_not_trip: 100.0%\n",
      " - is_unknown: 0.0%\n"
     ]
    }
   ],
   "source": [
    "from torch.utils.data import DataLoader, Dataset\n",
    "from transformers import BertTokenizer\n",
    "\n",
    "class TextDataset(Dataset):\n",
    "    def __init__(self, texts, tokenizer, max_len):\n",
    "        self.texts = texts\n",
    "        self.tokenizer = tokenizer\n",
    "        self.max_len = max_len\n",
    "\n",
    "    def __len__(self):\n",
    "        return len(self.texts)\n",
    "\n",
    "    def __getitem__(self, idx):\n",
    "        text = self.texts[idx]\n",
    "        encoding = self.tokenizer(text, padding='max_length', truncation=True, max_length=self.max_len, return_tensors='pt')\n",
    "        return encoding['input_ids'].squeeze(), encoding['attention_mask'].squeeze()\n",
    "\n",
    "def predict_new_texts(model, tokenizer, new_texts, max_length):\n",
    "    dataset = TextDataset(new_texts, tokenizer, max_length)\n",
    "    dataloader = DataLoader(dataset, batch_size=1, shuffle=False)\n",
    "\n",
    "    model.eval()\n",
    "    with torch.no_grad():\n",
    "        for i, (input_ids, attention_mask) in enumerate(dataloader):\n",
    "            input_ids, attention_mask = input_ids.to(device), attention_mask.to(device)\n",
    "            outputs = model(input_ids, attention_mask)\n",
    "            predictions = torch.softmax(outputs, dim=1).cpu().numpy()\n",
    "\n",
    "            print(f\"\\nTexte: {new_texts[i]}\")\n",
    "            for j, label in enumerate([\"is_correct\", \"is_not_trip\", \"is_unknown\"]):\n",
    "                print(f\" - {label}: {round(predictions[0][j] * 100, 2)}%\")\n",
    "\n",
    "# Example usage\n",
    "new_texts = [\n",
    "    \"Je veux aller de Port-Boulet à Le Havre.\",\n",
    "    \"Je veux aller de Nantes à Nantes.\",\n",
    "    \"Comment aller à Niort depuis Troyes ?\",\n",
    "    \"Je veux aller de Lyon à Marseille.\",\n",
    "    \"Comment puis-je rejoindre Bordeaux depuis Lille ?\",\n",
    "    \"Je dois me rendre à Montpellier depuis Paris.\",\n",
    "    \"Y a-t-il un train direct de Strasbourg à Metz ?\",\n",
    "    \"Comment aller de Toulouse à Rennes ?\",\n",
    "    \"J'aime voyager dans toute la France.\",\n",
    "    \"Le Havre est une belle ville.\",\n",
    "    \"Je réfléchis à visiter Nantes un jour.\",\n",
    "    \"Les trains entre Niort et Troyes sont souvent rapides.\",\n",
    "    \"Aller à Marseille, c'est toujours une aventure.\"\n",
    "]\n",
    "\n",
    "predict_new_texts(model, tokenizer, new_texts, max_len) "
   ]
  },
  {
   "cell_type": "code",
   "execution_count": null,
   "metadata": {},
   "outputs": [],
   "source": []
  }
 ],
 "metadata": {
  "kernelspec": {
   "display_name": "travel_order",
   "language": "python",
   "name": "python3"
  },
  "language_info": {
   "codemirror_mode": {
    "name": "ipython",
    "version": 3
   },
   "file_extension": ".py",
   "mimetype": "text/x-python",
   "name": "python",
   "nbconvert_exporter": "python",
   "pygments_lexer": "ipython3",
   "version": "3.12.8"
  }
 },
 "nbformat": 4,
 "nbformat_minor": 2
}
