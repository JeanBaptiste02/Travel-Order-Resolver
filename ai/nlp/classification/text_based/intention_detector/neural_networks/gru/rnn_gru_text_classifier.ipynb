{
 "cells": [
  {
   "cell_type": "code",
   "execution_count": null,
   "metadata": {},
   "outputs": [
    {
     "name": "stdout",
     "output_type": "stream",
     "text": [
      "Bibliothèques importées avec succès.\n"
     ]
    }
   ],
   "source": [
    "# Cellule 1: Importation des bibliothèques\n",
    "import os\n",
    "import numpy as np\n",
    "import pandas as pd\n",
    "import matplotlib.pyplot as plt\n",
    "import seaborn as sns\n",
    "from tabulate import tabulate\n",
    "from sklearn.model_selection import train_test_split\n",
    "from sklearn.metrics import classification_report, confusion_matrix, roc_curve, auc\n",
    "from tensorflow.keras.preprocessing.text import Tokenizer\n",
    "from tensorflow.keras.preprocessing.sequence import pad_sequences\n",
    "from tensorflow.keras.models import Sequential\n",
    "from tensorflow.keras.layers import Embedding, GRU, Dense\n",
    "from tensorflow.keras.models import load_model\n",
    "from tqdm import tqdm\n",
    "from tqdm.keras import TqdmCallback \n",
    "\n",
    "print(\"Bibliothèques importées avec succès.\")"
   ]
  },
  {
   "cell_type": "code",
   "execution_count": 31,
   "metadata": {},
   "outputs": [
    {
     "name": "stdout",
     "output_type": "stream",
     "text": [
      "Chargement des données...\n",
      "Données chargées avec succès.\n",
      "\n",
      "Les premières lignes du jeu de données avec un affichage stylisé :\n",
      "+---+-------------------------------------------------------------------------------+------------+-------------+------------+\n",
      "|   |                                   sentence                                    | is_correct | is_not_trip | is_unknown |\n",
      "+---+-------------------------------------------------------------------------------+------------+-------------+------------+\n",
      "| 0 | Y a-t-il un moyen d'aller de Montreux-Vieux à la gare de La Roche-Sur-Foron ? |     1      |      0      |     0      |\n",
      "| 1 |            I would like to travel from culoz to buswiller eglise.             |     0      |      0      |     0      |\n",
      "| 2 |                   He lied when he said he didn't like her.                    |     0      |      1      |     0      |\n",
      "| 3 |                          ?N|ajOLIY6;DOM'mKavLZZnkAi                           |     0      |      0      |     1      |\n",
      "| 4 |                          a(c}sMyu7/97.[-IA@m k0rN0U                           |     0      |      0      |     1      |\n",
      "+---+-------------------------------------------------------------------------------+------------+-------------+------------+\n"
     ]
    }
   ],
   "source": [
    "# Chemin vers le jeu de données\n",
    "DATASET_PATH = \"C:/Users/vikne/Documents/Master 2/Semestre 9/Intelligence artificielle/Travel-Order-Resolver/ai/nlp/dataset/text/text_intention_detector.csv\"\n",
    "\n",
    "# Fonction pour charger le jeu de données\n",
    "def load_dataset():\n",
    "    if os.path.exists(DATASET_PATH):\n",
    "        print(\"Chargement des données...\")\n",
    "        data = pd.read_csv(DATASET_PATH, delimiter=';')\n",
    "        print(\"Données chargées avec succès.\")\n",
    "        return data\n",
    "    else:\n",
    "        raise FileNotFoundError(\"Le chemin du dataset est incorrect.\")\n",
    "\n",
    "# Charger les données\n",
    "data = load_dataset()\n",
    "\n",
    "# Afficher les premières lignes sous forme de tableau stylisé\n",
    "print(\"\\nLes premières lignes du jeu de données avec un affichage stylisé :\")\n",
    "print(tabulate(data.head(), headers='keys', tablefmt='pretty'))"
   ]
  },
  {
   "cell_type": "code",
   "execution_count": 32,
   "metadata": {},
   "outputs": [
    {
     "name": "stdout",
     "output_type": "stream",
     "text": [
      "Préparation des étiquettes avec barre de progression...\n"
     ]
    },
    {
     "name": "stderr",
     "output_type": "stream",
     "text": [
      "100%|██████████| 3/3 [00:00<?, ?it/s]"
     ]
    },
    {
     "name": "stdout",
     "output_type": "stream",
     "text": [
      "Préparation des étiquettes terminée.\n"
     ]
    },
    {
     "name": "stderr",
     "output_type": "stream",
     "text": [
      "\n"
     ]
    }
   ],
   "source": [
    "# 2. Fonction pour préparer les étiquettes\n",
    "def preprocess_labels(data):\n",
    "    labels = ['is_correct', 'is_not_trip', 'is_unknown']\n",
    "    \n",
    "    # Simulation d'une itération avec tqdm sur chaque étiquette\n",
    "    y = []\n",
    "    print(\"Préparation des étiquettes avec barre de progression...\")\n",
    "    for label in tqdm(labels):\n",
    "        y.append(data[label].values)  # Utiliser tqdm pour surveiller la progression\n",
    "    y = np.array(y).T  # Transposer pour obtenir la bonne forme d'étiquettes\n",
    "    print(\"Préparation des étiquettes terminée.\")\n",
    "    return y, labels\n",
    "\n",
    "# Appel de la fonction avec la barre de progression\n",
    "y_train, labels = preprocess_labels(data)"
   ]
  },
  {
   "cell_type": "code",
   "execution_count": 34,
   "metadata": {},
   "outputs": [
    {
     "name": "stdout",
     "output_type": "stream",
     "text": [
      "Diviser les données en ensembles d'entraînement, de validation et de test...\n",
      "Tokenisation et padding appliqués avec succès.\n",
      "Préparation des données terminée.\n"
     ]
    }
   ],
   "source": [
    "# 3. Fonction pour tokeniser et appliquer le padding\n",
    "def tokenize_and_pad(X_train, X_val, X_test, vocab_size, max_length):\n",
    "    tokenizer = Tokenizer(num_words=vocab_size, oov_token=\"<OOV>\")\n",
    "    tokenizer.fit_on_texts(X_train)  # Apprendre le vocabulaire uniquement sur les données d'entraînement\n",
    "\n",
    "    # Appliquer tokenisation et padding sur l'entraînement, la validation et le test\n",
    "    X_train_padded = pad_sequences(tokenizer.texts_to_sequences(X_train), maxlen=max_length)\n",
    "    X_val_padded = pad_sequences(tokenizer.texts_to_sequences(X_val), maxlen=max_length)\n",
    "    X_test_padded = pad_sequences(tokenizer.texts_to_sequences(X_test), maxlen=max_length)\n",
    "\n",
    "    print(\"Tokenisation et padding appliqués avec succès.\")\n",
    "    return X_train_padded, X_val_padded, X_test_padded, tokenizer\n",
    "\n",
    "\n",
    "# Diviser les données en ensembles d'entraînement, de test et de validation\n",
    "print(\"Diviser les données en ensembles d'entraînement, de validation et de test...\")\n",
    "# X contient les séquences de texte\n",
    "X = data['sentence']\n",
    "# y contient les étiquettes\n",
    "y = data[['is_correct', 'is_not_trip', 'is_unknown']].values  # Toutes les étiquettes\n",
    "\n",
    "# Diviser les données en un jeu d'entraînement, un jeu de validation et un jeu de test\n",
    "X_train_raw, X_test_raw, y_train, y_test = train_test_split(X, y, test_size=0.2, random_state=42)\n",
    "X_train_raw, X_val_raw, y_train, y_val = train_test_split(X_train_raw, y_train, test_size=0.2, random_state=42)\n",
    "\n",
    "# Définir vocab_size et max_length\n",
    "vocab_size = 20000  # Taille du vocabulaire\n",
    "max_length = 100  # Longueur maximale après padding\n",
    "\n",
    "# Tokeniser et appliquer le padding\n",
    "X_train_padded, X_val_padded, X_test_padded, tokenizer = tokenize_and_pad(\n",
    "    X_train_raw, X_val_raw, X_test_raw, vocab_size, max_length\n",
    ")\n",
    "\n",
    "print(\"Préparation des données terminée.\")"
   ]
  },
  {
   "cell_type": "code",
   "execution_count": 37,
   "metadata": {},
   "outputs": [
    {
     "name": "stdout",
     "output_type": "stream",
     "text": [
      "Modèle GRU créé avec succès.\n",
      "Model: \"sequential_6\"\n",
      "_________________________________________________________________\n",
      " Layer (type)                Output Shape              Param #   \n",
      "=================================================================\n",
      " embedding_6 (Embedding)     (None, 100, 128)          2560000   \n",
      "                                                                 \n",
      " gru_6 (GRU)                 (None, 64)                37248     \n",
      "                                                                 \n",
      " dense_6 (Dense)             (None, 3)                 195       \n",
      "                                                                 \n",
      "=================================================================\n",
      "Total params: 2597443 (9.91 MB)\n",
      "Trainable params: 2597443 (9.91 MB)\n",
      "Non-trainable params: 0 (0.00 Byte)\n",
      "_________________________________________________________________\n",
      "Entraînement du modèle avec barre de progression moderne...\n"
     ]
    },
    {
     "data": {
      "application/vnd.jupyter.widget-view+json": {
       "model_id": "82e989b92052426098a7579bf8488a1d",
       "version_major": 2,
       "version_minor": 0
      },
      "text/plain": [
       "0epoch [00:00, ?epoch/s]"
      ]
     },
     "metadata": {},
     "output_type": "display_data"
    },
    {
     "data": {
      "application/vnd.jupyter.widget-view+json": {
       "model_id": "a723adfdc6c84685893b19bff6e9fb7b",
       "version_major": 2,
       "version_minor": 0
      },
      "text/plain": [
       "  0%|          | 0.00/26.0k [00:00<?, ?batch/s]"
      ]
     },
     "metadata": {},
     "output_type": "display_data"
    },
    {
     "data": {
      "application/vnd.jupyter.widget-view+json": {
       "model_id": "a19c787411cb4e14a984e1e036ce55d2",
       "version_major": 2,
       "version_minor": 0
      },
      "text/plain": [
       "  0%|          | 0.00/26.0k [00:00<?, ?batch/s]"
      ]
     },
     "metadata": {},
     "output_type": "display_data"
    },
    {
     "data": {
      "application/vnd.jupyter.widget-view+json": {
       "model_id": "fbba455fd27249eea7efbfe9f30f7715",
       "version_major": 2,
       "version_minor": 0
      },
      "text/plain": [
       "  0%|          | 0.00/26.0k [00:00<?, ?batch/s]"
      ]
     },
     "metadata": {},
     "output_type": "display_data"
    },
    {
     "data": {
      "application/vnd.jupyter.widget-view+json": {
       "model_id": "c5827544aa5c4ffa8fde6a87135f4766",
       "version_major": 2,
       "version_minor": 0
      },
      "text/plain": [
       "  0%|          | 0.00/26.0k [00:00<?, ?batch/s]"
      ]
     },
     "metadata": {},
     "output_type": "display_data"
    },
    {
     "data": {
      "application/vnd.jupyter.widget-view+json": {
       "model_id": "ee4c180f7ddb46f7a264d9312e28d3cf",
       "version_major": 2,
       "version_minor": 0
      },
      "text/plain": [
       "  0%|          | 0.00/26.0k [00:00<?, ?batch/s]"
      ]
     },
     "metadata": {},
     "output_type": "display_data"
    },
    {
     "name": "stderr",
     "output_type": "stream",
     "text": [
      "C:\\Users\\vikne\\anaconda3\\Lib\\site-packages\\keras\\src\\engine\\training.py:3079: UserWarning: You are saving your model as an HDF5 file via `model.save()`. This file format is considered legacy. We recommend using instead the native Keras format, e.g. `model.save('my_model.keras')`.\n",
      "  saving_api.save_model(\n"
     ]
    },
    {
     "name": "stdout",
     "output_type": "stream",
     "text": [
      "Modèle sauvegardé avec succès : trained_gru_model.h5\n"
     ]
    }
   ],
   "source": [
    "# Cellule 3: Entraînement et sauvegarde du modèle avec une barre de progression moderne\n",
    "# Fonction pour créer le modèle GRU\n",
    "def create_gru_model(vocab_size, embedding_dim, max_length, num_labels):\n",
    "    model = Sequential([\n",
    "        Embedding(input_dim=vocab_size, output_dim=embedding_dim, input_length=max_length),\n",
    "        GRU(64),\n",
    "        Dense(num_labels, activation='sigmoid')\n",
    "    ])\n",
    "    model.compile(optimizer='adam', loss='binary_crossentropy', metrics=['accuracy'])\n",
    "    print(\"Modèle GRU créé avec succès.\")\n",
    "    model.summary()\n",
    "    return model\n",
    "\n",
    "\n",
    "embedding_dim = 128\n",
    "model = create_gru_model(vocab_size, embedding_dim, max_length, len(labels))\n",
    "\n",
    "num_epochs = 5\n",
    "print(\"Entraînement du modèle avec barre de progression moderne...\")\n",
    "\n",
    "# Entraînement avec la barre de progression tqdm uniquement\n",
    "model.fit(\n",
    "    X_train_padded, \n",
    "    y_train, \n",
    "    epochs=num_epochs, \n",
    "    validation_data=(X_val_padded, y_val),\n",
    "    verbose=0,  # Désactive la barre par défaut de Keras\n",
    "    callbacks=[TqdmCallback(verbose=2)]  # Affiche uniquement la barre tqdm\n",
    ")\n",
    "\n",
    "MODEL_SAVE_PATH = \"trained_gru_model.h5\"\n",
    "model.save(MODEL_SAVE_PATH)\n",
    "print(f\"Modèle sauvegardé avec succès : {MODEL_SAVE_PATH}\")\n"
   ]
  },
  {
   "cell_type": "code",
   "execution_count": 38,
   "metadata": {},
   "outputs": [
    {
     "name": "stdout",
     "output_type": "stream",
     "text": [
      "\n",
      "Évaluation du modèle...\n",
      "8136/8136 [==============================] - 143s 17ms/step\n",
      "\n",
      "Évaluation sur l'ensemble de test :\n"
     ]
    },
    {
     "name": "stderr",
     "output_type": "stream",
     "text": [
      "C:\\Users\\vikne\\anaconda3\\Lib\\site-packages\\sklearn\\metrics\\_classification.py:1531: UndefinedMetricWarning: Precision is ill-defined and being set to 0.0 in samples with no predicted labels. Use `zero_division` parameter to control this behavior.\n",
      "  _warn_prf(average, modifier, f\"{metric.capitalize()} is\", len(result))\n",
      "C:\\Users\\vikne\\anaconda3\\Lib\\site-packages\\sklearn\\metrics\\_classification.py:1531: UndefinedMetricWarning: Recall is ill-defined and being set to 0.0 in samples with no true labels. Use `zero_division` parameter to control this behavior.\n",
      "  _warn_prf(average, modifier, f\"{metric.capitalize()} is\", len(result))\n",
      "C:\\Users\\vikne\\anaconda3\\Lib\\site-packages\\sklearn\\metrics\\_classification.py:1531: UndefinedMetricWarning: F-score is ill-defined and being set to 0.0 in samples with no true nor predicted labels. Use `zero_division` parameter to control this behavior.\n",
      "  _warn_prf(average, modifier, f\"{metric.capitalize()} is\", len(result))\n"
     ]
    },
    {
     "name": "stdout",
     "output_type": "stream",
     "text": [
      "              precision    recall  f1-score   support\n",
      "\n",
      "  is_correct       1.00      1.00      1.00     78698\n",
      " is_not_trip       1.00      1.00      1.00     78404\n",
      "  is_unknown       1.00      1.00      1.00     78424\n",
      "\n",
      "   micro avg       1.00      1.00      1.00    235526\n",
      "   macro avg       1.00      1.00      1.00    235526\n",
      "weighted avg       1.00      1.00      1.00    235526\n",
      " samples avg       0.90      0.90      0.90    235526\n",
      "\n"
     ]
    },
    {
     "data": {
      "image/png": "[encoded data removed]",
      "text/plain": [
       "<Figure size 640x480 with 2 Axes>"
      ]
     },
     "metadata": {},
     "output_type": "display_data"
    },
    {
     "name": "stdout",
     "output_type": "stream",
     "text": [
      "Matrice de confusion affichée.\n"
     ]
    }
   ],
   "source": [
    "# Cellule 4: Évaluation du modèle\n",
    "# Fonction pour afficher la matrice de confusion\n",
    "def plot_confusion_matrix(cm, labels):\n",
    "    sns.heatmap(cm, annot=True, fmt='d', xticklabels=labels, yticklabels=labels, cmap=\"Blues\")\n",
    "    plt.title(\"Matrice de Confusion\")\n",
    "    plt.xlabel(\"Prédictions\")\n",
    "    plt.ylabel(\"Valeurs Réelles\")\n",
    "    plt.show()\n",
    "    print(\"Matrice de confusion affichée.\")\n",
    "\n",
    "# Évaluation du modèle\n",
    "def evaluate_model(model, X_test, y_test, labels):\n",
    "    y_pred = model.predict(X_test)\n",
    "    threshold = 0.5\n",
    "    y_pred_binary = (y_pred > threshold).astype(int)\n",
    "\n",
    "    print(\"\\nÉvaluation sur l'ensemble de test :\")\n",
    "    print(classification_report(y_test, y_pred_binary, target_names=labels))\n",
    "\n",
    "    cm = confusion_matrix(y_test.argmax(axis=1), y_pred_binary.argmax(axis=1))\n",
    "    plot_confusion_matrix(cm, labels)\n",
    "\n",
    "# Exécuter l'évaluation\n",
    "print(\"\\nÉvaluation du modèle...\")\n",
    "evaluate_model(model, X_test_padded, y_test, labels)"
   ]
  },
  {
   "cell_type": "code",
   "execution_count": 39,
   "metadata": {},
   "outputs": [
    {
     "name": "stdout",
     "output_type": "stream",
     "text": [
      "1/1 [==============================] - 0s 47ms/step\n",
      "\n",
      "Texte: Je veux aller de Port-Boulet à Le Havre.\n",
      " - is_correct: 0.07%\n",
      " - is_not_trip: 99.28%\n",
      " - is_unknown: 0.0%\n",
      "\n",
      "Texte: Je veux aller de Nantes à Nantes.\n",
      " - is_correct: 100.0%\n",
      " - is_not_trip: 0.0%\n",
      " - is_unknown: 0.0%\n",
      "\n",
      "Texte: Comment aller à Niort depuis Troyes ?\n",
      " - is_correct: 0.0%\n",
      " - is_not_trip: 99.99%\n",
      " - is_unknown: 0.01%\n"
     ]
    }
   ],
   "source": [
    "# Cellule 5: Prédictions sur de nouveaux textes\n",
    "def predict_new_texts(model, tokenizer, new_texts, max_length, labels):\n",
    "    new_texts_sequences = tokenizer.texts_to_sequences(new_texts)\n",
    "    new_texts_padded = pad_sequences(new_texts_sequences, maxlen=max_length)\n",
    "    predicted_labels = model.predict(new_texts_padded)\n",
    "\n",
    "    for i, text in enumerate(new_texts):\n",
    "        print(f\"\\nTexte: {text}\")\n",
    "        for j, label in enumerate(labels):\n",
    "            print(f\" - {label}: {round(predicted_labels[i][j] * 100, 2)}%\")\n",
    "\n",
    "# Tester sur de nouvelles phrases\n",
    "new_texts = [\n",
    "    \"Je veux aller de Port-Boulet à Le Havre.\",\n",
    "    \"Je veux aller de Nantes à Nantes.\",\n",
    "    \"Comment aller à Niort depuis Troyes ?\"\n",
    "]\n",
    "predict_new_texts(model, tokenizer, new_texts, max_length, labels)"
   ]
  }
 ],
 "metadata": {
  "kernelspec": {
   "display_name": "projet_ia",
   "language": "python",
   "name": "python3"
  },
  "language_info": {
   "codemirror_mode": {
    "name": "ipython",
    "version": 3
   },
   "file_extension": ".py",
   "mimetype": "text/x-python",
   "name": "python",
   "nbconvert_exporter": "python",
   "pygments_lexer": "ipython3",
   "version": "3.11.9"
  }
 },
 "nbformat": 4,
 "nbformat_minor": 2
}
