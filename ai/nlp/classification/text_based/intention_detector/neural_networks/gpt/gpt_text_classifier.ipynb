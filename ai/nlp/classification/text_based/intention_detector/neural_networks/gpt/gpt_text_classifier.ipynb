{
 "cells": [
  {
   "cell_type": "code",
   "execution_count": null,
   "metadata": {},
   "outputs": [],
   "source": [
    "import os\n",
    "import numpy as np\n",
    "import pandas as pd\n",
    "from sklearn.model_selection import train_test_split\n",
    "from sklearn.metrics import classification_report, confusion_matrix\n",
    "from transformers import AutoTokenizer, AutoModelForSequenceClassification, TrainingArguments, Trainer\n",
    "from datasets import Dataset, DatasetDict\n",
    "import matplotlib.pyplot as plt\n",
    "import seaborn as sns\n",
    "\n",
    "print(\"Bibliothèques importées avec succès.\")"
   ]
  },
  {
   "cell_type": "code",
   "execution_count": null,
   "metadata": {},
   "outputs": [],
   "source": [
    "DATASET_PATH = \"C:/Users/vikne/Documents/Master 2/Semestre 9/Intelligence artificielle/Travel-Order-Resolver/ai/nlp/dataset/text/text_intention_detector.csv\"\n",
    "\n",
    "def load_dataset():\n",
    "    if os.path.exists(DATASET_PATH):\n",
    "        print(\"Chargement des données...\")\n",
    "        data = pd.read_csv(DATASET_PATH, delimiter=';')\n",
    "        print(\"Données chargées avec succès.\")\n",
    "        return data\n",
    "    else:\n",
    "        raise FileNotFoundError(\"Le chemin du dataset est incorrect.\")\n",
    "\n",
    "data = load_dataset()"
   ]
  },
  {
   "cell_type": "code",
   "execution_count": null,
   "metadata": {},
   "outputs": [],
   "source": [
    "print(\"\\nLes premières lignes du jeu de données :\")\n",
    "print(data.head())\n",
    "\n",
    "def preprocess_data(data):\n",
    "    label_mapping = {'is_correct': 0, 'is_not_trip': 1, 'is_unknown': 2}\n",
    "    data['label'] = data[['is_correct', 'is_not_trip', 'is_unknown']].idxmax(axis=1).map(label_mapping)\n",
    "    \n",
    "    X_train, X_test, y_train, y_test = train_test_split(data['sentence'], data['label'], test_size=0.2, random_state=42)\n",
    "    X_train, X_val, y_train, y_val = train_test_split(X_train, y_train, test_size=0.2, random_state=42)\n",
    "    \n",
    "    train_data = Dataset.from_dict({'text': X_train.tolist(), 'label': y_train.tolist()})\n",
    "    val_data = Dataset.from_dict({'text': X_val.tolist(), 'label': y_val.tolist()})\n",
    "    test_data = Dataset.from_dict({'text': X_test.tolist(), 'label': y_test.tolist()})\n",
    "    dataset = DatasetDict({'train': train_data, 'validation': val_data, 'test': test_data})\n",
    "    \n",
    "    print(\"Données préparées pour Transformers.\")\n",
    "    return dataset\n",
    "\n",
    "dataset = preprocess_data(data)"
   ]
  },
  {
   "cell_type": "code",
   "execution_count": null,
   "metadata": {},
   "outputs": [],
   "source": [
    "model_name = \"distilgpt2\"\n",
    "tokenizer = AutoTokenizer.from_pretrained(model_name)\n",
    "model = AutoModelForSequenceClassification.from_pretrained(model_name, num_labels=3)\n",
    "\n",
    "print(f\"Modèle {model_name} chargé avec succès.\")"
   ]
  },
  {
   "cell_type": "code",
   "execution_count": null,
   "metadata": {},
   "outputs": [],
   "source": [
    "def tokenize_function(example):\n",
    "    return tokenizer(example[\"text\"], padding=\"max_length\", truncation=True, max_length=100)\n",
    "\n",
    "tokenized_datasets = dataset.map(tokenize_function, batched=True)\n",
    "tokenized_datasets = tokenized_datasets.remove_columns([\"text\"])\n",
    "tokenized_datasets = tokenized_datasets.rename_column(\"label\", \"labels\")\n",
    "tokenized_datasets.set_format(\"torch\")\n",
    "\n",
    "print(\"Données tokenisées avec succès.\")"
   ]
  },
  {
   "cell_type": "code",
   "execution_count": null,
   "metadata": {},
   "outputs": [],
   "source": [
    "training_args = TrainingArguments(\n",
    "    output_dir=\"./results\",\n",
    "    evaluation_strategy=\"epoch\",\n",
    "    save_strategy=\"epoch\",\n",
    "    learning_rate=5e-5,\n",
    "    per_device_train_batch_size=16,\n",
    "    per_device_eval_batch_size=16,\n",
    "    num_train_epochs=5,\n",
    "    weight_decay=0.01,\n",
    "    logging_dir=\"./logs\",\n",
    "    load_best_model_at_end=True,\n",
    "    metric_for_best_model=\"accuracy\",\n",
    "    save_total_limit=2,\n",
    ")\n",
    "\n",
    "def compute_metrics(eval_pred):\n",
    "    logits, labels = eval_pred\n",
    "    preds = np.argmax(logits, axis=-1)\n",
    "    acc = np.mean(preds == labels)\n",
    "    return {\"accuracy\": acc}\n",
    "\n",
    "trainer = Trainer(\n",
    "    model=model,\n",
    "    args=training_args,\n",
    "    train_dataset=tokenized_datasets[\"train\"],\n",
    "    eval_dataset=tokenized_datasets[\"validation\"],\n",
    "    tokenizer=tokenizer,\n",
    "    compute_metrics=compute_metrics,\n",
    ")\n",
    "\n",
    "print(\"Début de l'entraînement...\")\n",
    "trainer.train()\n",
    "print(\"Entraînement terminé.\")"
   ]
  },
  {
   "cell_type": "code",
   "execution_count": null,
   "metadata": {},
   "outputs": [],
   "source": [
    "print(\"\\nÉvaluation sur l'ensemble de test...\")\n",
    "results = trainer.evaluate(tokenized_datasets[\"test\"])\n",
    "print(\"Résultats :\", results)"
   ]
  },
  {
   "cell_type": "code",
   "execution_count": null,
   "metadata": {},
   "outputs": [],
   "source": [
    "def plot_confusion_matrix(y_true, y_pred, labels):\n",
    "    cm = confusion_matrix(y_true, y_pred)\n",
    "    sns.heatmap(cm, annot=True, fmt='d', xticklabels=labels, yticklabels=labels, cmap=\"Blues\")\n",
    "    plt.title(\"Matrice de Confusion\")\n",
    "    plt.xlabel(\"Prédictions\")\n",
    "    plt.ylabel(\"Valeurs Réelles\")\n",
    "    plt.show()\n",
    "\n",
    "test_preds = trainer.predict(tokenized_datasets[\"test\"]).predictions\n",
    "test_labels = np.argmax(test_preds, axis=1)\n",
    "true_labels = tokenized_datasets[\"test\"][\"labels\"]\n",
    "\n",
    "plot_confusion_matrix(true_labels, test_labels, labels=[\"is_correct\", \"is_not_trip\", \"is_unknown\"])"
   ]
  },
  {
   "cell_type": "code",
   "execution_count": null,
   "metadata": {},
   "outputs": [],
   "source": [
    "def predict_new_texts(new_texts, model, tokenizer):\n",
    "    inputs = tokenizer(new_texts, return_tensors=\"pt\", padding=True, truncation=True, max_length=100)\n",
    "    outputs = model(**inputs)\n",
    "    probs = outputs.logits.softmax(dim=-1).detach().numpy()\n",
    "    \n",
    "    for i, text in enumerate(new_texts):\n",
    "        print(f\"\\nTexte: {text}\")\n",
    "        for j, label in enumerate([\"is_correct\", \"is_not_trip\", \"is_unknown\"]):\n",
    "            print(f\" - {label}: {round(probs[i][j] * 100, 2)}%\")\n",
    "\n",
    "new_texts = [\n",
    "    \"Je veux aller de Port-Boulet à Le Havre.\",\n",
    "    \"Je veux aller de Nantes à Nantes.\",\n",
    "    \"Comment aller à Niort depuis Troyes ?\"\n",
    "]\n",
    "predict_new_texts(new_texts, model, tokenizer)"
   ]
  }
 ],
 "metadata": {
  "language_info": {
   "name": "python"
  }
 },
 "nbformat": 4,
 "nbformat_minor": 2
}
