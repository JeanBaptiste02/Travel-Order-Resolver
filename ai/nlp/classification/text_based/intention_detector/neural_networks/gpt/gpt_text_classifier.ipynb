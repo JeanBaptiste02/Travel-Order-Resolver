{
 "cells": [
  {
   "cell_type": "code",
   "execution_count": 1,
   "metadata": {},
   "outputs": [
    {
     "name": "stderr",
     "output_type": "stream",
     "text": [
      "c:\\Users\\Seed\\anaconda3\\envs\\travel_order\\Lib\\site-packages\\tqdm\\auto.py:21: TqdmWarning: IProgress not found. Please update jupyter and ipywidgets. See https://ipywidgets.readthedocs.io/en/stable/user_install.html\n",
      "  from .autonotebook import tqdm as notebook_tqdm\n"
     ]
    },
    {
     "name": "stdout",
     "output_type": "stream",
     "text": [
      "WARNING:tensorflow:From c:\\Users\\Seed\\anaconda3\\envs\\travel_order\\Lib\\site-packages\\tf_keras\\src\\losses.py:2976: The name tf.losses.sparse_softmax_cross_entropy is deprecated. Please use tf.compat.v1.losses.sparse_softmax_cross_entropy instead.\n",
      "\n",
      "Bibliothèques importées avec succès.\n"
     ]
    }
   ],
   "source": [
    "import os\n",
    "import numpy as np\n",
    "import pandas as pd\n",
    "from sklearn.model_selection import train_test_split\n",
    "from sklearn.metrics import classification_report, confusion_matrix\n",
    "from transformers import AutoTokenizer, AutoModelForSequenceClassification, TrainingArguments, Trainer\n",
    "from datasets import Dataset, DatasetDict\n",
    "import matplotlib.pyplot as plt\n",
    "import seaborn as sns\n",
    "\n",
    "print(\"Bibliothèques importées avec succès.\")"
   ]
  },
  {
   "cell_type": "code",
   "execution_count": 2,
   "metadata": {},
   "outputs": [
    {
     "name": "stdout",
     "output_type": "stream",
     "text": [
      "Running on device: cuda\n"
     ]
    }
   ],
   "source": [
    "from torch import cuda\n",
    "\n",
    "# Setup device\n",
    "device = 'cuda' if cuda.is_available() else 'cpu'\n",
    "print(f\"Running on device: {device}\")"
   ]
  },
  {
   "cell_type": "code",
   "execution_count": 3,
   "metadata": {},
   "outputs": [
    {
     "name": "stdout",
     "output_type": "stream",
     "text": [
      "Chargement des données...\n",
      "Données chargées avec succès.\n"
     ]
    }
   ],
   "source": [
    "DATASET_PATH = r\"C:\\Users\\Seed\\Projects\\Travel-Order-Resolver\\ai\\nlp\\dataset\\text\\text_intention_detector.csv\"\n",
    "\n",
    "def load_dataset():\n",
    "    if os.path.exists(DATASET_PATH):\n",
    "        print(\"Chargement des données...\")\n",
    "        data = pd.read_csv(DATASET_PATH, delimiter=';')\n",
    "        print(\"Données chargées avec succès.\")\n",
    "        return data\n",
    "    else:\n",
    "        raise FileNotFoundError(\"Le chemin du dataset est incorrect.\")\n",
    "\n",
    "data = load_dataset()"
   ]
  },
  {
   "cell_type": "code",
   "execution_count": 4,
   "metadata": {},
   "outputs": [
    {
     "name": "stdout",
     "output_type": "stream",
     "text": [
      "\n",
      "Les premières lignes du jeu de données :\n",
      "                                            sentence  is_correct  is_not_trip  \\\n",
      "0  Y a-t-il un moyen d'aller de Montreux-Vieux à ...           1            0   \n",
      "1  I would like to travel from culoz to buswiller...           0            0   \n",
      "2           He lied when he said he didn't like her.           0            1   \n",
      "3                         ?N|ajOLIY6;DOM'mKavLZZnkAi           0            0   \n",
      "4                         a(c}sMyu7/97.[-IA@m k0rN0U           0            0   \n",
      "\n",
      "   is_unknown  \n",
      "0           0  \n",
      "1           0  \n",
      "2           0  \n",
      "3           1  \n",
      "4           1  \n",
      "Données préparées pour Transformers.\n"
     ]
    }
   ],
   "source": [
    "print(\"\\nLes premières lignes du jeu de données :\")\n",
    "print(data.head())\n",
    "\n",
    "def preprocess_data(data):\n",
    "    label_mapping = {'is_correct': 0, 'is_not_trip': 1, 'is_unknown': 2}\n",
    "    data['label'] = data[['is_correct', 'is_not_trip', 'is_unknown']].idxmax(axis=1).map(label_mapping)\n",
    "    \n",
    "    X_train, X_test, y_train, y_test = train_test_split(data['sentence'], data['label'], test_size=0.2, random_state=42)\n",
    "    X_train, X_val, y_train, y_val = train_test_split(X_train, y_train, test_size=0.2, random_state=42)\n",
    "    \n",
    "    train_data = Dataset.from_dict({'text': X_train.tolist(), 'label': y_train.tolist()})\n",
    "    val_data = Dataset.from_dict({'text': X_val.tolist(), 'label': y_val.tolist()})\n",
    "    test_data = Dataset.from_dict({'text': X_test.tolist(), 'label': y_test.tolist()})\n",
    "    dataset = DatasetDict({'train': train_data, 'validation': val_data, 'test': test_data})\n",
    "    \n",
    "    print(\"Données préparées pour Transformers.\")\n",
    "    return dataset\n",
    "\n",
    "dataset = preprocess_data(data)"
   ]
  },
  {
   "cell_type": "code",
   "execution_count": 5,
   "metadata": {},
   "outputs": [
    {
     "name": "stderr",
     "output_type": "stream",
     "text": [
      "Some weights of GPT2ForSequenceClassification were not initialized from the model checkpoint at distilgpt2 and are newly initialized: ['score.weight']\n",
      "You should probably TRAIN this model on a down-stream task to be able to use it for predictions and inference.\n"
     ]
    },
    {
     "name": "stdout",
     "output_type": "stream",
     "text": [
      "Modèle distilgpt2 chargé avec succès.\n"
     ]
    }
   ],
   "source": [
    "model_name = \"distilgpt2\"\n",
    "tokenizer = AutoTokenizer.from_pretrained(model_name)\n",
    "model = AutoModelForSequenceClassification.from_pretrained(model_name, num_labels=3)\n",
    "\n",
    "print(f\"Modèle {model_name} chargé avec succès.\")"
   ]
  },
  {
   "cell_type": "code",
   "execution_count": 6,
   "metadata": {},
   "outputs": [
    {
     "name": "stderr",
     "output_type": "stream",
     "text": [
      "The new embeddings will be initialized from a multivariate normal distribution that has old embeddings' mean and covariance. As described in this article: https://nlp.stanford.edu/~johnhew/vocab-expansion.html. To disable this, use `mean_resizing=False`\n",
      "Map: 100%|██████████| 833116/833116 [00:28<00:00, 29499.25 examples/s]\n",
      "Map: 100%|██████████| 208280/208280 [00:07<00:00, 29738.03 examples/s]\n",
      "Map: 100%|██████████| 260349/260349 [00:08<00:00, 29619.95 examples/s]"
     ]
    },
    {
     "name": "stdout",
     "output_type": "stream",
     "text": [
      "Données tokenisées avec succès.\n"
     ]
    },
    {
     "name": "stderr",
     "output_type": "stream",
     "text": [
      "\n"
     ]
    }
   ],
   "source": [
    "# Configurer un jeton de padding pour le tokenizer\n",
    "if tokenizer.pad_token is None:\n",
    "    tokenizer.pad_token = tokenizer.eos_token  # Ou utilisez un nouveau jeton de padding\n",
    "    tokenizer.add_special_tokens({'pad_token': '[PAD]'})\n",
    "    model.resize_token_embeddings(len(tokenizer))  # Ajuster les embeddings\n",
    "\n",
    "# Re-tokenisation des données\n",
    "def tokenize_function(example):\n",
    "    return tokenizer(\n",
    "        example[\"text\"], \n",
    "        padding=\"max_length\", \n",
    "        truncation=True, \n",
    "        max_length=100\n",
    "    )\n",
    "\n",
    "tokenized_datasets = dataset.map(tokenize_function, batched=True)\n",
    "tokenized_datasets = tokenized_datasets.remove_columns([\"text\"])\n",
    "tokenized_datasets = tokenized_datasets.rename_column(\"label\", \"labels\")\n",
    "tokenized_datasets.set_format(\"torch\")\n",
    "\n",
    "print(\"Données tokenisées avec succès.\")"
   ]
  },
  {
   "cell_type": "code",
   "execution_count": null,
   "metadata": {},
   "outputs": [
    {
     "name": "stderr",
     "output_type": "stream",
     "text": [
      "C:\\Users\\Seed\\AppData\\Local\\Temp\\ipykernel_22636\\76718945.py:27: FutureWarning: `tokenizer` is deprecated and will be removed in version 5.0.0 for `Trainer.__init__`. Use `processing_class` instead.\n",
      "  trainer = Trainer(\n"
     ]
    },
    {
     "name": "stdout",
     "output_type": "stream",
     "text": [
      "Début de l'entraînement...\n"
     ]
    },
    {
     "data": {
      "text/html": [
       "\n",
       "    <div>\n",
       "      \n",
       "      <progress value='864' max='520700' style='width:300px; height:20px; vertical-align: middle;'></progress>\n",
       "      [   864/520700 00:59 < 10:02:04, 14.39 it/s, Epoch 0.01/5]\n",
       "    </div>\n",
       "    <table border=\"1\" class=\"dataframe\">\n",
       "  <thead>\n",
       " <tr style=\"text-align: left;\">\n",
       "      <th>Epoch</th>\n",
       "      <th>Training Loss</th>\n",
       "      <th>Validation Loss</th>\n",
       "    </tr>\n",
       "  </thead>\n",
       "  <tbody>\n",
       "  </tbody>\n",
       "</table><p>"
      ],
      "text/plain": [
       "<IPython.core.display.HTML object>"
      ]
     },
     "metadata": {},
     "output_type": "display_data"
    }
   ],
   "source": [
    "\n",
    "# Vérifier la configuration du modèle\n",
    "model.config.pad_token_id = tokenizer.pad_token_id\n",
    "\n",
    "# Entraînement\n",
    "training_args = TrainingArguments(\n",
    "    output_dir=\"./results\",\n",
    "    eval_strategy=\"epoch\",\n",
    "    save_strategy=\"epoch\",\n",
    "    learning_rate=5e-5,\n",
    "    per_device_train_batch_size=8,\n",
    "    per_device_eval_batch_size=8,\n",
    "    num_train_epochs=5,\n",
    "    weight_decay=0.01,\n",
    "    logging_dir=\"./logs\",\n",
    "    load_best_model_at_end=True,\n",
    "    metric_for_best_model=\"accuracy\",\n",
    "    save_total_limit=2,\n",
    "    fp16=True,\n",
    ")\n",
    "\n",
    "def compute_metrics(eval_pred):\n",
    "    logits, labels = eval_pred\n",
    "    preds = np.argmax(logits, axis=-1)\n",
    "    acc = np.mean(preds == labels)\n",
    "    return {\"accuracy\": acc}\n",
    "\n",
    "trainer = Trainer(\n",
    "    model=model,\n",
    "    args=training_args,\n",
    "    train_dataset=tokenized_datasets[\"train\"],\n",
    "    eval_dataset=tokenized_datasets[\"validation\"],\n",
    "    tokenizer=tokenizer,\n",
    "    compute_metrics=compute_metrics,\n",
    ")\n",
    "\n",
    "# Démarrer l'entraînement\n",
    "print(\"Début de l'entraînement...\")\n",
    "trainer.train()\n",
    "print(\"Entraînement terminé.\")"
   ]
  },
  {
   "cell_type": "code",
   "execution_count": null,
   "metadata": {},
   "outputs": [],
   "source": [
    "print(\"\\nÉvaluation sur l'ensemble de test...\")\n",
    "results = trainer.evaluate(tokenized_datasets[\"test\"])\n",
    "print(\"Résultats :\", results)"
   ]
  },
  {
   "cell_type": "code",
   "execution_count": null,
   "metadata": {},
   "outputs": [],
   "source": []
  },
  {
   "cell_type": "code",
   "execution_count": null,
   "metadata": {},
   "outputs": [],
   "source": [
    "def plot_confusion_matrix(y_true, y_pred, labels):\n",
    "    cm = confusion_matrix(y_true, y_pred)\n",
    "    sns.heatmap(cm, annot=True, fmt='d', xticklabels=labels, yticklabels=labels, cmap=\"Blues\")\n",
    "    plt.title(\"Matrice de Confusion\")\n",
    "    plt.xlabel(\"Prédictions\")\n",
    "    plt.ylabel(\"Valeurs Réelles\")\n",
    "    plt.show()\n",
    "\n",
    "test_preds = trainer.predict(tokenized_datasets[\"test\"]).predictions\n",
    "test_labels = np.argmax(test_preds, axis=1)\n",
    "true_labels = tokenized_datasets[\"test\"][\"labels\"]\n",
    "\n",
    "plot_confusion_matrix(true_labels, test_labels, labels=[\"is_correct\", \"is_not_trip\", \"is_unknown\"])"
   ]
  },
  {
   "cell_type": "code",
   "execution_count": null,
   "metadata": {},
   "outputs": [],
   "source": [
    "def predict_new_texts(new_texts, model, tokenizer):\n",
    "    inputs = tokenizer(new_texts, return_tensors=\"pt\", padding=True, truncation=True, max_length=100)\n",
    "    outputs = model(**inputs)\n",
    "    probs = outputs.logits.softmax(dim=-1).detach().numpy()\n",
    "    \n",
    "    for i, text in enumerate(new_texts):\n",
    "        print(f\"\\nTexte: {text}\")\n",
    "        for j, label in enumerate([\"is_correct\", \"is_not_trip\", \"is_unknown\"]):\n",
    "            print(f\" - {label}: {round(probs[i][j] * 100, 2)}%\")\n",
    "\n",
    "new_texts = [\n",
    "    \"Je veux aller de Port-Boulet à Le Havre.\",\n",
    "    \"Je veux aller de Nantes à Nantes.\",\n",
    "    \"Comment aller à Niort depuis Troyes ?\"\n",
    "]\n",
    "predict_new_texts(new_texts, model, tokenizer)"
   ]
  }
 ],
 "metadata": {
  "kernelspec": {
   "display_name": "travel_order",
   "language": "python",
   "name": "python3"
  },
  "language_info": {
   "codemirror_mode": {
    "name": "ipython",
    "version": 3
   },
   "file_extension": ".py",
   "mimetype": "text/x-python",
   "name": "python",
   "nbconvert_exporter": "python",
   "pygments_lexer": "ipython3",
   "version": "3.12.8"
  }
 },
 "nbformat": 4,
 "nbformat_minor": 2
}
