{
 "cells": [
  {
   "cell_type": "code",
   "execution_count": 13,
   "id": "6726b4ca-19ac-44e1-aea6-172bcbc11081",
   "metadata": {},
   "outputs": [],
   "source": [
    "import spacy\n",
    "import torch\n",
    "from transformers import CamembertTokenizer, CamembertForTokenClassification\n",
    "from transformers import pipeline\n",
    "import pandas as pd\n",
    "import numpy as np\n",
    "import matplotlib.pyplot as plt\n",
    "from sklearn.metrics import classification_report, accuracy_score\n",
    "import seaborn as sns\n",
    "import tensorflow as tf"
   ]
  },
  {
   "cell_type": "code",
   "execution_count": 19,
   "id": "8762cf66-a302-466f-b550-60f645d30509",
   "metadata": {},
   "outputs": [
    {
     "name": "stdout",
     "output_type": "stream",
     "text": [
      "Vérification GPU...\n",
      "Aucun GPU détecté, l'entraînement se fera sur le CPU\n"
     ]
    }
   ],
   "source": [
    "print(\"Vérification GPU...\")\n",
    "if tf.config.list_physical_devices('GPU'):\n",
    "    print(\"GPU détecté\")\n",
    "else:\n",
    "    print(\"Aucun GPU détecté, l'entraînement se fera sur le CPU\")"
   ]
  },
  {
   "cell_type": "code",
   "execution_count": 47,
   "id": "389047d8-7a88-4050-98a3-328d41f5e13e",
   "metadata": {},
   "outputs": [
    {
     "name": "stdout",
     "output_type": "stream",
     "text": [
      "Loaded ner_dataset file\n",
      "Premières lignes du dataset ner_dataset.csv :\n",
      "    Sentence #           Word  POS Tag\n",
      "0  Sentence: 1      Thousands  NNS   O\n",
      "1          NaN             of   IN   O\n",
      "2          NaN  demonstrators  NNS   O\n",
      "3          NaN           have  VBP   O\n",
      "4          NaN        marched  VBN   O\n",
      "\n",
      "######################################################################\n",
      "\n",
      "Loaded bottins file\n",
      "Premières lignes du dataset bottins.csv :\n",
      "                                                   0                1\n",
      "0  <PER>Dufan et Clémendot</PER>, <ACT>pharmacien...   \"Bottin1_1820\"\n",
      "1  <PER>Dufant (Victor)</PER>, <ACT>libraire</ACT...   \"Bottin1_1820\"\n",
      "2  <PER>Dufay</PER>, <ACT>essayeur du commerce</A...   \"Bottin1_1820\"\n",
      "3  <PER>Dulay</PER>, <ACT>chandronnier</ACT>, <LO...   \"Bottin1_1820\"\n",
      "4  <PER>Dufay (V.e)</PER>, <ACT>grenetière</ACT>,...   \"Bottin1_1820\"\n"
     ]
    }
   ],
   "source": [
    "def load_ner_dataset_file():\n",
    "    ner_data = pd.read_csv(\"../../../../students_bootstrap/corpus/ner_dataset.csv\", encoding='latin1', delimiter=\",\")\n",
    "    print(\"Loaded ner_dataset file\\n\")\n",
    "    return ner_data\n",
    "    \n",
    "def load_bottins_file():\n",
    "    bottins_data = pd.read_csv(\"../../../../students_bootstrap/bottins.csv\", encoding=\"utf-8\", delimiter=\",\", header=None)\n",
    "    print(\"Loaded bottins file \\n\")\n",
    "    return bottins_data\n",
    "\n",
    "ner_data = load_ner_dataset_file()\n",
    "print(\"Premières lignes du dataset ner_dataset.csv :\\n\")\n",
    "print(ner_data.head())\n",
    "\n",
    "print(\"\\n######################################################################\\n\")\n",
    "\n",
    "bottins_data = load_bottins_file()\n",
    "print(\"Premières lignes du dataset bottins.csv :\\n\")\n",
    "print(bottins_data.head())"
   ]
  },
  {
   "cell_type": "code",
   "execution_count": null,
   "id": "218a64f8-0534-486d-ac3b-d6df4b550390",
   "metadata": {},
   "outputs": [],
   "source": []
  }
 ],
 "metadata": {
  "kernelspec": {
   "display_name": "Python 3 (ipykernel)",
   "language": "python",
   "name": "python3"
  },
  "language_info": {
   "codemirror_mode": {
    "name": "ipython",
    "version": 3
   },
   "file_extension": ".py",
   "mimetype": "text/x-python",
   "name": "python",
   "nbconvert_exporter": "python",
   "pygments_lexer": "ipython3",
   "version": "3.11.7"
  }
 },
 "nbformat": 4,
 "nbformat_minor": 5
}
