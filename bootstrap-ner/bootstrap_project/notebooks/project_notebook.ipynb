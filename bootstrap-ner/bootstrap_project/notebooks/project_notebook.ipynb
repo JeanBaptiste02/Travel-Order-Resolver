{
 "cells": [
  {
   "cell_type": "code",
   "execution_count": 13,
   "id": "6726b4ca-19ac-44e1-aea6-172bcbc11081",
   "metadata": {},
   "outputs": [],
   "source": [
    "import spacy\n",
    "import torch\n",
    "from transformers import CamembertTokenizer, CamembertForTokenClassification\n",
    "from transformers import pipeline\n",
    "import pandas as pd\n",
    "import numpy as np\n",
    "import matplotlib.pyplot as plt\n",
    "from sklearn.metrics import classification_report, accuracy_score\n",
    "import seaborn as sns\n",
    "import tensorflow as tf"
   ]
  },
  {
   "cell_type": "code",
   "execution_count": 19,
   "id": "8762cf66-a302-466f-b550-60f645d30509",
   "metadata": {},
   "outputs": [
    {
     "name": "stdout",
     "output_type": "stream",
     "text": [
      "Vérification GPU...\n",
      "Aucun GPU détecté, l'entraînement se fera sur le CPU\n"
     ]
    }
   ],
   "source": [
    "print(\"Vérification GPU...\")\n",
    "if tf.config.list_physical_devices('GPU'):\n",
    "    print(\"GPU détecté\")\n",
    "else:\n",
    "    print(\"Aucun GPU détecté, l'entraînement se fera sur le CPU\")"
   ]
  },
  {
   "cell_type": "code",
   "execution_count": 21,
   "id": "aeff77ab-d3d3-44bb-b39d-56043abf0d6e",
   "metadata": {},
   "outputs": [
    {
     "name": "stdout",
     "output_type": "stream",
     "text": [
      "Hyperparametres définies\n"
     ]
    }
   ],
   "source": [
    "BATCH_SIZE = 16 # nb d'exemples de données que le modèle va traiter\n",
    "EPOCHS = 3 # nb de fois que le modèle va passer en revue l'ensemble de données d'entrainement\n",
    "LEARNING_RATE = 5e-5 # vitesse à la quelle le modele apprend\n",
    "\n",
    "print(\"Hyperparametres définies\")"
   ]
  },
  {
   "cell_type": "code",
   "execution_count": 27,
   "id": "389047d8-7a88-4050-98a3-328d41f5e13e",
   "metadata": {},
   "outputs": [
    {
     "name": "stdout",
     "output_type": "stream",
     "text": [
      "Premières lignes du dataset ner_dataset.csv :\n"
     ]
    },
    {
     "name": "stderr",
     "output_type": "stream",
     "text": [
      "C:\\Users\\vikne\\AppData\\Local\\Temp\\ipykernel_17540\\4129783573.py:2: FutureWarning: DataFrame.fillna with 'method' is deprecated and will raise in a future version. Use obj.ffill() or obj.bfill() instead.\n",
      "  ner_data = pd.read_csv(\"../../../../students_bootstrap/corpus/ner_dataset.csv\", encoding='latin1').fillna(method=\"ffill\")\n"
     ]
    },
    {
     "name": "stdout",
     "output_type": "stream",
     "text": [
      "loaded ner dataset file\n",
      "    Sentence #           Word  POS Tag\n",
      "0  Sentence: 1      Thousands  NNS   O\n",
      "1  Sentence: 1             of   IN   O\n",
      "2  Sentence: 1  demonstrators  NNS   O\n",
      "3  Sentence: 1           have  VBP   O\n",
      "4  Sentence: 1        marched  VBN   O\n",
      "######################################################################\n",
      "Premières lignes du dataset bottins.csv :\n",
      "loaded bottins file\n",
      "  <PER>Dufan et Clémendot</PER>, <ACT>pharmaciens</ACT>, <LOC>r. de la ",
      "Chaussée-d&apos;Antin</LOC>, <CARDINAL>34</CARDINAL>. <TITRE>(Elig.)</TITRE> 449  \\\n",
      "0  <PER>Dufant (Victor)</PER>, <ACT>libraire</ACT...                                                                                                      \n",
      "1  <PER>Dufay</PER>, <ACT>essayeur du commerce</A...                                                                                                      \n",
      "2  <PER>Dulay</PER>, <ACT>chandronnier</ACT>, <LO...                                                                                                      \n",
      "3  <PER>Dufay (V.e)</PER>, <ACT>grenetière</ACT>,...                                                                                                      \n",
      "4  <PER>Dufay</PER>, <ACT>papetier</ACT>, <LOC>r....                                                                                                      \n",
      "\n",
      "    \"Bottin1_1820\"  \n",
      "0   \"Bottin1_1820\"  \n",
      "1   \"Bottin1_1820\"  \n",
      "2   \"Bottin1_1820\"  \n",
      "3   \"Bottin1_1820\"  \n",
      "4   \"Bottin1_1820\"  \n"
     ]
    }
   ],
   "source": [
    "def load_ner_dataset_file():\n",
    "    ner_data = pd.read_csv(\"../../../../students_bootstrap/corpus/ner_dataset.csv\", encoding='latin1').fillna(method=\"ffill\")\n",
    "    print(\"loaded ner dataset file\")\n",
    "    return ner_data\n",
    "    \n",
    "def load_bottins_file():\n",
    "    bottins_data = pd.read_csv(\"../../../../students_bootstrap/bottins.csv\")\n",
    "    print(\"loaded bottins file\")\n",
    "    return bottins_data\n",
    "\n",
    "print(\"Premières lignes du dataset ner_dataset.csv :\")\n",
    "ner_data = load_ner_dataset_file()\n",
    "print(ner_data.head())\n",
    "\n",
    "print(\"\\n######################################################################\\n\")\n",
    "\n",
    "print(\"Premières lignes du dataset bottins.csv :\")\n",
    "bottins_data = load_bottins_file()\n",
    "print(bottins_data.head())"
   ]
  },
  {
   "cell_type": "code",
   "execution_count": null,
   "id": "99dc7331-d870-4fe2-a8a8-60be202682a2",
   "metadata": {},
   "outputs": [],
   "source": []
  }
 ],
 "metadata": {
  "kernelspec": {
   "display_name": "Python 3 (ipykernel)",
   "language": "python",
   "name": "python3"
  },
  "language_info": {
   "codemirror_mode": {
    "name": "ipython",
    "version": 3
   },
   "file_extension": ".py",
   "mimetype": "text/x-python",
   "name": "python",
   "nbconvert_exporter": "python",
   "pygments_lexer": "ipython3",
   "version": "3.11.7"
  }
 },
 "nbformat": 4,
 "nbformat_minor": 5
}
