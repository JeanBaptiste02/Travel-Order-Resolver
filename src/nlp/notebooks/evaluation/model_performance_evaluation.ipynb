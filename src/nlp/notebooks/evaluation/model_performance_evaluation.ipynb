{
 "cells": [
  {
   "cell_type": "code",
   "execution_count": 1,
   "metadata": {},
   "outputs": [
    {
     "name": "stdout",
     "output_type": "stream",
     "text": [
      "Librairies importées\n"
     ]
    }
   ],
   "source": [
    "import spacy\n",
    "from tqdm import tqdm \n",
    "import difflib\n",
    "import pandas as pd\n",
    "import matplotlib.pyplot as plt\n",
    "from spacy.language import Language\n",
    "from spacy_langdetect import LanguageDetector\n",
    "import pandas as pd\n",
    "from IPython.display import display \n",
    "\n",
    "print(\"Librairies importées\")"
   ]
  },
  {
   "cell_type": "code",
   "execution_count": 31,
   "metadata": {},
   "outputs": [
    {
     "name": "stdout",
     "output_type": "stream",
     "text": [
      "Chargement de mon modèle à moi...\n",
      "Chargement du modèle préentrainé de spaCy fr...\n",
      "Les 2 modèles ont été chargés\n"
     ]
    }
   ],
   "source": [
    "print(\"Chargement de mon modèle à moi...\")\n",
    "nlp_itinerary = spacy.load(\"../../models/saved_models/model-best/\")\n",
    "print(\"Chargement du modèle préentrainé de spaCy fr...\")\n",
    "nlp_fr = spacy.load(\"fr_core_news_md\")\n",
    "\n",
    "print(\"Les 2 modèles ont été chargés\")"
   ]
  },
  {
   "cell_type": "code",
   "execution_count": 32,
   "metadata": {},
   "outputs": [
    {
     "data": {
      "text/plain": [
       "<spacy_langdetect.spacy_langdetect.LanguageDetector at 0x2392dcbe390>"
      ]
     },
     "execution_count": 32,
     "metadata": {},
     "output_type": "execute_result"
    }
   ],
   "source": [
    "@Language.factory(\"language_detector\")\n",
    "def get_lang_detector(nlp, name):\n",
    "    return LanguageDetector()\n",
    "\n",
    "nlp_fr.add_pipe('language_detector', last=True)"
   ]
  },
  {
   "cell_type": "code",
   "execution_count": 33,
   "metadata": {},
   "outputs": [
    {
     "name": "stdout",
     "output_type": "stream",
     "text": [
      "Entités détectées avec le modèle linguistique :\n"
     ]
    },
    {
     "data": {
      "text/html": [
       "<span class=\"tex2jax_ignore\"><div class=\"entities\" style=\"line-height: 2.5; direction: ltr\">Je voudrais aller de \n",
       "<mark class=\"entity\" style=\"background: #ff9561; padding: 0.45em 0.6em; margin: 0 0.25em; line-height: 1; border-radius: 0.35em;\">\n",
       "    Paris\n",
       "    <span style=\"font-size: 0.8em; font-weight: bold; line-height: 1; border-radius: 0.35em; vertical-align: middle; margin-left: 0.5rem\">LOC</span>\n",
       "</mark>\n",
       " à \n",
       "<mark class=\"entity\" style=\"background: #ff9561; padding: 0.45em 0.6em; margin: 0 0.25em; line-height: 1; border-radius: 0.35em;\">\n",
       "    Marseille\n",
       "    <span style=\"font-size: 0.8em; font-weight: bold; line-height: 1; border-radius: 0.35em; vertical-align: middle; margin-left: 0.5rem\">LOC</span>\n",
       "</mark>\n",
       ".</div></span>"
      ],
      "text/plain": [
       "<IPython.core.display.HTML object>"
      ]
     },
     "metadata": {},
     "output_type": "display_data"
    },
    {
     "name": "stdout",
     "output_type": "stream",
     "text": [
      "Entités détectées avec notre modèle à nous :\n"
     ]
    },
    {
     "data": {
      "text/html": [
       "<span class=\"tex2jax_ignore\"><div class=\"entities\" style=\"line-height: 2.5; direction: ltr\">Je voudrais aller de \n",
       "<mark class=\"entity\" style=\"background: #ddd; padding: 0.45em 0.6em; margin: 0 0.25em; line-height: 1; border-radius: 0.35em;\">\n",
       "    Paris\n",
       "    <span style=\"font-size: 0.8em; font-weight: bold; line-height: 1; border-radius: 0.35em; vertical-align: middle; margin-left: 0.5rem\">DEPARTURE</span>\n",
       "</mark>\n",
       " à \n",
       "<mark class=\"entity\" style=\"background: #ddd; padding: 0.45em 0.6em; margin: 0 0.25em; line-height: 1; border-radius: 0.35em;\">\n",
       "    Marseille\n",
       "    <span style=\"font-size: 0.8em; font-weight: bold; line-height: 1; border-radius: 0.35em; vertical-align: middle; margin-left: 0.5rem\">DESTINATION</span>\n",
       "</mark>\n",
       ".</div></span>"
      ],
      "text/plain": [
       "<IPython.core.display.HTML object>"
      ]
     },
     "metadata": {},
     "output_type": "display_data"
    },
    {
     "name": "stdout",
     "output_type": "stream",
     "text": [
      "Résultat de l'extraction :  ({'départ': 'Paris', 'destination': 'Marseille'}, {'Entités linguistiques': ['Paris', 'Marseille'], \"Entités modèle d'itinéraire\": ['Paris', 'Marseille']})\n"
     ]
    }
   ],
   "source": [
    "# Pour extraire les entités de départ et destination du texte\n",
    "def extract_locations(text, lang_model, itinerary_model, verbose=False):\n",
    "    doc_lang = lang_model(text)\n",
    "    doc_itinerary = itinerary_model(text)\n",
    "\n",
    "    # dictionnaire pour stocker les entités détectées\n",
    "    entities_detected = {\n",
    "        \"Entités linguistiques\": [],\n",
    "        \"Entités modèle d'itinéraire\": []\n",
    "    }\n",
    "\n",
    "    if verbose:\n",
    "        print(\"Entités détectées avec le modèle linguistique :\")\n",
    "        spacy.displacy.render(doc_lang, style='ent', jupyter=True)\n",
    "        print(\"Entités détectées avec notre modèle à nous :\")\n",
    "        spacy.displacy.render(doc_itinerary, style='ent', jupyter=True)\n",
    "\n",
    "    departure, destination = None, None\n",
    "\n",
    "    # on verifie si le texte est bien en français\n",
    "    if doc_lang._.language['language'] != 'fr':\n",
    "        return \"NON_FRANÇAIS\", entities_detected\n",
    "\n",
    "    # on parcours les entités détectées par le modèle linguistique\n",
    "    for ent in doc_lang.ents:\n",
    "        entities_detected[\"Entités linguistiques\"].append(ent.text)\n",
    "\n",
    "    # on parcours les entités détectées par notre modele à nous\n",
    "    for ent in doc_itinerary.ents:\n",
    "        if ent.label_ == \"DEPARTURE\":\n",
    "            departure = ent.text\n",
    "        elif ent.label_ == \"DESTINATION\":\n",
    "            destination = ent.text\n",
    "        entities_detected[\"Entités modèle d'itinéraire\"].append(ent.text)\n",
    "\n",
    "    if not departure or not destination:\n",
    "        return \"PAS_DE_TRAJET\", entities_detected\n",
    "\n",
    "    return {\"départ\": departure, \"destination\": destination}, entities_detected\n",
    "\n",
    "test_text = \"Je voudrais aller de Paris à Marseille.\"\n",
    "result = extract_locations(test_text, nlp_fr, nlp_itinerary, verbose=True)\n",
    "print(\"Résultat de l'extraction : \", result)\n"
   ]
  },
  {
   "cell_type": "code",
   "execution_count": 38,
   "metadata": {},
   "outputs": [
    {
     "name": "stdout",
     "output_type": "stream",
     "text": [
      "Entités détectées avec le modèle linguistique :\n"
     ]
    },
    {
     "data": {
      "text/html": [
       "<span class=\"tex2jax_ignore\"><div class=\"entities\" style=\"line-height: 2.5; direction: ltr\">Je cherche un trajet de \n",
       "<mark class=\"entity\" style=\"background: #ff9561; padding: 0.45em 0.6em; margin: 0 0.25em; line-height: 1; border-radius: 0.35em;\">\n",
       "    Lyon\n",
       "    <span style=\"font-size: 0.8em; font-weight: bold; line-height: 1; border-radius: 0.35em; vertical-align: middle; margin-left: 0.5rem\">LOC</span>\n",
       "</mark>\n",
       " à \n",
       "<mark class=\"entity\" style=\"background: #ff9561; padding: 0.45em 0.6em; margin: 0 0.25em; line-height: 1; border-radius: 0.35em;\">\n",
       "    Nice\n",
       "    <span style=\"font-size: 0.8em; font-weight: bold; line-height: 1; border-radius: 0.35em; vertical-align: middle; margin-left: 0.5rem\">LOC</span>\n",
       "</mark>\n",
       "</div></span>"
      ],
      "text/plain": [
       "<IPython.core.display.HTML object>"
      ]
     },
     "metadata": {},
     "output_type": "display_data"
    },
    {
     "name": "stdout",
     "output_type": "stream",
     "text": [
      "Entités détectées avec notre modèle à nous :\n"
     ]
    },
    {
     "data": {
      "text/html": [
       "<span class=\"tex2jax_ignore\"><div class=\"entities\" style=\"line-height: 2.5; direction: ltr\">Je cherche un trajet de Lyon à Nice</div></span>"
      ],
      "text/plain": [
       "<IPython.core.display.HTML object>"
      ]
     },
     "metadata": {},
     "output_type": "display_data"
    },
    {
     "name": "stdout",
     "output_type": "stream",
     "text": [
      "Entités détectées avec le modèle linguistique :\n"
     ]
    },
    {
     "data": {
      "text/html": [
       "<span class=\"tex2jax_ignore\"><div class=\"entities\" style=\"line-height: 2.5; direction: ltr\">Puis-je me rendre à \n",
       "<mark class=\"entity\" style=\"background: #ff9561; padding: 0.45em 0.6em; margin: 0 0.25em; line-height: 1; border-radius: 0.35em;\">\n",
       "    Grenoble\n",
       "    <span style=\"font-size: 0.8em; font-weight: bold; line-height: 1; border-radius: 0.35em; vertical-align: middle; margin-left: 0.5rem\">LOC</span>\n",
       "</mark>\n",
       " depuis \n",
       "<mark class=\"entity\" style=\"background: #ff9561; padding: 0.45em 0.6em; margin: 0 0.25em; line-height: 1; border-radius: 0.35em;\">\n",
       "    Chambéry\n",
       "    <span style=\"font-size: 0.8em; font-weight: bold; line-height: 1; border-radius: 0.35em; vertical-align: middle; margin-left: 0.5rem\">LOC</span>\n",
       "</mark>\n",
       " en train ?</div></span>"
      ],
      "text/plain": [
       "<IPython.core.display.HTML object>"
      ]
     },
     "metadata": {},
     "output_type": "display_data"
    },
    {
     "name": "stdout",
     "output_type": "stream",
     "text": [
      "Entités détectées avec notre modèle à nous :\n"
     ]
    },
    {
     "data": {
      "text/html": [
       "<span class=\"tex2jax_ignore\"><div class=\"entities\" style=\"line-height: 2.5; direction: ltr\">Puis-je me rendre à Grenoble depuis Chambéry en train ?</div></span>"
      ],
      "text/plain": [
       "<IPython.core.display.HTML object>"
      ]
     },
     "metadata": {},
     "output_type": "display_data"
    },
    {
     "name": "stdout",
     "output_type": "stream",
     "text": [
      "Entités détectées avec le modèle linguistique :\n"
     ]
    },
    {
     "data": {
      "text/html": [
       "<span class=\"tex2jax_ignore\"><div class=\"entities\" style=\"line-height: 2.5; direction: ltr\">Je veux voyager de \n",
       "<mark class=\"entity\" style=\"background: #ff9561; padding: 0.45em 0.6em; margin: 0 0.25em; line-height: 1; border-radius: 0.35em;\">\n",
       "    Paris\n",
       "    <span style=\"font-size: 0.8em; font-weight: bold; line-height: 1; border-radius: 0.35em; vertical-align: middle; margin-left: 0.5rem\">LOC</span>\n",
       "</mark>\n",
       " à \n",
       "<mark class=\"entity\" style=\"background: #ff9561; padding: 0.45em 0.6em; margin: 0 0.25em; line-height: 1; border-radius: 0.35em;\">\n",
       "    Lille\n",
       "    <span style=\"font-size: 0.8em; font-weight: bold; line-height: 1; border-radius: 0.35em; vertical-align: middle; margin-left: 0.5rem\">LOC</span>\n",
       "</mark>\n",
       " demain</div></span>"
      ],
      "text/plain": [
       "<IPython.core.display.HTML object>"
      ]
     },
     "metadata": {},
     "output_type": "display_data"
    },
    {
     "name": "stdout",
     "output_type": "stream",
     "text": [
      "Entités détectées avec notre modèle à nous :\n"
     ]
    },
    {
     "data": {
      "text/html": [
       "<span class=\"tex2jax_ignore\"><div class=\"entities\" style=\"line-height: 2.5; direction: ltr\">Je veux voyager de Paris à \n",
       "<mark class=\"entity\" style=\"background: #ddd; padding: 0.45em 0.6em; margin: 0 0.25em; line-height: 1; border-radius: 0.35em;\">\n",
       "    Lille\n",
       "    <span style=\"font-size: 0.8em; font-weight: bold; line-height: 1; border-radius: 0.35em; vertical-align: middle; margin-left: 0.5rem\">DESTINATION</span>\n",
       "</mark>\n",
       " demain</div></span>"
      ],
      "text/plain": [
       "<IPython.core.display.HTML object>"
      ]
     },
     "metadata": {},
     "output_type": "display_data"
    },
    {
     "name": "stdout",
     "output_type": "stream",
     "text": [
      "Entités détectées avec le modèle linguistique :\n"
     ]
    },
    {
     "data": {
      "text/html": [
       "<span class=\"tex2jax_ignore\"><div class=\"entities\" style=\"line-height: 2.5; direction: ltr\">Comment aller de \n",
       "<mark class=\"entity\" style=\"background: #ff9561; padding: 0.45em 0.6em; margin: 0 0.25em; line-height: 1; border-radius: 0.35em;\">\n",
       "    Toulouse\n",
       "    <span style=\"font-size: 0.8em; font-weight: bold; line-height: 1; border-radius: 0.35em; vertical-align: middle; margin-left: 0.5rem\">LOC</span>\n",
       "</mark>\n",
       " à \n",
       "<mark class=\"entity\" style=\"background: #ff9561; padding: 0.45em 0.6em; margin: 0 0.25em; line-height: 1; border-radius: 0.35em;\">\n",
       "    Nice\n",
       "    <span style=\"font-size: 0.8em; font-weight: bold; line-height: 1; border-radius: 0.35em; vertical-align: middle; margin-left: 0.5rem\">LOC</span>\n",
       "</mark>\n",
       " ?</div></span>"
      ],
      "text/plain": [
       "<IPython.core.display.HTML object>"
      ]
     },
     "metadata": {},
     "output_type": "display_data"
    },
    {
     "name": "stdout",
     "output_type": "stream",
     "text": [
      "Entités détectées avec notre modèle à nous :\n"
     ]
    },
    {
     "data": {
      "text/html": [
       "<span class=\"tex2jax_ignore\"><div class=\"entities\" style=\"line-height: 2.5; direction: ltr\">Comment aller de \n",
       "<mark class=\"entity\" style=\"background: #ddd; padding: 0.45em 0.6em; margin: 0 0.25em; line-height: 1; border-radius: 0.35em;\">\n",
       "    Toulouse\n",
       "    <span style=\"font-size: 0.8em; font-weight: bold; line-height: 1; border-radius: 0.35em; vertical-align: middle; margin-left: 0.5rem\">DEPARTURE</span>\n",
       "</mark>\n",
       " à Nice ?</div></span>"
      ],
      "text/plain": [
       "<IPython.core.display.HTML object>"
      ]
     },
     "metadata": {},
     "output_type": "display_data"
    },
    {
     "name": "stdout",
     "output_type": "stream",
     "text": [
      "Entités détectées avec le modèle linguistique :\n"
     ]
    },
    {
     "data": {
      "text/html": [
       "<span class=\"tex2jax_ignore\"><div class=\"entities\" style=\"line-height: 2.5; direction: ltr\">Y a-t-il un train pour aller de \n",
       "<mark class=\"entity\" style=\"background: #ff9561; padding: 0.45em 0.6em; margin: 0 0.25em; line-height: 1; border-radius: 0.35em;\">\n",
       "    Strasbourg\n",
       "    <span style=\"font-size: 0.8em; font-weight: bold; line-height: 1; border-radius: 0.35em; vertical-align: middle; margin-left: 0.5rem\">LOC</span>\n",
       "</mark>\n",
       " à \n",
       "<mark class=\"entity\" style=\"background: #ff9561; padding: 0.45em 0.6em; margin: 0 0.25em; line-height: 1; border-radius: 0.35em;\">\n",
       "    Metz\n",
       "    <span style=\"font-size: 0.8em; font-weight: bold; line-height: 1; border-radius: 0.35em; vertical-align: middle; margin-left: 0.5rem\">LOC</span>\n",
       "</mark>\n",
       " ?</div></span>"
      ],
      "text/plain": [
       "<IPython.core.display.HTML object>"
      ]
     },
     "metadata": {},
     "output_type": "display_data"
    },
    {
     "name": "stdout",
     "output_type": "stream",
     "text": [
      "Entités détectées avec notre modèle à nous :\n"
     ]
    },
    {
     "data": {
      "text/html": [
       "<span class=\"tex2jax_ignore\"><div class=\"entities\" style=\"line-height: 2.5; direction: ltr\">Y a-t-il un train pour aller de Strasbourg à Metz ?</div></span>"
      ],
      "text/plain": [
       "<IPython.core.display.HTML object>"
      ]
     },
     "metadata": {},
     "output_type": "display_data"
    },
    {
     "name": "stdout",
     "output_type": "stream",
     "text": [
      "Entités détectées avec le modèle linguistique :\n"
     ]
    },
    {
     "data": {
      "text/html": [
       "<span class=\"tex2jax_ignore\"><div class=\"entities\" style=\"line-height: 2.5; direction: ltr\">Je pars de \n",
       "<mark class=\"entity\" style=\"background: #ff9561; padding: 0.45em 0.6em; margin: 0 0.25em; line-height: 1; border-radius: 0.35em;\">\n",
       "    Marseille\n",
       "    <span style=\"font-size: 0.8em; font-weight: bold; line-height: 1; border-radius: 0.35em; vertical-align: middle; margin-left: 0.5rem\">LOC</span>\n",
       "</mark>\n",
       " pour aller à \n",
       "<mark class=\"entity\" style=\"background: #ff9561; padding: 0.45em 0.6em; margin: 0 0.25em; line-height: 1; border-radius: 0.35em;\">\n",
       "    Montpellier\n",
       "    <span style=\"font-size: 0.8em; font-weight: bold; line-height: 1; border-radius: 0.35em; vertical-align: middle; margin-left: 0.5rem\">LOC</span>\n",
       "</mark>\n",
       "</div></span>"
      ],
      "text/plain": [
       "<IPython.core.display.HTML object>"
      ]
     },
     "metadata": {},
     "output_type": "display_data"
    },
    {
     "name": "stdout",
     "output_type": "stream",
     "text": [
      "Entités détectées avec notre modèle à nous :\n"
     ]
    },
    {
     "data": {
      "text/html": [
       "<span class=\"tex2jax_ignore\"><div class=\"entities\" style=\"line-height: 2.5; direction: ltr\">Je pars de Marseille pour aller à Montpellier</div></span>"
      ],
      "text/plain": [
       "<IPython.core.display.HTML object>"
      ]
     },
     "metadata": {},
     "output_type": "display_data"
    },
    {
     "name": "stdout",
     "output_type": "stream",
     "text": [
      "Entités détectées avec le modèle linguistique :\n"
     ]
    },
    {
     "data": {
      "text/html": [
       "<span class=\"tex2jax_ignore\"><div class=\"entities\" style=\"line-height: 2.5; direction: ltr\">Je cherche un bus de \n",
       "<mark class=\"entity\" style=\"background: #ff9561; padding: 0.45em 0.6em; margin: 0 0.25em; line-height: 1; border-radius: 0.35em;\">\n",
       "    Lyon\n",
       "    <span style=\"font-size: 0.8em; font-weight: bold; line-height: 1; border-radius: 0.35em; vertical-align: middle; margin-left: 0.5rem\">LOC</span>\n",
       "</mark>\n",
       " à \n",
       "<mark class=\"entity\" style=\"background: #ff9561; padding: 0.45em 0.6em; margin: 0 0.25em; line-height: 1; border-radius: 0.35em;\">\n",
       "    Dijon\n",
       "    <span style=\"font-size: 0.8em; font-weight: bold; line-height: 1; border-radius: 0.35em; vertical-align: middle; margin-left: 0.5rem\">LOC</span>\n",
       "</mark>\n",
       "</div></span>"
      ],
      "text/plain": [
       "<IPython.core.display.HTML object>"
      ]
     },
     "metadata": {},
     "output_type": "display_data"
    },
    {
     "name": "stdout",
     "output_type": "stream",
     "text": [
      "Entités détectées avec notre modèle à nous :\n"
     ]
    },
    {
     "data": {
      "text/html": [
       "<span class=\"tex2jax_ignore\"><div class=\"entities\" style=\"line-height: 2.5; direction: ltr\">Je cherche un bus de Lyon à Dijon</div></span>"
      ],
      "text/plain": [
       "<IPython.core.display.HTML object>"
      ]
     },
     "metadata": {},
     "output_type": "display_data"
    },
    {
     "name": "stdout",
     "output_type": "stream",
     "text": [
      "Entités détectées avec le modèle linguistique :\n"
     ]
    },
    {
     "data": {
      "text/html": [
       "<span class=\"tex2jax_ignore\"><div class=\"entities\" style=\"line-height: 2.5; direction: ltr\">Y a-t-il des trains entre \n",
       "<mark class=\"entity\" style=\"background: #ff9561; padding: 0.45em 0.6em; margin: 0 0.25em; line-height: 1; border-radius: 0.35em;\">\n",
       "    Bordeaux\n",
       "    <span style=\"font-size: 0.8em; font-weight: bold; line-height: 1; border-radius: 0.35em; vertical-align: middle; margin-left: 0.5rem\">LOC</span>\n",
       "</mark>\n",
       " et \n",
       "<mark class=\"entity\" style=\"background: #ff9561; padding: 0.45em 0.6em; margin: 0 0.25em; line-height: 1; border-radius: 0.35em;\">\n",
       "    Toulouse\n",
       "    <span style=\"font-size: 0.8em; font-weight: bold; line-height: 1; border-radius: 0.35em; vertical-align: middle; margin-left: 0.5rem\">LOC</span>\n",
       "</mark>\n",
       " ?</div></span>"
      ],
      "text/plain": [
       "<IPython.core.display.HTML object>"
      ]
     },
     "metadata": {},
     "output_type": "display_data"
    },
    {
     "name": "stdout",
     "output_type": "stream",
     "text": [
      "Entités détectées avec notre modèle à nous :\n"
     ]
    },
    {
     "data": {
      "text/html": [
       "<span class=\"tex2jax_ignore\"><div class=\"entities\" style=\"line-height: 2.5; direction: ltr\">Y a-t-il des trains entre Bordeaux et Toulouse ?</div></span>"
      ],
      "text/plain": [
       "<IPython.core.display.HTML object>"
      ]
     },
     "metadata": {},
     "output_type": "display_data"
    },
    {
     "name": "stdout",
     "output_type": "stream",
     "text": [
      "Entités détectées avec le modèle linguistique :\n"
     ]
    },
    {
     "data": {
      "text/html": [
       "<span class=\"tex2jax_ignore\"><div class=\"entities\" style=\"line-height: 2.5; direction: ltr\">Je veux dormir</div></span>"
      ],
      "text/plain": [
       "<IPython.core.display.HTML object>"
      ]
     },
     "metadata": {},
     "output_type": "display_data"
    },
    {
     "name": "stdout",
     "output_type": "stream",
     "text": [
      "Entités détectées avec notre modèle à nous :\n"
     ]
    },
    {
     "data": {
      "text/html": [
       "<span class=\"tex2jax_ignore\"><div class=\"entities\" style=\"line-height: 2.5; direction: ltr\">Je veux dormir</div></span>"
      ],
      "text/plain": [
       "<IPython.core.display.HTML object>"
      ]
     },
     "metadata": {},
     "output_type": "display_data"
    },
    {
     "name": "stdout",
     "output_type": "stream",
     "text": [
      "Entités détectées avec le modèle linguistique :\n"
     ]
    },
    {
     "data": {
      "text/html": [
       "<span class=\"tex2jax_ignore\"><div class=\"entities\" style=\"line-height: 2.5; direction: ltr\"> on considère que c'est zéro</div></span>"
      ],
      "text/plain": [
       "<IPython.core.display.HTML object>"
      ]
     },
     "metadata": {},
     "output_type": "display_data"
    },
    {
     "name": "stdout",
     "output_type": "stream",
     "text": [
      "Entités détectées avec notre modèle à nous :\n"
     ]
    },
    {
     "data": {
      "text/html": [
       "<span class=\"tex2jax_ignore\"><div class=\"entities\" style=\"line-height: 2.5; direction: ltr\"> on considère que c'est zéro</div></span>"
      ],
      "text/plain": [
       "<IPython.core.display.HTML object>"
      ]
     },
     "metadata": {},
     "output_type": "display_data"
    },
    {
     "name": "stdout",
     "output_type": "stream",
     "text": [
      "Entités détectées avec le modèle linguistique :\n"
     ]
    },
    {
     "data": {
      "text/html": [
       "<span class=\"tex2jax_ignore\"><div class=\"entities\" style=\"line-height: 2.5; direction: ltr\">is there any train going from Paris to Marseille ?</div></span>"
      ],
      "text/plain": [
       "<IPython.core.display.HTML object>"
      ]
     },
     "metadata": {},
     "output_type": "display_data"
    },
    {
     "name": "stdout",
     "output_type": "stream",
     "text": [
      "Entités détectées avec notre modèle à nous :\n"
     ]
    },
    {
     "data": {
      "text/html": [
       "<span class=\"tex2jax_ignore\"><div class=\"entities\" style=\"line-height: 2.5; direction: ltr\">is there any train going from Paris to Marseille ?</div></span>"
      ],
      "text/plain": [
       "<IPython.core.display.HTML object>"
      ]
     },
     "metadata": {},
     "output_type": "display_data"
    },
    {
     "data": {
      "text/plain": [
       "['1,ERREUR',\n",
       " '2,ERREUR',\n",
       " '3,ERREUR',\n",
       " '4,ERREUR',\n",
       " '5,ERREUR',\n",
       " '6,ERREUR',\n",
       " '7,ERREUR',\n",
       " '8,ERREUR',\n",
       " '9,ERREUR',\n",
       " '0,ERREUR',\n",
       " '10,ERREUR']"
      ]
     },
     "execution_count": 38,
     "metadata": {},
     "output_type": "execute_result"
    }
   ],
   "source": [
    "# Pour traiter un fichier et extraire les informations de départ et destination\n",
    "def process_file(filepath, lang_model, itinerary_model, verbose=False):\n",
    "    with open(filepath, 'r', encoding='utf-8') as f:\n",
    "        lines = f.readlines()\n",
    "\n",
    "    result_trips = []\n",
    "    for line in lines:\n",
    "        elements = line.strip().split(',', 1)\n",
    "        id_ = elements[0] if elements[0].isdigit() else 0\n",
    "        text = elements[1] if len(elements) > 1 else elements[0]\n",
    "\n",
    "        trips = extract_locations(text, lang_model, itinerary_model, verbose)\n",
    "        if trips == \"NON_FRANÇAIS\" or trips == \"PAS_DE_TRAJET\":\n",
    "            result_trips.append(f\"{id_},{trips}\")\n",
    "        elif isinstance(trips, dict):\n",
    "            result_trips.append(f\"{id_},{trips['départ']},{trips['destination']}\")\n",
    "        else:\n",
    "            result_trips.append(f\"{id_},ERREUR\")\n",
    "\n",
    "    return result_trips\n",
    "\n",
    "process_file('../../utils/test_data/nlp_input_data.txt', nlp_fr, nlp_itinerary, verbose=True)"
   ]
  },
  {
   "cell_type": "code",
   "execution_count": 39,
   "metadata": {},
   "outputs": [
    {
     "name": "stdout",
     "output_type": "stream",
     "text": [
      "Erreur ligne 2 :\n",
      "Extrait : 2,Lyon,Bordeaux\n",
      "Attendu : 2,Lyon,Strasbourg\n",
      "\n",
      "Taux de réussite : 50.0% (1 erreurs sur 2 lignes).\n",
      "\n"
     ]
    },
    {
     "data": {
      "image/png": "[encoded data removed]",
      "text/plain": [
       "<Figure size 640x480 with 1 Axes>"
      ]
     },
     "metadata": {},
     "output_type": "display_data"
    }
   ],
   "source": [
    "# Pour comparer des résultats extraits avec les résultats attendus\n",
    "def compare_trips(extracted, expected):\n",
    "    errors = 0\n",
    "    min_length = min(len(extracted), len(expected))\n",
    "\n",
    "    if min_length == 0:\n",
    "        print(\"Erreur : l'une des listes est vide. Impossible de comparer.\")\n",
    "        return\n",
    "\n",
    "    for i in range(min_length):\n",
    "        if extracted[i] != expected[i]:\n",
    "            errors += 1\n",
    "            print(f\"Erreur ligne {i+1} :\")\n",
    "            print(f\"Extrait : {extracted[i]}\")\n",
    "            print(f\"Attendu : {expected[i]}\")\n",
    "\n",
    "    # on verifie si y a des lignes supplémentaires dans l'une des listes\n",
    "    if len(extracted) > len(expected):\n",
    "        print(f\"\\n{len(extracted) - len(expected)} lignes supplémentaires dans les résultats extraits.\\n\")\n",
    "        for i in range(len(expected), len(extracted)):\n",
    "            print(f\"Ligne extraite {i+1} : {extracted[i]}\")\n",
    "    elif len(expected) > len(extracted):\n",
    "        print(f\"\\n{len(expected) - len(extracted)} lignes manquantes dans les résultats extraits.\\n\")\n",
    "        for i in range(len(extracted), len(expected)):\n",
    "            print(f\"Ligne attendue {i+1} : {expected[i]}\")\n",
    "\n",
    "    # Calcul du taux de réussite\n",
    "    success_rate = round((min_length - errors) / min_length * 100, 2)\n",
    "    print(f\"\\nTaux de réussite : {success_rate}% ({errors} erreurs sur {min_length} lignes).\\n\")\n",
    "\n",
    "    # Affichage instantané d'un graphique circulaire\n",
    "    labels = 'Réussites', 'Erreurs'\n",
    "    sizes = [min_length - errors, errors]\n",
    "    colors = ['green', 'red']\n",
    "    plt.pie(sizes, labels=labels, colors=colors, autopct='%1.1f%%', shadow=True, startangle=90)\n",
    "    plt.axis('equal')\n",
    "    plt.show()\n",
    "\n",
    "compare_trips([\"1,Paris,Marseille\", \"2,Lyon,Bordeaux\"], [\"1,Paris,Marseille\", \"2,Lyon,Strasbourg\"])"
   ]
  },
  {
   "cell_type": "code",
   "execution_count": 40,
   "metadata": {},
   "outputs": [
    {
     "name": "stdout",
     "output_type": "stream",
     "text": [
      "Avant : 1,Touluse,Bordaux\n",
      "Après correction : 1,TOULOUSE,BORDEAUX\n",
      "Avant : 2,Pariss,Marseilles\n",
      "Après correction : 2,PARIS,MARSEILLE\n",
      "Résultat après correction :  ['1,TOULOUSE,BORDEAUX', '2,PARIS,MARSEILLE']\n"
     ]
    }
   ],
   "source": [
    "# Pour corriger des villes en utilisant la liste de villes\n",
    "def correct_cities(trips, city_file_path, verbose=False):\n",
    "    with open(city_file_path, 'r', encoding='utf-8') as file:\n",
    "        city_list = [line.strip().upper() for line in file.readlines()]\n",
    "\n",
    "    corrected_trips = []\n",
    "    for trip in trips:\n",
    "        parts = trip.upper().replace('É', 'E').replace('-', ' ').split(',')\n",
    "        corrected_trip = ','.join([difflib.get_close_matches(item, city_list, n=1, cutoff=0.8)[0] if difflib.get_close_matches(item, city_list, n=1, cutoff=0.8) else item for item in parts])\n",
    "        corrected_trips.append(corrected_trip)\n",
    "\n",
    "        if verbose:\n",
    "            print(f\"Avant : {trip}\")\n",
    "            print(f\"Après correction : {corrected_trip}\")\n",
    "\n",
    "    return corrected_trips\n",
    "\n",
    "test_trips = [\"1,Touluse,Bordaux\", \"2,Pariss,Marseilles\"]\n",
    "corrected = correct_cities(test_trips, '../../utils/extra_datas/urban_geodata_basic_v1.0.txt', verbose=True)\n",
    "print(\"Résultat après correction : \", corrected)"
   ]
  },
  {
   "cell_type": "code",
   "execution_count": 43,
   "metadata": {},
   "outputs": [
    {
     "name": "stdout",
     "output_type": "stream",
     "text": [
      "Lecture du fichier d'entrée :\n",
      "1,Je cherche un trajet de Lyon à Nice\n",
      "2,Puis-je me rendre à Grenoble depuis Chambéry en train ?\n",
      "3,Je veux voyager de Paris à Lille demain\n",
      "4,Comment aller de Toulouse à Nice ?\n",
      "5,Y a-t-il un train pour aller de Strasbourg à Metz ?\n",
      "6,Je pars de Marseille pour aller à Montpellier\n",
      "7,Je cherche un bus de Lyon à Dijon\n",
      "8,Y a-t-il des trains entre Bordeaux et Toulouse ?\n",
      "9,Je veux dormir \n",
      "Si pas de numéro de séquence, on considère que c'est zéro\n",
      "10,is there any train going from Paris to Marseille ?\n",
      "\n",
      "ANALYSE BRUTE (SANS PRÉTRAITEMENT)\n",
      "\n",
      "Entités détectées avec le modèle linguistique :\n"
     ]
    },
    {
     "data": {
      "text/html": [
       "<span class=\"tex2jax_ignore\"><div class=\"entities\" style=\"line-height: 2.5; direction: ltr\">Je cherche un trajet de \n",
       "<mark class=\"entity\" style=\"background: #ff9561; padding: 0.45em 0.6em; margin: 0 0.25em; line-height: 1; border-radius: 0.35em;\">\n",
       "    Lyon\n",
       "    <span style=\"font-size: 0.8em; font-weight: bold; line-height: 1; border-radius: 0.35em; vertical-align: middle; margin-left: 0.5rem\">LOC</span>\n",
       "</mark>\n",
       " à \n",
       "<mark class=\"entity\" style=\"background: #ff9561; padding: 0.45em 0.6em; margin: 0 0.25em; line-height: 1; border-radius: 0.35em;\">\n",
       "    Nice\n",
       "    <span style=\"font-size: 0.8em; font-weight: bold; line-height: 1; border-radius: 0.35em; vertical-align: middle; margin-left: 0.5rem\">LOC</span>\n",
       "</mark>\n",
       "</div></span>"
      ],
      "text/plain": [
       "<IPython.core.display.HTML object>"
      ]
     },
     "metadata": {},
     "output_type": "display_data"
    },
    {
     "name": "stdout",
     "output_type": "stream",
     "text": [
      "Entités détectées avec notre modèle à nous :\n"
     ]
    },
    {
     "data": {
      "text/html": [
       "<span class=\"tex2jax_ignore\"><div class=\"entities\" style=\"line-height: 2.5; direction: ltr\">Je cherche un trajet de Lyon à Nice</div></span>"
      ],
      "text/plain": [
       "<IPython.core.display.HTML object>"
      ]
     },
     "metadata": {},
     "output_type": "display_data"
    },
    {
     "name": "stdout",
     "output_type": "stream",
     "text": [
      "Entités détectées avec le modèle linguistique :\n"
     ]
    },
    {
     "data": {
      "text/html": [
       "<span class=\"tex2jax_ignore\"><div class=\"entities\" style=\"line-height: 2.5; direction: ltr\">Puis-je me rendre à \n",
       "<mark class=\"entity\" style=\"background: #ff9561; padding: 0.45em 0.6em; margin: 0 0.25em; line-height: 1; border-radius: 0.35em;\">\n",
       "    Grenoble\n",
       "    <span style=\"font-size: 0.8em; font-weight: bold; line-height: 1; border-radius: 0.35em; vertical-align: middle; margin-left: 0.5rem\">LOC</span>\n",
       "</mark>\n",
       " depuis \n",
       "<mark class=\"entity\" style=\"background: #ff9561; padding: 0.45em 0.6em; margin: 0 0.25em; line-height: 1; border-radius: 0.35em;\">\n",
       "    Chambéry\n",
       "    <span style=\"font-size: 0.8em; font-weight: bold; line-height: 1; border-radius: 0.35em; vertical-align: middle; margin-left: 0.5rem\">LOC</span>\n",
       "</mark>\n",
       " en train ?</div></span>"
      ],
      "text/plain": [
       "<IPython.core.display.HTML object>"
      ]
     },
     "metadata": {},
     "output_type": "display_data"
    },
    {
     "name": "stdout",
     "output_type": "stream",
     "text": [
      "Entités détectées avec notre modèle à nous :\n"
     ]
    },
    {
     "data": {
      "text/html": [
       "<span class=\"tex2jax_ignore\"><div class=\"entities\" style=\"line-height: 2.5; direction: ltr\">Puis-je me rendre à Grenoble depuis Chambéry en train ?</div></span>"
      ],
      "text/plain": [
       "<IPython.core.display.HTML object>"
      ]
     },
     "metadata": {},
     "output_type": "display_data"
    },
    {
     "name": "stdout",
     "output_type": "stream",
     "text": [
      "Entités détectées avec le modèle linguistique :\n"
     ]
    },
    {
     "data": {
      "text/html": [
       "<span class=\"tex2jax_ignore\"><div class=\"entities\" style=\"line-height: 2.5; direction: ltr\">Je veux voyager de \n",
       "<mark class=\"entity\" style=\"background: #ff9561; padding: 0.45em 0.6em; margin: 0 0.25em; line-height: 1; border-radius: 0.35em;\">\n",
       "    Paris\n",
       "    <span style=\"font-size: 0.8em; font-weight: bold; line-height: 1; border-radius: 0.35em; vertical-align: middle; margin-left: 0.5rem\">LOC</span>\n",
       "</mark>\n",
       " à \n",
       "<mark class=\"entity\" style=\"background: #ff9561; padding: 0.45em 0.6em; margin: 0 0.25em; line-height: 1; border-radius: 0.35em;\">\n",
       "    Lille\n",
       "    <span style=\"font-size: 0.8em; font-weight: bold; line-height: 1; border-radius: 0.35em; vertical-align: middle; margin-left: 0.5rem\">LOC</span>\n",
       "</mark>\n",
       " demain</div></span>"
      ],
      "text/plain": [
       "<IPython.core.display.HTML object>"
      ]
     },
     "metadata": {},
     "output_type": "display_data"
    },
    {
     "name": "stdout",
     "output_type": "stream",
     "text": [
      "Entités détectées avec notre modèle à nous :\n"
     ]
    },
    {
     "data": {
      "text/html": [
       "<span class=\"tex2jax_ignore\"><div class=\"entities\" style=\"line-height: 2.5; direction: ltr\">Je veux voyager de Paris à \n",
       "<mark class=\"entity\" style=\"background: #ddd; padding: 0.45em 0.6em; margin: 0 0.25em; line-height: 1; border-radius: 0.35em;\">\n",
       "    Lille\n",
       "    <span style=\"font-size: 0.8em; font-weight: bold; line-height: 1; border-radius: 0.35em; vertical-align: middle; margin-left: 0.5rem\">DESTINATION</span>\n",
       "</mark>\n",
       " demain</div></span>"
      ],
      "text/plain": [
       "<IPython.core.display.HTML object>"
      ]
     },
     "metadata": {},
     "output_type": "display_data"
    },
    {
     "name": "stdout",
     "output_type": "stream",
     "text": [
      "Entités détectées avec le modèle linguistique :\n"
     ]
    },
    {
     "data": {
      "text/html": [
       "<span class=\"tex2jax_ignore\"><div class=\"entities\" style=\"line-height: 2.5; direction: ltr\">Comment aller de \n",
       "<mark class=\"entity\" style=\"background: #ff9561; padding: 0.45em 0.6em; margin: 0 0.25em; line-height: 1; border-radius: 0.35em;\">\n",
       "    Toulouse\n",
       "    <span style=\"font-size: 0.8em; font-weight: bold; line-height: 1; border-radius: 0.35em; vertical-align: middle; margin-left: 0.5rem\">LOC</span>\n",
       "</mark>\n",
       " à \n",
       "<mark class=\"entity\" style=\"background: #ff9561; padding: 0.45em 0.6em; margin: 0 0.25em; line-height: 1; border-radius: 0.35em;\">\n",
       "    Nice\n",
       "    <span style=\"font-size: 0.8em; font-weight: bold; line-height: 1; border-radius: 0.35em; vertical-align: middle; margin-left: 0.5rem\">LOC</span>\n",
       "</mark>\n",
       " ?</div></span>"
      ],
      "text/plain": [
       "<IPython.core.display.HTML object>"
      ]
     },
     "metadata": {},
     "output_type": "display_data"
    },
    {
     "name": "stdout",
     "output_type": "stream",
     "text": [
      "Entités détectées avec notre modèle à nous :\n"
     ]
    },
    {
     "data": {
      "text/html": [
       "<span class=\"tex2jax_ignore\"><div class=\"entities\" style=\"line-height: 2.5; direction: ltr\">Comment aller de \n",
       "<mark class=\"entity\" style=\"background: #ddd; padding: 0.45em 0.6em; margin: 0 0.25em; line-height: 1; border-radius: 0.35em;\">\n",
       "    Toulouse\n",
       "    <span style=\"font-size: 0.8em; font-weight: bold; line-height: 1; border-radius: 0.35em; vertical-align: middle; margin-left: 0.5rem\">DEPARTURE</span>\n",
       "</mark>\n",
       " à Nice ?</div></span>"
      ],
      "text/plain": [
       "<IPython.core.display.HTML object>"
      ]
     },
     "metadata": {},
     "output_type": "display_data"
    },
    {
     "name": "stdout",
     "output_type": "stream",
     "text": [
      "Entités détectées avec le modèle linguistique :\n"
     ]
    },
    {
     "data": {
      "text/html": [
       "<span class=\"tex2jax_ignore\"><div class=\"entities\" style=\"line-height: 2.5; direction: ltr\">Y a-t-il un train pour aller de \n",
       "<mark class=\"entity\" style=\"background: #ff9561; padding: 0.45em 0.6em; margin: 0 0.25em; line-height: 1; border-radius: 0.35em;\">\n",
       "    Strasbourg\n",
       "    <span style=\"font-size: 0.8em; font-weight: bold; line-height: 1; border-radius: 0.35em; vertical-align: middle; margin-left: 0.5rem\">LOC</span>\n",
       "</mark>\n",
       " à \n",
       "<mark class=\"entity\" style=\"background: #ff9561; padding: 0.45em 0.6em; margin: 0 0.25em; line-height: 1; border-radius: 0.35em;\">\n",
       "    Metz\n",
       "    <span style=\"font-size: 0.8em; font-weight: bold; line-height: 1; border-radius: 0.35em; vertical-align: middle; margin-left: 0.5rem\">LOC</span>\n",
       "</mark>\n",
       " ?</div></span>"
      ],
      "text/plain": [
       "<IPython.core.display.HTML object>"
      ]
     },
     "metadata": {},
     "output_type": "display_data"
    },
    {
     "name": "stdout",
     "output_type": "stream",
     "text": [
      "Entités détectées avec notre modèle à nous :\n"
     ]
    },
    {
     "data": {
      "text/html": [
       "<span class=\"tex2jax_ignore\"><div class=\"entities\" style=\"line-height: 2.5; direction: ltr\">Y a-t-il un train pour aller de Strasbourg à Metz ?</div></span>"
      ],
      "text/plain": [
       "<IPython.core.display.HTML object>"
      ]
     },
     "metadata": {},
     "output_type": "display_data"
    },
    {
     "name": "stdout",
     "output_type": "stream",
     "text": [
      "Entités détectées avec le modèle linguistique :\n"
     ]
    },
    {
     "data": {
      "text/html": [
       "<span class=\"tex2jax_ignore\"><div class=\"entities\" style=\"line-height: 2.5; direction: ltr\">Je pars de \n",
       "<mark class=\"entity\" style=\"background: #ff9561; padding: 0.45em 0.6em; margin: 0 0.25em; line-height: 1; border-radius: 0.35em;\">\n",
       "    Marseille\n",
       "    <span style=\"font-size: 0.8em; font-weight: bold; line-height: 1; border-radius: 0.35em; vertical-align: middle; margin-left: 0.5rem\">LOC</span>\n",
       "</mark>\n",
       " pour aller à \n",
       "<mark class=\"entity\" style=\"background: #ff9561; padding: 0.45em 0.6em; margin: 0 0.25em; line-height: 1; border-radius: 0.35em;\">\n",
       "    Montpellier\n",
       "    <span style=\"font-size: 0.8em; font-weight: bold; line-height: 1; border-radius: 0.35em; vertical-align: middle; margin-left: 0.5rem\">LOC</span>\n",
       "</mark>\n",
       "</div></span>"
      ],
      "text/plain": [
       "<IPython.core.display.HTML object>"
      ]
     },
     "metadata": {},
     "output_type": "display_data"
    },
    {
     "name": "stdout",
     "output_type": "stream",
     "text": [
      "Entités détectées avec notre modèle à nous :\n"
     ]
    },
    {
     "data": {
      "text/html": [
       "<span class=\"tex2jax_ignore\"><div class=\"entities\" style=\"line-height: 2.5; direction: ltr\">Je pars de Marseille pour aller à Montpellier</div></span>"
      ],
      "text/plain": [
       "<IPython.core.display.HTML object>"
      ]
     },
     "metadata": {},
     "output_type": "display_data"
    },
    {
     "name": "stdout",
     "output_type": "stream",
     "text": [
      "Entités détectées avec le modèle linguistique :\n"
     ]
    },
    {
     "data": {
      "text/html": [
       "<span class=\"tex2jax_ignore\"><div class=\"entities\" style=\"line-height: 2.5; direction: ltr\">Je cherche un bus de \n",
       "<mark class=\"entity\" style=\"background: #ff9561; padding: 0.45em 0.6em; margin: 0 0.25em; line-height: 1; border-radius: 0.35em;\">\n",
       "    Lyon\n",
       "    <span style=\"font-size: 0.8em; font-weight: bold; line-height: 1; border-radius: 0.35em; vertical-align: middle; margin-left: 0.5rem\">LOC</span>\n",
       "</mark>\n",
       " à \n",
       "<mark class=\"entity\" style=\"background: #ff9561; padding: 0.45em 0.6em; margin: 0 0.25em; line-height: 1; border-radius: 0.35em;\">\n",
       "    Dijon\n",
       "    <span style=\"font-size: 0.8em; font-weight: bold; line-height: 1; border-radius: 0.35em; vertical-align: middle; margin-left: 0.5rem\">LOC</span>\n",
       "</mark>\n",
       "</div></span>"
      ],
      "text/plain": [
       "<IPython.core.display.HTML object>"
      ]
     },
     "metadata": {},
     "output_type": "display_data"
    },
    {
     "name": "stdout",
     "output_type": "stream",
     "text": [
      "Entités détectées avec notre modèle à nous :\n"
     ]
    },
    {
     "data": {
      "text/html": [
       "<span class=\"tex2jax_ignore\"><div class=\"entities\" style=\"line-height: 2.5; direction: ltr\">Je cherche un bus de Lyon à Dijon</div></span>"
      ],
      "text/plain": [
       "<IPython.core.display.HTML object>"
      ]
     },
     "metadata": {},
     "output_type": "display_data"
    },
    {
     "name": "stdout",
     "output_type": "stream",
     "text": [
      "Entités détectées avec le modèle linguistique :\n"
     ]
    },
    {
     "data": {
      "text/html": [
       "<span class=\"tex2jax_ignore\"><div class=\"entities\" style=\"line-height: 2.5; direction: ltr\">Y a-t-il des trains entre \n",
       "<mark class=\"entity\" style=\"background: #ff9561; padding: 0.45em 0.6em; margin: 0 0.25em; line-height: 1; border-radius: 0.35em;\">\n",
       "    Bordeaux\n",
       "    <span style=\"font-size: 0.8em; font-weight: bold; line-height: 1; border-radius: 0.35em; vertical-align: middle; margin-left: 0.5rem\">LOC</span>\n",
       "</mark>\n",
       " et \n",
       "<mark class=\"entity\" style=\"background: #ff9561; padding: 0.45em 0.6em; margin: 0 0.25em; line-height: 1; border-radius: 0.35em;\">\n",
       "    Toulouse\n",
       "    <span style=\"font-size: 0.8em; font-weight: bold; line-height: 1; border-radius: 0.35em; vertical-align: middle; margin-left: 0.5rem\">LOC</span>\n",
       "</mark>\n",
       " ?</div></span>"
      ],
      "text/plain": [
       "<IPython.core.display.HTML object>"
      ]
     },
     "metadata": {},
     "output_type": "display_data"
    },
    {
     "name": "stdout",
     "output_type": "stream",
     "text": [
      "Entités détectées avec notre modèle à nous :\n"
     ]
    },
    {
     "data": {
      "text/html": [
       "<span class=\"tex2jax_ignore\"><div class=\"entities\" style=\"line-height: 2.5; direction: ltr\">Y a-t-il des trains entre Bordeaux et Toulouse ?</div></span>"
      ],
      "text/plain": [
       "<IPython.core.display.HTML object>"
      ]
     },
     "metadata": {},
     "output_type": "display_data"
    },
    {
     "name": "stdout",
     "output_type": "stream",
     "text": [
      "Entités détectées avec le modèle linguistique :\n"
     ]
    },
    {
     "data": {
      "text/html": [
       "<span class=\"tex2jax_ignore\"><div class=\"entities\" style=\"line-height: 2.5; direction: ltr\">Je veux dormir</div></span>"
      ],
      "text/plain": [
       "<IPython.core.display.HTML object>"
      ]
     },
     "metadata": {},
     "output_type": "display_data"
    },
    {
     "name": "stdout",
     "output_type": "stream",
     "text": [
      "Entités détectées avec notre modèle à nous :\n"
     ]
    },
    {
     "data": {
      "text/html": [
       "<span class=\"tex2jax_ignore\"><div class=\"entities\" style=\"line-height: 2.5; direction: ltr\">Je veux dormir</div></span>"
      ],
      "text/plain": [
       "<IPython.core.display.HTML object>"
      ]
     },
     "metadata": {},
     "output_type": "display_data"
    },
    {
     "name": "stdout",
     "output_type": "stream",
     "text": [
      "Entités détectées avec le modèle linguistique :\n"
     ]
    },
    {
     "data": {
      "text/html": [
       "<span class=\"tex2jax_ignore\"><div class=\"entities\" style=\"line-height: 2.5; direction: ltr\"> on considère que c'est zéro</div></span>"
      ],
      "text/plain": [
       "<IPython.core.display.HTML object>"
      ]
     },
     "metadata": {},
     "output_type": "display_data"
    },
    {
     "name": "stdout",
     "output_type": "stream",
     "text": [
      "Entités détectées avec notre modèle à nous :\n"
     ]
    },
    {
     "data": {
      "text/html": [
       "<span class=\"tex2jax_ignore\"><div class=\"entities\" style=\"line-height: 2.5; direction: ltr\"> on considère que c'est zéro</div></span>"
      ],
      "text/plain": [
       "<IPython.core.display.HTML object>"
      ]
     },
     "metadata": {},
     "output_type": "display_data"
    },
    {
     "name": "stdout",
     "output_type": "stream",
     "text": [
      "Entités détectées avec le modèle linguistique :\n"
     ]
    },
    {
     "data": {
      "text/html": [
       "<span class=\"tex2jax_ignore\"><div class=\"entities\" style=\"line-height: 2.5; direction: ltr\">is there any train going from Paris to Marseille ?</div></span>"
      ],
      "text/plain": [
       "<IPython.core.display.HTML object>"
      ]
     },
     "metadata": {},
     "output_type": "display_data"
    },
    {
     "name": "stdout",
     "output_type": "stream",
     "text": [
      "Entités détectées avec notre modèle à nous :\n"
     ]
    },
    {
     "data": {
      "text/html": [
       "<span class=\"tex2jax_ignore\"><div class=\"entities\" style=\"line-height: 2.5; direction: ltr\">is there any train going from Paris to Marseille ?</div></span>"
      ],
      "text/plain": [
       "<IPython.core.display.HTML object>"
      ]
     },
     "metadata": {},
     "output_type": "display_data"
    },
    {
     "name": "stdout",
     "output_type": "stream",
     "text": [
      "Trajets extraits (brut) : ['1,ERREUR', '2,ERREUR', '3,ERREUR', '4,ERREUR', '5,ERREUR', '6,ERREUR', '7,ERREUR', '8,ERREUR', '9,ERREUR', '0,ERREUR', '10,ERREUR']\n",
      "Trajets de référence : ['1,Lyon,Nice', '2,Chambéry,Grenoble', '3,Paris,Lille', '4,Toulouse,Nice', '5,Strasbourg,Metz', '6,Marseille,Montpellier', '7,Lyon,Dijon', '8,Bordeaux,Toulouse', '9,PAS_DE_TRAJET', '10,NON_FRANÇAIS']\n",
      "Erreur ligne 1 :\n",
      "Extrait : 1,ERREUR\n",
      "Attendu : 1,Lyon,Nice\n",
      "Erreur ligne 2 :\n",
      "Extrait : 2,ERREUR\n",
      "Attendu : 2,Chambéry,Grenoble\n",
      "Erreur ligne 3 :\n",
      "Extrait : 3,ERREUR\n",
      "Attendu : 3,Paris,Lille\n",
      "Erreur ligne 4 :\n",
      "Extrait : 4,ERREUR\n",
      "Attendu : 4,Toulouse,Nice\n",
      "Erreur ligne 5 :\n",
      "Extrait : 5,ERREUR\n",
      "Attendu : 5,Strasbourg,Metz\n",
      "Erreur ligne 6 :\n",
      "Extrait : 6,ERREUR\n",
      "Attendu : 6,Marseille,Montpellier\n",
      "Erreur ligne 7 :\n",
      "Extrait : 7,ERREUR\n",
      "Attendu : 7,Lyon,Dijon\n",
      "Erreur ligne 8 :\n",
      "Extrait : 8,ERREUR\n",
      "Attendu : 8,Bordeaux,Toulouse\n",
      "Erreur ligne 9 :\n",
      "Extrait : 9,ERREUR\n",
      "Attendu : 9,PAS_DE_TRAJET\n",
      "Erreur ligne 10 :\n",
      "Extrait : 0,ERREUR\n",
      "Attendu : 10,NON_FRANÇAIS\n",
      "\n",
      "1 lignes supplémentaires dans les résultats extraits.\n",
      "\n",
      "Ligne extraite 11 : 10,ERREUR\n",
      "\n",
      "Taux de réussite : 0.0% (10 erreurs sur 10 lignes).\n",
      "\n"
     ]
    },
    {
     "data": {
      "image/png": "[encoded data removed]",
      "text/plain": [
       "<Figure size 640x480 with 1 Axes>"
      ]
     },
     "metadata": {},
     "output_type": "display_data"
    },
    {
     "name": "stdout",
     "output_type": "stream",
     "text": [
      "\n",
      "ANALYSE APRÈS PRÉTRAITEMENT\n",
      "\n",
      "Erreur ligne 1 :\n",
      "Extrait : 1,ERREUR\n",
      "Attendu : 1,LYON,NICE\n",
      "Erreur ligne 2 :\n",
      "Extrait : 2,ERREUR\n",
      "Attendu : 2,CHAMBÉRY,GRENOBLE\n",
      "Erreur ligne 3 :\n",
      "Extrait : 3,ERREUR\n",
      "Attendu : 3,PARIS,LILLE\n",
      "Erreur ligne 4 :\n",
      "Extrait : 4,ERREUR\n",
      "Attendu : 4,TOULOUSE,NICE\n",
      "Erreur ligne 5 :\n",
      "Extrait : 5,ERREUR\n",
      "Attendu : 5,STRASBOURG,METZ\n",
      "Erreur ligne 6 :\n",
      "Extrait : 6,ERREUR\n",
      "Attendu : 6,MARSEILLE,MONTPELLIER\n",
      "Erreur ligne 7 :\n",
      "Extrait : 7,ERREUR\n",
      "Attendu : 7,LYON,DIJON\n",
      "Erreur ligne 8 :\n",
      "Extrait : 8,ERREUR\n",
      "Attendu : 8,BORDEAUX,TOULOUSE\n",
      "Erreur ligne 9 :\n",
      "Extrait : 9,ERREUR\n",
      "Attendu : 9,PAS_DE_TRAJET\n",
      "Erreur ligne 10 :\n",
      "Extrait : 0,ERREUR\n",
      "Attendu : 10,NON_FRANÇAIS\n",
      "\n",
      "1 lignes supplémentaires dans les résultats extraits.\n",
      "\n",
      "Ligne extraite 11 : 10,ERREUR\n",
      "\n",
      "Taux de réussite : 0.0% (10 erreurs sur 10 lignes).\n",
      "\n"
     ]
    },
    {
     "data": {
      "image/png": "[encoded data removed]",
      "text/plain": [
       "<Figure size 640x480 with 1 Axes>"
      ]
     },
     "metadata": {},
     "output_type": "display_data"
    }
   ],
   "source": [
    "# Pour analyser un fichier et la comparaison avec les résultats attendus\n",
    "def analyze_nlp(file_path_input, file_path_output, city_file_path):\n",
    "    with open(file_path_input, 'r') as file:\n",
    "        print(f\"Lecture du fichier d'entrée :\\n{file.read()}\")\n",
    "\n",
    "    with open(file_path_output, 'r', encoding='utf-8') as file:\n",
    "        reference_trips = [line.strip().rstrip(',') for line in file.readlines()]\n",
    "\n",
    "    # on ajoute une vérification des données\n",
    "    print(\"\\nANALYSE BRUTE (SANS PRÉTRAITEMENT)\\n\")\n",
    "    raw_output_trips = process_file(file_path_input, nlp_fr, nlp_itinerary, True)\n",
    "\n",
    "    # on affiche des resultats pour débogage\n",
    "    print(\"Trajets extraits (brut) :\", raw_output_trips)\n",
    "    print(\"Trajets de référence :\", reference_trips)\n",
    "\n",
    "    if not raw_output_trips or not reference_trips:\n",
    "        print(\"Erreur : l'une des listes est vide. Impossible de comparer.\")\n",
    "        return\n",
    "\n",
    "    compare_trips(raw_output_trips, reference_trips)\n",
    "\n",
    "    print(\"\\nANALYSE APRÈS PRÉTRAITEMENT\\n\")\n",
    "    processed_output_trips = correct_cities(raw_output_trips, city_file_path)\n",
    "    processed_reference_trips = correct_cities(reference_trips, city_file_path)\n",
    "\n",
    "    if not processed_output_trips or not processed_reference_trips:\n",
    "        print(\"Erreur : l'une des listes est vide après prétraitement. Impossible de comparer.\")\n",
    "        return\n",
    "\n",
    "    compare_trips(processed_output_trips, processed_reference_trips)\n",
    "\n",
    "analyze_nlp('../../utils/test_data/nlp_input_data.txt', '../../utils/test_data/nlp_ouput_data.txt', '../../utils/extra_datas/urban_geodata_basic_v1.0.txt')"
   ]
  }
 ],
 "metadata": {
  "kernelspec": {
   "display_name": "base",
   "language": "python",
   "name": "python3"
  },
  "language_info": {
   "codemirror_mode": {
    "name": "ipython",
    "version": 3
   },
   "file_extension": ".py",
   "mimetype": "text/x-python",
   "name": "python",
   "nbconvert_exporter": "python",
   "pygments_lexer": "ipython3",
   "version": "3.11.7"
  }
 },
 "nbformat": 4,
 "nbformat_minor": 2
}
