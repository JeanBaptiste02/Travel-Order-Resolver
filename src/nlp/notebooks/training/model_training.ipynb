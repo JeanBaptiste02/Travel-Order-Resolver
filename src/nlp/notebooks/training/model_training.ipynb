{
 "cells": [
  {
   "cell_type": "markdown",
   "id": "f6769e4b",
   "metadata": {},
   "source": [
    "# Description du Notebook\n",
    "\n",
    "Ce notebook permet d'entraîner un modèle de NER en français avec spaC en se basant les infos de voyage. \n",
    "\n",
    "Les étapes incluent : \n",
    "- l'importation, le nettoyage et la préparation des données annotées,\n",
    "- l'entraînement du modèle. \n",
    "\n",
    "Ensuite, on fait un comparaison de performances entre le modèle personnalisé et le modèle spaCy préentraîné, avec des visualisations pour évaluer la diversité et le nombre d'entités détectées par chaque modèle.\n"
   ]
  },
  {
   "cell_type": "code",
   "execution_count": 20,
   "id": "402a71d7",
   "metadata": {},
   "outputs": [
    {
     "name": "stdout",
     "output_type": "stream",
     "text": [
      "Toutes les libraries ont été importées\n"
     ]
    }
   ],
   "source": [
    "import spacy\n",
    "from spacy.tokens import DocBin\n",
    "from tqdm import tqdm\n",
    "import time\n",
    "import subprocess\n",
    "import pandas as pd\n",
    "import ast\n",
    "from random import shuffle\n",
    "import pandas as pd\n",
    "import matplotlib.pyplot as plt\n",
    "from collections import Counter\n",
    "import spacy\n",
    "from spacy import displacy\n",
    "\n",
    "print(\"Toutes les libraries ont été importées\")"
   ]
  },
  {
   "cell_type": "markdown",
   "id": "c42ec6e3",
   "metadata": {},
   "source": [
    "### Chargement du Modèle spaCy Pré-entraîné\n",
    "\n",
    "Charge le modèle pré-entraîné en français `fr_core_news_md` de spaCy."
   ]
  },
  {
   "cell_type": "code",
   "execution_count": 6,
   "id": "885ddb7c",
   "metadata": {},
   "outputs": [
    {
     "name": "stdout",
     "output_type": "stream",
     "text": [
      "Chargement du modèle spacy pré-entraîné...\n",
      "\n",
      "Chargement du modèle spaCy pré-entraîné sm...\n",
      "Modèle spaCy sm bien chargé\n",
      "\n",
      "Chargement du modèle spaCy pré-entraîné md...\n",
      "Modèle spaCy md bien chargé\n",
      "\n",
      "Chargement du modèle spaCy pré-entraîné lg...\n",
      "Modèle spaCy lg bien chargé\n"
     ]
    }
   ],
   "source": [
    "print(\"Chargement du modèle spacy pré-entraîné...\")\n",
    "models = {\n",
    "    \"sm\": \"fr_core_news_sm\",\n",
    "    \"md\": \"fr_core_news_md\",\n",
    "    \"lg\": \"fr_core_news_lg\"\n",
    "}\n",
    "# Dictionnaire pour stocker les modèles chargés\n",
    "nlp_models = {}\n",
    "for model_key, model_name in models.items():\n",
    "    print(f\"\\nChargement du modèle spaCy pré-entraîné {model_key}...\")\n",
    "    nlp_models[model_key] = spacy.load(model_name)\n",
    "    print(f\"Modèle spaCy {model_key} bien chargé\")\n",
    "\n"
   ]
  },
  {
   "cell_type": "markdown",
   "id": "c2a28f16",
   "metadata": {},
   "source": [
    "### Test de NER sur du Texte Simple\n",
    "\n",
    "Tester le NER de spaCy sur des phrases simples, en particulier pour l'extraction de villes de départ et d'arrivée.\n"
   ]
  },
  {
   "cell_type": "code",
   "execution_count": 7,
   "id": "eb71d85b",
   "metadata": {},
   "outputs": [
    {
     "name": "stdout",
     "output_type": "stream",
     "text": [
      "Test pour vérifier la reconnaissance des entités avec spaCy core_news_sm...\n",
      "\n"
     ]
    },
    {
     "data": {
      "text/html": [
       "<span class=\"tex2jax_ignore\"><div class=\"entities\" style=\"line-height: 2.5; direction: ltr\">Je souhaiterais me rendre de \n",
       "<mark class=\"entity\" style=\"background: #ff9561; padding: 0.45em 0.6em; margin: 0 0.25em; line-height: 1; border-radius: 0.35em;\">\n",
       "    Paris\n",
       "    <span style=\"font-size: 0.8em; font-weight: bold; line-height: 1; border-radius: 0.35em; vertical-align: middle; margin-left: 0.5rem\">LOC</span>\n",
       "</mark>\n",
       " à \n",
       "<mark class=\"entity\" style=\"background: #ff9561; padding: 0.45em 0.6em; margin: 0 0.25em; line-height: 1; border-radius: 0.35em;\">\n",
       "    Marseille\n",
       "    <span style=\"font-size: 0.8em; font-weight: bold; line-height: 1; border-radius: 0.35em; vertical-align: middle; margin-left: 0.5rem\">LOC</span>\n",
       "</mark>\n",
       ".<br>Quelle est la meilleure façon d'aller à \n",
       "<mark class=\"entity\" style=\"background: #ff9561; padding: 0.45em 0.6em; margin: 0 0.25em; line-height: 1; border-radius: 0.35em;\">\n",
       "    Sannois\n",
       "    <span style=\"font-size: 0.8em; font-weight: bold; line-height: 1; border-radius: 0.35em; vertical-align: middle; margin-left: 0.5rem\">LOC</span>\n",
       "</mark>\n",
       " depuis la \n",
       "<mark class=\"entity\" style=\"background: #ff9561; padding: 0.45em 0.6em; margin: 0 0.25em; line-height: 1; border-radius: 0.35em;\">\n",
       "    gare de Toulouse\n",
       "    <span style=\"font-size: 0.8em; font-weight: bold; line-height: 1; border-radius: 0.35em; vertical-align: middle; margin-left: 0.5rem\">LOC</span>\n",
       "</mark>\n",
       " ?<br>Je prévois de rendre visite à mon ami \n",
       "<mark class=\"entity\" style=\"background: #ddd; padding: 0.45em 0.6em; margin: 0 0.25em; line-height: 1; border-radius: 0.35em;\">\n",
       "    Patrick\n",
       "    <span style=\"font-size: 0.8em; font-weight: bold; line-height: 1; border-radius: 0.35em; vertical-align: middle; margin-left: 0.5rem\">PER</span>\n",
       "</mark>\n",
       " à \n",
       "<mark class=\"entity\" style=\"background: #ff9561; padding: 0.45em 0.6em; margin: 0 0.25em; line-height: 1; border-radius: 0.35em;\">\n",
       "    Paris\n",
       "    <span style=\"font-size: 0.8em; font-weight: bold; line-height: 1; border-radius: 0.35em; vertical-align: middle; margin-left: 0.5rem\">LOC</span>\n",
       "</mark>\n",
       " en partant de \n",
       "<mark class=\"entity\" style=\"background: #ff9561; padding: 0.45em 0.6em; margin: 0 0.25em; line-height: 1; border-radius: 0.35em;\">\n",
       "    Bordeaux\n",
       "    <span style=\"font-size: 0.8em; font-weight: bold; line-height: 1; border-radius: 0.35em; vertical-align: middle; margin-left: 0.5rem\">LOC</span>\n",
       "</mark>\n",
       ".<br>Comment puis-je aller de \n",
       "<mark class=\"entity\" style=\"background: #ff9561; padding: 0.45em 0.6em; margin: 0 0.25em; line-height: 1; border-radius: 0.35em;\">\n",
       "    Marseille\n",
       "    <span style=\"font-size: 0.8em; font-weight: bold; line-height: 1; border-radius: 0.35em; vertical-align: middle; margin-left: 0.5rem\">LOC</span>\n",
       "</mark>\n",
       " à \n",
       "<mark class=\"entity\" style=\"background: #ff9561; padding: 0.45em 0.6em; margin: 0 0.25em; line-height: 1; border-radius: 0.35em;\">\n",
       "    Bordeaux\n",
       "    <span style=\"font-size: 0.8em; font-weight: bold; line-height: 1; border-radius: 0.35em; vertical-align: middle; margin-left: 0.5rem\">LOC</span>\n",
       "</mark>\n",
       " sans passer par \n",
       "<mark class=\"entity\" style=\"background: #ff9561; padding: 0.45em 0.6em; margin: 0 0.25em; line-height: 1; border-radius: 0.35em;\">\n",
       "    Paris\n",
       "    <span style=\"font-size: 0.8em; font-weight: bold; line-height: 1; border-radius: 0.35em; vertical-align: middle; margin-left: 0.5rem\">LOC</span>\n",
       "</mark>\n",
       " ?<br>\n",
       "<mark class=\"entity\" style=\"background: #ff9561; padding: 0.45em 0.6em; margin: 0 0.25em; line-height: 1; border-radius: 0.35em;\">\n",
       "    Quels\n",
       "    <span style=\"font-size: 0.8em; font-weight: bold; line-height: 1; border-radius: 0.35em; vertical-align: middle; margin-left: 0.5rem\">LOC</span>\n",
       "</mark>\n",
       " sont les horaires des trains de \n",
       "<mark class=\"entity\" style=\"background: #ff9561; padding: 0.45em 0.6em; margin: 0 0.25em; line-height: 1; border-radius: 0.35em;\">\n",
       "    Nantes\n",
       "    <span style=\"font-size: 0.8em; font-weight: bold; line-height: 1; border-radius: 0.35em; vertical-align: middle; margin-left: 0.5rem\">LOC</span>\n",
       "</mark>\n",
       " à \n",
       "<mark class=\"entity\" style=\"background: #ff9561; padding: 0.45em 0.6em; margin: 0 0.25em; line-height: 1; border-radius: 0.35em;\">\n",
       "    Lyon\n",
       "    <span style=\"font-size: 0.8em; font-weight: bold; line-height: 1; border-radius: 0.35em; vertical-align: middle; margin-left: 0.5rem\">LOC</span>\n",
       "</mark>\n",
       " demain matin ?<br>\n",
       "<mark class=\"entity\" style=\"background: #ddd; padding: 0.45em 0.6em; margin: 0 0.25em; line-height: 1; border-radius: 0.35em;\">\n",
       "    Je dois voyager de Lille\n",
       "    <span style=\"font-size: 0.8em; font-weight: bold; line-height: 1; border-radius: 0.35em; vertical-align: middle; margin-left: 0.5rem\">MISC</span>\n",
       "</mark>\n",
       " à \n",
       "<mark class=\"entity\" style=\"background: #ff9561; padding: 0.45em 0.6em; margin: 0 0.25em; line-height: 1; border-radius: 0.35em;\">\n",
       "    Toulouse\n",
       "    <span style=\"font-size: 0.8em; font-weight: bold; line-height: 1; border-radius: 0.35em; vertical-align: middle; margin-left: 0.5rem\">LOC</span>\n",
       "</mark>\n",
       " ce week-end, avez-vous des suggestions de trajet ?<br>Quel est le moyen le plus rapide pour me rendre de \n",
       "<mark class=\"entity\" style=\"background: #ff9561; padding: 0.45em 0.6em; margin: 0 0.25em; line-height: 1; border-radius: 0.35em;\">\n",
       "    Lyon\n",
       "    <span style=\"font-size: 0.8em; font-weight: bold; line-height: 1; border-radius: 0.35em; vertical-align: middle; margin-left: 0.5rem\">LOC</span>\n",
       "</mark>\n",
       " à \n",
       "<mark class=\"entity\" style=\"background: #ff9561; padding: 0.45em 0.6em; margin: 0 0.25em; line-height: 1; border-radius: 0.35em;\">\n",
       "    Paris\n",
       "    <span style=\"font-size: 0.8em; font-weight: bold; line-height: 1; border-radius: 0.35em; vertical-align: middle; margin-left: 0.5rem\">LOC</span>\n",
       "</mark>\n",
       " ?</div></span>"
      ],
      "text/plain": [
       "<IPython.core.display.HTML object>"
      ]
     },
     "metadata": {},
     "output_type": "display_data"
    },
    {
     "name": "stdout",
     "output_type": "stream",
     "text": [
      "Test pour vérifier la reconnaissance des entités avec spaCy core_news_md...\n",
      "\n"
     ]
    },
    {
     "data": {
      "text/html": [
       "<span class=\"tex2jax_ignore\"><div class=\"entities\" style=\"line-height: 2.5; direction: ltr\">Je souhaiterais me rendre de \n",
       "<mark class=\"entity\" style=\"background: #ff9561; padding: 0.45em 0.6em; margin: 0 0.25em; line-height: 1; border-radius: 0.35em;\">\n",
       "    Paris\n",
       "    <span style=\"font-size: 0.8em; font-weight: bold; line-height: 1; border-radius: 0.35em; vertical-align: middle; margin-left: 0.5rem\">LOC</span>\n",
       "</mark>\n",
       " à \n",
       "<mark class=\"entity\" style=\"background: #ff9561; padding: 0.45em 0.6em; margin: 0 0.25em; line-height: 1; border-radius: 0.35em;\">\n",
       "    Marseille\n",
       "    <span style=\"font-size: 0.8em; font-weight: bold; line-height: 1; border-radius: 0.35em; vertical-align: middle; margin-left: 0.5rem\">LOC</span>\n",
       "</mark>\n",
       ".<br>Quelle est la meilleure façon d'aller à \n",
       "<mark class=\"entity\" style=\"background: #ff9561; padding: 0.45em 0.6em; margin: 0 0.25em; line-height: 1; border-radius: 0.35em;\">\n",
       "    Sannois\n",
       "    <span style=\"font-size: 0.8em; font-weight: bold; line-height: 1; border-radius: 0.35em; vertical-align: middle; margin-left: 0.5rem\">LOC</span>\n",
       "</mark>\n",
       " depuis la \n",
       "<mark class=\"entity\" style=\"background: #ff9561; padding: 0.45em 0.6em; margin: 0 0.25em; line-height: 1; border-radius: 0.35em;\">\n",
       "    gare de Toulouse\n",
       "    <span style=\"font-size: 0.8em; font-weight: bold; line-height: 1; border-radius: 0.35em; vertical-align: middle; margin-left: 0.5rem\">LOC</span>\n",
       "</mark>\n",
       " ?<br>Je prévois de rendre visite à mon ami \n",
       "<mark class=\"entity\" style=\"background: #ddd; padding: 0.45em 0.6em; margin: 0 0.25em; line-height: 1; border-radius: 0.35em;\">\n",
       "    Patrick\n",
       "    <span style=\"font-size: 0.8em; font-weight: bold; line-height: 1; border-radius: 0.35em; vertical-align: middle; margin-left: 0.5rem\">PER</span>\n",
       "</mark>\n",
       " à \n",
       "<mark class=\"entity\" style=\"background: #ff9561; padding: 0.45em 0.6em; margin: 0 0.25em; line-height: 1; border-radius: 0.35em;\">\n",
       "    Paris\n",
       "    <span style=\"font-size: 0.8em; font-weight: bold; line-height: 1; border-radius: 0.35em; vertical-align: middle; margin-left: 0.5rem\">LOC</span>\n",
       "</mark>\n",
       " en partant de \n",
       "<mark class=\"entity\" style=\"background: #ff9561; padding: 0.45em 0.6em; margin: 0 0.25em; line-height: 1; border-radius: 0.35em;\">\n",
       "    Bordeaux\n",
       "    <span style=\"font-size: 0.8em; font-weight: bold; line-height: 1; border-radius: 0.35em; vertical-align: middle; margin-left: 0.5rem\">LOC</span>\n",
       "</mark>\n",
       ".<br>Comment puis-je aller de \n",
       "<mark class=\"entity\" style=\"background: #ff9561; padding: 0.45em 0.6em; margin: 0 0.25em; line-height: 1; border-radius: 0.35em;\">\n",
       "    Marseille\n",
       "    <span style=\"font-size: 0.8em; font-weight: bold; line-height: 1; border-radius: 0.35em; vertical-align: middle; margin-left: 0.5rem\">LOC</span>\n",
       "</mark>\n",
       " à \n",
       "<mark class=\"entity\" style=\"background: #ff9561; padding: 0.45em 0.6em; margin: 0 0.25em; line-height: 1; border-radius: 0.35em;\">\n",
       "    Bordeaux\n",
       "    <span style=\"font-size: 0.8em; font-weight: bold; line-height: 1; border-radius: 0.35em; vertical-align: middle; margin-left: 0.5rem\">LOC</span>\n",
       "</mark>\n",
       " sans passer par \n",
       "<mark class=\"entity\" style=\"background: #ff9561; padding: 0.45em 0.6em; margin: 0 0.25em; line-height: 1; border-radius: 0.35em;\">\n",
       "    Paris\n",
       "    <span style=\"font-size: 0.8em; font-weight: bold; line-height: 1; border-radius: 0.35em; vertical-align: middle; margin-left: 0.5rem\">LOC</span>\n",
       "</mark>\n",
       " ?<br>Quels sont les horaires des trains de \n",
       "<mark class=\"entity\" style=\"background: #ff9561; padding: 0.45em 0.6em; margin: 0 0.25em; line-height: 1; border-radius: 0.35em;\">\n",
       "    Nantes\n",
       "    <span style=\"font-size: 0.8em; font-weight: bold; line-height: 1; border-radius: 0.35em; vertical-align: middle; margin-left: 0.5rem\">LOC</span>\n",
       "</mark>\n",
       " à \n",
       "<mark class=\"entity\" style=\"background: #ff9561; padding: 0.45em 0.6em; margin: 0 0.25em; line-height: 1; border-radius: 0.35em;\">\n",
       "    Lyon\n",
       "    <span style=\"font-size: 0.8em; font-weight: bold; line-height: 1; border-radius: 0.35em; vertical-align: middle; margin-left: 0.5rem\">LOC</span>\n",
       "</mark>\n",
       " demain matin ?<br>Je dois voyager \n",
       "<mark class=\"entity\" style=\"background: #ff9561; padding: 0.45em 0.6em; margin: 0 0.25em; line-height: 1; border-radius: 0.35em;\">\n",
       "    de Lille\n",
       "    <span style=\"font-size: 0.8em; font-weight: bold; line-height: 1; border-radius: 0.35em; vertical-align: middle; margin-left: 0.5rem\">LOC</span>\n",
       "</mark>\n",
       " à \n",
       "<mark class=\"entity\" style=\"background: #ff9561; padding: 0.45em 0.6em; margin: 0 0.25em; line-height: 1; border-radius: 0.35em;\">\n",
       "    Toulouse\n",
       "    <span style=\"font-size: 0.8em; font-weight: bold; line-height: 1; border-radius: 0.35em; vertical-align: middle; margin-left: 0.5rem\">LOC</span>\n",
       "</mark>\n",
       " ce week-end, avez-vous des suggestions de trajet ?<br>Quel est le moyen le plus rapide pour me rendre de \n",
       "<mark class=\"entity\" style=\"background: #ff9561; padding: 0.45em 0.6em; margin: 0 0.25em; line-height: 1; border-radius: 0.35em;\">\n",
       "    Lyon\n",
       "    <span style=\"font-size: 0.8em; font-weight: bold; line-height: 1; border-radius: 0.35em; vertical-align: middle; margin-left: 0.5rem\">LOC</span>\n",
       "</mark>\n",
       " à \n",
       "<mark class=\"entity\" style=\"background: #ff9561; padding: 0.45em 0.6em; margin: 0 0.25em; line-height: 1; border-radius: 0.35em;\">\n",
       "    Paris\n",
       "    <span style=\"font-size: 0.8em; font-weight: bold; line-height: 1; border-radius: 0.35em; vertical-align: middle; margin-left: 0.5rem\">LOC</span>\n",
       "</mark>\n",
       " ?</div></span>"
      ],
      "text/plain": [
       "<IPython.core.display.HTML object>"
      ]
     },
     "metadata": {},
     "output_type": "display_data"
    },
    {
     "name": "stdout",
     "output_type": "stream",
     "text": [
      "Test pour vérifier la reconnaissance des entités avec spaCy core_news_lg...\n",
      "\n"
     ]
    },
    {
     "data": {
      "text/html": [
       "<span class=\"tex2jax_ignore\"><div class=\"entities\" style=\"line-height: 2.5; direction: ltr\">Je souhaiterais me rendre de \n",
       "<mark class=\"entity\" style=\"background: #ff9561; padding: 0.45em 0.6em; margin: 0 0.25em; line-height: 1; border-radius: 0.35em;\">\n",
       "    Paris\n",
       "    <span style=\"font-size: 0.8em; font-weight: bold; line-height: 1; border-radius: 0.35em; vertical-align: middle; margin-left: 0.5rem\">LOC</span>\n",
       "</mark>\n",
       " à \n",
       "<mark class=\"entity\" style=\"background: #ff9561; padding: 0.45em 0.6em; margin: 0 0.25em; line-height: 1; border-radius: 0.35em;\">\n",
       "    Marseille\n",
       "    <span style=\"font-size: 0.8em; font-weight: bold; line-height: 1; border-radius: 0.35em; vertical-align: middle; margin-left: 0.5rem\">LOC</span>\n",
       "</mark>\n",
       ".<br>Quelle est la meilleure façon d'aller à \n",
       "<mark class=\"entity\" style=\"background: #ff9561; padding: 0.45em 0.6em; margin: 0 0.25em; line-height: 1; border-radius: 0.35em;\">\n",
       "    Sannois\n",
       "    <span style=\"font-size: 0.8em; font-weight: bold; line-height: 1; border-radius: 0.35em; vertical-align: middle; margin-left: 0.5rem\">LOC</span>\n",
       "</mark>\n",
       " depuis la \n",
       "<mark class=\"entity\" style=\"background: #ff9561; padding: 0.45em 0.6em; margin: 0 0.25em; line-height: 1; border-radius: 0.35em;\">\n",
       "    gare de Toulouse\n",
       "    <span style=\"font-size: 0.8em; font-weight: bold; line-height: 1; border-radius: 0.35em; vertical-align: middle; margin-left: 0.5rem\">LOC</span>\n",
       "</mark>\n",
       " ?<br>Je prévois de rendre visite à mon ami \n",
       "<mark class=\"entity\" style=\"background: #ddd; padding: 0.45em 0.6em; margin: 0 0.25em; line-height: 1; border-radius: 0.35em;\">\n",
       "    Patrick\n",
       "    <span style=\"font-size: 0.8em; font-weight: bold; line-height: 1; border-radius: 0.35em; vertical-align: middle; margin-left: 0.5rem\">PER</span>\n",
       "</mark>\n",
       " à \n",
       "<mark class=\"entity\" style=\"background: #ff9561; padding: 0.45em 0.6em; margin: 0 0.25em; line-height: 1; border-radius: 0.35em;\">\n",
       "    Paris\n",
       "    <span style=\"font-size: 0.8em; font-weight: bold; line-height: 1; border-radius: 0.35em; vertical-align: middle; margin-left: 0.5rem\">LOC</span>\n",
       "</mark>\n",
       " en partant de \n",
       "<mark class=\"entity\" style=\"background: #ff9561; padding: 0.45em 0.6em; margin: 0 0.25em; line-height: 1; border-radius: 0.35em;\">\n",
       "    Bordeaux\n",
       "    <span style=\"font-size: 0.8em; font-weight: bold; line-height: 1; border-radius: 0.35em; vertical-align: middle; margin-left: 0.5rem\">LOC</span>\n",
       "</mark>\n",
       ".<br>Comment puis-je aller de \n",
       "<mark class=\"entity\" style=\"background: #ff9561; padding: 0.45em 0.6em; margin: 0 0.25em; line-height: 1; border-radius: 0.35em;\">\n",
       "    Marseille\n",
       "    <span style=\"font-size: 0.8em; font-weight: bold; line-height: 1; border-radius: 0.35em; vertical-align: middle; margin-left: 0.5rem\">LOC</span>\n",
       "</mark>\n",
       " à \n",
       "<mark class=\"entity\" style=\"background: #ff9561; padding: 0.45em 0.6em; margin: 0 0.25em; line-height: 1; border-radius: 0.35em;\">\n",
       "    Bordeaux\n",
       "    <span style=\"font-size: 0.8em; font-weight: bold; line-height: 1; border-radius: 0.35em; vertical-align: middle; margin-left: 0.5rem\">LOC</span>\n",
       "</mark>\n",
       " sans passer par \n",
       "<mark class=\"entity\" style=\"background: #ff9561; padding: 0.45em 0.6em; margin: 0 0.25em; line-height: 1; border-radius: 0.35em;\">\n",
       "    Paris\n",
       "    <span style=\"font-size: 0.8em; font-weight: bold; line-height: 1; border-radius: 0.35em; vertical-align: middle; margin-left: 0.5rem\">LOC</span>\n",
       "</mark>\n",
       " ?<br>Quels sont les horaires des trains de \n",
       "<mark class=\"entity\" style=\"background: #ff9561; padding: 0.45em 0.6em; margin: 0 0.25em; line-height: 1; border-radius: 0.35em;\">\n",
       "    Nantes\n",
       "    <span style=\"font-size: 0.8em; font-weight: bold; line-height: 1; border-radius: 0.35em; vertical-align: middle; margin-left: 0.5rem\">LOC</span>\n",
       "</mark>\n",
       " à \n",
       "<mark class=\"entity\" style=\"background: #ff9561; padding: 0.45em 0.6em; margin: 0 0.25em; line-height: 1; border-radius: 0.35em;\">\n",
       "    Lyon\n",
       "    <span style=\"font-size: 0.8em; font-weight: bold; line-height: 1; border-radius: 0.35em; vertical-align: middle; margin-left: 0.5rem\">LOC</span>\n",
       "</mark>\n",
       " demain matin ?<br>Je dois voyager \n",
       "<mark class=\"entity\" style=\"background: #ff9561; padding: 0.45em 0.6em; margin: 0 0.25em; line-height: 1; border-radius: 0.35em;\">\n",
       "    de Lille\n",
       "    <span style=\"font-size: 0.8em; font-weight: bold; line-height: 1; border-radius: 0.35em; vertical-align: middle; margin-left: 0.5rem\">LOC</span>\n",
       "</mark>\n",
       " à \n",
       "<mark class=\"entity\" style=\"background: #ff9561; padding: 0.45em 0.6em; margin: 0 0.25em; line-height: 1; border-radius: 0.35em;\">\n",
       "    Toulouse\n",
       "    <span style=\"font-size: 0.8em; font-weight: bold; line-height: 1; border-radius: 0.35em; vertical-align: middle; margin-left: 0.5rem\">LOC</span>\n",
       "</mark>\n",
       " ce week-end, avez-vous des suggestions de trajet ?<br>Quel est le moyen le plus rapide pour me rendre de \n",
       "<mark class=\"entity\" style=\"background: #ff9561; padding: 0.45em 0.6em; margin: 0 0.25em; line-height: 1; border-radius: 0.35em;\">\n",
       "    Lyon\n",
       "    <span style=\"font-size: 0.8em; font-weight: bold; line-height: 1; border-radius: 0.35em; vertical-align: middle; margin-left: 0.5rem\">LOC</span>\n",
       "</mark>\n",
       " à \n",
       "<mark class=\"entity\" style=\"background: #ff9561; padding: 0.45em 0.6em; margin: 0 0.25em; line-height: 1; border-radius: 0.35em;\">\n",
       "    Paris\n",
       "    <span style=\"font-size: 0.8em; font-weight: bold; line-height: 1; border-radius: 0.35em; vertical-align: middle; margin-left: 0.5rem\">LOC</span>\n",
       "</mark>\n",
       " ?</div></span>"
      ],
      "text/plain": [
       "<IPython.core.display.HTML object>"
      ]
     },
     "metadata": {},
     "output_type": "display_data"
    }
   ],
   "source": [
    "# Fonction de test pour vérifier la reconnaissance des entités sur du texte simple\n",
    "def test_ner_recognition(nlp, text):\n",
    "    print(f\"Test pour vérifier la reconnaissance des entités avec spaCy {nlp.meta['name']}...\\n\")\n",
    "    doc = nlp(text)\n",
    "    spacy.displacy.render(doc, style=\"ent\", jupyter=True)\n",
    "\n",
    "texte_simple = '''Je souhaiterais me rendre de Paris à Marseille.\n",
    "Quelle est la meilleure façon d'aller à Sannois depuis la gare de Toulouse ?\n",
    "Je prévois de rendre visite à mon ami Patrick à Paris en partant de Bordeaux.\n",
    "Comment puis-je aller de Marseille à Bordeaux sans passer par Paris ?\n",
    "Quels sont les horaires des trains de Nantes à Lyon demain matin ?\n",
    "Je dois voyager de Lille à Toulouse ce week-end, avez-vous des suggestions de trajet ?\n",
    "Quel est le moyen le plus rapide pour me rendre de Lyon à Paris ?'''\n",
    "\n",
    "# on teste chaque modèle\n",
    "for model_key in models.keys():\n",
    "    test_ner_recognition(nlp_models[model_key], texte_simple)"
   ]
  },
  {
   "cell_type": "markdown",
   "id": "7f22d637",
   "metadata": {},
   "source": [
    "### Chargement du Dataset\n",
    "\n",
    "Charge le CSV pour l'entraînement du modèle avec la bibliothèque `pandas` pour lire le fichier, avec le séparateur et l'encodage. Les lignes qui sont mal faites sont ignorées avec `on_bad_lines='skip'`. "
   ]
  },
  {
   "cell_type": "code",
   "execution_count": 8,
   "id": "595c2074",
   "metadata": {},
   "outputs": [
    {
     "name": "stdout",
     "output_type": "stream",
     "text": [
      "Chargement du dataset csv pour l'entraînement...\n",
      "\n",
      "Dataset bien chargé\n",
      "\n",
      "Aperçu du dataset : \n",
      "\n"
     ]
    },
    {
     "data": {
      "text/html": [
       "<div>\n",
       "<style scoped>\n",
       "    .dataframe tbody tr th:only-of-type {\n",
       "        vertical-align: middle;\n",
       "    }\n",
       "\n",
       "    .dataframe tbody tr th {\n",
       "        vertical-align: top;\n",
       "    }\n",
       "\n",
       "    .dataframe thead th {\n",
       "        text-align: right;\n",
       "    }\n",
       "</style>\n",
       "<table border=\"1\" class=\"dataframe\">\n",
       "  <thead>\n",
       "    <tr style=\"text-align: right;\">\n",
       "      <th></th>\n",
       "      <th>text</th>\n",
       "      <th>entities</th>\n",
       "    </tr>\n",
       "  </thead>\n",
       "  <tbody>\n",
       "    <tr>\n",
       "      <th>0</th>\n",
       "      <td>Je voudrais aller de Toulouse à Bordeaux.</td>\n",
       "      <td>[{'start': 21, 'end': 29, 'label': 'DEPARTURE'...</td>\n",
       "    </tr>\n",
       "    <tr>\n",
       "      <th>1</th>\n",
       "      <td>Comment me rendre à Port-Boulet depuis la gare...</td>\n",
       "      <td>[{'start': 20, 'end': 31, 'label': 'DESTINATIO...</td>\n",
       "    </tr>\n",
       "    <tr>\n",
       "      <th>2</th>\n",
       "      <td>Je veux aller voir mon ami Albert à Tours en p...</td>\n",
       "      <td>[{'start': 36, 'end': 41, 'label': 'DESTINATIO...</td>\n",
       "    </tr>\n",
       "    <tr>\n",
       "      <th>3</th>\n",
       "      <td>Y a-t-il des trains de Nantes à Montaigu ?</td>\n",
       "      <td>[{'start': 23, 'end': 29, 'label': 'DEPARTURE'...</td>\n",
       "    </tr>\n",
       "    <tr>\n",
       "      <th>4</th>\n",
       "      <td>Je souhaite me rendre à Paris en partant de To...</td>\n",
       "      <td>[{'start': 25, 'end': 30, 'label': 'DESTINATIO...</td>\n",
       "    </tr>\n",
       "    <tr>\n",
       "      <th>...</th>\n",
       "      <td>...</td>\n",
       "      <td>...</td>\n",
       "    </tr>\n",
       "    <tr>\n",
       "      <th>211</th>\n",
       "      <td>Je pars de Lyon pour rejoindre Rennes</td>\n",
       "      <td>[{'start': 12, 'end': 16, 'label': 'DEPARTURE'...</td>\n",
       "    </tr>\n",
       "    <tr>\n",
       "      <th>212</th>\n",
       "      <td>Je souhaite me rendre à Lyon en partant de Toulon</td>\n",
       "      <td>[{'start': 25, 'end': 29, 'label': 'DESTINATIO...</td>\n",
       "    </tr>\n",
       "    <tr>\n",
       "      <th>213</th>\n",
       "      <td>Je pars de Lyon pour rejoindre Nîmes</td>\n",
       "      <td>[{'start': 12, 'end': 16, 'label': 'DEPARTURE'...</td>\n",
       "    </tr>\n",
       "    <tr>\n",
       "      <th>214</th>\n",
       "      <td>Je souhaite me rendre à Lyon en partant de Nice</td>\n",
       "      <td>[{'start': 25, 'end': 29, 'label': 'DESTINATIO...</td>\n",
       "    </tr>\n",
       "    <tr>\n",
       "      <th>215</th>\n",
       "      <td>Je pars de Lyon pour rejoindre Montpellier</td>\n",
       "      <td>[{'start': 12, 'end': 16, 'label': 'DEPARTURE'...</td>\n",
       "    </tr>\n",
       "  </tbody>\n",
       "</table>\n",
       "<p>216 rows × 2 columns</p>\n",
       "</div>"
      ],
      "text/plain": [
       "                                                  text  \\\n",
       "0            Je voudrais aller de Toulouse à Bordeaux.   \n",
       "1    Comment me rendre à Port-Boulet depuis la gare...   \n",
       "2    Je veux aller voir mon ami Albert à Tours en p...   \n",
       "3           Y a-t-il des trains de Nantes à Montaigu ?   \n",
       "4    Je souhaite me rendre à Paris en partant de To...   \n",
       "..                                                 ...   \n",
       "211              Je pars de Lyon pour rejoindre Rennes   \n",
       "212  Je souhaite me rendre à Lyon en partant de Toulon   \n",
       "213               Je pars de Lyon pour rejoindre Nîmes   \n",
       "214    Je souhaite me rendre à Lyon en partant de Nice   \n",
       "215         Je pars de Lyon pour rejoindre Montpellier   \n",
       "\n",
       "                                              entities  \n",
       "0    [{'start': 21, 'end': 29, 'label': 'DEPARTURE'...  \n",
       "1    [{'start': 20, 'end': 31, 'label': 'DESTINATIO...  \n",
       "2    [{'start': 36, 'end': 41, 'label': 'DESTINATIO...  \n",
       "3    [{'start': 23, 'end': 29, 'label': 'DEPARTURE'...  \n",
       "4    [{'start': 25, 'end': 30, 'label': 'DESTINATIO...  \n",
       "..                                                 ...  \n",
       "211  [{'start': 12, 'end': 16, 'label': 'DEPARTURE'...  \n",
       "212  [{'start': 25, 'end': 29, 'label': 'DESTINATIO...  \n",
       "213  [{'start': 12, 'end': 16, 'label': 'DEPARTURE'...  \n",
       "214  [{'start': 25, 'end': 29, 'label': 'DESTINATIO...  \n",
       "215  [{'start': 12, 'end': 16, 'label': 'DEPARTURE'...  \n",
       "\n",
       "[216 rows x 2 columns]"
      ]
     },
     "metadata": {},
     "output_type": "display_data"
    }
   ],
   "source": [
    "def load_dataset(file_path):\n",
    "    print(\"Chargement du dataset csv pour l'entraînement...\")\n",
    "    df = pd.read_csv(file_path, sep=',', encoding='utf-8', on_bad_lines='skip')\n",
    "    print(\"\\nDataset bien chargé\")\n",
    "    return df\n",
    "\n",
    "df = load_dataset('../../dataset/raw/initial_training_data.csv')\n",
    "\n",
    "print(\"\\nAperçu du dataset : \\n\")\n",
    "display(df)"
   ]
  },
  {
   "cell_type": "markdown",
   "id": "0ba15fbb",
   "metadata": {},
   "source": [
    "## Nettoyage des Données\n",
    "\n",
    "Préparation des textes en supprimant les retours à la ligne et les espaces.\n"
   ]
  },
  {
   "cell_type": "code",
   "execution_count": 9,
   "id": "90b26881",
   "metadata": {},
   "outputs": [
    {
     "name": "stdout",
     "output_type": "stream",
     "text": [
      "Nettoyage des données...\n",
      "\n",
      "Données ont été nettoyées\n"
     ]
    }
   ],
   "source": [
    "print(\"Nettoyage des données...\\n\") # pour supprimer des retours à la ligne, espaces inutiles, etc.\n",
    "def clean_text(text):\n",
    "    return text.replace('\\r', '').strip()\n",
    "\n",
    "df['text'] = df['text'].apply(clean_text)\n",
    "print(\"Données ont été nettoyées\")"
   ]
  },
  {
   "cell_type": "markdown",
   "id": "fb671448",
   "metadata": {},
   "source": [
    "### Vérification de l'alignement des entités nommées\n",
    "\n",
    "Pour s'assurer que les indices de début et de fin spécifiés pour chaque entité correspondent bien au texte fourni. Pour chaque entité :\n",
    "\n",
    "- Les indices `start` et `end`.\n",
    "- Si l'extrait de texte aux indices correspond à celui attendu, l'entité est ajoutée à la liste `verified_entities`.\n",
    "- Si une incohérence est détectée, l'entité est ignorée et un message d'avertissement est affiché."
   ]
  },
  {
   "cell_type": "code",
   "execution_count": 10,
   "id": "f3ea4cfd",
   "metadata": {},
   "outputs": [],
   "source": [
    "def verify_entity_alignment(text, entities):\n",
    "    print(\"Vérification de l'alignement des entités\\n\")\n",
    "    verified_entities = []\n",
    "    for ent in entities:\n",
    "        start, end, label = ent['start'], ent['end'], ent['label']\n",
    "        if text[start:end] == text[start:end]:\n",
    "            verified_entities.append(ent)\n",
    "        else:\n",
    "            print(f\"Skipping entity: {text[start:end]} in text: {text}\")\n",
    "    print(\"Vérification terminée\")\n",
    "    return verified_entities"
   ]
  },
  {
   "cell_type": "markdown",
   "id": "27198e8c",
   "metadata": {},
   "source": [
    "### Préparation du Dataset pour spaCy\n",
    "\n",
    "Conversion du dataset CSV au format spaCy avec objets Doc avec les entités labelisés. On mélange les données pour éviter un apprentissage biaisé. Chaque texte est ensuite vérifié pour s'assurer que les indices des entités sont corrects avant d’ajouter les annotations d’entités.\n"
   ]
  },
  {
   "cell_type": "code",
   "execution_count": 11,
   "id": "bd6cd9d3",
   "metadata": {},
   "outputs": [],
   "source": [
    "def prepare_data_for_spacy(df):\n",
    "    print(\"Conversion du dataset csv au format spaCy...\\n\")\n",
    "    db = DocBin()\n",
    "    data = list(zip(df['text'], df['entities']))\n",
    "    print(\"On mélange des données pour éviter l'apprentissage biaisé\\n\")\n",
    "    shuffle(data)\n",
    "\n",
    "    for text, entities in data:\n",
    "        entities = ast.literal_eval(entities)\n",
    "        verified_entities = verify_entity_alignment(text, entities)\n",
    "\n",
    "        if verified_entities:\n",
    "            doc = nlp_models[\"sm\"].make_doc(text)\n",
    "            doc.ents = create_entity_spans(doc, verified_entities)\n",
    "            db.add(doc)\n",
    "\n",
    "    print(\"Dataset a été bien converti au format spaCy\\n\")\n",
    "    return db"
   ]
  },
  {
   "cell_type": "markdown",
   "id": "30615872",
   "metadata": {},
   "source": [
    "### Création de Spans d'Entités\n",
    "\n",
    "Génération des spans d'entités à partir d'entités vérifiées dans un texte donné. Pour chaque entité, on identifie les indices de début et de fin et le label associée (\"DEPARTURE\", \"DESTINATION\"). \n",
    "Les entités correctes sont ajoutées sous forme de spans dans `doc`. Ca facilite l'annotation des textes pour l'entraînement du modèle de reconnaissance d'entités. "
   ]
  },
  {
   "cell_type": "code",
   "execution_count": 12,
   "id": "cf323e94",
   "metadata": {},
   "outputs": [],
   "source": [
    "def create_entity_spans(doc, verified_entities):\n",
    "    print(\"Création de span d'entités\\n\")\n",
    "    ents = []\n",
    "    for ent in verified_entities:\n",
    "        start, end, label = ent['start'], ent['end'], ent['label']\n",
    "        span = doc.char_span(start, end, label=label, alignment_mode=\"contract\")\n",
    "        if span:\n",
    "            ents.append(span)\n",
    "    return ents"
   ]
  },
  {
   "cell_type": "code",
   "execution_count": 13,
   "id": "d1270aaa",
   "metadata": {},
   "outputs": [
    {
     "name": "stdout",
     "output_type": "stream",
     "text": [
      "Préparation des données pour la conversion au format spaCy...\n",
      "\n",
      "Conversion du dataset csv au format spaCy...\n",
      "\n",
      "On mélange des données pour éviter l'apprentissage biaisé\n",
      "\n",
      "Vérification de l'alignement des entités\n",
      "\n",
      "Vérification terminée\n",
      "Création de span d'entités\n",
      "\n",
      "Vérification de l'alignement des entités\n",
      "\n",
      "Vérification terminée\n",
      "Création de span d'entités\n",
      "\n",
      "Vérification de l'alignement des entités\n",
      "\n",
      "Vérification terminée\n",
      "Création de span d'entités\n",
      "\n",
      "Vérification de l'alignement des entités\n",
      "\n",
      "Vérification terminée\n",
      "Création de span d'entités\n",
      "\n",
      "Vérification de l'alignement des entités\n",
      "\n",
      "Vérification terminée\n",
      "Création de span d'entités\n",
      "\n",
      "Vérification de l'alignement des entités\n",
      "\n",
      "Vérification terminée\n",
      "Création de span d'entités\n",
      "\n",
      "Vérification de l'alignement des entités\n",
      "\n",
      "Vérification terminée\n",
      "Création de span d'entités\n",
      "\n",
      "Vérification de l'alignement des entités\n",
      "\n",
      "Vérification terminée\n",
      "Création de span d'entités\n",
      "\n",
      "Vérification de l'alignement des entités\n",
      "\n",
      "Vérification terminée\n",
      "Création de span d'entités\n",
      "\n",
      "Vérification de l'alignement des entités\n",
      "\n",
      "Vérification terminée\n",
      "Création de span d'entités\n",
      "\n",
      "Vérification de l'alignement des entités\n",
      "\n",
      "Vérification terminée\n",
      "Création de span d'entités\n",
      "\n",
      "Vérification de l'alignement des entités\n",
      "\n",
      "Vérification terminée\n",
      "Création de span d'entités\n",
      "\n",
      "Vérification de l'alignement des entités\n",
      "\n",
      "Vérification terminée\n",
      "Création de span d'entités\n",
      "\n",
      "Vérification de l'alignement des entités\n",
      "\n",
      "Vérification terminée\n",
      "Création de span d'entités\n",
      "\n",
      "Vérification de l'alignement des entités\n",
      "\n",
      "Vérification terminée\n",
      "Création de span d'entités\n",
      "\n",
      "Vérification de l'alignement des entités\n",
      "\n",
      "Vérification terminée\n",
      "Création de span d'entités\n",
      "\n",
      "Vérification de l'alignement des entités\n",
      "\n",
      "Vérification terminée\n",
      "Création de span d'entités\n",
      "\n",
      "Vérification de l'alignement des entités\n",
      "\n",
      "Vérification terminée\n",
      "Création de span d'entités\n",
      "\n",
      "Vérification de l'alignement des entités\n",
      "\n",
      "Vérification terminée\n",
      "Création de span d'entités\n",
      "\n",
      "Vérification de l'alignement des entités\n",
      "\n",
      "Vérification terminée\n",
      "Création de span d'entités\n",
      "\n",
      "Vérification de l'alignement des entités\n",
      "\n",
      "Vérification terminée\n",
      "Création de span d'entités\n",
      "\n",
      "Vérification de l'alignement des entités\n",
      "\n",
      "Vérification terminée\n",
      "Création de span d'entités\n",
      "\n",
      "Vérification de l'alignement des entités\n",
      "\n",
      "Vérification terminée\n",
      "Création de span d'entités\n",
      "\n",
      "Vérification de l'alignement des entités\n",
      "\n",
      "Vérification terminée\n",
      "Création de span d'entités\n",
      "\n",
      "Vérification de l'alignement des entités\n",
      "\n",
      "Vérification terminée\n",
      "Création de span d'entités\n",
      "\n",
      "Vérification de l'alignement des entités\n",
      "\n",
      "Vérification terminée\n",
      "Création de span d'entités\n",
      "\n",
      "Vérification de l'alignement des entités\n",
      "\n",
      "Vérification terminée\n",
      "Création de span d'entités\n",
      "\n",
      "Vérification de l'alignement des entités\n",
      "\n",
      "Vérification terminée\n",
      "Création de span d'entités\n",
      "\n",
      "Vérification de l'alignement des entités\n",
      "\n",
      "Vérification terminée\n",
      "Création de span d'entités\n",
      "\n",
      "Vérification de l'alignement des entités\n",
      "\n",
      "Vérification terminée\n",
      "Création de span d'entités\n",
      "\n",
      "Vérification de l'alignement des entités\n",
      "\n",
      "Vérification terminée\n",
      "Création de span d'entités\n",
      "\n",
      "Vérification de l'alignement des entités\n",
      "\n",
      "Vérification terminée\n",
      "Création de span d'entités\n",
      "\n",
      "Vérification de l'alignement des entités\n",
      "\n",
      "Vérification terminée\n",
      "Création de span d'entités\n",
      "\n",
      "Vérification de l'alignement des entités\n",
      "\n",
      "Vérification terminée\n",
      "Création de span d'entités\n",
      "\n",
      "Vérification de l'alignement des entités\n",
      "\n",
      "Vérification terminée\n",
      "Création de span d'entités\n",
      "\n",
      "Vérification de l'alignement des entités\n",
      "\n",
      "Vérification terminée\n",
      "Création de span d'entités\n",
      "\n",
      "Vérification de l'alignement des entités\n",
      "\n",
      "Vérification terminée\n",
      "Création de span d'entités\n",
      "\n",
      "Vérification de l'alignement des entités\n",
      "\n",
      "Vérification terminée\n",
      "Création de span d'entités\n",
      "\n",
      "Vérification de l'alignement des entités\n",
      "\n",
      "Vérification terminée\n",
      "Création de span d'entités\n",
      "\n",
      "Vérification de l'alignement des entités\n",
      "\n",
      "Vérification terminée\n",
      "Création de span d'entités\n",
      "\n",
      "Vérification de l'alignement des entités\n",
      "\n",
      "Vérification terminée\n",
      "Création de span d'entités\n",
      "\n",
      "Vérification de l'alignement des entités\n",
      "\n",
      "Vérification terminée\n",
      "Création de span d'entités\n",
      "\n",
      "Vérification de l'alignement des entités\n",
      "\n",
      "Vérification terminée\n",
      "Création de span d'entités\n",
      "\n",
      "Vérification de l'alignement des entités\n",
      "\n",
      "Vérification terminée\n",
      "Création de span d'entités\n",
      "\n",
      "Vérification de l'alignement des entités\n",
      "\n",
      "Vérification terminée\n",
      "Création de span d'entités\n",
      "\n",
      "Vérification de l'alignement des entités\n",
      "\n",
      "Vérification terminée\n",
      "Création de span d'entités\n",
      "\n",
      "Vérification de l'alignement des entités\n",
      "\n",
      "Vérification terminée\n",
      "Création de span d'entités\n",
      "\n",
      "Vérification de l'alignement des entités\n",
      "\n",
      "Vérification terminée\n",
      "Création de span d'entités\n",
      "\n",
      "Vérification de l'alignement des entités\n",
      "\n",
      "Vérification terminée\n",
      "Création de span d'entités\n",
      "\n",
      "Vérification de l'alignement des entités\n",
      "\n",
      "Vérification terminée\n",
      "Création de span d'entités\n",
      "\n",
      "Vérification de l'alignement des entités\n",
      "\n",
      "Vérification terminée\n",
      "Création de span d'entités\n",
      "\n",
      "Vérification de l'alignement des entités\n",
      "\n",
      "Vérification terminée\n",
      "Création de span d'entités\n",
      "\n",
      "Vérification de l'alignement des entités\n",
      "\n",
      "Vérification terminée\n",
      "Création de span d'entités\n",
      "\n",
      "Vérification de l'alignement des entités\n",
      "\n",
      "Vérification terminée\n",
      "Création de span d'entités\n",
      "\n",
      "Vérification de l'alignement des entités\n",
      "\n",
      "Vérification terminée\n",
      "Création de span d'entités\n",
      "\n",
      "Vérification de l'alignement des entités\n",
      "\n",
      "Vérification terminée\n",
      "Création de span d'entités\n",
      "\n",
      "Vérification de l'alignement des entités\n",
      "\n",
      "Vérification terminée\n",
      "Création de span d'entités\n",
      "\n",
      "Vérification de l'alignement des entités\n",
      "\n",
      "Vérification terminée\n",
      "Création de span d'entités\n",
      "\n",
      "Vérification de l'alignement des entités\n",
      "\n",
      "Vérification terminée\n",
      "Création de span d'entités\n",
      "\n",
      "Vérification de l'alignement des entités\n",
      "\n",
      "Vérification terminée\n",
      "Création de span d'entités\n",
      "\n",
      "Vérification de l'alignement des entités\n",
      "\n",
      "Vérification terminée\n",
      "Création de span d'entités\n",
      "\n",
      "Vérification de l'alignement des entités\n",
      "\n",
      "Vérification terminée\n",
      "Création de span d'entités\n",
      "\n",
      "Vérification de l'alignement des entités\n",
      "\n",
      "Vérification terminée\n",
      "Création de span d'entités\n",
      "\n",
      "Vérification de l'alignement des entités\n",
      "\n",
      "Vérification terminée\n",
      "Création de span d'entités\n",
      "\n",
      "Vérification de l'alignement des entités\n",
      "\n",
      "Vérification terminée\n",
      "Création de span d'entités\n",
      "\n",
      "Vérification de l'alignement des entités\n",
      "\n",
      "Vérification terminée\n",
      "Création de span d'entités\n",
      "\n",
      "Vérification de l'alignement des entités\n",
      "\n",
      "Vérification terminée\n",
      "Création de span d'entités\n",
      "\n",
      "Vérification de l'alignement des entités\n",
      "\n",
      "Vérification terminée\n",
      "Création de span d'entités\n",
      "\n",
      "Vérification de l'alignement des entités\n",
      "\n",
      "Vérification terminée\n",
      "Création de span d'entités\n",
      "\n",
      "Vérification de l'alignement des entités\n",
      "\n",
      "Vérification terminée\n",
      "Création de span d'entités\n",
      "\n",
      "Vérification de l'alignement des entités\n",
      "\n",
      "Vérification terminée\n",
      "Création de span d'entités\n",
      "\n",
      "Vérification de l'alignement des entités\n",
      "\n",
      "Vérification terminée\n",
      "Création de span d'entités\n",
      "\n",
      "Vérification de l'alignement des entités\n",
      "\n",
      "Vérification terminée\n",
      "Création de span d'entités\n",
      "\n",
      "Vérification de l'alignement des entités\n",
      "\n",
      "Vérification terminée\n",
      "Création de span d'entités\n",
      "\n",
      "Vérification de l'alignement des entités\n",
      "\n",
      "Vérification terminée\n",
      "Création de span d'entités\n",
      "\n",
      "Vérification de l'alignement des entités\n",
      "\n",
      "Vérification terminée\n",
      "Création de span d'entités\n",
      "\n",
      "Vérification de l'alignement des entités\n",
      "\n",
      "Vérification terminée\n",
      "Création de span d'entités\n",
      "\n",
      "Vérification de l'alignement des entités\n",
      "\n",
      "Vérification terminée\n",
      "Création de span d'entités\n",
      "\n",
      "Vérification de l'alignement des entités\n",
      "\n",
      "Vérification terminée\n",
      "Création de span d'entités\n",
      "\n",
      "Vérification de l'alignement des entités\n",
      "\n",
      "Vérification terminée\n",
      "Création de span d'entités\n",
      "\n",
      "Vérification de l'alignement des entités\n",
      "\n",
      "Vérification terminée\n",
      "Création de span d'entités\n",
      "\n",
      "Vérification de l'alignement des entités\n",
      "\n",
      "Vérification terminée\n",
      "Création de span d'entités\n",
      "\n",
      "Vérification de l'alignement des entités\n",
      "\n",
      "Vérification terminée\n",
      "Création de span d'entités\n",
      "\n",
      "Vérification de l'alignement des entités\n",
      "\n",
      "Vérification terminée\n",
      "Création de span d'entités\n",
      "\n",
      "Vérification de l'alignement des entités\n",
      "\n",
      "Vérification terminée\n",
      "Création de span d'entités\n",
      "\n",
      "Vérification de l'alignement des entités\n",
      "\n",
      "Vérification terminée\n",
      "Création de span d'entités\n",
      "\n",
      "Vérification de l'alignement des entités\n",
      "\n",
      "Vérification terminée\n",
      "Création de span d'entités\n",
      "\n",
      "Vérification de l'alignement des entités\n",
      "\n",
      "Vérification terminée\n",
      "Création de span d'entités\n",
      "\n",
      "Vérification de l'alignement des entités\n",
      "\n",
      "Vérification terminée\n",
      "Création de span d'entités\n",
      "\n",
      "Vérification de l'alignement des entités\n",
      "\n",
      "Vérification terminée\n",
      "Création de span d'entités\n",
      "\n",
      "Vérification de l'alignement des entités\n",
      "\n",
      "Vérification terminée\n",
      "Création de span d'entités\n",
      "\n",
      "Vérification de l'alignement des entités\n",
      "\n",
      "Vérification terminée\n",
      "Création de span d'entités\n",
      "\n",
      "Vérification de l'alignement des entités\n",
      "\n",
      "Vérification terminée\n",
      "Création de span d'entités\n",
      "\n",
      "Vérification de l'alignement des entités\n",
      "\n",
      "Vérification terminée\n",
      "Création de span d'entités\n",
      "\n",
      "Vérification de l'alignement des entités\n",
      "\n",
      "Vérification terminée\n",
      "Création de span d'entités\n",
      "\n",
      "Vérification de l'alignement des entités\n",
      "\n",
      "Vérification terminée\n",
      "Création de span d'entités\n",
      "\n",
      "Vérification de l'alignement des entités\n",
      "\n",
      "Vérification terminée\n",
      "Création de span d'entités\n",
      "\n",
      "Vérification de l'alignement des entités\n",
      "\n",
      "Vérification terminée\n",
      "Création de span d'entités\n",
      "\n",
      "Vérification de l'alignement des entités\n",
      "\n",
      "Vérification terminée\n",
      "Création de span d'entités\n",
      "\n",
      "Vérification de l'alignement des entités\n",
      "\n",
      "Vérification terminée\n",
      "Création de span d'entités\n",
      "\n",
      "Vérification de l'alignement des entités\n",
      "\n",
      "Vérification terminée\n",
      "Création de span d'entités\n",
      "\n",
      "Vérification de l'alignement des entités\n",
      "\n",
      "Vérification terminée\n",
      "Création de span d'entités\n",
      "\n",
      "Vérification de l'alignement des entités\n",
      "\n",
      "Vérification terminée\n",
      "Création de span d'entités\n",
      "\n",
      "Vérification de l'alignement des entités\n",
      "\n",
      "Vérification terminée\n",
      "Création de span d'entités\n",
      "\n",
      "Vérification de l'alignement des entités\n",
      "\n",
      "Vérification terminée\n",
      "Création de span d'entités\n",
      "\n",
      "Vérification de l'alignement des entités\n",
      "\n",
      "Vérification terminée\n",
      "Création de span d'entités\n",
      "\n",
      "Vérification de l'alignement des entités\n",
      "\n",
      "Vérification terminée\n",
      "Création de span d'entités\n",
      "\n",
      "Vérification de l'alignement des entités\n",
      "\n",
      "Vérification terminée\n",
      "Création de span d'entités\n",
      "\n",
      "Vérification de l'alignement des entités\n",
      "\n",
      "Vérification terminée\n",
      "Création de span d'entités\n",
      "\n",
      "Vérification de l'alignement des entités\n",
      "\n",
      "Vérification terminée\n",
      "Création de span d'entités\n",
      "\n",
      "Vérification de l'alignement des entités\n",
      "\n",
      "Vérification terminée\n",
      "Création de span d'entités\n",
      "\n",
      "Vérification de l'alignement des entités\n",
      "\n",
      "Vérification terminée\n",
      "Création de span d'entités\n",
      "\n",
      "Vérification de l'alignement des entités\n",
      "\n",
      "Vérification terminée\n",
      "Création de span d'entités\n",
      "\n",
      "Vérification de l'alignement des entités\n",
      "\n",
      "Vérification terminée\n",
      "Création de span d'entités\n",
      "\n",
      "Vérification de l'alignement des entités\n",
      "\n",
      "Vérification terminée\n",
      "Création de span d'entités\n",
      "\n",
      "Vérification de l'alignement des entités\n",
      "\n",
      "Vérification terminée\n",
      "Création de span d'entités\n",
      "\n",
      "Vérification de l'alignement des entités\n",
      "\n",
      "Vérification terminée\n",
      "Création de span d'entités\n",
      "\n",
      "Vérification de l'alignement des entités\n",
      "\n",
      "Vérification terminée\n",
      "Création de span d'entités\n",
      "\n",
      "Vérification de l'alignement des entités\n",
      "\n",
      "Vérification terminée\n",
      "Création de span d'entités\n",
      "\n",
      "Vérification de l'alignement des entités\n",
      "\n",
      "Vérification terminée\n",
      "Création de span d'entités\n",
      "\n",
      "Vérification de l'alignement des entités\n",
      "\n",
      "Vérification terminée\n",
      "Création de span d'entités\n",
      "\n",
      "Vérification de l'alignement des entités\n",
      "\n",
      "Vérification terminée\n",
      "Création de span d'entités\n",
      "\n",
      "Vérification de l'alignement des entités\n",
      "\n",
      "Vérification terminée\n",
      "Création de span d'entités\n",
      "\n",
      "Vérification de l'alignement des entités\n",
      "\n",
      "Vérification terminée\n",
      "Création de span d'entités\n",
      "\n",
      "Vérification de l'alignement des entités\n",
      "\n",
      "Vérification terminée\n",
      "Création de span d'entités\n",
      "\n",
      "Vérification de l'alignement des entités\n",
      "\n",
      "Vérification terminée\n",
      "Création de span d'entités\n",
      "\n",
      "Vérification de l'alignement des entités\n",
      "\n",
      "Vérification terminée\n",
      "Création de span d'entités\n",
      "\n",
      "Vérification de l'alignement des entités\n",
      "\n",
      "Vérification terminée\n",
      "Création de span d'entités\n",
      "\n",
      "Vérification de l'alignement des entités\n",
      "\n",
      "Vérification terminée\n",
      "Création de span d'entités\n",
      "\n",
      "Vérification de l'alignement des entités\n",
      "\n",
      "Vérification terminée\n",
      "Création de span d'entités\n",
      "\n",
      "Vérification de l'alignement des entités\n",
      "\n",
      "Vérification terminée\n",
      "Création de span d'entités\n",
      "\n",
      "Vérification de l'alignement des entités\n",
      "\n",
      "Vérification terminée\n",
      "Création de span d'entités\n",
      "\n",
      "Vérification de l'alignement des entités\n",
      "\n",
      "Vérification terminée\n",
      "Création de span d'entités\n",
      "\n",
      "Vérification de l'alignement des entités\n",
      "\n",
      "Vérification terminée\n",
      "Création de span d'entités\n",
      "\n",
      "Vérification de l'alignement des entités\n",
      "\n",
      "Vérification terminée\n",
      "Création de span d'entités\n",
      "\n",
      "Vérification de l'alignement des entités\n",
      "\n",
      "Vérification terminée\n",
      "Création de span d'entités\n",
      "\n",
      "Vérification de l'alignement des entités\n",
      "\n",
      "Vérification terminée\n",
      "Création de span d'entités\n",
      "\n",
      "Vérification de l'alignement des entités\n",
      "\n",
      "Vérification terminée\n",
      "Création de span d'entités\n",
      "\n",
      "Vérification de l'alignement des entités\n",
      "\n",
      "Vérification terminée\n",
      "Création de span d'entités\n",
      "\n",
      "Vérification de l'alignement des entités\n",
      "\n",
      "Vérification terminée\n",
      "Création de span d'entités\n",
      "\n",
      "Vérification de l'alignement des entités\n",
      "\n",
      "Vérification terminée\n",
      "Création de span d'entités\n",
      "\n",
      "Vérification de l'alignement des entités\n",
      "\n",
      "Vérification terminée\n",
      "Création de span d'entités\n",
      "\n",
      "Vérification de l'alignement des entités\n",
      "\n",
      "Vérification terminée\n",
      "Création de span d'entités\n",
      "\n",
      "Vérification de l'alignement des entités\n",
      "\n",
      "Vérification terminée\n",
      "Création de span d'entités\n",
      "\n",
      "Vérification de l'alignement des entités\n",
      "\n",
      "Vérification terminée\n",
      "Création de span d'entités\n",
      "\n",
      "Vérification de l'alignement des entités\n",
      "\n",
      "Vérification terminée\n",
      "Création de span d'entités\n",
      "\n",
      "Vérification de l'alignement des entités\n",
      "\n",
      "Vérification terminée\n",
      "Création de span d'entités\n",
      "\n",
      "Vérification de l'alignement des entités\n",
      "\n",
      "Vérification terminée\n",
      "Création de span d'entités\n",
      "\n",
      "Vérification de l'alignement des entités\n",
      "\n",
      "Vérification terminée\n",
      "Création de span d'entités\n",
      "\n",
      "Vérification de l'alignement des entités\n",
      "\n",
      "Vérification terminée\n",
      "Création de span d'entités\n",
      "\n",
      "Vérification de l'alignement des entités\n",
      "\n",
      "Vérification terminée\n",
      "Création de span d'entités\n",
      "\n",
      "Vérification de l'alignement des entités\n",
      "\n",
      "Vérification terminée\n",
      "Création de span d'entités\n",
      "\n",
      "Vérification de l'alignement des entités\n",
      "\n",
      "Vérification terminée\n",
      "Création de span d'entités\n",
      "\n",
      "Vérification de l'alignement des entités\n",
      "\n",
      "Vérification terminée\n",
      "Création de span d'entités\n",
      "\n",
      "Vérification de l'alignement des entités\n",
      "\n",
      "Vérification terminée\n",
      "Création de span d'entités\n",
      "\n",
      "Vérification de l'alignement des entités\n",
      "\n",
      "Vérification terminée\n",
      "Création de span d'entités\n",
      "\n",
      "Vérification de l'alignement des entités\n",
      "\n",
      "Vérification terminée\n",
      "Création de span d'entités\n",
      "\n",
      "Vérification de l'alignement des entités\n",
      "\n",
      "Vérification terminée\n",
      "Création de span d'entités\n",
      "\n",
      "Vérification de l'alignement des entités\n",
      "\n",
      "Vérification terminée\n",
      "Création de span d'entités\n",
      "\n",
      "Vérification de l'alignement des entités\n",
      "\n",
      "Vérification terminée\n",
      "Création de span d'entités\n",
      "\n",
      "Vérification de l'alignement des entités\n",
      "\n",
      "Vérification terminée\n",
      "Création de span d'entités\n",
      "\n",
      "Vérification de l'alignement des entités\n",
      "\n",
      "Vérification terminée\n",
      "Création de span d'entités\n",
      "\n",
      "Vérification de l'alignement des entités\n",
      "\n",
      "Vérification terminée\n",
      "Création de span d'entités\n",
      "\n",
      "Vérification de l'alignement des entités\n",
      "\n",
      "Vérification terminée\n",
      "Création de span d'entités\n",
      "\n",
      "Vérification de l'alignement des entités\n",
      "\n",
      "Vérification terminée\n",
      "Création de span d'entités\n",
      "\n",
      "Vérification de l'alignement des entités\n",
      "\n",
      "Vérification terminée\n",
      "Création de span d'entités\n",
      "\n",
      "Vérification de l'alignement des entités\n",
      "\n",
      "Vérification terminée\n",
      "Création de span d'entités\n",
      "\n",
      "Vérification de l'alignement des entités\n",
      "\n",
      "Vérification terminée\n",
      "Création de span d'entités\n",
      "\n",
      "Vérification de l'alignement des entités\n",
      "\n",
      "Vérification terminée\n",
      "Création de span d'entités\n",
      "\n",
      "Vérification de l'alignement des entités\n",
      "\n",
      "Vérification terminée\n",
      "Création de span d'entités\n",
      "\n",
      "Vérification de l'alignement des entités\n",
      "\n",
      "Vérification terminée\n",
      "Création de span d'entités\n",
      "\n",
      "Vérification de l'alignement des entités\n",
      "\n",
      "Vérification terminée\n",
      "Création de span d'entités\n",
      "\n",
      "Vérification de l'alignement des entités\n",
      "\n",
      "Vérification terminée\n",
      "Création de span d'entités\n",
      "\n",
      "Vérification de l'alignement des entités\n",
      "\n",
      "Vérification terminée\n",
      "Création de span d'entités\n",
      "\n",
      "Vérification de l'alignement des entités\n",
      "\n",
      "Vérification terminée\n",
      "Création de span d'entités\n",
      "\n",
      "Vérification de l'alignement des entités\n",
      "\n",
      "Vérification terminée\n",
      "Création de span d'entités\n",
      "\n",
      "Vérification de l'alignement des entités\n",
      "\n",
      "Vérification terminée\n",
      "Création de span d'entités\n",
      "\n",
      "Vérification de l'alignement des entités\n",
      "\n",
      "Vérification terminée\n",
      "Création de span d'entités\n",
      "\n",
      "Vérification de l'alignement des entités\n",
      "\n",
      "Vérification terminée\n",
      "Création de span d'entités\n",
      "\n",
      "Vérification de l'alignement des entités\n",
      "\n",
      "Vérification terminée\n",
      "Création de span d'entités\n",
      "\n",
      "Vérification de l'alignement des entités\n",
      "\n",
      "Vérification terminée\n",
      "Création de span d'entités\n",
      "\n",
      "Vérification de l'alignement des entités\n",
      "\n",
      "Vérification terminée\n",
      "Création de span d'entités\n",
      "\n",
      "Vérification de l'alignement des entités\n",
      "\n",
      "Vérification terminée\n",
      "Création de span d'entités\n",
      "\n",
      "Vérification de l'alignement des entités\n",
      "\n",
      "Vérification terminée\n",
      "Création de span d'entités\n",
      "\n",
      "Vérification de l'alignement des entités\n",
      "\n",
      "Vérification terminée\n",
      "Création de span d'entités\n",
      "\n",
      "Vérification de l'alignement des entités\n",
      "\n",
      "Vérification terminée\n",
      "Création de span d'entités\n",
      "\n",
      "Vérification de l'alignement des entités\n",
      "\n",
      "Vérification terminée\n",
      "Création de span d'entités\n",
      "\n",
      "Vérification de l'alignement des entités\n",
      "\n",
      "Vérification terminée\n",
      "Création de span d'entités\n",
      "\n",
      "Vérification de l'alignement des entités\n",
      "\n",
      "Vérification terminée\n",
      "Création de span d'entités\n",
      "\n",
      "Vérification de l'alignement des entités\n",
      "\n",
      "Vérification terminée\n",
      "Création de span d'entités\n",
      "\n",
      "Vérification de l'alignement des entités\n",
      "\n",
      "Vérification terminée\n",
      "Création de span d'entités\n",
      "\n",
      "Vérification de l'alignement des entités\n",
      "\n",
      "Vérification terminée\n",
      "Création de span d'entités\n",
      "\n",
      "Vérification de l'alignement des entités\n",
      "\n",
      "Vérification terminée\n",
      "Création de span d'entités\n",
      "\n",
      "Vérification de l'alignement des entités\n",
      "\n",
      "Vérification terminée\n",
      "Création de span d'entités\n",
      "\n",
      "Vérification de l'alignement des entités\n",
      "\n",
      "Vérification terminée\n",
      "Création de span d'entités\n",
      "\n",
      "Vérification de l'alignement des entités\n",
      "\n",
      "Vérification terminée\n",
      "Création de span d'entités\n",
      "\n",
      "Vérification de l'alignement des entités\n",
      "\n",
      "Vérification terminée\n",
      "Création de span d'entités\n",
      "\n",
      "Vérification de l'alignement des entités\n",
      "\n",
      "Vérification terminée\n",
      "Création de span d'entités\n",
      "\n",
      "Vérification de l'alignement des entités\n",
      "\n",
      "Vérification terminée\n",
      "Création de span d'entités\n",
      "\n",
      "Vérification de l'alignement des entités\n",
      "\n",
      "Vérification terminée\n",
      "Création de span d'entités\n",
      "\n",
      "Vérification de l'alignement des entités\n",
      "\n",
      "Vérification terminée\n",
      "Création de span d'entités\n",
      "\n",
      "Vérification de l'alignement des entités\n",
      "\n",
      "Vérification terminée\n",
      "Création de span d'entités\n",
      "\n",
      "Vérification de l'alignement des entités\n",
      "\n",
      "Vérification terminée\n",
      "Création de span d'entités\n",
      "\n",
      "Vérification de l'alignement des entités\n",
      "\n",
      "Vérification terminée\n",
      "Création de span d'entités\n",
      "\n",
      "Vérification de l'alignement des entités\n",
      "\n",
      "Vérification terminée\n",
      "Création de span d'entités\n",
      "\n",
      "Vérification de l'alignement des entités\n",
      "\n",
      "Vérification terminée\n",
      "Création de span d'entités\n",
      "\n",
      "Vérification de l'alignement des entités\n",
      "\n",
      "Vérification terminée\n",
      "Création de span d'entités\n",
      "\n",
      "Vérification de l'alignement des entités\n",
      "\n",
      "Vérification terminée\n",
      "Création de span d'entités\n",
      "\n",
      "Vérification de l'alignement des entités\n",
      "\n",
      "Vérification terminée\n",
      "Création de span d'entités\n",
      "\n",
      "Vérification de l'alignement des entités\n",
      "\n",
      "Vérification terminée\n",
      "Création de span d'entités\n",
      "\n",
      "Vérification de l'alignement des entités\n",
      "\n",
      "Vérification terminée\n",
      "Création de span d'entités\n",
      "\n",
      "Vérification de l'alignement des entités\n",
      "\n",
      "Vérification terminée\n",
      "Création de span d'entités\n",
      "\n",
      "Vérification de l'alignement des entités\n",
      "\n",
      "Vérification terminée\n",
      "Création de span d'entités\n",
      "\n",
      "Vérification de l'alignement des entités\n",
      "\n",
      "Vérification terminée\n",
      "Création de span d'entités\n",
      "\n",
      "Vérification de l'alignement des entités\n",
      "\n",
      "Vérification terminée\n",
      "Création de span d'entités\n",
      "\n",
      "Vérification de l'alignement des entités\n",
      "\n",
      "Vérification terminée\n",
      "Création de span d'entités\n",
      "\n",
      "Dataset a été bien converti au format spaCy\n",
      "\n",
      "Sauvegarde des données au format spaCy...\n",
      "\n",
      "Sauvegardé !\n"
     ]
    }
   ],
   "source": [
    "print(\"Préparation des données pour la conversion au format spaCy...\\n\")\n",
    "db = prepare_data_for_spacy(df)\n",
    "\n",
    "print(\"Sauvegarde des données au format spaCy...\\n\")\n",
    "db.to_disk(\"../../dataset/processed/processed_training_data.spacy\")\n",
    "print(\"Sauvegardé !\")"
   ]
  },
  {
   "cell_type": "markdown",
   "id": "bd7f7a9c",
   "metadata": {},
   "source": [
    "### Entraînement du Modèle\n",
    "\n",
    "Automatise la configuration et l'entraînement du modèle spaCy pour l'extraction d'entités en français. On génère un fichier de configuration et on lance l'entraînement avec les données préparées. \n",
    "Le modèle est ensuite sauvegardé une utilisation ultérieure.\n"
   ]
  },
  {
   "cell_type": "code",
   "execution_count": 14,
   "id": "cd064e0e",
   "metadata": {},
   "outputs": [
    {
     "name": "stdout",
     "output_type": "stream",
     "text": [
      "Lancement de l'entraînement pour le modèle sm...\n",
      "Génération de la configuration...\n",
      "\n",
      "Configuration faite.\n",
      "\n",
      "Début de l'entraînement du modèle...\n",
      "\n"
     ]
    },
    {
     "name": "stderr",
     "output_type": "stream",
     "text": [
      "Entraînement du modèle:   1%|          | 1/100 [00:03<06:06,  3.71s/it]"
     ]
    },
    {
     "name": "stdout",
     "output_type": "stream",
     "text": [
      "\u001b[38;5;2m✔ Created output directory: ..\\..\\models\\saved_models\\sm\u001b[0m\n"
     ]
    },
    {
     "name": "stderr",
     "output_type": "stream",
     "text": [
      "Entraînement du modèle:   2%|▏         | 2/100 [00:04<03:27,  2.12s/it]"
     ]
    },
    {
     "name": "stdout",
     "output_type": "stream",
     "text": [
      "\u001b[38;5;4mℹ Saving to output directory: ..\\..\\models\\saved_models\\sm\u001b[0m\n"
     ]
    },
    {
     "name": "stderr",
     "output_type": "stream",
     "text": [
      "Entraînement du modèle:   3%|▎         | 3/100 [00:05<02:35,  1.61s/it]"
     ]
    },
    {
     "name": "stdout",
     "output_type": "stream",
     "text": [
      "\u001b[38;5;4mℹ Using CPU\u001b[0m\n"
     ]
    },
    {
     "name": "stderr",
     "output_type": "stream",
     "text": [
      "Entraînement du modèle:   4%|▍         | 4/100 [00:06<02:11,  1.37s/it]"
     ]
    },
    {
     "name": "stdout",
     "output_type": "stream",
     "text": [
      "\u001b[1m\n"
     ]
    },
    {
     "name": "stderr",
     "output_type": "stream",
     "text": [
      "Entraînement du modèle:   5%|▌         | 5/100 [00:07<01:57,  1.24s/it]"
     ]
    },
    {
     "name": "stdout",
     "output_type": "stream",
     "text": [
      "=========================== Initializing pipeline ===========================\u001b[0m\n"
     ]
    },
    {
     "name": "stderr",
     "output_type": "stream",
     "text": [
      "Entraînement du modèle:   6%|▌         | 6/100 [00:08<01:54,  1.22s/it]"
     ]
    },
    {
     "name": "stdout",
     "output_type": "stream",
     "text": [
      "\u001b[38;5;2m✔ Initialized pipeline\u001b[0m\n"
     ]
    },
    {
     "name": "stderr",
     "output_type": "stream",
     "text": [
      "Entraînement du modèle:   7%|▋         | 7/100 [00:09<01:46,  1.15s/it]"
     ]
    },
    {
     "name": "stdout",
     "output_type": "stream",
     "text": [
      "\u001b[1m\n"
     ]
    },
    {
     "name": "stderr",
     "output_type": "stream",
     "text": [
      "Entraînement du modèle:   8%|▊         | 8/100 [00:10<01:41,  1.10s/it]"
     ]
    },
    {
     "name": "stdout",
     "output_type": "stream",
     "text": [
      "============================= Training pipeline =============================\u001b[0m\n"
     ]
    },
    {
     "name": "stderr",
     "output_type": "stream",
     "text": [
      "Entraînement du modèle:   9%|▉         | 9/100 [00:11<01:37,  1.07s/it]"
     ]
    },
    {
     "name": "stdout",
     "output_type": "stream",
     "text": [
      "\u001b[38;5;4mℹ Pipeline: ['tok2vec', 'ner']\u001b[0m\n"
     ]
    },
    {
     "name": "stderr",
     "output_type": "stream",
     "text": [
      "Entraînement du modèle:  10%|█         | 10/100 [00:12<01:34,  1.05s/it]"
     ]
    },
    {
     "name": "stdout",
     "output_type": "stream",
     "text": [
      "\u001b[38;5;4mℹ Initial learn rate: 0.001\u001b[0m\n"
     ]
    },
    {
     "name": "stderr",
     "output_type": "stream",
     "text": [
      "Entraînement du modèle:  11%|█         | 11/100 [00:13<01:32,  1.03s/it]"
     ]
    },
    {
     "name": "stdout",
     "output_type": "stream",
     "text": [
      "E    #       LOSS TOK2VEC  LOSS NER  ENTS_F  ENTS_P  ENTS_R  SCORE\n"
     ]
    },
    {
     "name": "stderr",
     "output_type": "stream",
     "text": [
      "Entraînement du modèle:  12%|█▏        | 12/100 [00:14<01:30,  1.02s/it]"
     ]
    },
    {
     "name": "stdout",
     "output_type": "stream",
     "text": [
      "---  ------  ------------  --------  ------  ------  ------  ------\n"
     ]
    },
    {
     "name": "stderr",
     "output_type": "stream",
     "text": [
      "Entraînement du modèle:  13%|█▎        | 13/100 [00:15<01:28,  1.02s/it]"
     ]
    },
    {
     "name": "stdout",
     "output_type": "stream",
     "text": [
      "0       0          0.00     50.79    0.00    0.00    0.00    0.00\n"
     ]
    },
    {
     "name": "stderr",
     "output_type": "stream",
     "text": [
      "Entraînement du modèle:  14%|█▍        | 14/100 [00:20<03:10,  2.21s/it]"
     ]
    },
    {
     "name": "stdout",
     "output_type": "stream",
     "text": [
      "8     200         54.61   1379.36   90.16   92.55   87.88    0.90\n"
     ]
    },
    {
     "name": "stderr",
     "output_type": "stream",
     "text": [
      "Entraînement du modèle:  15%|█▌        | 15/100 [00:34<08:03,  5.69s/it]"
     ]
    },
    {
     "name": "stdout",
     "output_type": "stream",
     "text": [
      "18     400        155.20    213.92   96.97   96.97   96.97    0.97\n"
     ]
    },
    {
     "name": "stderr",
     "output_type": "stream",
     "text": [
      "Entraînement du modèle:  16%|█▌        | 16/100 [00:48<11:37,  8.30s/it]"
     ]
    },
    {
     "name": "stdout",
     "output_type": "stream",
     "text": [
      "31     600        241.93     75.22  100.00  100.00  100.00    1.00\n"
     ]
    },
    {
     "name": "stderr",
     "output_type": "stream",
     "text": [
      "Entraînement du modèle:  17%|█▋        | 17/100 [01:05<14:56, 10.80s/it]"
     ]
    },
    {
     "name": "stdout",
     "output_type": "stream",
     "text": [
      "46     800         18.39      6.11  100.00  100.00  100.00    1.00\n"
     ]
    },
    {
     "name": "stderr",
     "output_type": "stream",
     "text": [
      "Entraînement du modèle:  18%|█▊        | 18/100 [01:22<17:08, 12.54s/it]"
     ]
    },
    {
     "name": "stdout",
     "output_type": "stream",
     "text": [
      "65    1000         32.83      4.98  100.00  100.00  100.00    1.00\n"
     ]
    },
    {
     "name": "stderr",
     "output_type": "stream",
     "text": [
      "Entraînement du modèle:  19%|█▉        | 19/100 [01:41<19:48, 14.67s/it]"
     ]
    },
    {
     "name": "stdout",
     "output_type": "stream",
     "text": [
      "88    1200        119.71     33.20   98.98  100.00   97.98    0.99\n"
     ]
    },
    {
     "name": "stderr",
     "output_type": "stream",
     "text": [
      "Entraînement du modèle:  20%|██        | 20/100 [02:04<22:34, 16.94s/it]"
     ]
    },
    {
     "name": "stdout",
     "output_type": "stream",
     "text": [
      "116    1400        199.03     49.47  100.00  100.00  100.00    1.00\n"
     ]
    },
    {
     "name": "stderr",
     "output_type": "stream",
     "text": [
      "Entraînement du modèle:  21%|██        | 21/100 [02:27<24:54, 18.91s/it]"
     ]
    },
    {
     "name": "stdout",
     "output_type": "stream",
     "text": [
      "150    1600         74.56     12.96  100.00  100.00  100.00    1.00\n"
     ]
    },
    {
     "name": "stderr",
     "output_type": "stream",
     "text": [
      "Entraînement du modèle:  22%|██▏       | 22/100 [02:57<29:01, 22.33s/it]"
     ]
    },
    {
     "name": "stdout",
     "output_type": "stream",
     "text": [
      "190    1800         73.06     14.03  100.00  100.00  100.00    1.00\n"
     ]
    },
    {
     "name": "stderr",
     "output_type": "stream",
     "text": [
      "Entraînement du modèle:  23%|██▎       | 23/100 [03:27<31:32, 24.58s/it]"
     ]
    },
    {
     "name": "stdout",
     "output_type": "stream",
     "text": [
      "240    2000         29.87      3.67  100.00  100.00  100.00    1.00\n"
     ]
    },
    {
     "name": "stderr",
     "output_type": "stream",
     "text": [
      "Entraînement du modèle:  24%|██▍       | 24/100 [04:07<36:53, 29.12s/it]"
     ]
    },
    {
     "name": "stdout",
     "output_type": "stream",
     "text": [
      "302    2200        206.65     20.38  100.00  100.00  100.00    1.00\n"
     ]
    },
    {
     "name": "stderr",
     "output_type": "stream",
     "text": [
      "Entraînement du modèle:  25%|██▌       | 25/100 [04:08<25:51, 20.68s/it]"
     ]
    },
    {
     "name": "stdout",
     "output_type": "stream",
     "text": [
      "\u001b[38;5;2m✔ Saved pipeline to output directory\u001b[0m\n"
     ]
    },
    {
     "name": "stderr",
     "output_type": "stream",
     "text": [
      "Entraînement du modèle:  26%|██▌       | 26/100 [04:09<18:13, 14.78s/it]"
     ]
    },
    {
     "name": "stdout",
     "output_type": "stream",
     "text": [
      "..\\..\\models\\saved_models\\sm\\model-last\n"
     ]
    },
    {
     "name": "stderr",
     "output_type": "stream",
     "text": [
      "Entraînement du modèle:  26%|██▌       | 26/100 [04:10<11:52,  9.63s/it]\n"
     ]
    },
    {
     "name": "stdout",
     "output_type": "stream",
     "text": [
      "Entraînement du modèle sm terminé.\n",
      "\n",
      "Lancement de l'entraînement pour le modèle md...\n",
      "Génération de la configuration...\n",
      "\n",
      "Configuration faite.\n",
      "\n",
      "Début de l'entraînement du modèle...\n",
      "\n"
     ]
    },
    {
     "name": "stderr",
     "output_type": "stream",
     "text": [
      "Entraînement du modèle:   1%|          | 1/100 [00:03<06:12,  3.76s/it]"
     ]
    },
    {
     "name": "stdout",
     "output_type": "stream",
     "text": [
      "\u001b[38;5;2m✔ Created output directory: ..\\..\\models\\saved_models\\md\u001b[0m\n"
     ]
    },
    {
     "name": "stderr",
     "output_type": "stream",
     "text": [
      "Entraînement du modèle:   2%|▏         | 2/100 [00:04<03:29,  2.14s/it]"
     ]
    },
    {
     "name": "stdout",
     "output_type": "stream",
     "text": [
      "\u001b[38;5;4mℹ Saving to output directory: ..\\..\\models\\saved_models\\md\u001b[0m\n"
     ]
    },
    {
     "name": "stderr",
     "output_type": "stream",
     "text": [
      "Entraînement du modèle:   3%|▎         | 3/100 [00:05<02:37,  1.62s/it]"
     ]
    },
    {
     "name": "stdout",
     "output_type": "stream",
     "text": [
      "\u001b[38;5;4mℹ Using CPU\u001b[0m\n"
     ]
    },
    {
     "name": "stderr",
     "output_type": "stream",
     "text": [
      "Entraînement du modèle:   4%|▍         | 4/100 [00:06<02:12,  1.38s/it]"
     ]
    },
    {
     "name": "stdout",
     "output_type": "stream",
     "text": [
      "\u001b[1m\n"
     ]
    },
    {
     "name": "stderr",
     "output_type": "stream",
     "text": [
      "Entraînement du modèle:   5%|▌         | 5/100 [00:07<01:57,  1.24s/it]"
     ]
    },
    {
     "name": "stdout",
     "output_type": "stream",
     "text": [
      "=========================== Initializing pipeline ===========================\u001b[0m\n"
     ]
    },
    {
     "name": "stderr",
     "output_type": "stream",
     "text": [
      "Entraînement du modèle:   6%|▌         | 6/100 [00:09<02:18,  1.47s/it]"
     ]
    },
    {
     "name": "stdout",
     "output_type": "stream",
     "text": [
      "\u001b[38;5;2m✔ Initialized pipeline\u001b[0m\n"
     ]
    },
    {
     "name": "stderr",
     "output_type": "stream",
     "text": [
      "Entraînement du modèle:   7%|▋         | 7/100 [00:10<02:02,  1.32s/it]"
     ]
    },
    {
     "name": "stdout",
     "output_type": "stream",
     "text": [
      "\u001b[1m\n"
     ]
    },
    {
     "name": "stderr",
     "output_type": "stream",
     "text": [
      "Entraînement du modèle:   8%|▊         | 8/100 [00:11<01:51,  1.22s/it]"
     ]
    },
    {
     "name": "stdout",
     "output_type": "stream",
     "text": [
      "============================= Training pipeline =============================\u001b[0m\n"
     ]
    },
    {
     "name": "stderr",
     "output_type": "stream",
     "text": [
      "Entraînement du modèle:   9%|▉         | 9/100 [00:12<01:44,  1.15s/it]"
     ]
    },
    {
     "name": "stdout",
     "output_type": "stream",
     "text": [
      "\u001b[38;5;4mℹ Pipeline: ['tok2vec', 'ner']\u001b[0m\n"
     ]
    },
    {
     "name": "stderr",
     "output_type": "stream",
     "text": [
      "Entraînement du modèle:  10%|█         | 10/100 [00:13<01:39,  1.10s/it]"
     ]
    },
    {
     "name": "stdout",
     "output_type": "stream",
     "text": [
      "\u001b[38;5;4mℹ Initial learn rate: 0.001\u001b[0m\n"
     ]
    },
    {
     "name": "stderr",
     "output_type": "stream",
     "text": [
      "Entraînement du modèle:  11%|█         | 11/100 [00:14<01:35,  1.07s/it]"
     ]
    },
    {
     "name": "stdout",
     "output_type": "stream",
     "text": [
      "E    #       LOSS TOK2VEC  LOSS NER  ENTS_F  ENTS_P  ENTS_R  SCORE\n"
     ]
    },
    {
     "name": "stderr",
     "output_type": "stream",
     "text": [
      "Entraînement du modèle:  12%|█▏        | 12/100 [00:15<01:32,  1.05s/it]"
     ]
    },
    {
     "name": "stdout",
     "output_type": "stream",
     "text": [
      "---  ------  ------------  --------  ------  ------  ------  ------\n"
     ]
    },
    {
     "name": "stderr",
     "output_type": "stream",
     "text": [
      "Entraînement du modèle:  13%|█▎        | 13/100 [00:16<01:30,  1.04s/it]"
     ]
    },
    {
     "name": "stdout",
     "output_type": "stream",
     "text": [
      "0       0          0.00     50.79    0.00    0.00    0.00    0.00\n"
     ]
    },
    {
     "name": "stderr",
     "output_type": "stream",
     "text": [
      "Entraînement du modèle:  14%|█▍        | 14/100 [00:22<03:43,  2.60s/it]"
     ]
    },
    {
     "name": "stdout",
     "output_type": "stream",
     "text": [
      "8     200         54.61   1379.36   90.16   92.55   87.88    0.90\n"
     ]
    },
    {
     "name": "stderr",
     "output_type": "stream",
     "text": [
      "Entraînement du modèle:  15%|█▌        | 15/100 [00:35<08:06,  5.73s/it]"
     ]
    },
    {
     "name": "stdout",
     "output_type": "stream",
     "text": [
      "18     400        155.20    213.92   96.97   96.97   96.97    0.97\n"
     ]
    },
    {
     "name": "stderr",
     "output_type": "stream",
     "text": [
      "Entraînement du modèle:  16%|█▌        | 16/100 [00:49<11:26,  8.17s/it]"
     ]
    },
    {
     "name": "stdout",
     "output_type": "stream",
     "text": [
      "31     600        241.93     75.22  100.00  100.00  100.00    1.00\n"
     ]
    },
    {
     "name": "stderr",
     "output_type": "stream",
     "text": [
      "Entraînement du modèle:  17%|█▋        | 17/100 [01:04<13:58, 10.10s/it]"
     ]
    },
    {
     "name": "stdout",
     "output_type": "stream",
     "text": [
      "46     800         18.39      6.11  100.00  100.00  100.00    1.00\n"
     ]
    },
    {
     "name": "stderr",
     "output_type": "stream",
     "text": [
      "Entraînement du modèle:  18%|█▊        | 18/100 [01:19<15:55, 11.66s/it]"
     ]
    },
    {
     "name": "stdout",
     "output_type": "stream",
     "text": [
      "65    1000         32.83      4.98  100.00  100.00  100.00    1.00\n"
     ]
    },
    {
     "name": "stderr",
     "output_type": "stream",
     "text": [
      "Entraînement du modèle:  19%|█▉        | 19/100 [01:36<17:57, 13.30s/it]"
     ]
    },
    {
     "name": "stdout",
     "output_type": "stream",
     "text": [
      "88    1200        119.71     33.20   98.98  100.00   97.98    0.99\n"
     ]
    },
    {
     "name": "stderr",
     "output_type": "stream",
     "text": [
      "Entraînement du modèle:  20%|██        | 20/100 [01:55<19:44, 14.81s/it]"
     ]
    },
    {
     "name": "stdout",
     "output_type": "stream",
     "text": [
      "116    1400        199.03     49.47  100.00  100.00  100.00    1.00\n"
     ]
    },
    {
     "name": "stderr",
     "output_type": "stream",
     "text": [
      "Entraînement du modèle:  21%|██        | 21/100 [02:16<21:58, 16.69s/it]"
     ]
    },
    {
     "name": "stdout",
     "output_type": "stream",
     "text": [
      "150    1600         74.56     12.96  100.00  100.00  100.00    1.00\n"
     ]
    },
    {
     "name": "stderr",
     "output_type": "stream",
     "text": [
      "Entraînement du modèle:  22%|██▏       | 22/100 [02:40<24:40, 18.97s/it]"
     ]
    },
    {
     "name": "stdout",
     "output_type": "stream",
     "text": [
      "190    1800         73.06     14.03  100.00  100.00  100.00    1.00\n"
     ]
    },
    {
     "name": "stderr",
     "output_type": "stream",
     "text": [
      "Entraînement du modèle:  23%|██▎       | 23/100 [03:10<28:26, 22.17s/it]"
     ]
    },
    {
     "name": "stdout",
     "output_type": "stream",
     "text": [
      "240    2000         29.87      3.67  100.00  100.00  100.00    1.00\n"
     ]
    },
    {
     "name": "stderr",
     "output_type": "stream",
     "text": [
      "Entraînement du modèle:  24%|██▍       | 24/100 [03:51<35:22, 27.93s/it]"
     ]
    },
    {
     "name": "stdout",
     "output_type": "stream",
     "text": [
      "302    2200        206.65     20.38  100.00  100.00  100.00    1.00\n"
     ]
    },
    {
     "name": "stderr",
     "output_type": "stream",
     "text": [
      "Entraînement du modèle:  25%|██▌       | 25/100 [03:52<24:48, 19.85s/it]"
     ]
    },
    {
     "name": "stdout",
     "output_type": "stream",
     "text": [
      "\u001b[38;5;2m✔ Saved pipeline to output directory\u001b[0m\n"
     ]
    },
    {
     "name": "stderr",
     "output_type": "stream",
     "text": [
      "Entraînement du modèle:  26%|██▌       | 26/100 [03:53<17:30, 14.19s/it]"
     ]
    },
    {
     "name": "stdout",
     "output_type": "stream",
     "text": [
      "..\\..\\models\\saved_models\\md\\model-last\n"
     ]
    },
    {
     "name": "stderr",
     "output_type": "stream",
     "text": [
      "Entraînement du modèle:  26%|██▌       | 26/100 [03:54<11:07,  9.02s/it]\n"
     ]
    },
    {
     "name": "stdout",
     "output_type": "stream",
     "text": [
      "Entraînement du modèle md terminé.\n",
      "\n",
      "Lancement de l'entraînement pour le modèle lg...\n",
      "Génération de la configuration...\n",
      "\n",
      "Configuration faite.\n",
      "\n",
      "Début de l'entraînement du modèle...\n",
      "\n"
     ]
    },
    {
     "name": "stderr",
     "output_type": "stream",
     "text": [
      "Entraînement du modèle:   1%|          | 1/100 [00:05<08:45,  5.31s/it]"
     ]
    },
    {
     "name": "stdout",
     "output_type": "stream",
     "text": [
      "\u001b[38;5;2m✔ Created output directory: ..\\..\\models\\saved_models\\lg\u001b[0m\n"
     ]
    },
    {
     "name": "stderr",
     "output_type": "stream",
     "text": [
      "Entraînement du modèle:   2%|▏         | 2/100 [00:06<04:32,  2.78s/it]"
     ]
    },
    {
     "name": "stdout",
     "output_type": "stream",
     "text": [
      "\u001b[38;5;4mℹ Saving to output directory: ..\\..\\models\\saved_models\\lg\u001b[0m\n"
     ]
    },
    {
     "name": "stderr",
     "output_type": "stream",
     "text": [
      "Entraînement du modèle:   3%|▎         | 3/100 [00:07<03:10,  1.97s/it]"
     ]
    },
    {
     "name": "stdout",
     "output_type": "stream",
     "text": [
      "\u001b[38;5;4mℹ Using CPU\u001b[0m\n"
     ]
    },
    {
     "name": "stderr",
     "output_type": "stream",
     "text": [
      "Entraînement du modèle:   4%|▍         | 4/100 [00:08<02:32,  1.59s/it]"
     ]
    },
    {
     "name": "stdout",
     "output_type": "stream",
     "text": [
      "\u001b[1m\n"
     ]
    },
    {
     "name": "stderr",
     "output_type": "stream",
     "text": [
      "Entraînement du modèle:   5%|▌         | 5/100 [00:09<02:10,  1.38s/it]"
     ]
    },
    {
     "name": "stdout",
     "output_type": "stream",
     "text": [
      "=========================== Initializing pipeline ===========================\u001b[0m\n"
     ]
    },
    {
     "name": "stderr",
     "output_type": "stream",
     "text": [
      "Entraînement du modèle:   6%|▌         | 6/100 [00:14<04:05,  2.61s/it]"
     ]
    },
    {
     "name": "stdout",
     "output_type": "stream",
     "text": [
      "\u001b[38;5;2m✔ Initialized pipeline\u001b[0m\n"
     ]
    },
    {
     "name": "stderr",
     "output_type": "stream",
     "text": [
      "Entraînement du modèle:   7%|▋         | 7/100 [00:15<03:13,  2.09s/it]"
     ]
    },
    {
     "name": "stdout",
     "output_type": "stream",
     "text": [
      "\u001b[1m\n"
     ]
    },
    {
     "name": "stderr",
     "output_type": "stream",
     "text": [
      "Entraînement du modèle:   8%|▊         | 8/100 [00:16<02:40,  1.74s/it]"
     ]
    },
    {
     "name": "stdout",
     "output_type": "stream",
     "text": [
      "============================= Training pipeline =============================\u001b[0m\n"
     ]
    },
    {
     "name": "stderr",
     "output_type": "stream",
     "text": [
      "Entraînement du modèle:   9%|▉         | 9/100 [00:17<02:17,  1.51s/it]"
     ]
    },
    {
     "name": "stdout",
     "output_type": "stream",
     "text": [
      "\u001b[38;5;4mℹ Pipeline: ['tok2vec', 'ner']\u001b[0m\n"
     ]
    },
    {
     "name": "stderr",
     "output_type": "stream",
     "text": [
      "Entraînement du modèle:  10%|█         | 10/100 [00:18<02:01,  1.35s/it]"
     ]
    },
    {
     "name": "stdout",
     "output_type": "stream",
     "text": [
      "\u001b[38;5;4mℹ Initial learn rate: 0.001\u001b[0m\n"
     ]
    },
    {
     "name": "stderr",
     "output_type": "stream",
     "text": [
      "Entraînement du modèle:  11%|█         | 11/100 [00:19<01:50,  1.25s/it]"
     ]
    },
    {
     "name": "stdout",
     "output_type": "stream",
     "text": [
      "E    #       LOSS TOK2VEC  LOSS NER  ENTS_F  ENTS_P  ENTS_R  SCORE\n"
     ]
    },
    {
     "name": "stderr",
     "output_type": "stream",
     "text": [
      "Entraînement du modèle:  12%|█▏        | 12/100 [00:20<01:43,  1.17s/it]"
     ]
    },
    {
     "name": "stdout",
     "output_type": "stream",
     "text": [
      "---  ------  ------------  --------  ------  ------  ------  ------\n"
     ]
    },
    {
     "name": "stderr",
     "output_type": "stream",
     "text": [
      "Entraînement du modèle:  13%|█▎        | 13/100 [00:21<01:37,  1.12s/it]"
     ]
    },
    {
     "name": "stdout",
     "output_type": "stream",
     "text": [
      "0       0          0.00     50.79    0.00    0.00    0.00    0.00\n"
     ]
    },
    {
     "name": "stderr",
     "output_type": "stream",
     "text": [
      "Entraînement du modèle:  14%|█▍        | 14/100 [00:37<08:13,  5.74s/it]"
     ]
    },
    {
     "name": "stdout",
     "output_type": "stream",
     "text": [
      "8     200         54.61   1379.36   90.16   92.55   87.88    0.90\n"
     ]
    },
    {
     "name": "stderr",
     "output_type": "stream",
     "text": [
      "Entraînement du modèle:  15%|█▌        | 15/100 [00:58<14:43, 10.39s/it]"
     ]
    },
    {
     "name": "stdout",
     "output_type": "stream",
     "text": [
      "18     400        155.20    213.92   96.97   96.97   96.97    0.97\n"
     ]
    },
    {
     "name": "stderr",
     "output_type": "stream",
     "text": [
      "Entraînement du modèle:  16%|█▌        | 16/100 [01:23<20:36, 14.72s/it]"
     ]
    },
    {
     "name": "stdout",
     "output_type": "stream",
     "text": [
      "31     600        241.93     75.22  100.00  100.00  100.00    1.00\n"
     ]
    },
    {
     "name": "stderr",
     "output_type": "stream",
     "text": [
      "Entraînement du modèle:  17%|█▋        | 17/100 [01:51<25:49, 18.67s/it]"
     ]
    },
    {
     "name": "stdout",
     "output_type": "stream",
     "text": [
      "46     800         18.39      6.11  100.00  100.00  100.00    1.00\n"
     ]
    },
    {
     "name": "stderr",
     "output_type": "stream",
     "text": [
      "Entraînement du modèle:  18%|█▊        | 18/100 [02:11<25:51, 18.92s/it]"
     ]
    },
    {
     "name": "stdout",
     "output_type": "stream",
     "text": [
      "65    1000         32.83      4.98  100.00  100.00  100.00    1.00\n"
     ]
    },
    {
     "name": "stderr",
     "output_type": "stream",
     "text": [
      "Entraînement du modèle:  19%|█▉        | 19/100 [02:33<26:57, 19.96s/it]"
     ]
    },
    {
     "name": "stdout",
     "output_type": "stream",
     "text": [
      "88    1200        119.71     33.20   98.98  100.00   97.98    0.99\n"
     ]
    },
    {
     "name": "stderr",
     "output_type": "stream",
     "text": [
      "Entraînement du modèle:  20%|██        | 20/100 [02:57<28:07, 21.10s/it]"
     ]
    },
    {
     "name": "stdout",
     "output_type": "stream",
     "text": [
      "116    1400        199.03     49.47  100.00  100.00  100.00    1.00\n"
     ]
    },
    {
     "name": "stderr",
     "output_type": "stream",
     "text": [
      "Entraînement du modèle:  21%|██        | 21/100 [03:26<30:49, 23.41s/it]"
     ]
    },
    {
     "name": "stdout",
     "output_type": "stream",
     "text": [
      "150    1600         74.56     12.96  100.00  100.00  100.00    1.00\n"
     ]
    },
    {
     "name": "stderr",
     "output_type": "stream",
     "text": [
      "Entraînement du modèle:  22%|██▏       | 22/100 [04:07<37:23, 28.76s/it]"
     ]
    },
    {
     "name": "stdout",
     "output_type": "stream",
     "text": [
      "190    1800         73.06     14.03  100.00  100.00  100.00    1.00\n"
     ]
    },
    {
     "name": "stderr",
     "output_type": "stream",
     "text": [
      "Entraînement du modèle:  23%|██▎       | 23/100 [04:45<40:37, 31.66s/it]"
     ]
    },
    {
     "name": "stdout",
     "output_type": "stream",
     "text": [
      "240    2000         29.87      3.67  100.00  100.00  100.00    1.00\n"
     ]
    },
    {
     "name": "stderr",
     "output_type": "stream",
     "text": [
      "Entraînement du modèle:  24%|██▍       | 24/100 [05:32<45:55, 36.25s/it]"
     ]
    },
    {
     "name": "stdout",
     "output_type": "stream",
     "text": [
      "302    2200        206.65     20.38  100.00  100.00  100.00    1.00\n"
     ]
    },
    {
     "name": "stderr",
     "output_type": "stream",
     "text": [
      "Entraînement du modèle:  25%|██▌       | 25/100 [05:33<32:05, 25.68s/it]"
     ]
    },
    {
     "name": "stdout",
     "output_type": "stream",
     "text": [
      "\u001b[38;5;2m✔ Saved pipeline to output directory\u001b[0m\n"
     ]
    },
    {
     "name": "stderr",
     "output_type": "stream",
     "text": [
      "Entraînement du modèle:  26%|██▌       | 26/100 [05:34<22:32, 18.27s/it]"
     ]
    },
    {
     "name": "stdout",
     "output_type": "stream",
     "text": [
      "..\\..\\models\\saved_models\\lg\\model-last\n"
     ]
    },
    {
     "name": "stderr",
     "output_type": "stream",
     "text": [
      "Entraînement du modèle:  26%|██▌       | 26/100 [05:35<15:55, 12.91s/it]"
     ]
    },
    {
     "name": "stdout",
     "output_type": "stream",
     "text": [
      "Entraînement du modèle lg terminé.\n",
      "\n"
     ]
    },
    {
     "name": "stderr",
     "output_type": "stream",
     "text": [
      "\n"
     ]
    }
   ],
   "source": [
    "# Fonction pour entraîner le modèle\n",
    "def train_model(config_path, output_path, training_data_path):\n",
    "    print(\"Génération de la configuration...\\n\")\n",
    "    subprocess.run(f\"python -m spacy init config {config_path} --lang fr --pipeline ner --optimize efficiency --force\", shell=True)\n",
    "    print(\"Configuration faite.\\n\")\n",
    "\n",
    "    print(\"Début de l'entraînement du modèle...\\n\")\n",
    "    \n",
    "    # Lancer le processus d'entraînement\n",
    "    process = subprocess.Popen(f\"python -m spacy train {config_path} --output {output_path} --paths.train {training_data_path} --paths.dev {training_data_path}\", shell=True, stdout=subprocess.PIPE, stderr=subprocess.PIPE)\n",
    "\n",
    "    with tqdm(total=100, desc=\"Entraînement du modèle\") as pbar:\n",
    "        while True:\n",
    "            output = process.stdout.readline()\n",
    "            if output == b\"\" and process.poll() is not None:\n",
    "                break\n",
    "            if output:\n",
    "                print(output.decode().strip()) \n",
    "            pbar.update(1)\n",
    "            time.sleep(1)\n",
    "\n",
    "# Entraîner chaque modèle pré-entraîné\n",
    "for model_key in models.keys():\n",
    "    print(f\"Lancement de l'entraînement pour le modèle {model_key}...\")\n",
    "    train_model('./configuration.cfg', f'../../models/saved_models/{model_key}', '../../dataset/processed/processed_training_data.spacy')\n",
    "    print(f\"Entraînement du modèle {model_key} terminé.\\n\")"
   ]
  },
  {
   "cell_type": "markdown",
   "id": "1ae99983",
   "metadata": {},
   "source": [
    "# Test du Modèle d'Extraction d'Entités\n",
    "\n",
    "Charge le modèle NER et teste son efficacité sur plusieurs textes relatifs aux voyages. \n",
    "On utilise `spaCy` pour afficher les entités détectées (départs et destinations)."
   ]
  },
  {
   "cell_type": "code",
   "execution_count": 22,
   "id": "35f71523",
   "metadata": {},
   "outputs": [
    {
     "name": "stdout",
     "output_type": "stream",
     "text": [
      "Test du modèle sm...\n",
      "Chargement et test du modèle\n"
     ]
    },
    {
     "data": {
      "text/html": [
       "<span class=\"tex2jax_ignore\"><div class=\"entities\" style=\"line-height: 2.5; direction: ltr\">Je souhaite me rendre à Lille en partant d'\n",
       "<mark class=\"entity\" style=\"background: #1f77b4; padding: 0.45em 0.6em; margin: 0 0.25em; line-height: 1; border-radius: 0.35em;\">\n",
       "    Aubervilliers\n",
       "    <span style=\"font-size: 0.8em; font-weight: bold; line-height: 1; border-radius: 0.35em; vertical-align: middle; margin-left: 0.5rem\">DEPARTURE</span>\n",
       "</mark>\n",
       " pour assister à une conférence.<br>        Je compte me rendre à Bordeaux depuis Marseille pour rendre visite à ma soeur Paris\n",
       "<mark class=\"entity\" style=\"background: #2ca02c; padding: 0.45em 0.6em; margin: 0 0.25em; line-height: 1; border-radius: 0.35em;\">\n",
       "    .\n",
       "    <span style=\"font-size: 0.8em; font-weight: bold; line-height: 1; border-radius: 0.35em; vertical-align: middle; margin-left: 0.5rem\">DESTINATION</span>\n",
       "</mark>\n",
       "<br>        Je dois regarder les trains Toulouse \n",
       "<mark class=\"entity\" style=\"background: #1f77b4; padding: 0.45em 0.6em; margin: 0 0.25em; line-height: 1; border-radius: 0.35em;\">\n",
       "    -\n",
       "    <span style=\"font-size: 0.8em; font-weight: bold; line-height: 1; border-radius: 0.35em; vertical-align: middle; margin-left: 0.5rem\">DEPARTURE</span>\n",
       "</mark>\n",
       " \n",
       "<mark class=\"entity\" style=\"background: #2ca02c; padding: 0.45em 0.6em; margin: 0 0.25em; line-height: 1; border-radius: 0.35em;\">\n",
       "    Brest\n",
       "    <span style=\"font-size: 0.8em; font-weight: bold; line-height: 1; border-radius: 0.35em; vertical-align: middle; margin-left: 0.5rem\">DESTINATION</span>\n",
       "</mark>\n",
       " pour aller voir mon ami Albert.<br>        Je dois planifier un voyage \n",
       "<mark class=\"entity\" style=\"background: #1f77b4; padding: 0.45em 0.6em; margin: 0 0.25em; line-height: 1; border-radius: 0.35em;\">\n",
       "    Nice\n",
       "    <span style=\"font-size: 0.8em; font-weight: bold; line-height: 1; border-radius: 0.35em; vertical-align: middle; margin-left: 0.5rem\">DEPARTURE</span>\n",
       "</mark>\n",
       " \n",
       "<mark class=\"entity\" style=\"background: #2ca02c; padding: 0.45em 0.6em; margin: 0 0.25em; line-height: 1; border-radius: 0.35em;\">\n",
       "    Toulouse\n",
       "    <span style=\"font-size: 0.8em; font-weight: bold; line-height: 1; border-radius: 0.35em; vertical-align: middle; margin-left: 0.5rem\">DESTINATION</span>\n",
       "</mark>\n",
       " pour les prochaines vacances.<br>        Une réunion de travail m'oblige à faire \n",
       "<mark class=\"entity\" style=\"background: #1f77b4; padding: 0.45em 0.6em; margin: 0 0.25em; line-height: 1; border-radius: 0.35em;\">\n",
       "    Paris\n",
       "    <span style=\"font-size: 0.8em; font-weight: bold; line-height: 1; border-radius: 0.35em; vertical-align: middle; margin-left: 0.5rem\">DEPARTURE</span>\n",
       "</mark>\n",
       " - \n",
       "<mark class=\"entity\" style=\"background: #2ca02c; padding: 0.45em 0.6em; margin: 0 0.25em; line-height: 1; border-radius: 0.35em;\">\n",
       "    Clermont\n",
       "    <span style=\"font-size: 0.8em; font-weight: bold; line-height: 1; border-radius: 0.35em; vertical-align: middle; margin-left: 0.5rem\">DESTINATION</span>\n",
       "</mark>\n",
       "-Ferrand la semaine prochaine.</div></span>"
      ],
      "text/plain": [
       "<IPython.core.display.HTML object>"
      ]
     },
     "metadata": {},
     "output_type": "display_data"
    },
    {
     "name": "stdout",
     "output_type": "stream",
     "text": [
      "Chargement et test du modèle\n"
     ]
    },
    {
     "data": {
      "text/html": [
       "<span class=\"tex2jax_ignore\"><div class=\"entities\" style=\"line-height: 2.5; direction: ltr\">Je souhaite me rendre à Lille en partant d'\n",
       "<mark class=\"entity\" style=\"background: #1f77b4; padding: 0.45em 0.6em; margin: 0 0.25em; line-height: 1; border-radius: 0.35em;\">\n",
       "    Aubervilliers\n",
       "    <span style=\"font-size: 0.8em; font-weight: bold; line-height: 1; border-radius: 0.35em; vertical-align: middle; margin-left: 0.5rem\">DEPARTURE</span>\n",
       "</mark>\n",
       " pour assister à une conférence avec une escale à Nice\n",
       "<mark class=\"entity\" style=\"background: #ddd; padding: 0.45em 0.6em; margin: 0 0.25em; line-height: 1; border-radius: 0.35em;\">\n",
       "    .\n",
       "    <span style=\"font-size: 0.8em; font-weight: bold; line-height: 1; border-radius: 0.35em; vertical-align: middle; margin-left: 0.5rem\">ESCALE</span>\n",
       "</mark>\n",
       "<br>        Je compte me rendre à Bordeaux depuis Marseille en m'arrêtant à Toulouse pour rendre visite à ma soeur Paris\n",
       "<mark class=\"entity\" style=\"background: #2ca02c; padding: 0.45em 0.6em; margin: 0 0.25em; line-height: 1; border-radius: 0.35em;\">\n",
       "    .\n",
       "    <span style=\"font-size: 0.8em; font-weight: bold; line-height: 1; border-radius: 0.35em; vertical-align: middle; margin-left: 0.5rem\">DESTINATION</span>\n",
       "</mark>\n",
       "<br>        Je dois regarder les trains Toulouse \n",
       "<mark class=\"entity\" style=\"background: #1f77b4; padding: 0.45em 0.6em; margin: 0 0.25em; line-height: 1; border-radius: 0.35em;\">\n",
       "    -\n",
       "    <span style=\"font-size: 0.8em; font-weight: bold; line-height: 1; border-radius: 0.35em; vertical-align: middle; margin-left: 0.5rem\">DEPARTURE</span>\n",
       "</mark>\n",
       " \n",
       "<mark class=\"entity\" style=\"background: #2ca02c; padding: 0.45em 0.6em; margin: 0 0.25em; line-height: 1; border-radius: 0.35em;\">\n",
       "    Brest\n",
       "    <span style=\"font-size: 0.8em; font-weight: bold; line-height: 1; border-radius: 0.35em; vertical-align: middle; margin-left: 0.5rem\">DESTINATION</span>\n",
       "</mark>\n",
       " pour aller voir mon ami Albert en faisant une escale à Tours\n",
       "<mark class=\"entity\" style=\"background: #ddd; padding: 0.45em 0.6em; margin: 0 0.25em; line-height: 1; border-radius: 0.35em;\">\n",
       "    .\n",
       "    <span style=\"font-size: 0.8em; font-weight: bold; line-height: 1; border-radius: 0.35em; vertical-align: middle; margin-left: 0.5rem\">ESCALE</span>\n",
       "</mark>\n",
       "<br>        Je dois planifier un voyage \n",
       "<mark class=\"entity\" style=\"background: #1f77b4; padding: 0.45em 0.6em; margin: 0 0.25em; line-height: 1; border-radius: 0.35em;\">\n",
       "    Nice\n",
       "    <span style=\"font-size: 0.8em; font-weight: bold; line-height: 1; border-radius: 0.35em; vertical-align: middle; margin-left: 0.5rem\">DEPARTURE</span>\n",
       "</mark>\n",
       " \n",
       "<mark class=\"entity\" style=\"background: #2ca02c; padding: 0.45em 0.6em; margin: 0 0.25em; line-height: 1; border-radius: 0.35em;\">\n",
       "    Toulouse\n",
       "    <span style=\"font-size: 0.8em; font-weight: bold; line-height: 1; border-radius: 0.35em; vertical-align: middle; margin-left: 0.5rem\">DESTINATION</span>\n",
       "</mark>\n",
       " en passant par Aubervilliers pour les prochaines vacances.<br>        Une réunion de travail m'oblige à faire \n",
       "<mark class=\"entity\" style=\"background: #1f77b4; padding: 0.45em 0.6em; margin: 0 0.25em; line-height: 1; border-radius: 0.35em;\">\n",
       "    Paris\n",
       "    <span style=\"font-size: 0.8em; font-weight: bold; line-height: 1; border-radius: 0.35em; vertical-align: middle; margin-left: 0.5rem\">DEPARTURE</span>\n",
       "</mark>\n",
       " - \n",
       "<mark class=\"entity\" style=\"background: #2ca02c; padding: 0.45em 0.6em; margin: 0 0.25em; line-height: 1; border-radius: 0.35em;\">\n",
       "    Clermont\n",
       "    <span style=\"font-size: 0.8em; font-weight: bold; line-height: 1; border-radius: 0.35em; vertical-align: middle; margin-left: 0.5rem\">DESTINATION</span>\n",
       "</mark>\n",
       "\n",
       "<mark class=\"entity\" style=\"background: #2ca02c; padding: 0.45em 0.6em; margin: 0 0.25em; line-height: 1; border-radius: 0.35em;\">\n",
       "    -Ferrand\n",
       "    <span style=\"font-size: 0.8em; font-weight: bold; line-height: 1; border-radius: 0.35em; vertical-align: middle; margin-left: 0.5rem\">DESTINATION</span>\n",
       "</mark>\n",
       " avec un arrêt par Lyon la semaine prochaine.</div></span>"
      ],
      "text/plain": [
       "<IPython.core.display.HTML object>"
      ]
     },
     "metadata": {},
     "output_type": "display_data"
    },
    {
     "name": "stdout",
     "output_type": "stream",
     "text": [
      "Test du modèle md...\n",
      "Chargement et test du modèle\n"
     ]
    },
    {
     "data": {
      "text/html": [
       "<span class=\"tex2jax_ignore\"><div class=\"entities\" style=\"line-height: 2.5; direction: ltr\">Je souhaite me rendre à Lille en partant d'\n",
       "<mark class=\"entity\" style=\"background: #1f77b4; padding: 0.45em 0.6em; margin: 0 0.25em; line-height: 1; border-radius: 0.35em;\">\n",
       "    Aubervilliers\n",
       "    <span style=\"font-size: 0.8em; font-weight: bold; line-height: 1; border-radius: 0.35em; vertical-align: middle; margin-left: 0.5rem\">DEPARTURE</span>\n",
       "</mark>\n",
       " pour assister à une conférence.<br>        Je compte me rendre à Bordeaux depuis Marseille pour rendre visite à ma soeur Paris\n",
       "<mark class=\"entity\" style=\"background: #2ca02c; padding: 0.45em 0.6em; margin: 0 0.25em; line-height: 1; border-radius: 0.35em;\">\n",
       "    .\n",
       "    <span style=\"font-size: 0.8em; font-weight: bold; line-height: 1; border-radius: 0.35em; vertical-align: middle; margin-left: 0.5rem\">DESTINATION</span>\n",
       "</mark>\n",
       "<br>        Je dois regarder les trains Toulouse \n",
       "<mark class=\"entity\" style=\"background: #1f77b4; padding: 0.45em 0.6em; margin: 0 0.25em; line-height: 1; border-radius: 0.35em;\">\n",
       "    -\n",
       "    <span style=\"font-size: 0.8em; font-weight: bold; line-height: 1; border-radius: 0.35em; vertical-align: middle; margin-left: 0.5rem\">DEPARTURE</span>\n",
       "</mark>\n",
       " \n",
       "<mark class=\"entity\" style=\"background: #2ca02c; padding: 0.45em 0.6em; margin: 0 0.25em; line-height: 1; border-radius: 0.35em;\">\n",
       "    Brest\n",
       "    <span style=\"font-size: 0.8em; font-weight: bold; line-height: 1; border-radius: 0.35em; vertical-align: middle; margin-left: 0.5rem\">DESTINATION</span>\n",
       "</mark>\n",
       " pour aller voir mon ami Albert.<br>        Je dois planifier un voyage \n",
       "<mark class=\"entity\" style=\"background: #1f77b4; padding: 0.45em 0.6em; margin: 0 0.25em; line-height: 1; border-radius: 0.35em;\">\n",
       "    Nice\n",
       "    <span style=\"font-size: 0.8em; font-weight: bold; line-height: 1; border-radius: 0.35em; vertical-align: middle; margin-left: 0.5rem\">DEPARTURE</span>\n",
       "</mark>\n",
       " \n",
       "<mark class=\"entity\" style=\"background: #2ca02c; padding: 0.45em 0.6em; margin: 0 0.25em; line-height: 1; border-radius: 0.35em;\">\n",
       "    Toulouse\n",
       "    <span style=\"font-size: 0.8em; font-weight: bold; line-height: 1; border-radius: 0.35em; vertical-align: middle; margin-left: 0.5rem\">DESTINATION</span>\n",
       "</mark>\n",
       " pour les prochaines vacances.<br>        Une réunion de travail m'oblige à faire \n",
       "<mark class=\"entity\" style=\"background: #1f77b4; padding: 0.45em 0.6em; margin: 0 0.25em; line-height: 1; border-radius: 0.35em;\">\n",
       "    Paris\n",
       "    <span style=\"font-size: 0.8em; font-weight: bold; line-height: 1; border-radius: 0.35em; vertical-align: middle; margin-left: 0.5rem\">DEPARTURE</span>\n",
       "</mark>\n",
       " - \n",
       "<mark class=\"entity\" style=\"background: #2ca02c; padding: 0.45em 0.6em; margin: 0 0.25em; line-height: 1; border-radius: 0.35em;\">\n",
       "    Clermont\n",
       "    <span style=\"font-size: 0.8em; font-weight: bold; line-height: 1; border-radius: 0.35em; vertical-align: middle; margin-left: 0.5rem\">DESTINATION</span>\n",
       "</mark>\n",
       "-Ferrand la semaine prochaine.</div></span>"
      ],
      "text/plain": [
       "<IPython.core.display.HTML object>"
      ]
     },
     "metadata": {},
     "output_type": "display_data"
    },
    {
     "name": "stdout",
     "output_type": "stream",
     "text": [
      "Chargement et test du modèle\n"
     ]
    },
    {
     "data": {
      "text/html": [
       "<span class=\"tex2jax_ignore\"><div class=\"entities\" style=\"line-height: 2.5; direction: ltr\">Je souhaite me rendre à Lille en partant d'\n",
       "<mark class=\"entity\" style=\"background: #1f77b4; padding: 0.45em 0.6em; margin: 0 0.25em; line-height: 1; border-radius: 0.35em;\">\n",
       "    Aubervilliers\n",
       "    <span style=\"font-size: 0.8em; font-weight: bold; line-height: 1; border-radius: 0.35em; vertical-align: middle; margin-left: 0.5rem\">DEPARTURE</span>\n",
       "</mark>\n",
       " pour assister à une conférence avec une escale à Nice\n",
       "<mark class=\"entity\" style=\"background: #ddd; padding: 0.45em 0.6em; margin: 0 0.25em; line-height: 1; border-radius: 0.35em;\">\n",
       "    .\n",
       "    <span style=\"font-size: 0.8em; font-weight: bold; line-height: 1; border-radius: 0.35em; vertical-align: middle; margin-left: 0.5rem\">ESCALE</span>\n",
       "</mark>\n",
       "<br>        Je compte me rendre à Bordeaux depuis Marseille en m'arrêtant à Toulouse pour rendre visite à ma soeur Paris\n",
       "<mark class=\"entity\" style=\"background: #2ca02c; padding: 0.45em 0.6em; margin: 0 0.25em; line-height: 1; border-radius: 0.35em;\">\n",
       "    .\n",
       "    <span style=\"font-size: 0.8em; font-weight: bold; line-height: 1; border-radius: 0.35em; vertical-align: middle; margin-left: 0.5rem\">DESTINATION</span>\n",
       "</mark>\n",
       "<br>        Je dois regarder les trains Toulouse \n",
       "<mark class=\"entity\" style=\"background: #1f77b4; padding: 0.45em 0.6em; margin: 0 0.25em; line-height: 1; border-radius: 0.35em;\">\n",
       "    -\n",
       "    <span style=\"font-size: 0.8em; font-weight: bold; line-height: 1; border-radius: 0.35em; vertical-align: middle; margin-left: 0.5rem\">DEPARTURE</span>\n",
       "</mark>\n",
       " \n",
       "<mark class=\"entity\" style=\"background: #2ca02c; padding: 0.45em 0.6em; margin: 0 0.25em; line-height: 1; border-radius: 0.35em;\">\n",
       "    Brest\n",
       "    <span style=\"font-size: 0.8em; font-weight: bold; line-height: 1; border-radius: 0.35em; vertical-align: middle; margin-left: 0.5rem\">DESTINATION</span>\n",
       "</mark>\n",
       " pour aller voir mon ami Albert en faisant une escale à Tours\n",
       "<mark class=\"entity\" style=\"background: #ddd; padding: 0.45em 0.6em; margin: 0 0.25em; line-height: 1; border-radius: 0.35em;\">\n",
       "    .\n",
       "    <span style=\"font-size: 0.8em; font-weight: bold; line-height: 1; border-radius: 0.35em; vertical-align: middle; margin-left: 0.5rem\">ESCALE</span>\n",
       "</mark>\n",
       "<br>        Je dois planifier un voyage \n",
       "<mark class=\"entity\" style=\"background: #1f77b4; padding: 0.45em 0.6em; margin: 0 0.25em; line-height: 1; border-radius: 0.35em;\">\n",
       "    Nice\n",
       "    <span style=\"font-size: 0.8em; font-weight: bold; line-height: 1; border-radius: 0.35em; vertical-align: middle; margin-left: 0.5rem\">DEPARTURE</span>\n",
       "</mark>\n",
       " \n",
       "<mark class=\"entity\" style=\"background: #2ca02c; padding: 0.45em 0.6em; margin: 0 0.25em; line-height: 1; border-radius: 0.35em;\">\n",
       "    Toulouse\n",
       "    <span style=\"font-size: 0.8em; font-weight: bold; line-height: 1; border-radius: 0.35em; vertical-align: middle; margin-left: 0.5rem\">DESTINATION</span>\n",
       "</mark>\n",
       " en passant par Aubervilliers pour les prochaines vacances.<br>        Une réunion de travail m'oblige à faire \n",
       "<mark class=\"entity\" style=\"background: #1f77b4; padding: 0.45em 0.6em; margin: 0 0.25em; line-height: 1; border-radius: 0.35em;\">\n",
       "    Paris\n",
       "    <span style=\"font-size: 0.8em; font-weight: bold; line-height: 1; border-radius: 0.35em; vertical-align: middle; margin-left: 0.5rem\">DEPARTURE</span>\n",
       "</mark>\n",
       " - \n",
       "<mark class=\"entity\" style=\"background: #2ca02c; padding: 0.45em 0.6em; margin: 0 0.25em; line-height: 1; border-radius: 0.35em;\">\n",
       "    Clermont\n",
       "    <span style=\"font-size: 0.8em; font-weight: bold; line-height: 1; border-radius: 0.35em; vertical-align: middle; margin-left: 0.5rem\">DESTINATION</span>\n",
       "</mark>\n",
       "\n",
       "<mark class=\"entity\" style=\"background: #2ca02c; padding: 0.45em 0.6em; margin: 0 0.25em; line-height: 1; border-radius: 0.35em;\">\n",
       "    -Ferrand\n",
       "    <span style=\"font-size: 0.8em; font-weight: bold; line-height: 1; border-radius: 0.35em; vertical-align: middle; margin-left: 0.5rem\">DESTINATION</span>\n",
       "</mark>\n",
       " avec un arrêt par Lyon la semaine prochaine.</div></span>"
      ],
      "text/plain": [
       "<IPython.core.display.HTML object>"
      ]
     },
     "metadata": {},
     "output_type": "display_data"
    },
    {
     "name": "stdout",
     "output_type": "stream",
     "text": [
      "Test du modèle lg...\n",
      "Chargement et test du modèle\n"
     ]
    },
    {
     "data": {
      "text/html": [
       "<span class=\"tex2jax_ignore\"><div class=\"entities\" style=\"line-height: 2.5; direction: ltr\">Je souhaite me rendre à Lille en partant d'\n",
       "<mark class=\"entity\" style=\"background: #1f77b4; padding: 0.45em 0.6em; margin: 0 0.25em; line-height: 1; border-radius: 0.35em;\">\n",
       "    Aubervilliers\n",
       "    <span style=\"font-size: 0.8em; font-weight: bold; line-height: 1; border-radius: 0.35em; vertical-align: middle; margin-left: 0.5rem\">DEPARTURE</span>\n",
       "</mark>\n",
       " pour assister à une conférence.<br>        Je compte me rendre à Bordeaux depuis Marseille pour rendre visite à ma soeur Paris\n",
       "<mark class=\"entity\" style=\"background: #2ca02c; padding: 0.45em 0.6em; margin: 0 0.25em; line-height: 1; border-radius: 0.35em;\">\n",
       "    .\n",
       "    <span style=\"font-size: 0.8em; font-weight: bold; line-height: 1; border-radius: 0.35em; vertical-align: middle; margin-left: 0.5rem\">DESTINATION</span>\n",
       "</mark>\n",
       "<br>        Je dois regarder les trains Toulouse \n",
       "<mark class=\"entity\" style=\"background: #1f77b4; padding: 0.45em 0.6em; margin: 0 0.25em; line-height: 1; border-radius: 0.35em;\">\n",
       "    -\n",
       "    <span style=\"font-size: 0.8em; font-weight: bold; line-height: 1; border-radius: 0.35em; vertical-align: middle; margin-left: 0.5rem\">DEPARTURE</span>\n",
       "</mark>\n",
       " \n",
       "<mark class=\"entity\" style=\"background: #2ca02c; padding: 0.45em 0.6em; margin: 0 0.25em; line-height: 1; border-radius: 0.35em;\">\n",
       "    Brest\n",
       "    <span style=\"font-size: 0.8em; font-weight: bold; line-height: 1; border-radius: 0.35em; vertical-align: middle; margin-left: 0.5rem\">DESTINATION</span>\n",
       "</mark>\n",
       " pour aller voir mon ami Albert.<br>        Je dois planifier un voyage \n",
       "<mark class=\"entity\" style=\"background: #1f77b4; padding: 0.45em 0.6em; margin: 0 0.25em; line-height: 1; border-radius: 0.35em;\">\n",
       "    Nice\n",
       "    <span style=\"font-size: 0.8em; font-weight: bold; line-height: 1; border-radius: 0.35em; vertical-align: middle; margin-left: 0.5rem\">DEPARTURE</span>\n",
       "</mark>\n",
       " \n",
       "<mark class=\"entity\" style=\"background: #2ca02c; padding: 0.45em 0.6em; margin: 0 0.25em; line-height: 1; border-radius: 0.35em;\">\n",
       "    Toulouse\n",
       "    <span style=\"font-size: 0.8em; font-weight: bold; line-height: 1; border-radius: 0.35em; vertical-align: middle; margin-left: 0.5rem\">DESTINATION</span>\n",
       "</mark>\n",
       " pour les prochaines vacances.<br>        Une réunion de travail m'oblige à faire \n",
       "<mark class=\"entity\" style=\"background: #1f77b4; padding: 0.45em 0.6em; margin: 0 0.25em; line-height: 1; border-radius: 0.35em;\">\n",
       "    Paris\n",
       "    <span style=\"font-size: 0.8em; font-weight: bold; line-height: 1; border-radius: 0.35em; vertical-align: middle; margin-left: 0.5rem\">DEPARTURE</span>\n",
       "</mark>\n",
       " - \n",
       "<mark class=\"entity\" style=\"background: #2ca02c; padding: 0.45em 0.6em; margin: 0 0.25em; line-height: 1; border-radius: 0.35em;\">\n",
       "    Clermont\n",
       "    <span style=\"font-size: 0.8em; font-weight: bold; line-height: 1; border-radius: 0.35em; vertical-align: middle; margin-left: 0.5rem\">DESTINATION</span>\n",
       "</mark>\n",
       "-Ferrand la semaine prochaine.</div></span>"
      ],
      "text/plain": [
       "<IPython.core.display.HTML object>"
      ]
     },
     "metadata": {},
     "output_type": "display_data"
    },
    {
     "name": "stdout",
     "output_type": "stream",
     "text": [
      "Chargement et test du modèle\n"
     ]
    },
    {
     "data": {
      "text/html": [
       "<span class=\"tex2jax_ignore\"><div class=\"entities\" style=\"line-height: 2.5; direction: ltr\">Je souhaite me rendre à Lille en partant d'\n",
       "<mark class=\"entity\" style=\"background: #1f77b4; padding: 0.45em 0.6em; margin: 0 0.25em; line-height: 1; border-radius: 0.35em;\">\n",
       "    Aubervilliers\n",
       "    <span style=\"font-size: 0.8em; font-weight: bold; line-height: 1; border-radius: 0.35em; vertical-align: middle; margin-left: 0.5rem\">DEPARTURE</span>\n",
       "</mark>\n",
       " pour assister à une conférence avec une escale à Nice\n",
       "<mark class=\"entity\" style=\"background: #ddd; padding: 0.45em 0.6em; margin: 0 0.25em; line-height: 1; border-radius: 0.35em;\">\n",
       "    .\n",
       "    <span style=\"font-size: 0.8em; font-weight: bold; line-height: 1; border-radius: 0.35em; vertical-align: middle; margin-left: 0.5rem\">ESCALE</span>\n",
       "</mark>\n",
       "<br>        Je compte me rendre à Bordeaux depuis Marseille en m'arrêtant à Toulouse pour rendre visite à ma soeur Paris\n",
       "<mark class=\"entity\" style=\"background: #2ca02c; padding: 0.45em 0.6em; margin: 0 0.25em; line-height: 1; border-radius: 0.35em;\">\n",
       "    .\n",
       "    <span style=\"font-size: 0.8em; font-weight: bold; line-height: 1; border-radius: 0.35em; vertical-align: middle; margin-left: 0.5rem\">DESTINATION</span>\n",
       "</mark>\n",
       "<br>        Je dois regarder les trains Toulouse \n",
       "<mark class=\"entity\" style=\"background: #1f77b4; padding: 0.45em 0.6em; margin: 0 0.25em; line-height: 1; border-radius: 0.35em;\">\n",
       "    -\n",
       "    <span style=\"font-size: 0.8em; font-weight: bold; line-height: 1; border-radius: 0.35em; vertical-align: middle; margin-left: 0.5rem\">DEPARTURE</span>\n",
       "</mark>\n",
       " \n",
       "<mark class=\"entity\" style=\"background: #2ca02c; padding: 0.45em 0.6em; margin: 0 0.25em; line-height: 1; border-radius: 0.35em;\">\n",
       "    Brest\n",
       "    <span style=\"font-size: 0.8em; font-weight: bold; line-height: 1; border-radius: 0.35em; vertical-align: middle; margin-left: 0.5rem\">DESTINATION</span>\n",
       "</mark>\n",
       " pour aller voir mon ami Albert en faisant une escale à Tours\n",
       "<mark class=\"entity\" style=\"background: #ddd; padding: 0.45em 0.6em; margin: 0 0.25em; line-height: 1; border-radius: 0.35em;\">\n",
       "    .\n",
       "    <span style=\"font-size: 0.8em; font-weight: bold; line-height: 1; border-radius: 0.35em; vertical-align: middle; margin-left: 0.5rem\">ESCALE</span>\n",
       "</mark>\n",
       "<br>        Je dois planifier un voyage \n",
       "<mark class=\"entity\" style=\"background: #1f77b4; padding: 0.45em 0.6em; margin: 0 0.25em; line-height: 1; border-radius: 0.35em;\">\n",
       "    Nice\n",
       "    <span style=\"font-size: 0.8em; font-weight: bold; line-height: 1; border-radius: 0.35em; vertical-align: middle; margin-left: 0.5rem\">DEPARTURE</span>\n",
       "</mark>\n",
       " \n",
       "<mark class=\"entity\" style=\"background: #2ca02c; padding: 0.45em 0.6em; margin: 0 0.25em; line-height: 1; border-radius: 0.35em;\">\n",
       "    Toulouse\n",
       "    <span style=\"font-size: 0.8em; font-weight: bold; line-height: 1; border-radius: 0.35em; vertical-align: middle; margin-left: 0.5rem\">DESTINATION</span>\n",
       "</mark>\n",
       " en passant par Aubervilliers pour les prochaines vacances.<br>        Une réunion de travail m'oblige à faire \n",
       "<mark class=\"entity\" style=\"background: #1f77b4; padding: 0.45em 0.6em; margin: 0 0.25em; line-height: 1; border-radius: 0.35em;\">\n",
       "    Paris\n",
       "    <span style=\"font-size: 0.8em; font-weight: bold; line-height: 1; border-radius: 0.35em; vertical-align: middle; margin-left: 0.5rem\">DEPARTURE</span>\n",
       "</mark>\n",
       " - \n",
       "<mark class=\"entity\" style=\"background: #2ca02c; padding: 0.45em 0.6em; margin: 0 0.25em; line-height: 1; border-radius: 0.35em;\">\n",
       "    Clermont\n",
       "    <span style=\"font-size: 0.8em; font-weight: bold; line-height: 1; border-radius: 0.35em; vertical-align: middle; margin-left: 0.5rem\">DESTINATION</span>\n",
       "</mark>\n",
       "\n",
       "<mark class=\"entity\" style=\"background: #2ca02c; padding: 0.45em 0.6em; margin: 0 0.25em; line-height: 1; border-radius: 0.35em;\">\n",
       "    -Ferrand\n",
       "    <span style=\"font-size: 0.8em; font-weight: bold; line-height: 1; border-radius: 0.35em; vertical-align: middle; margin-left: 0.5rem\">DESTINATION</span>\n",
       "</mark>\n",
       " avec un arrêt par Lyon la semaine prochaine.</div></span>"
      ],
      "text/plain": [
       "<IPython.core.display.HTML object>"
      ]
     },
     "metadata": {},
     "output_type": "display_data"
    }
   ],
   "source": [
    "# Fonction pour charger et tester le modèle sur un texte donné\n",
    "def load_and_test_model(model_path, text):\n",
    "    print(\"Chargement et test du modèle\")\n",
    "    nlp_model = spacy.load(model_path)\n",
    "    doc = nlp_model(text)\n",
    "    return doc\n",
    "\n",
    "def test_model_on_texts(model_paths):\n",
    "    # Textes de test\n",
    "    texts = [\n",
    "        '''Je souhaite me rendre à Lille en partant d'Aubervilliers pour assister à une conférence.\n",
    "        Je compte me rendre à Bordeaux depuis Marseille pour rendre visite à ma soeur Paris.\n",
    "        Je dois regarder les trains Toulouse - Brest pour aller voir mon ami Albert.\n",
    "        Je dois planifier un voyage Nice Toulouse pour les prochaines vacances.\n",
    "        Une réunion de travail m'oblige à faire Paris - Clermont-Ferrand la semaine prochaine.''',\n",
    "\n",
    "        '''Je souhaite me rendre à Lille en partant d'Aubervilliers pour assister à une conférence avec une escale à Nice.\n",
    "        Je compte me rendre à Bordeaux depuis Marseille en m'arrêtant à Toulouse pour rendre visite à ma soeur Paris.\n",
    "        Je dois regarder les trains Toulouse - Brest pour aller voir mon ami Albert en faisant une escale à Tours.\n",
    "        Je dois planifier un voyage Nice Toulouse en passant par Aubervilliers pour les prochaines vacances.\n",
    "        Une réunion de travail m'oblige à faire Paris - Clermont-Ferrand avec un arrêt par Lyon la semaine prochaine.'''\n",
    "    ]\n",
    "\n",
    "    # Dictionnaire des couleurs par type d'entité\n",
    "    colors = {\n",
    "        \"DEPARTURE\": \"#1f77b4\", \n",
    "        \"DESTINATION\": \"#2ca02c\",\n",
    "        \"STOP\": \"#9467bd\"  \n",
    "    }\n",
    "    options = {\"colors\": colors}\n",
    "\n",
    "    # Tester chaque modèle sur chaque texte\n",
    "    for model_key, model_path in model_paths.items():\n",
    "        print(f\"Test du modèle {model_key}...\")\n",
    "        for text in texts:\n",
    "            doc = load_and_test_model(model_path, text)\n",
    "            displacy.render(doc, style=\"ent\", jupyter=True, options=options)\n",
    "\n",
    "# Chemins des modèles\n",
    "model_paths = {key: f\"../../models/saved_models/{key}/model-best/\" for key in models.keys()}\n",
    "\n",
    "# Exécution des tests\n",
    "test_model_on_texts(model_paths)"
   ]
  },
  {
   "cell_type": "code",
   "execution_count": 18,
   "id": "91bd1c2b",
   "metadata": {},
   "outputs": [
    {
     "name": "stdout",
     "output_type": "stream",
     "text": [
      "Chargement et test du modèle\n",
      "Chargement et test du modèle\n",
      "Chargement et test du modèle\n",
      "Chargement et test du modèle\n",
      "Chargement et test du modèle\n",
      "Chargement et test du modèle\n",
      "Chargement et test du modèle\n",
      "Chargement et test du modèle\n",
      "Chargement et test du modèle\n",
      "Chargement et test du modèle\n",
      "Chargement et test du modèle\n",
      "Chargement et test du modèle\n",
      "Chargement et test du modèle\n",
      "Chargement et test du modèle\n",
      "Chargement et test du modèle\n",
      "\n",
      "Modèle : sm\n",
      "  Précision moyenne: 0.60\n",
      "  Rappel moyen: 0.50\n",
      "  F1-score moyen: 0.53\n",
      "\n",
      "Modèle : md\n",
      "  Précision moyenne: 0.60\n",
      "  Rappel moyen: 0.50\n",
      "  F1-score moyen: 0.53\n",
      "\n",
      "Modèle : lg\n",
      "  Précision moyenne: 0.60\n",
      "  Rappel moyen: 0.50\n",
      "  F1-score moyen: 0.53\n"
     ]
    },
    {
     "data": {
      "image/png": "[encoded data removed]",
      "text/plain": [
       "<Figure size 1200x600 with 1 Axes>"
      ]
     },
     "metadata": {},
     "output_type": "display_data"
    }
   ],
   "source": [
    "from collections import Counter\n",
    "import matplotlib.pyplot as plt\n",
    "\n",
    "# Extraction des entités d'un document\n",
    "def extract_entities(doc):\n",
    "    return [(ent.text, ent.label_) for ent in doc.ents]\n",
    "\n",
    "# Comparaison des modèles\n",
    "def compare_models(model_paths, texts, ground_truths):\n",
    "    results = {key: [] for key in models.keys()}\n",
    "\n",
    "    for text in texts:\n",
    "        for model_key, model_path in model_paths.items():\n",
    "            doc = load_and_test_model(model_path, text)\n",
    "            entities = extract_entities(doc)\n",
    "            results[model_key].append(entities)\n",
    "\n",
    "    return results\n",
    "\n",
    "# Comparaison et les annotations de référence\n",
    "texts_to_compare = [\n",
    "    '''Je souhaite me rendre à Lille en partant d'Aubervilliers pour assister à une conférence.''',\n",
    "    '''Je compte me rendre à Bordeaux depuis Marseille pour rendre visite à ma soeur Paris.''',\n",
    "    '''Je dois regarder les trains Toulouse - Brest pour aller voir mon ami Albert.''',\n",
    "    '''Je dois planifier un voyage Nice Toulouse pour les prochaines vacances.''',\n",
    "    '''Une réunion de travail m'oblige à faire Paris - Clermont-Ferrand la semaine prochaine.'''\n",
    "]\n",
    "ground_truths = [\n",
    "    [('Aubervilliers', 'DEPARTURE'), ('Lille', 'DESTINATION')],\n",
    "    [('Marseille', 'DEPARTURE'), ('Bordeaux', 'DESTINATION')],\n",
    "    [('Toulouse', 'DEPARTURE'), ('Brest', 'DESTINATION')],\n",
    "    [('Nice', 'DEPARTURE'), ('Toulouse', 'DESTINATION')],\n",
    "    [('Paris', 'DEPARTURE'), ('Clermont-Ferrand', 'DESTINATION')]\n",
    "]\n",
    "\n",
    "# Analyse des résultats et calcul des métriques\n",
    "def analyze_results(results, ground_truths):\n",
    "    metrics = {key: {'precision': [], 'recall': [], 'f1_score': []} for key in models.keys()}\n",
    "\n",
    "    for model_key, model_results in results.items():\n",
    "        for predicted, true in zip(model_results, ground_truths):\n",
    "            true_set = set(true)\n",
    "            pred_set = set(predicted)\n",
    "\n",
    "            true_positive = len(true_set & pred_set)\n",
    "            false_positive = len(pred_set - true_set)\n",
    "            false_negative = len(true_set - pred_set)\n",
    "\n",
    "            precision = true_positive / (true_positive + false_positive) if true_positive + false_positive > 0 else 0\n",
    "            recall = true_positive / (true_positive + false_negative) if true_positive + false_negative > 0 else 0\n",
    "            f1_score = (2 * precision * recall) / (precision + recall) if precision + recall > 0 else 0\n",
    "\n",
    "            metrics[model_key]['precision'].append(precision)\n",
    "            metrics[model_key]['recall'].append(recall)\n",
    "            metrics[model_key]['f1_score'].append(f1_score)\n",
    "\n",
    "    # on calcul les moyennes pour chaque métrique\n",
    "    for model_key in metrics:\n",
    "        for metric in metrics[model_key]:\n",
    "            metrics[model_key][metric] = sum(metrics[model_key][metric]) / len(metrics[model_key][metric])\n",
    "        print(f\"\\nModèle : {model_key}\")\n",
    "        print(f\"  Précision moyenne: {metrics[model_key]['precision']:.2f}\")\n",
    "        print(f\"  Rappel moyen: {metrics[model_key]['recall']:.2f}\")\n",
    "        print(f\"  F1-score moyen: {metrics[model_key]['f1_score']:.2f}\")\n",
    "\n",
    "    return metrics\n",
    "\n",
    "# Comparaison des modèles\n",
    "model_paths = {key: f\"../../models/saved_models/{key}/model-best/\" for key in models.keys()}\n",
    "results = compare_models(model_paths, texts_to_compare, ground_truths)\n",
    "\n",
    "metrics = analyze_results(results, ground_truths)\n",
    "\n",
    "def plot_metrics(metrics):\n",
    "    model_names = list(metrics.keys())\n",
    "    precision_scores = [metrics[model]['precision'] for model in model_names]\n",
    "    recall_scores = [metrics[model]['recall'] for model in model_names]\n",
    "    f1_scores = [metrics[model]['f1_score'] for model in model_names]\n",
    "\n",
    "    x = range(len(model_names))\n",
    "\n",
    "    plt.figure(figsize=(12, 6))\n",
    "    plt.bar(x, precision_scores, width=0.2, label='Précision', align='center')\n",
    "    plt.bar([p + 0.2 for p in x], recall_scores, width=0.2, label='Rappel', align='center')\n",
    "    plt.bar([p + 0.4 for p in x], f1_scores, width=0.2, label='F1-score', align='center')\n",
    "\n",
    "    plt.xticks([p + 0.2 for p in x], model_names)\n",
    "    plt.xlabel('Modèles')\n",
    "    plt.ylabel('Score')\n",
    "    plt.title('Comparaison des Scores des Modèles')\n",
    "    plt.legend()\n",
    "    plt.tight_layout()\n",
    "    plt.show()\n",
    "\n",
    "plot_metrics(metrics)"
   ]
  }
 ],
 "metadata": {
  "kernelspec": {
   "display_name": "base",
   "language": "python",
   "name": "python3"
  },
  "language_info": {
   "codemirror_mode": {
    "name": "ipython",
    "version": 3
   },
   "file_extension": ".py",
   "mimetype": "text/x-python",
   "name": "python",
   "nbconvert_exporter": "python",
   "pygments_lexer": "ipython3",
   "version": "3.11.7"
  }
 },
 "nbformat": 4,
 "nbformat_minor": 5
}
