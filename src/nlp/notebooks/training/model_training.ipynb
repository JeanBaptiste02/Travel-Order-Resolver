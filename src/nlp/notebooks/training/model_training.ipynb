{
 "cells": [
  {
   "cell_type": "code",
   "execution_count": 35,
   "id": "803cc27b-c2ff-47af-a9a4-920796c55fba",
   "metadata": {},
   "outputs": [
    {
     "name": "stdout",
     "output_type": "stream",
     "text": [
      "all libraries loaded\n"
     ]
    }
   ],
   "source": [
    "import spacy\n",
    "from spacy.tokens import DocBin\n",
    "from spacy.training import Example\n",
    "from spacy.util import Config\n",
    "from spacy.training import Corpus\n",
    "import random\n",
    "from tqdm import tqdm\n",
    "import pandas as pd \n",
    "import os\n",
    "import subprocess\n",
    "import ast\n",
    "\n",
    "print(\"all libraries loaded\")"
   ]
  },
  {
   "cell_type": "code",
   "execution_count": 36,
   "id": "558bd341-5e63-4771-937e-2afff077d4bb",
   "metadata": {},
   "outputs": [
    {
     "name": "stdout",
     "output_type": "stream",
     "text": [
      "loading spacy model...\n",
      "spaCy model 'fr_core_news_sm' charge avec succes !!!\n"
     ]
    }
   ],
   "source": [
    "print(\"loading spacy model...\")\n",
    "nlp_fr = spacy.load(\"fr_core_news_sm\")\n",
    "print(\"spaCy model 'fr_core_news_sm' charge avec succes !!!\")"
   ]
  },
  {
   "cell_type": "code",
   "execution_count": 37,
   "id": "3dcdac46-48c5-4008-9840-8988bb38a377",
   "metadata": {},
   "outputs": [
    {
     "data": {
      "text/html": [
       "<span class=\"tex2jax_ignore\"><div class=\"entities\" style=\"line-height: 2.5; direction: ltr\">Je voudrais aller de \n",
       "<mark class=\"entity\" style=\"background: #ff9561; padding: 0.45em 0.6em; margin: 0 0.25em; line-height: 1; border-radius: 0.35em;\">\n",
       "    Ermont\n",
       "    <span style=\"font-size: 0.8em; font-weight: bold; line-height: 1; border-radius: 0.35em; vertical-align: middle; margin-left: 0.5rem\">LOC</span>\n",
       "</mark>\n",
       " à \n",
       "<mark class=\"entity\" style=\"background: #ff9561; padding: 0.45em 0.6em; margin: 0 0.25em; line-height: 1; border-radius: 0.35em;\">\n",
       "    Sannois\n",
       "    <span style=\"font-size: 0.8em; font-weight: bold; line-height: 1; border-radius: 0.35em; vertical-align: middle; margin-left: 0.5rem\">LOC</span>\n",
       "</mark>\n",
       ".</div></span>"
      ],
      "text/plain": [
       "<IPython.core.display.HTML object>"
      ]
     },
     "metadata": {},
     "output_type": "display_data"
    }
   ],
   "source": [
    "texte_simple = '''Je voudrais aller de Ermont à Sannois.'''\n",
    "doc = nlp_fr(texte_simple)\n",
    "spacy.displacy.render(doc, style=\"ent\", jupyter=True)"
   ]
  },
  {
   "cell_type": "code",
   "execution_count": 38,
   "id": "c48c0798-833d-42c2-9f2d-5f32ac71928a",
   "metadata": {},
   "outputs": [
    {
     "name": "stdout",
     "output_type": "stream",
     "text": [
      "\n",
      "fichier csv charge avec succes\n",
      "\n"
     ]
    }
   ],
   "source": [
    "# Charger le fichier CSV\n",
    "df = pd.read_csv('../../dataset/raw/initial_training_data.csv')\n",
    "print(\"\\nfichier csv charge avec succes\\n\")"
   ]
  },
  {
   "cell_type": "code",
   "execution_count": 39,
   "id": "12e13ef5-61e9-4e0a-a111-0b8f9cbec4d2",
   "metadata": {},
   "outputs": [
    {
     "data": {
      "text/html": [
       "<div>\n",
       "<style scoped>\n",
       "    .dataframe tbody tr th:only-of-type {\n",
       "        vertical-align: middle;\n",
       "    }\n",
       "\n",
       "    .dataframe tbody tr th {\n",
       "        vertical-align: top;\n",
       "    }\n",
       "\n",
       "    .dataframe thead th {\n",
       "        text-align: right;\n",
       "    }\n",
       "</style>\n",
       "<table border=\"1\" class=\"dataframe\">\n",
       "  <thead>\n",
       "    <tr style=\"text-align: right;\">\n",
       "      <th></th>\n",
       "      <th>Phrase</th>\n",
       "      <th>Entities</th>\n",
       "    </tr>\n",
       "  </thead>\n",
       "  <tbody>\n",
       "    <tr>\n",
       "      <th>0</th>\n",
       "      <td>Je voudrais aller de La Ciotat à Sarreguemines.</td>\n",
       "      <td>[[21, 30, 'DEPARTURE'], [33, 46, 'DESTINATION']]</td>\n",
       "    </tr>\n",
       "    <tr>\n",
       "      <th>1</th>\n",
       "      <td>Comment me rendre à port-boulet depuis la gare...</td>\n",
       "      <td>[[50, 56, 'DEPARTURE']]</td>\n",
       "    </tr>\n",
       "    <tr>\n",
       "      <th>2</th>\n",
       "      <td>Je veux aller voir mon ami albert à Villeneuve...</td>\n",
       "      <td>[[36, 54, 'DEPARTURE'], [69, 74, 'DESTINATION']]</td>\n",
       "    </tr>\n",
       "    <tr>\n",
       "      <th>3</th>\n",
       "      <td>Y a-t-il des trains de Nancy à montaigu ?</td>\n",
       "      <td>[[23, 28, 'DEPARTURE']]</td>\n",
       "    </tr>\n",
       "    <tr>\n",
       "      <th>4</th>\n",
       "      <td>Une phrase sans origine ni destination.</td>\n",
       "      <td>[]</td>\n",
       "    </tr>\n",
       "    <tr>\n",
       "      <th>5</th>\n",
       "      <td>Si pas de numéro de séquence, on considère que...</td>\n",
       "      <td>[]</td>\n",
       "    </tr>\n",
       "    <tr>\n",
       "      <th>6</th>\n",
       "      <td>Is there any train going from Corbeil-Essonnes...</td>\n",
       "      <td>[[30, 46, 'DEPARTURE'], [50, 58, 'DESTINATION']]</td>\n",
       "    </tr>\n",
       "    <tr>\n",
       "      <th>7</th>\n",
       "      <td>Je souhaite me rendre à Vernon en partant de M...</td>\n",
       "      <td>[[24, 30, 'DEPARTURE'], [45, 54, 'DESTINATION']]</td>\n",
       "    </tr>\n",
       "    <tr>\n",
       "      <th>8</th>\n",
       "      <td>Je quitte Cournon-D'Auvergne pour aller à Dax</td>\n",
       "      <td>[[10, 28, 'DEPARTURE'], [42, 45, 'DESTINATION']]</td>\n",
       "    </tr>\n",
       "    <tr>\n",
       "      <th>9</th>\n",
       "      <td>En partant de Alençon, je veux me rendre à La ...</td>\n",
       "      <td>[[14, 21, 'DEPARTURE'], [43, 55, 'DESTINATION']]</td>\n",
       "    </tr>\n",
       "    <tr>\n",
       "      <th>10</th>\n",
       "      <td>Cherbourg-En-Cotentin est ma ville de départ p...</td>\n",
       "      <td>[[0, 21, 'DEPARTURE'], [60, 67, 'DESTINATION']]</td>\n",
       "    </tr>\n",
       "    <tr>\n",
       "      <th>11</th>\n",
       "      <td>Je pars de Bergerac pour me rendre à Ermont</td>\n",
       "      <td>[[11, 19, 'DEPARTURE'], [37, 43, 'DESTINATION']]</td>\n",
       "    </tr>\n",
       "    <tr>\n",
       "      <th>12</th>\n",
       "      <td>Sucy-En-Brie est d'où je pars pour aller à Le ...</td>\n",
       "      <td>[[0, 12, 'DEPARTURE'], [43, 61, 'DESTINATION']]</td>\n",
       "    </tr>\n",
       "    <tr>\n",
       "      <th>13</th>\n",
       "      <td>En partant de Grigny, je veux rejoindre Hazebr...</td>\n",
       "      <td>[[14, 20, 'DEPARTURE'], [40, 50, 'DESTINATION']]</td>\n",
       "    </tr>\n",
       "    <tr>\n",
       "      <th>14</th>\n",
       "      <td>Je quitte Vienne pour me rendre à Colombes</td>\n",
       "      <td>[[10, 16, 'DEPARTURE'], [34, 42, 'DESTINATION']]</td>\n",
       "    </tr>\n",
       "    <tr>\n",
       "      <th>15</th>\n",
       "      <td>Je souhaite me rendre à Bourges en partant de ...</td>\n",
       "      <td>[[24, 31, 'DEPARTURE'], [46, 52, 'DESTINATION']]</td>\n",
       "    </tr>\n",
       "    <tr>\n",
       "      <th>16</th>\n",
       "      <td>Je pars de Cergy pour rejoindre Draguignan</td>\n",
       "      <td>[[11, 16, 'DEPARTURE'], [32, 42, 'DESTINATION']]</td>\n",
       "    </tr>\n",
       "    <tr>\n",
       "      <th>17</th>\n",
       "      <td>Croix est ma ville de départ pour aller à Coud...</td>\n",
       "      <td>[[0, 5, 'DEPARTURE'], [42, 61, 'DESTINATION']]</td>\n",
       "    </tr>\n",
       "    <tr>\n",
       "      <th>18</th>\n",
       "      <td>Je quitte Draveil pour me rendre à Saint-Denis</td>\n",
       "      <td>[[10, 17, 'DEPARTURE'], [35, 46, 'DESTINATION']]</td>\n",
       "    </tr>\n",
       "    <tr>\n",
       "      <th>19</th>\n",
       "      <td>En partant de Goussainville, je veux me rendre...</td>\n",
       "      <td>[[14, 27, 'DEPARTURE'], [49, 60, 'DESTINATION']]</td>\n",
       "    </tr>\n",
       "  </tbody>\n",
       "</table>\n",
       "</div>"
      ],
      "text/plain": [
       "                                               Phrase  \\\n",
       "0     Je voudrais aller de La Ciotat à Sarreguemines.   \n",
       "1   Comment me rendre à port-boulet depuis la gare...   \n",
       "2   Je veux aller voir mon ami albert à Villeneuve...   \n",
       "3           Y a-t-il des trains de Nancy à montaigu ?   \n",
       "4             Une phrase sans origine ni destination.   \n",
       "5   Si pas de numéro de séquence, on considère que...   \n",
       "6   Is there any train going from Corbeil-Essonnes...   \n",
       "7   Je souhaite me rendre à Vernon en partant de M...   \n",
       "8       Je quitte Cournon-D'Auvergne pour aller à Dax   \n",
       "9   En partant de Alençon, je veux me rendre à La ...   \n",
       "10  Cherbourg-En-Cotentin est ma ville de départ p...   \n",
       "11        Je pars de Bergerac pour me rendre à Ermont   \n",
       "12  Sucy-En-Brie est d'où je pars pour aller à Le ...   \n",
       "13  En partant de Grigny, je veux rejoindre Hazebr...   \n",
       "14         Je quitte Vienne pour me rendre à Colombes   \n",
       "15  Je souhaite me rendre à Bourges en partant de ...   \n",
       "16         Je pars de Cergy pour rejoindre Draguignan   \n",
       "17  Croix est ma ville de départ pour aller à Coud...   \n",
       "18     Je quitte Draveil pour me rendre à Saint-Denis   \n",
       "19  En partant de Goussainville, je veux me rendre...   \n",
       "\n",
       "                                            Entities  \n",
       "0   [[21, 30, 'DEPARTURE'], [33, 46, 'DESTINATION']]  \n",
       "1                            [[50, 56, 'DEPARTURE']]  \n",
       "2   [[36, 54, 'DEPARTURE'], [69, 74, 'DESTINATION']]  \n",
       "3                            [[23, 28, 'DEPARTURE']]  \n",
       "4                                                 []  \n",
       "5                                                 []  \n",
       "6   [[30, 46, 'DEPARTURE'], [50, 58, 'DESTINATION']]  \n",
       "7   [[24, 30, 'DEPARTURE'], [45, 54, 'DESTINATION']]  \n",
       "8   [[10, 28, 'DEPARTURE'], [42, 45, 'DESTINATION']]  \n",
       "9   [[14, 21, 'DEPARTURE'], [43, 55, 'DESTINATION']]  \n",
       "10   [[0, 21, 'DEPARTURE'], [60, 67, 'DESTINATION']]  \n",
       "11  [[11, 19, 'DEPARTURE'], [37, 43, 'DESTINATION']]  \n",
       "12   [[0, 12, 'DEPARTURE'], [43, 61, 'DESTINATION']]  \n",
       "13  [[14, 20, 'DEPARTURE'], [40, 50, 'DESTINATION']]  \n",
       "14  [[10, 16, 'DEPARTURE'], [34, 42, 'DESTINATION']]  \n",
       "15  [[24, 31, 'DEPARTURE'], [46, 52, 'DESTINATION']]  \n",
       "16  [[11, 16, 'DEPARTURE'], [32, 42, 'DESTINATION']]  \n",
       "17    [[0, 5, 'DEPARTURE'], [42, 61, 'DESTINATION']]  \n",
       "18  [[10, 17, 'DEPARTURE'], [35, 46, 'DESTINATION']]  \n",
       "19  [[14, 27, 'DEPARTURE'], [49, 60, 'DESTINATION']]  "
      ]
     },
     "execution_count": 39,
     "metadata": {},
     "output_type": "execute_result"
    }
   ],
   "source": [
    "# premieres lignes du dataset pour verifier le chargement\n",
    "df.head(20)"
   ]
  },
  {
   "cell_type": "code",
   "execution_count": 40,
   "id": "602648ec-4a39-4056-a0a3-0dd683e06b4c",
   "metadata": {},
   "outputs": [
    {
     "name": "stdout",
     "output_type": "stream",
     "text": [
      "\n",
      "database limite a 400 lignes pour l'entrainement\n",
      "\n"
     ]
    }
   ],
   "source": [
    "# Limiter à 400 lignes pour accélérer l'entraînement\n",
    "df = df.sample(n=400, random_state=42)\n",
    "print(\"\\ndatabase limite a 400 lignes pour l'entrainement\\n\")"
   ]
  },
  {
   "cell_type": "code",
   "execution_count": 41,
   "id": "fab219d7-c369-4ce9-ad55-9b812827ad05",
   "metadata": {},
   "outputs": [
    {
     "name": "stdout",
     "output_type": "stream",
     "text": [
      "\n",
      "conteneur DocBin cree avec succes\n",
      "\n"
     ]
    }
   ],
   "source": [
    "# creation d'un conteneur pour stocker les documents au format spaCy\n",
    "db = DocBin()\n",
    "print(\"\\nconteneur DocBin cree avec succes\\n\")"
   ]
  },
  {
   "cell_type": "code",
   "execution_count": 42,
   "id": "c13039dc-5782-493d-9371-d671788a71e2",
   "metadata": {},
   "outputs": [
    {
     "name": "stdout",
     "output_type": "stream",
     "text": [
      "\n",
      "donnees melangees avec succes\n",
      "\n"
     ]
    }
   ],
   "source": [
    "# on melange les donnees pour eviter les biais dans l'apprentissage\n",
    "df = df.sample(frac=1).reset_index(drop=True)\n",
    "print(\"\\ndonnees melangees avec succes\\n\")"
   ]
  },
  {
   "cell_type": "code",
   "execution_count": 43,
   "id": "02bf8e37-e993-4671-9aae-0e9e242771e1",
   "metadata": {},
   "outputs": [
    {
     "name": "stderr",
     "output_type": "stream",
     "text": [
      "100%|██████████| 400/400 [00:00<00:00, 968.97it/s] "
     ]
    },
    {
     "name": "stdout",
     "output_type": "stream",
     "text": [
      "\n",
      "les données ont été bien converties au format json\n",
      "\n"
     ]
    },
    {
     "name": "stderr",
     "output_type": "stream",
     "text": [
      "\n"
     ]
    }
   ],
   "source": [
    "# on convertit les donnes au format spacy\n",
    "for index, row in tqdm(df.iterrows(), total=df.shape[0]):\n",
    "    text = row['Phrase']\n",
    "    doc = nlp_fr.make_doc(text) \n",
    "    ents = []\n",
    "\n",
    "    entities = ast.literal_eval(row['Entities'])\n",
    "\n",
    "    for entity in entities:\n",
    "        start, end, label = entity\n",
    "        span = doc.char_span(start, end, label=label, alignment_mode=\"contract\")\n",
    "        if span is not None:\n",
    "            ents.append(span)\n",
    "\n",
    "    doc.ents = ents \n",
    "    db.add(doc)\n",
    "    \n",
    "print(\"\\nles données ont été bien converties au format json\\n\")"
   ]
  },
  {
   "cell_type": "code",
   "execution_count": 44,
   "id": "cd580662-9421-4a74-9f47-7a41f9f6cb24",
   "metadata": {},
   "outputs": [
    {
     "name": "stdout",
     "output_type": "stream",
     "text": [
      "\n",
      "donnees converties et sauvegardees au format spaCy\n",
      "\n"
     ]
    }
   ],
   "source": [
    "# on enregistre les donnees converties au format spaCy\n",
    "db.to_disk(\"../../dataset/processed/processed_datas.spacy\")\n",
    "print(\"\\ndonnees converties et sauvegardees au format spaCy\\n\")"
   ]
  },
  {
   "cell_type": "code",
   "execution_count": 45,
   "id": "9902aec5-b279-4279-b999-8b4d0f1ab630",
   "metadata": {},
   "outputs": [],
   "source": [
    "# ajout du composant NER au modele actuel\n",
    "ner = nlp_fr.get_pipe(\"ner\")"
   ]
  },
  {
   "cell_type": "code",
   "execution_count": 46,
   "id": "335fb44c-b3fe-4ec4-aace-775121bc4c57",
   "metadata": {},
   "outputs": [
    {
     "name": "stdout",
     "output_type": "stream",
     "text": [
      "\n",
      "les nouveaux labels NER ont été ajoutées au modèle\n",
      "\n"
     ]
    }
   ],
   "source": [
    "# Ajouter de nouveaux labels d'entités à partir des données\n",
    "for _, row in df.iterrows():\n",
    "    entities = ast.literal_eval(row['Entities'])\n",
    "    for entity in entities:\n",
    "        _, _, label = entity\n",
    "        ner.add_label(label)\n",
    "print(\"\\nles nouveaux labels NER ont été ajoutées au modèle\\n\")"
   ]
  },
  {
   "cell_type": "code",
   "execution_count": 47,
   "id": "aecf3153-9bba-431a-b408-a7e21cd7345c",
   "metadata": {},
   "outputs": [
    {
     "name": "stdout",
     "output_type": "stream",
     "text": [
      "\n",
      "fichier de configuration genere avec succes\n",
      "\n"
     ]
    }
   ],
   "source": [
    "# on cree le fichier de configuration\n",
    "os.system('python -m spacy init config ./configuration.cfg --lang fr --pipeline ner --optimize efficiency --force')\n",
    "print(\"\\nfichier de configuration genere avec succes\\n\")"
   ]
  },
  {
   "cell_type": "code",
   "execution_count": 48,
   "id": "5f9dd902-08e5-40be-97ef-4938c8cf7887",
   "metadata": {},
   "outputs": [
    {
     "name": "stderr",
     "output_type": "stream",
     "text": [
      "Entrainement du modele:   1%|          | 1/100 [00:08<14:10,  8.59s/it]"
     ]
    },
    {
     "name": "stdout",
     "output_type": "stream",
     "text": [
      "\u001b[38;5;4mℹ Saving to output directory: ..\\..\\models\\saved_models\u001b[0m\n",
      "\u001b[38;5;4mℹ Using CPU\u001b[0m\n",
      "\u001b[1m\n",
      "=========================== Initializing pipeline ===========================\u001b[0m\n"
     ]
    },
    {
     "name": "stderr",
     "output_type": "stream",
     "text": [
      "Entrainement du modele:   5%|▌         | 5/100 [00:17<05:03,  3.19s/it]"
     ]
    },
    {
     "name": "stdout",
     "output_type": "stream",
     "text": [
      "\u001b[38;5;2m✔ Initialized pipeline\u001b[0m\n",
      "\u001b[1m\n",
      "============================= Training pipeline =============================\u001b[0m\n",
      "\u001b[38;5;4mℹ Pipeline: ['tok2vec', 'ner']\u001b[0m\n",
      "\u001b[38;5;4mℹ Initial learn rate: 0.001\u001b[0m\n",
      "E    #       LOSS TOK2VEC  LOSS NER  ENTS_F  ENTS_P  ENTS_R  SCORE \n",
      "---  ------  ------------  --------  ------  ------  ------  ------\n"
     ]
    },
    {
     "name": "stderr",
     "output_type": "stream",
     "text": [
      "Entrainement du modele:  12%|█▏        | 12/100 [00:18<01:37,  1.11s/it]"
     ]
    },
    {
     "name": "stdout",
     "output_type": "stream",
     "text": [
      "  0       0          0.00     60.93    0.00    0.00    0.00    0.00\n"
     ]
    },
    {
     "name": "stderr",
     "output_type": "stream",
     "text": [
      "Entrainement du modele:  13%|█▎        | 13/100 [00:44<06:01,  4.15s/it]"
     ]
    },
    {
     "name": "stdout",
     "output_type": "stream",
     "text": [
      "  3     200        105.80   2283.13   95.95   96.04   95.85    0.96\n"
     ]
    },
    {
     "name": "stderr",
     "output_type": "stream",
     "text": [
      "Entrainement du modele:  14%|█▍        | 14/100 [01:03<09:11,  6.42s/it]"
     ]
    },
    {
     "name": "stdout",
     "output_type": "stream",
     "text": [
      "  8     400        152.64    389.78   99.81   99.81   99.81    1.00\n"
     ]
    },
    {
     "name": "stderr",
     "output_type": "stream",
     "text": [
      "Entrainement du modele:  15%|█▌        | 15/100 [01:28<13:38,  9.63s/it]"
     ]
    },
    {
     "name": "stdout",
     "output_type": "stream",
     "text": [
      " 14     600         84.69     86.06   99.90   99.90   99.90    1.00\n"
     ]
    },
    {
     "name": "stderr",
     "output_type": "stream",
     "text": [
      "Entrainement du modele:  16%|█▌        | 16/100 [01:49<16:26, 11.75s/it]"
     ]
    },
    {
     "name": "stdout",
     "output_type": "stream",
     "text": [
      " 21     800         41.94     29.19   99.90   99.90   99.90    1.00\n"
     ]
    },
    {
     "name": "stderr",
     "output_type": "stream",
     "text": [
      "Entrainement du modele:  17%|█▋        | 17/100 [02:15<20:48, 15.05s/it]"
     ]
    },
    {
     "name": "stdout",
     "output_type": "stream",
     "text": [
      " 30    1000         88.43     58.04   99.90   99.90   99.90    1.00\n"
     ]
    },
    {
     "name": "stderr",
     "output_type": "stream",
     "text": [
      "Entrainement du modele:  18%|█▊        | 18/100 [02:52<27:51, 20.39s/it]"
     ]
    },
    {
     "name": "stdout",
     "output_type": "stream",
     "text": [
      " 40    1200         84.66     27.47  100.00  100.00  100.00    1.00\n"
     ]
    },
    {
     "name": "stderr",
     "output_type": "stream",
     "text": [
      "Entrainement du modele:  19%|█▉        | 19/100 [03:39<36:35, 27.11s/it]"
     ]
    },
    {
     "name": "stdout",
     "output_type": "stream",
     "text": [
      " 53    1400          1.80      3.89   99.90   99.90   99.90    1.00\n"
     ]
    },
    {
     "name": "stderr",
     "output_type": "stream",
     "text": [
      "Entrainement du modele:  20%|██        | 20/100 [04:17<39:59, 29.99s/it]"
     ]
    },
    {
     "name": "stdout",
     "output_type": "stream",
     "text": [
      " 69    1600        418.23    104.27  100.00  100.00  100.00    1.00\n"
     ]
    },
    {
     "name": "stderr",
     "output_type": "stream",
     "text": [
      "Entrainement du modele:  21%|██        | 21/100 [05:02<44:51, 34.07s/it]"
     ]
    },
    {
     "name": "stdout",
     "output_type": "stream",
     "text": [
      " 89    1800         96.01     26.47  100.00  100.00  100.00    1.00\n"
     ]
    },
    {
     "name": "stderr",
     "output_type": "stream",
     "text": [
      "Entrainement du modele:  22%|██▏       | 22/100 [05:46<48:12, 37.09s/it]"
     ]
    },
    {
     "name": "stdout",
     "output_type": "stream",
     "text": [
      "112    2000         71.88     14.01  100.00  100.00  100.00    1.00\n"
     ]
    },
    {
     "name": "stderr",
     "output_type": "stream",
     "text": [
      "Entrainement du modele:  23%|██▎       | 23/100 [06:45<55:36, 43.34s/it]"
     ]
    },
    {
     "name": "stdout",
     "output_type": "stream",
     "text": [
      "141    2200          0.01      0.00  100.00  100.00  100.00    1.00\n"
     ]
    },
    {
     "name": "stderr",
     "output_type": "stream",
     "text": [
      "Entrainement du modele:  24%|██▍       | 24/100 [07:48<1:02:12, 49.12s/it]"
     ]
    },
    {
     "name": "stdout",
     "output_type": "stream",
     "text": [
      "175    2400          0.00      0.00  100.00  100.00  100.00    1.00\n"
     ]
    },
    {
     "name": "stderr",
     "output_type": "stream",
     "text": [
      "Entrainement du modele:  25%|██▌       | 25/100 [08:50<1:06:10, 52.94s/it]"
     ]
    },
    {
     "name": "stdout",
     "output_type": "stream",
     "text": [
      "208    2600          0.00      0.00  100.00  100.00  100.00    1.00\n"
     ]
    },
    {
     "name": "stderr",
     "output_type": "stream",
     "text": [
      "Entrainement du modele:  27%|██▋       | 27/100 [10:00<49:24, 40.61s/it]  "
     ]
    },
    {
     "name": "stdout",
     "output_type": "stream",
     "text": [
      "241    2800         55.63      7.89  100.00  100.00  100.00    1.00\n",
      "\u001b[38;5;2m✔ Saved pipeline to output directory\u001b[0m\n",
      "..\\..\\models\\saved_models\\model-last\n"
     ]
    },
    {
     "name": "stderr",
     "output_type": "stream",
     "text": [
      "Entrainement du modele:  28%|██▊       | 28/100 [10:00<25:45, 21.46s/it]"
     ]
    },
    {
     "name": "stdout",
     "output_type": "stream",
     "text": [
      "\n",
      "entrainement du modele termine avec succes\n",
      "\n"
     ]
    },
    {
     "name": "stderr",
     "output_type": "stream",
     "text": [
      "\n"
     ]
    }
   ],
   "source": [
    "# entrainement avec un modele leger et config optimisee\n",
    "command = 'python -m spacy train ./configuration.cfg --output ../../models/saved_models --paths.train ../../dataset/processed/processed_datas.spacy --paths.dev ../../dataset/processed/processed_datas.spacy'\n",
    "\n",
    "with tqdm(total=100, desc=\"Entrainement du modele\") as pbar:\n",
    "    process = subprocess.Popen(command, shell=True, stdout=subprocess.PIPE, stderr=subprocess.PIPE)\n",
    "    for line in process.stdout:\n",
    "        print(line.decode(), end='')\n",
    "        pbar.update(1)\n",
    "\n",
    "process.wait()\n",
    "print(\"\\nentrainement du modele termine avec succes\\n\")"
   ]
  },
  {
   "cell_type": "code",
   "execution_count": 49,
   "id": "ce586435-5f76-42b2-83b4-04c8ed1355cd",
   "metadata": {},
   "outputs": [
    {
     "name": "stdout",
     "output_type": "stream",
     "text": [
      "modele entraine charge avec succes\n"
     ]
    }
   ],
   "source": [
    "# on charge le modele entraîne\n",
    "nlp_itineraire = spacy.load(\"../../models/saved_models/model-best\")\n",
    "print(\"modele entraine charge avec succes\")"
   ]
  },
  {
   "cell_type": "code",
   "execution_count": 50,
   "id": "983155f3-b1f1-4a6a-b1b9-d9c945a3c0d5",
   "metadata": {},
   "outputs": [
    {
     "data": {
      "text/html": [
       "<span class=\"tex2jax_ignore\"><div class=\"entities\" style=\"line-height: 2.5; direction: ltr\"><br>Je souhaite me rendre à \n",
       "<mark class=\"entity\" style=\"background: #ddd; padding: 0.45em 0.6em; margin: 0 0.25em; line-height: 1; border-radius: 0.35em;\">\n",
       "    Lille\n",
       "    <span style=\"font-size: 0.8em; font-weight: bold; line-height: 1; border-radius: 0.35em; vertical-align: middle; margin-left: 0.5rem\">DEPARTURE</span>\n",
       "</mark>\n",
       " en partant d'\n",
       "<mark class=\"entity\" style=\"background: #ddd; padding: 0.45em 0.6em; margin: 0 0.25em; line-height: 1; border-radius: 0.35em;\">\n",
       "    Aubervilliers\n",
       "    <span style=\"font-size: 0.8em; font-weight: bold; line-height: 1; border-radius: 0.35em; vertical-align: middle; margin-left: 0.5rem\">DESTINATION</span>\n",
       "</mark>\n",
       " pour assister à une conférence.<br>Je compte me rendre à \n",
       "<mark class=\"entity\" style=\"background: #ddd; padding: 0.45em 0.6em; margin: 0 0.25em; line-height: 1; border-radius: 0.35em;\">\n",
       "    Bordeaux\n",
       "    <span style=\"font-size: 0.8em; font-weight: bold; line-height: 1; border-radius: 0.35em; vertical-align: middle; margin-left: 0.5rem\">DEPARTURE</span>\n",
       "</mark>\n",
       " depuis \n",
       "<mark class=\"entity\" style=\"background: #ddd; padding: 0.45em 0.6em; margin: 0 0.25em; line-height: 1; border-radius: 0.35em;\">\n",
       "    Marseille\n",
       "    <span style=\"font-size: 0.8em; font-weight: bold; line-height: 1; border-radius: 0.35em; vertical-align: middle; margin-left: 0.5rem\">DESTINATION</span>\n",
       "</mark>\n",
       " pour rendre visite à ma soeur.<br>Je dois regarder les trains \n",
       "<mark class=\"entity\" style=\"background: #ddd; padding: 0.45em 0.6em; margin: 0 0.25em; line-height: 1; border-radius: 0.35em;\">\n",
       "    Toulouse - Brest\n",
       "    <span style=\"font-size: 0.8em; font-weight: bold; line-height: 1; border-radius: 0.35em; vertical-align: middle; margin-left: 0.5rem\">DEPARTURE</span>\n",
       "</mark>\n",
       " pour aller voir mon ami \n",
       "<mark class=\"entity\" style=\"background: #ddd; padding: 0.45em 0.6em; margin: 0 0.25em; line-height: 1; border-radius: 0.35em;\">\n",
       "    Albert\n",
       "    <span style=\"font-size: 0.8em; font-weight: bold; line-height: 1; border-radius: 0.35em; vertical-align: middle; margin-left: 0.5rem\">DESTINATION</span>\n",
       "</mark>\n",
       ".<br>Je dois planifier un voyage \n",
       "<mark class=\"entity\" style=\"background: #ddd; padding: 0.45em 0.6em; margin: 0 0.25em; line-height: 1; border-radius: 0.35em;\">\n",
       "    Nice\n",
       "    <span style=\"font-size: 0.8em; font-weight: bold; line-height: 1; border-radius: 0.35em; vertical-align: middle; margin-left: 0.5rem\">DEPARTURE</span>\n",
       "</mark>\n",
       " \n",
       "<mark class=\"entity\" style=\"background: #ddd; padding: 0.45em 0.6em; margin: 0 0.25em; line-height: 1; border-radius: 0.35em;\">\n",
       "    Toulouse\n",
       "    <span style=\"font-size: 0.8em; font-weight: bold; line-height: 1; border-radius: 0.35em; vertical-align: middle; margin-left: 0.5rem\">DEPARTURE</span>\n",
       "</mark>\n",
       " pour les prochaines vacances.<br>Une réunion de travail m'oblige à faire \n",
       "<mark class=\"entity\" style=\"background: #ddd; padding: 0.45em 0.6em; margin: 0 0.25em; line-height: 1; border-radius: 0.35em;\">\n",
       "    Paris - Clermont-Ferrand\n",
       "    <span style=\"font-size: 0.8em; font-weight: bold; line-height: 1; border-radius: 0.35em; vertical-align: middle; margin-left: 0.5rem\">DEPARTURE</span>\n",
       "</mark>\n",
       " la semaine prochaine.<br></div></span>"
      ],
      "text/plain": [
       "<IPython.core.display.HTML object>"
      ]
     },
     "metadata": {},
     "output_type": "display_data"
    }
   ],
   "source": [
    "# Tester le modèle avec un texte plus complexe\n",
    "texte_test = '''\n",
    "Je souhaite me rendre à Lille en partant d'Aubervilliers pour assister à une conférence.\n",
    "Je compte me rendre à Bordeaux depuis Marseille pour rendre visite à ma soeur.\n",
    "Je dois regarder les trains Toulouse - Brest pour aller voir mon ami Albert.\n",
    "Je dois planifier un voyage Nice Toulouse pour les prochaines vacances.\n",
    "Une réunion de travail m'oblige à faire Paris - Clermont-Ferrand la semaine prochaine.\n",
    "'''\n",
    "\n",
    "# Use the model to identify entities in the text\n",
    "doc_test = nlp_itineraire(texte_test)\n",
    "\n",
    "# Display the recognized entities\n",
    "spacy.displacy.render(doc_test, style=\"ent\", jupyter=True)"
   ]
  },
  {
   "cell_type": "code",
   "execution_count": null,
   "id": "1c0e8661",
   "metadata": {},
   "outputs": [],
   "source": []
  }
 ],
 "metadata": {
  "kernelspec": {
   "display_name": "base",
   "language": "python",
   "name": "python3"
  },
  "language_info": {
   "codemirror_mode": {
    "name": "ipython",
    "version": 3
   },
   "file_extension": ".py",
   "mimetype": "text/x-python",
   "name": "python",
   "nbconvert_exporter": "python",
   "pygments_lexer": "ipython3",
   "version": "3.11.7"
  }
 },
 "nbformat": 4,
 "nbformat_minor": 5
}
