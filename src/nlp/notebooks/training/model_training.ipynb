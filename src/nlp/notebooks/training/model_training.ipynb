{
 "cells": [
  {
   "cell_type": "code",
   "execution_count": 35,
   "id": "803cc27b-c2ff-47af-a9a4-920796c55fba",
   "metadata": {},
   "outputs": [
    {
     "name": "stdout",
     "output_type": "stream",
     "text": [
      "all libraries loaded\n"
     ]
    }
   ],
   "source": [
    "import spacy\n",
    "from spacy.tokens import DocBin\n",
    "from spacy.training import Example\n",
    "from spacy.util import Config\n",
    "from spacy.training import Corpus\n",
    "import random\n",
    "from tqdm import tqdm\n",
    "import pandas as pd \n",
    "import os\n",
    "import subprocess\n",
    "\n",
    "print(\"all libraries loaded\")"
   ]
  },
  {
   "cell_type": "code",
   "execution_count": 3,
   "id": "558bd341-5e63-4771-937e-2afff077d4bb",
   "metadata": {},
   "outputs": [
    {
     "name": "stdout",
     "output_type": "stream",
     "text": [
      "loading spacy model...\n",
      "spaCy model 'fr_core_news_sm' charge avec succes\n"
     ]
    }
   ],
   "source": [
    "print(\"loading spacy model...\")\n",
    "nlp_fr = spacy.load(\"fr_core_news_sm\")\n",
    "print(\"spaCy model 'fr_core_news_sm' charge avec succes\")"
   ]
  },
  {
   "cell_type": "code",
   "execution_count": 5,
   "id": "3dcdac46-48c5-4008-9840-8988bb38a377",
   "metadata": {},
   "outputs": [
    {
     "data": {
      "text/html": [
       "<span class=\"tex2jax_ignore\"><div class=\"entities\" style=\"line-height: 2.5; direction: ltr\">Je voudrais aller de \n",
       "<mark class=\"entity\" style=\"background: #ff9561; padding: 0.45em 0.6em; margin: 0 0.25em; line-height: 1; border-radius: 0.35em;\">\n",
       "    Ermont\n",
       "    <span style=\"font-size: 0.8em; font-weight: bold; line-height: 1; border-radius: 0.35em; vertical-align: middle; margin-left: 0.5rem\">LOC</span>\n",
       "</mark>\n",
       " à \n",
       "<mark class=\"entity\" style=\"background: #ff9561; padding: 0.45em 0.6em; margin: 0 0.25em; line-height: 1; border-radius: 0.35em;\">\n",
       "    Sannois\n",
       "    <span style=\"font-size: 0.8em; font-weight: bold; line-height: 1; border-radius: 0.35em; vertical-align: middle; margin-left: 0.5rem\">LOC</span>\n",
       "</mark>\n",
       ".</div></span>"
      ],
      "text/plain": [
       "<IPython.core.display.HTML object>"
      ]
     },
     "metadata": {},
     "output_type": "display_data"
    }
   ],
   "source": [
    "texte_simple = '''Je voudrais aller de Ermont à Sannois.'''\n",
    "doc = nlp_fr(texte_simple)\n",
    "spacy.displacy.render(doc, style=\"ent\", jupyter=True)"
   ]
  },
  {
   "cell_type": "code",
   "execution_count": 7,
   "id": "c48c0798-833d-42c2-9f2d-5f32ac71928a",
   "metadata": {},
   "outputs": [
    {
     "name": "stdout",
     "output_type": "stream",
     "text": [
      "\n",
      "fichier csv charge avec succes\n",
      "\n"
     ]
    }
   ],
   "source": [
    "# Charger le fichier CSV\n",
    "df = pd.read_csv('../../dataset/raw/initial_training_data.csv')\n",
    "print(\"\\nfichier csv charge avec succes\\n\")"
   ]
  },
  {
   "cell_type": "code",
   "execution_count": 9,
   "id": "12e13ef5-61e9-4e0a-a111-0b8f9cbec4d2",
   "metadata": {},
   "outputs": [
    {
     "name": "stdout",
     "output_type": "stream",
     "text": [
      "                                            sentence  entity_start  \\\n",
      "0  Quels sites touristiques visiter en allant de ...            46   \n",
      "1  Quels sites touristiques visiter en allant de ...            54   \n",
      "2  Combien de temps faut-il pour aller de PARIS à...            39   \n",
      "3  Combien de temps faut-il pour aller de PARIS à...            47   \n",
      "4  Quels sont les moyens de transport les plus éc...            70   \n",
      "\n",
      "   entity_end  entity_type  \n",
      "0          51    DEPARTURE  \n",
      "1          63  DESTINATION  \n",
      "2          44    DEPARTURE  \n",
      "3          51  DESTINATION  \n",
      "4          75    DEPARTURE  \n"
     ]
    }
   ],
   "source": [
    "# premieres lignes du dataset pour verifier le chargement\n",
    "print(df.head())"
   ]
  },
  {
   "cell_type": "code",
   "execution_count": 11,
   "id": "602648ec-4a39-4056-a0a3-0dd683e06b4c",
   "metadata": {},
   "outputs": [
    {
     "name": "stdout",
     "output_type": "stream",
     "text": [
      "\n",
      "database limite a 20 000 lignes pour l'entrainement rapide\n",
      "\n"
     ]
    }
   ],
   "source": [
    "# Limiter à 1000 lignes pour accélérer l'entraînement\n",
    "df = df.sample(n=20000, random_state=42)\n",
    "print(\"\\ndatabase limite a 20 000 lignes pour l'entrainement rapide\\n\")"
   ]
  },
  {
   "cell_type": "code",
   "execution_count": 13,
   "id": "fab219d7-c369-4ce9-ad55-9b812827ad05",
   "metadata": {},
   "outputs": [
    {
     "name": "stdout",
     "output_type": "stream",
     "text": [
      "\n",
      "conteneur DocBin cree avec succes\n",
      "\n"
     ]
    }
   ],
   "source": [
    "# creation d'un conteneur pour stocker les documents au format spaCy\n",
    "db = DocBin()\n",
    "print(\"\\nconteneur DocBin cree avec succes\\n\")"
   ]
  },
  {
   "cell_type": "code",
   "execution_count": 15,
   "id": "c13039dc-5782-493d-9371-d671788a71e2",
   "metadata": {},
   "outputs": [
    {
     "name": "stdout",
     "output_type": "stream",
     "text": [
      "\n",
      "donnees melangees avec succes\n",
      "\n"
     ]
    }
   ],
   "source": [
    "# on melange les donnees pour eviter les biais dans l'apprentissage\n",
    "df = df.sample(frac=1).reset_index(drop=True)\n",
    "print(\"\\ndonnees melangees avec succes\\n\")"
   ]
  },
  {
   "cell_type": "code",
   "execution_count": 17,
   "id": "02bf8e37-e993-4671-9aae-0e9e242771e1",
   "metadata": {},
   "outputs": [
    {
     "name": "stderr",
     "output_type": "stream",
     "text": [
      "100%|██████████| 20000/20000 [00:11<00:00, 1708.11it/s]\n"
     ]
    }
   ],
   "source": [
    "# conversion des données au format spaCy\n",
    "for index, row in tqdm(df.iterrows(), total=df.shape[0]):\n",
    "    text = row['sentence']\n",
    "    doc = nlp_fr.make_doc(text)  # on cree un document spaCy a partir du texte\n",
    "    ents = []\n",
    "\n",
    "    # on recupere les infos des entites\n",
    "    start = row['entity_start']\n",
    "    end = row['entity_end']\n",
    "    label = row['entity_type']\n",
    "\n",
    "    # on cree une entite spaCy a partir des coordonnees de debut et de fin\n",
    "    span = doc.char_span(start, end, label=label, alignment_mode=\"contract\")\n",
    "    if span is not None:\n",
    "        ents.append(span)\n",
    "\n",
    "    doc.ents = ents  # on assigne les entites au document\n",
    "    db.add(doc)  # on ajoute le document au DocBin"
   ]
  },
  {
   "cell_type": "code",
   "execution_count": 19,
   "id": "cd580662-9421-4a74-9f47-7a41f9f6cb24",
   "metadata": {},
   "outputs": [
    {
     "name": "stdout",
     "output_type": "stream",
     "text": [
      "\n",
      "donnees converties et sauvegardees au format spaCy\n",
      "\n"
     ]
    }
   ],
   "source": [
    "# on enregistre les donnees converties au format spaCy\n",
    "db.to_disk(\"../../dataset/processed/processed_datas.spacy\")\n",
    "print(\"\\ndonnees converties et sauvegardees au format spaCy\\n\")"
   ]
  },
  {
   "cell_type": "code",
   "execution_count": 21,
   "id": "9902aec5-b279-4279-b999-8b4d0f1ab630",
   "metadata": {},
   "outputs": [],
   "source": [
    "# ajout du composant NER au modele actuel\n",
    "ner = nlp_fr.get_pipe(\"ner\")"
   ]
  },
  {
   "cell_type": "code",
   "execution_count": 23,
   "id": "335fb44c-b3fe-4ec4-aace-775121bc4c57",
   "metadata": {},
   "outputs": [
    {
     "name": "stdout",
     "output_type": "stream",
     "text": [
      "\n",
      "Les nouvelles étiquettes NER ont été ajoutées au modèle\n",
      "\n"
     ]
    }
   ],
   "source": [
    "# Ajouter de nouveaux labels d'entités à partir des données\n",
    "for _, row in df.iterrows():\n",
    "    ner.add_label(row['entity_type'])\n",
    "print(\"\\nLes nouvelles étiquettes NER ont été ajoutées au modèle\\n\")"
   ]
  },
  {
   "cell_type": "code",
   "execution_count": 25,
   "id": "aecf3153-9bba-431a-b408-a7e21cd7345c",
   "metadata": {},
   "outputs": [
    {
     "name": "stdout",
     "output_type": "stream",
     "text": [
      "\n",
      "fichier de configuration genere avec succes.\n",
      "\n"
     ]
    }
   ],
   "source": [
    "# on cree le fichier de configuration\n",
    "os.system('python -m spacy init config ./configuration.cfg --lang fr --pipeline ner --optimize efficiency --force')\n",
    "print(\"\\nfichier de configuration genere avec succes.\\n\")"
   ]
  },
  {
   "cell_type": "code",
   "execution_count": 27,
   "id": "5f9dd902-08e5-40be-97ef-4938c8cf7887",
   "metadata": {},
   "outputs": [
    {
     "name": "stderr",
     "output_type": "stream",
     "text": [
      "Entraînement du modèle:   1%|          | 1/100 [00:19<32:25, 19.66s/it]"
     ]
    },
    {
     "name": "stdout",
     "output_type": "stream",
     "text": [
      "\u001b[38;5;4m[i] Saving to output directory: ..\\..\\models\\saved_models\u001b[0m\n",
      "\u001b[38;5;4m[i] Using CPU\u001b[0m\n",
      "\u001b[1m\n",
      "=========================== Initializing pipeline ===========================\u001b[0m\n"
     ]
    },
    {
     "name": "stderr",
     "output_type": "stream",
     "text": [
      "Entraînement du modèle:   4%|▍         | 4/100 [00:20<08:06,  5.07s/it]"
     ]
    },
    {
     "name": "stdout",
     "output_type": "stream",
     "text": [
      "\n",
      "entraenement du modele termine avec succes\n",
      "\n"
     ]
    },
    {
     "name": "stderr",
     "output_type": "stream",
     "text": [
      "\n"
     ]
    }
   ],
   "source": [
    "# entrainement avec un modele leger et config optimisee\n",
    "command = 'python -m spacy train ./configuration.cfg --output ../../models/saved_models --paths.train ../../dataset/processed/processed_datas.spacy --paths.dev ../../dataset/processed/processed_datas.spacy'\n",
    "\n",
    "with tqdm(total=100, desc=\"Entraînement du modèle\") as pbar:\n",
    "    process = subprocess.Popen(command, shell=True, stdout=subprocess.PIPE, stderr=subprocess.PIPE)\n",
    "    for line in process.stdout:\n",
    "        print(line.decode(), end='')\n",
    "        pbar.update(1)\n",
    "\n",
    "process.wait()\n",
    "print(\"\\nentraenement du modele termine avec succes\\n\")"
   ]
  },
  {
   "cell_type": "code",
   "execution_count": 31,
   "id": "ce586435-5f76-42b2-83b4-04c8ed1355cd",
   "metadata": {},
   "outputs": [
    {
     "name": "stdout",
     "output_type": "stream",
     "text": [
      "modele entraine charge avec succes\n"
     ]
    }
   ],
   "source": [
    "# on charge le modele entraîne\n",
    "nlp_itineraire = spacy.load(\"../../models/saved_models/model-best\")\n",
    "print(\"modele entraine charge avec succes\")"
   ]
  },
  {
   "cell_type": "code",
   "execution_count": 33,
   "id": "983155f3-b1f1-4a6a-b1b9-d9c945a3c0d5",
   "metadata": {},
   "outputs": [
    {
     "data": {
      "text/html": [
       "<span class=\"tex2jax_ignore\"><div class=\"entities\" style=\"line-height: 2.5; direction: ltr\"><br>Je souhaite me rendre à \n",
       "<mark class=\"entity\" style=\"background: #ddd; padding: 0.45em 0.6em; margin: 0 0.25em; line-height: 1; border-radius: 0.35em;\">\n",
       "    Lille\n",
       "    <span style=\"font-size: 0.8em; font-weight: bold; line-height: 1; border-radius: 0.35em; vertical-align: middle; margin-left: 0.5rem\">DEPARTURE</span>\n",
       "</mark>\n",
       " en partant d'Aubervilliers pour assister à une conférence.<br>Je compte me rendre à Bordeaux depuis Marseille pour rendre visite à ma soeur\n",
       "<mark class=\"entity\" style=\"background: #ddd; padding: 0.45em 0.6em; margin: 0 0.25em; line-height: 1; border-radius: 0.35em;\">\n",
       "    .\n",
       "    <span style=\"font-size: 0.8em; font-weight: bold; line-height: 1; border-radius: 0.35em; vertical-align: middle; margin-left: 0.5rem\">DEPARTURE</span>\n",
       "</mark>\n",
       "<br>Je dois regarder les trains Toulouse - Brest pour aller voir mon ami Albert.<br>Je dois planifier un voyage Nice \n",
       "<mark class=\"entity\" style=\"background: #ddd; padding: 0.45em 0.6em; margin: 0 0.25em; line-height: 1; border-radius: 0.35em;\">\n",
       "    Toulouse\n",
       "    <span style=\"font-size: 0.8em; font-weight: bold; line-height: 1; border-radius: 0.35em; vertical-align: middle; margin-left: 0.5rem\">DEPARTURE</span>\n",
       "</mark>\n",
       " pour les prochaines vacances\n",
       "<mark class=\"entity\" style=\"background: #ddd; padding: 0.45em 0.6em; margin: 0 0.25em; line-height: 1; border-radius: 0.35em;\">\n",
       "    .\n",
       "    <span style=\"font-size: 0.8em; font-weight: bold; line-height: 1; border-radius: 0.35em; vertical-align: middle; margin-left: 0.5rem\">DEPARTURE</span>\n",
       "</mark>\n",
       "<br>Une réunion de travail m'oblige à faire Paris - Clermont-Ferrand la semaine prochaine\n",
       "<mark class=\"entity\" style=\"background: #ddd; padding: 0.45em 0.6em; margin: 0 0.25em; line-height: 1; border-radius: 0.35em;\">\n",
       "    .\n",
       "    <span style=\"font-size: 0.8em; font-weight: bold; line-height: 1; border-radius: 0.35em; vertical-align: middle; margin-left: 0.5rem\">DEPARTURE</span>\n",
       "</mark>\n",
       "<br></div></span>"
      ],
      "text/plain": [
       "<IPython.core.display.HTML object>"
      ]
     },
     "metadata": {},
     "output_type": "display_data"
    }
   ],
   "source": [
    "# Tester le modèle avec un texte plus complexe\n",
    "texte_test = '''\n",
    "Je souhaite me rendre à Lille en partant d'Aubervilliers pour assister à une conférence.\n",
    "Je compte me rendre à Bordeaux depuis Marseille pour rendre visite à ma soeur.\n",
    "Je dois regarder les trains Toulouse - Brest pour aller voir mon ami Albert.\n",
    "Je dois planifier un voyage Nice Toulouse pour les prochaines vacances.\n",
    "Une réunion de travail m'oblige à faire Paris - Clermont-Ferrand la semaine prochaine.\n",
    "'''\n",
    "\n",
    "# Utiliser le modèle pour identifier les entités dans le texte\n",
    "doc_test = nlp_itineraire(texte_test)\n",
    "\n",
    "# Afficher les entités reconnues\n",
    "spacy.displacy.render(doc_test, style=\"ent\", jupyter=True)"
   ]
  }
 ],
 "metadata": {
  "kernelspec": {
   "display_name": "Python 3 (ipykernel)",
   "language": "python",
   "name": "python3"
  },
  "language_info": {
   "codemirror_mode": {
    "name": "ipython",
    "version": 3
   },
   "file_extension": ".py",
   "mimetype": "text/x-python",
   "name": "python",
   "nbconvert_exporter": "python",
   "pygments_lexer": "ipython3",
   "version": "3.11.7"
  }
 },
 "nbformat": 4,
 "nbformat_minor": 5
}
